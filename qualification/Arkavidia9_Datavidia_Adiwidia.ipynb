{
 "cells": [
  {
   "cell_type": "code",
   "id": "initial_id",
   "metadata": {
    "collapsed": true,
    "ExecuteTime": {
     "end_time": "2025-03-15T09:55:33.320552Z",
     "start_time": "2025-03-15T09:55:32.608101Z"
    }
   },
   "source": [
    "import os\n",
    "\n",
    "import pandas as pd\n",
    "import numpy as np\n",
    "import datetime as dt\n",
    "\n",
    "import xgboost\n",
    "from sklearn.pipeline import Pipeline\n",
    "from sklearn.preprocessing import LabelEncoder, QuantileTransformer, StandardScaler"
   ],
   "outputs": [],
   "execution_count": 58
  },
  {
   "metadata": {},
   "cell_type": "markdown",
   "source": "# 1. Load data",
   "id": "21e690aa12c7aeb6"
  },
  {
   "metadata": {},
   "cell_type": "markdown",
   "source": "## 1.1 Load data_forecast",
   "id": "f70e2a09f8cca333"
  },
  {
   "metadata": {
    "ExecuteTime": {
     "end_time": "2025-03-15T09:24:09.857239Z",
     "start_time": "2025-03-15T09:24:09.807686Z"
    }
   },
   "cell_type": "code",
   "source": [
    "path_data_forecast='data_forecast.csv'\n",
    "data_forecast=pd.read_csv(path_data_forecast)"
   ],
   "id": "c81eb5922d7f718e",
   "outputs": [],
   "execution_count": 2
  },
  {
   "metadata": {},
   "cell_type": "markdown",
   "source": "## 1.2 Load forecast_kurs_result",
   "id": "1f93595261534e81"
  },
  {
   "metadata": {
    "ExecuteTime": {
     "end_time": "2025-03-15T09:24:09.892127Z",
     "start_time": "2025-03-15T09:24:09.857239Z"
    }
   },
   "cell_type": "code",
   "source": [
    "path_forecast_kurs='forecast_kurs_result.csv'\n",
    "forecast_kurs_result=pd.read_csv(path_forecast_kurs)"
   ],
   "id": "481f57c7040f87d2",
   "outputs": [],
   "execution_count": 3
  },
  {
   "metadata": {},
   "cell_type": "markdown",
   "source": "## 1.3 Load google_trends_result_forecasting",
   "id": "c0f12f4d9755267e"
  },
  {
   "metadata": {
    "ExecuteTime": {
     "end_time": "2025-03-15T09:24:09.920761Z",
     "start_time": "2025-03-15T09:24:09.893141Z"
    }
   },
   "cell_type": "code",
   "source": [
    "path_google_trends_forecast='google_trends_result_forecasting.csv'\n",
    "google_trends_forecast=pd.read_csv(path_google_trends_forecast)"
   ],
   "id": "71636f0577b421d5",
   "outputs": [],
   "execution_count": 4
  },
  {
   "metadata": {},
   "cell_type": "markdown",
   "source": "# 2. Preprocessing data",
   "id": "104484eb01509f0f"
  },
  {
   "metadata": {},
   "cell_type": "markdown",
   "source": "## 2.1 Checking data",
   "id": "eea5761baf0d6f95"
  },
  {
   "metadata": {},
   "cell_type": "markdown",
   "source": "### 2.1.1 data_forecast",
   "id": "3cb0b0e691f94331"
  },
  {
   "metadata": {
    "ExecuteTime": {
     "end_time": "2025-03-15T09:24:09.927769Z",
     "start_time": "2025-03-15T09:24:09.920761Z"
    }
   },
   "cell_type": "code",
   "source": "data_forecast.shape",
   "id": "9545e7069cbceef9",
   "outputs": [
    {
     "data": {
      "text/plain": [
       "(40664, 8)"
      ]
     },
     "execution_count": 5,
     "metadata": {},
     "output_type": "execute_result"
    }
   ],
   "execution_count": 5
  },
  {
   "metadata": {
    "ExecuteTime": {
     "end_time": "2025-03-15T09:24:09.942877Z",
     "start_time": "2025-03-15T09:24:09.927769Z"
    }
   },
   "cell_type": "code",
   "source": "data_forecast.isnull().sum()",
   "id": "134f4a3e11f5c014",
   "outputs": [
    {
     "data": {
      "text/plain": [
       "Tanggal          0\n",
       "Bahan_pangan     0\n",
       "Daerah           0\n",
       "Harga_lag_1      0\n",
       "Harga_lag_7      0\n",
       "Harga_lag_30     0\n",
       "Google_trends    0\n",
       "Harga            0\n",
       "dtype: int64"
      ]
     },
     "execution_count": 6,
     "metadata": {},
     "output_type": "execute_result"
    }
   ],
   "execution_count": 6
  },
  {
   "metadata": {
    "ExecuteTime": {
     "end_time": "2025-03-15T09:24:09.963795Z",
     "start_time": "2025-03-15T09:24:09.943380Z"
    }
   },
   "cell_type": "code",
   "source": "data_forecast.duplicated().sum()",
   "id": "ae4a48a86d2869f0",
   "outputs": [
    {
     "data": {
      "text/plain": [
       "np.int64(0)"
      ]
     },
     "execution_count": 7,
     "metadata": {},
     "output_type": "execute_result"
    }
   ],
   "execution_count": 7
  },
  {
   "metadata": {},
   "cell_type": "markdown",
   "source": "### 2.1.2 forecast_kurs_result",
   "id": "def0745e77e7a4e8"
  },
  {
   "metadata": {
    "ExecuteTime": {
     "end_time": "2025-03-15T09:24:09.967908Z",
     "start_time": "2025-03-15T09:24:09.964299Z"
    }
   },
   "cell_type": "code",
   "source": "forecast_kurs_result.shape",
   "id": "c4c8ee10770f48cb",
   "outputs": [
    {
     "data": {
      "text/plain": [
       "(40664, 8)"
      ]
     },
     "execution_count": 8,
     "metadata": {},
     "output_type": "execute_result"
    }
   ],
   "execution_count": 8
  },
  {
   "metadata": {
    "ExecuteTime": {
     "end_time": "2025-03-15T09:24:09.974351Z",
     "start_time": "2025-03-15T09:24:09.969021Z"
    }
   },
   "cell_type": "code",
   "source": "forecast_kurs_result.isnull().sum()",
   "id": "9a988044c38c893b",
   "outputs": [
    {
     "data": {
      "text/plain": [
       "Year       0\n",
       "Month      0\n",
       "Day        0\n",
       "Weekday    0\n",
       "MYRUSD     0\n",
       "SGDUSD     0\n",
       "THBUSD     0\n",
       "USDIDR     0\n",
       "dtype: int64"
      ]
     },
     "execution_count": 9,
     "metadata": {},
     "output_type": "execute_result"
    }
   ],
   "execution_count": 9
  },
  {
   "metadata": {
    "ExecuteTime": {
     "end_time": "2025-03-15T09:24:09.986016Z",
     "start_time": "2025-03-15T09:24:09.976386Z"
    }
   },
   "cell_type": "code",
   "source": "forecast_kurs_result.duplicated().sum()",
   "id": "6ccd0c99b49f9ccd",
   "outputs": [
    {
     "data": {
      "text/plain": [
       "np.int64(40572)"
      ]
     },
     "execution_count": 10,
     "metadata": {},
     "output_type": "execute_result"
    }
   ],
   "execution_count": 10
  },
  {
   "metadata": {
    "ExecuteTime": {
     "end_time": "2025-03-15T09:24:09.996990Z",
     "start_time": "2025-03-15T09:24:09.986528Z"
    }
   },
   "cell_type": "code",
   "source": "forecast_kurs_result=forecast_kurs_result.drop_duplicates(ignore_index=True)",
   "id": "1f8866b04b19b662",
   "outputs": [],
   "execution_count": 11
  },
  {
   "metadata": {
    "ExecuteTime": {
     "end_time": "2025-03-15T09:24:10.002160Z",
     "start_time": "2025-03-15T09:24:09.998095Z"
    }
   },
   "cell_type": "code",
   "source": "forecast_kurs_result.duplicated().sum()",
   "id": "87e4955045030c7a",
   "outputs": [
    {
     "data": {
      "text/plain": [
       "np.int64(0)"
      ]
     },
     "execution_count": 12,
     "metadata": {},
     "output_type": "execute_result"
    }
   ],
   "execution_count": 12
  },
  {
   "metadata": {
    "ExecuteTime": {
     "end_time": "2025-03-15T09:24:10.007280Z",
     "start_time": "2025-03-15T09:24:10.002160Z"
    }
   },
   "cell_type": "code",
   "source": "forecast_kurs_result.shape",
   "id": "37cdfd7bcaaae494",
   "outputs": [
    {
     "data": {
      "text/plain": [
       "(92, 8)"
      ]
     },
     "execution_count": 13,
     "metadata": {},
     "output_type": "execute_result"
    }
   ],
   "execution_count": 13
  },
  {
   "metadata": {},
   "cell_type": "markdown",
   "source": "### 2.1.3 google_trends_result_forecasting",
   "id": "aa3e4cb16df4687d"
  },
  {
   "metadata": {
    "ExecuteTime": {
     "end_time": "2025-03-15T09:24:10.011977Z",
     "start_time": "2025-03-15T09:24:10.008306Z"
    }
   },
   "cell_type": "code",
   "source": "google_trends_forecast.shape",
   "id": "6f23e069c80b71a",
   "outputs": [
    {
     "data": {
      "text/plain": [
       "(40664, 7)"
      ]
     },
     "execution_count": 14,
     "metadata": {},
     "output_type": "execute_result"
    }
   ],
   "execution_count": 14
  },
  {
   "metadata": {
    "ExecuteTime": {
     "end_time": "2025-03-15T09:24:10.018056Z",
     "start_time": "2025-03-15T09:24:10.013016Z"
    }
   },
   "cell_type": "code",
   "source": "google_trends_forecast.isnull().sum()",
   "id": "c9273263f18633f9",
   "outputs": [
    {
     "data": {
      "text/plain": [
       "Bahan_pangan     0\n",
       "Daerah           0\n",
       "Year             0\n",
       "Month            0\n",
       "Day              0\n",
       "Weekday          0\n",
       "Google_trends    0\n",
       "dtype: int64"
      ]
     },
     "execution_count": 15,
     "metadata": {},
     "output_type": "execute_result"
    }
   ],
   "execution_count": 15
  },
  {
   "metadata": {
    "ExecuteTime": {
     "end_time": "2025-03-15T09:24:10.027993Z",
     "start_time": "2025-03-15T09:24:10.019076Z"
    }
   },
   "cell_type": "code",
   "source": "google_trends_forecast.duplicated().sum()",
   "id": "e3865d45be82052f",
   "outputs": [
    {
     "data": {
      "text/plain": [
       "np.int64(0)"
      ]
     },
     "execution_count": 16,
     "metadata": {},
     "output_type": "execute_result"
    }
   ],
   "execution_count": 16
  },
  {
   "metadata": {},
   "cell_type": "markdown",
   "source": "## 2.2 Merge Data",
   "id": "dbf8e98541903fbe"
  },
  {
   "metadata": {
    "ExecuteTime": {
     "end_time": "2025-03-15T09:24:10.039764Z",
     "start_time": "2025-03-15T09:24:10.029045Z"
    }
   },
   "cell_type": "code",
   "source": "data_forecast.head()",
   "id": "e296e9cb85b44fea",
   "outputs": [
    {
     "data": {
      "text/plain": [
       "      Tanggal  Bahan_pangan         Daerah  Harga_lag_1  Harga_lag_7  \\\n",
       "0  2024-10-01  Bawang Merah           Aceh        28960        27700   \n",
       "1  2024-10-01  Bawang Merah           Bali        24230        24240   \n",
       "2  2024-10-01  Bawang Merah         Banten        27940        25910   \n",
       "3  2024-10-01  Bawang Merah       Bengkulu        27390        26960   \n",
       "4  2024-10-01  Bawang Merah  DI Yogyakarta        24450        22240   \n",
       "\n",
       "   Harga_lag_30  Google_trends  Harga  \n",
       "0         26390              0      0  \n",
       "1         21250              0      0  \n",
       "2         25520              0      0  \n",
       "3         23840              0      0  \n",
       "4         19600              0      0  "
      ],
      "text/html": [
       "<div>\n",
       "<style scoped>\n",
       "    .dataframe tbody tr th:only-of-type {\n",
       "        vertical-align: middle;\n",
       "    }\n",
       "\n",
       "    .dataframe tbody tr th {\n",
       "        vertical-align: top;\n",
       "    }\n",
       "\n",
       "    .dataframe thead th {\n",
       "        text-align: right;\n",
       "    }\n",
       "</style>\n",
       "<table border=\"1\" class=\"dataframe\">\n",
       "  <thead>\n",
       "    <tr style=\"text-align: right;\">\n",
       "      <th></th>\n",
       "      <th>Tanggal</th>\n",
       "      <th>Bahan_pangan</th>\n",
       "      <th>Daerah</th>\n",
       "      <th>Harga_lag_1</th>\n",
       "      <th>Harga_lag_7</th>\n",
       "      <th>Harga_lag_30</th>\n",
       "      <th>Google_trends</th>\n",
       "      <th>Harga</th>\n",
       "    </tr>\n",
       "  </thead>\n",
       "  <tbody>\n",
       "    <tr>\n",
       "      <th>0</th>\n",
       "      <td>2024-10-01</td>\n",
       "      <td>Bawang Merah</td>\n",
       "      <td>Aceh</td>\n",
       "      <td>28960</td>\n",
       "      <td>27700</td>\n",
       "      <td>26390</td>\n",
       "      <td>0</td>\n",
       "      <td>0</td>\n",
       "    </tr>\n",
       "    <tr>\n",
       "      <th>1</th>\n",
       "      <td>2024-10-01</td>\n",
       "      <td>Bawang Merah</td>\n",
       "      <td>Bali</td>\n",
       "      <td>24230</td>\n",
       "      <td>24240</td>\n",
       "      <td>21250</td>\n",
       "      <td>0</td>\n",
       "      <td>0</td>\n",
       "    </tr>\n",
       "    <tr>\n",
       "      <th>2</th>\n",
       "      <td>2024-10-01</td>\n",
       "      <td>Bawang Merah</td>\n",
       "      <td>Banten</td>\n",
       "      <td>27940</td>\n",
       "      <td>25910</td>\n",
       "      <td>25520</td>\n",
       "      <td>0</td>\n",
       "      <td>0</td>\n",
       "    </tr>\n",
       "    <tr>\n",
       "      <th>3</th>\n",
       "      <td>2024-10-01</td>\n",
       "      <td>Bawang Merah</td>\n",
       "      <td>Bengkulu</td>\n",
       "      <td>27390</td>\n",
       "      <td>26960</td>\n",
       "      <td>23840</td>\n",
       "      <td>0</td>\n",
       "      <td>0</td>\n",
       "    </tr>\n",
       "    <tr>\n",
       "      <th>4</th>\n",
       "      <td>2024-10-01</td>\n",
       "      <td>Bawang Merah</td>\n",
       "      <td>DI Yogyakarta</td>\n",
       "      <td>24450</td>\n",
       "      <td>22240</td>\n",
       "      <td>19600</td>\n",
       "      <td>0</td>\n",
       "      <td>0</td>\n",
       "    </tr>\n",
       "  </tbody>\n",
       "</table>\n",
       "</div>"
      ]
     },
     "execution_count": 17,
     "metadata": {},
     "output_type": "execute_result"
    }
   ],
   "execution_count": 17
  },
  {
   "metadata": {
    "ExecuteTime": {
     "end_time": "2025-03-15T09:24:10.047621Z",
     "start_time": "2025-03-15T09:24:10.039764Z"
    }
   },
   "cell_type": "code",
   "source": "google_trends_forecast.head()",
   "id": "52be37b9c87776db",
   "outputs": [
    {
     "data": {
      "text/plain": [
       "   Bahan_pangan  Daerah  Year  Month  Day  Weekday  Google_trends\n",
       "0             0       0  2024     10    1        1      35.722317\n",
       "1             0       1  2024     10    1        1      40.506355\n",
       "2             0       2  2024     10    1        1      30.250156\n",
       "3             0       3  2024     10    1        1      34.963135\n",
       "4             0       4  2024     10    1        1      34.696740"
      ],
      "text/html": [
       "<div>\n",
       "<style scoped>\n",
       "    .dataframe tbody tr th:only-of-type {\n",
       "        vertical-align: middle;\n",
       "    }\n",
       "\n",
       "    .dataframe tbody tr th {\n",
       "        vertical-align: top;\n",
       "    }\n",
       "\n",
       "    .dataframe thead th {\n",
       "        text-align: right;\n",
       "    }\n",
       "</style>\n",
       "<table border=\"1\" class=\"dataframe\">\n",
       "  <thead>\n",
       "    <tr style=\"text-align: right;\">\n",
       "      <th></th>\n",
       "      <th>Bahan_pangan</th>\n",
       "      <th>Daerah</th>\n",
       "      <th>Year</th>\n",
       "      <th>Month</th>\n",
       "      <th>Day</th>\n",
       "      <th>Weekday</th>\n",
       "      <th>Google_trends</th>\n",
       "    </tr>\n",
       "  </thead>\n",
       "  <tbody>\n",
       "    <tr>\n",
       "      <th>0</th>\n",
       "      <td>0</td>\n",
       "      <td>0</td>\n",
       "      <td>2024</td>\n",
       "      <td>10</td>\n",
       "      <td>1</td>\n",
       "      <td>1</td>\n",
       "      <td>35.722317</td>\n",
       "    </tr>\n",
       "    <tr>\n",
       "      <th>1</th>\n",
       "      <td>0</td>\n",
       "      <td>1</td>\n",
       "      <td>2024</td>\n",
       "      <td>10</td>\n",
       "      <td>1</td>\n",
       "      <td>1</td>\n",
       "      <td>40.506355</td>\n",
       "    </tr>\n",
       "    <tr>\n",
       "      <th>2</th>\n",
       "      <td>0</td>\n",
       "      <td>2</td>\n",
       "      <td>2024</td>\n",
       "      <td>10</td>\n",
       "      <td>1</td>\n",
       "      <td>1</td>\n",
       "      <td>30.250156</td>\n",
       "    </tr>\n",
       "    <tr>\n",
       "      <th>3</th>\n",
       "      <td>0</td>\n",
       "      <td>3</td>\n",
       "      <td>2024</td>\n",
       "      <td>10</td>\n",
       "      <td>1</td>\n",
       "      <td>1</td>\n",
       "      <td>34.963135</td>\n",
       "    </tr>\n",
       "    <tr>\n",
       "      <th>4</th>\n",
       "      <td>0</td>\n",
       "      <td>4</td>\n",
       "      <td>2024</td>\n",
       "      <td>10</td>\n",
       "      <td>1</td>\n",
       "      <td>1</td>\n",
       "      <td>34.696740</td>\n",
       "    </tr>\n",
       "  </tbody>\n",
       "</table>\n",
       "</div>"
      ]
     },
     "execution_count": 18,
     "metadata": {},
     "output_type": "execute_result"
    }
   ],
   "execution_count": 18
  },
  {
   "metadata": {
    "ExecuteTime": {
     "end_time": "2025-03-15T09:24:10.056506Z",
     "start_time": "2025-03-15T09:24:10.048668Z"
    }
   },
   "cell_type": "code",
   "source": "forecast_kurs_result.head()",
   "id": "7bb5c5e08143e24",
   "outputs": [
    {
     "data": {
      "text/plain": [
       "   Year  Month  Day  Weekday     MYRUSD     SGDUSD     THBUSD     USDIDR\n",
       "0  2024     10    1        1  3379.1950  3379.1950  430.08084  14725.526\n",
       "1  2024     10    2        2  3380.1558  3380.1558  434.03998  14800.794\n",
       "2  2024     10    3        3  3380.1357  3380.1357  433.72302  14806.403\n",
       "3  2024     10    4        4  3405.0810  3405.0810  430.43744  14379.611\n",
       "4  2024     10    5        5  3423.1080  3423.1080  432.58188  14379.490"
      ],
      "text/html": [
       "<div>\n",
       "<style scoped>\n",
       "    .dataframe tbody tr th:only-of-type {\n",
       "        vertical-align: middle;\n",
       "    }\n",
       "\n",
       "    .dataframe tbody tr th {\n",
       "        vertical-align: top;\n",
       "    }\n",
       "\n",
       "    .dataframe thead th {\n",
       "        text-align: right;\n",
       "    }\n",
       "</style>\n",
       "<table border=\"1\" class=\"dataframe\">\n",
       "  <thead>\n",
       "    <tr style=\"text-align: right;\">\n",
       "      <th></th>\n",
       "      <th>Year</th>\n",
       "      <th>Month</th>\n",
       "      <th>Day</th>\n",
       "      <th>Weekday</th>\n",
       "      <th>MYRUSD</th>\n",
       "      <th>SGDUSD</th>\n",
       "      <th>THBUSD</th>\n",
       "      <th>USDIDR</th>\n",
       "    </tr>\n",
       "  </thead>\n",
       "  <tbody>\n",
       "    <tr>\n",
       "      <th>0</th>\n",
       "      <td>2024</td>\n",
       "      <td>10</td>\n",
       "      <td>1</td>\n",
       "      <td>1</td>\n",
       "      <td>3379.1950</td>\n",
       "      <td>3379.1950</td>\n",
       "      <td>430.08084</td>\n",
       "      <td>14725.526</td>\n",
       "    </tr>\n",
       "    <tr>\n",
       "      <th>1</th>\n",
       "      <td>2024</td>\n",
       "      <td>10</td>\n",
       "      <td>2</td>\n",
       "      <td>2</td>\n",
       "      <td>3380.1558</td>\n",
       "      <td>3380.1558</td>\n",
       "      <td>434.03998</td>\n",
       "      <td>14800.794</td>\n",
       "    </tr>\n",
       "    <tr>\n",
       "      <th>2</th>\n",
       "      <td>2024</td>\n",
       "      <td>10</td>\n",
       "      <td>3</td>\n",
       "      <td>3</td>\n",
       "      <td>3380.1357</td>\n",
       "      <td>3380.1357</td>\n",
       "      <td>433.72302</td>\n",
       "      <td>14806.403</td>\n",
       "    </tr>\n",
       "    <tr>\n",
       "      <th>3</th>\n",
       "      <td>2024</td>\n",
       "      <td>10</td>\n",
       "      <td>4</td>\n",
       "      <td>4</td>\n",
       "      <td>3405.0810</td>\n",
       "      <td>3405.0810</td>\n",
       "      <td>430.43744</td>\n",
       "      <td>14379.611</td>\n",
       "    </tr>\n",
       "    <tr>\n",
       "      <th>4</th>\n",
       "      <td>2024</td>\n",
       "      <td>10</td>\n",
       "      <td>5</td>\n",
       "      <td>5</td>\n",
       "      <td>3423.1080</td>\n",
       "      <td>3423.1080</td>\n",
       "      <td>432.58188</td>\n",
       "      <td>14379.490</td>\n",
       "    </tr>\n",
       "  </tbody>\n",
       "</table>\n",
       "</div>"
      ]
     },
     "execution_count": 19,
     "metadata": {},
     "output_type": "execute_result"
    }
   ],
   "execution_count": 19
  },
  {
   "metadata": {
    "ExecuteTime": {
     "end_time": "2025-03-15T09:24:10.060732Z",
     "start_time": "2025-03-15T09:24:10.057554Z"
    }
   },
   "cell_type": "code",
   "source": "data_forecast['Google_trends'] = google_trends_forecast.Google_trends",
   "id": "ea475e452b8df92",
   "outputs": [],
   "execution_count": 20
  },
  {
   "metadata": {
    "ExecuteTime": {
     "end_time": "2025-03-15T09:24:10.078100Z",
     "start_time": "2025-03-15T09:24:10.061778Z"
    }
   },
   "cell_type": "code",
   "source": "data_forecast['Tanggal']=pd.to_datetime(data_forecast['Tanggal'], errors='coerce')",
   "id": "ce57cf9372f1dade",
   "outputs": [],
   "execution_count": 21
  },
  {
   "metadata": {
    "ExecuteTime": {
     "end_time": "2025-03-15T09:24:10.087168Z",
     "start_time": "2025-03-15T09:24:10.079138Z"
    }
   },
   "cell_type": "code",
   "source": "data_forecast.head()",
   "id": "37e02437cf4bac8a",
   "outputs": [
    {
     "data": {
      "text/plain": [
       "     Tanggal  Bahan_pangan         Daerah  Harga_lag_1  Harga_lag_7  \\\n",
       "0 2024-10-01  Bawang Merah           Aceh        28960        27700   \n",
       "1 2024-10-01  Bawang Merah           Bali        24230        24240   \n",
       "2 2024-10-01  Bawang Merah         Banten        27940        25910   \n",
       "3 2024-10-01  Bawang Merah       Bengkulu        27390        26960   \n",
       "4 2024-10-01  Bawang Merah  DI Yogyakarta        24450        22240   \n",
       "\n",
       "   Harga_lag_30  Google_trends  Harga  \n",
       "0         26390      35.722317      0  \n",
       "1         21250      40.506355      0  \n",
       "2         25520      30.250156      0  \n",
       "3         23840      34.963135      0  \n",
       "4         19600      34.696740      0  "
      ],
      "text/html": [
       "<div>\n",
       "<style scoped>\n",
       "    .dataframe tbody tr th:only-of-type {\n",
       "        vertical-align: middle;\n",
       "    }\n",
       "\n",
       "    .dataframe tbody tr th {\n",
       "        vertical-align: top;\n",
       "    }\n",
       "\n",
       "    .dataframe thead th {\n",
       "        text-align: right;\n",
       "    }\n",
       "</style>\n",
       "<table border=\"1\" class=\"dataframe\">\n",
       "  <thead>\n",
       "    <tr style=\"text-align: right;\">\n",
       "      <th></th>\n",
       "      <th>Tanggal</th>\n",
       "      <th>Bahan_pangan</th>\n",
       "      <th>Daerah</th>\n",
       "      <th>Harga_lag_1</th>\n",
       "      <th>Harga_lag_7</th>\n",
       "      <th>Harga_lag_30</th>\n",
       "      <th>Google_trends</th>\n",
       "      <th>Harga</th>\n",
       "    </tr>\n",
       "  </thead>\n",
       "  <tbody>\n",
       "    <tr>\n",
       "      <th>0</th>\n",
       "      <td>2024-10-01</td>\n",
       "      <td>Bawang Merah</td>\n",
       "      <td>Aceh</td>\n",
       "      <td>28960</td>\n",
       "      <td>27700</td>\n",
       "      <td>26390</td>\n",
       "      <td>35.722317</td>\n",
       "      <td>0</td>\n",
       "    </tr>\n",
       "    <tr>\n",
       "      <th>1</th>\n",
       "      <td>2024-10-01</td>\n",
       "      <td>Bawang Merah</td>\n",
       "      <td>Bali</td>\n",
       "      <td>24230</td>\n",
       "      <td>24240</td>\n",
       "      <td>21250</td>\n",
       "      <td>40.506355</td>\n",
       "      <td>0</td>\n",
       "    </tr>\n",
       "    <tr>\n",
       "      <th>2</th>\n",
       "      <td>2024-10-01</td>\n",
       "      <td>Bawang Merah</td>\n",
       "      <td>Banten</td>\n",
       "      <td>27940</td>\n",
       "      <td>25910</td>\n",
       "      <td>25520</td>\n",
       "      <td>30.250156</td>\n",
       "      <td>0</td>\n",
       "    </tr>\n",
       "    <tr>\n",
       "      <th>3</th>\n",
       "      <td>2024-10-01</td>\n",
       "      <td>Bawang Merah</td>\n",
       "      <td>Bengkulu</td>\n",
       "      <td>27390</td>\n",
       "      <td>26960</td>\n",
       "      <td>23840</td>\n",
       "      <td>34.963135</td>\n",
       "      <td>0</td>\n",
       "    </tr>\n",
       "    <tr>\n",
       "      <th>4</th>\n",
       "      <td>2024-10-01</td>\n",
       "      <td>Bawang Merah</td>\n",
       "      <td>DI Yogyakarta</td>\n",
       "      <td>24450</td>\n",
       "      <td>22240</td>\n",
       "      <td>19600</td>\n",
       "      <td>34.696740</td>\n",
       "      <td>0</td>\n",
       "    </tr>\n",
       "  </tbody>\n",
       "</table>\n",
       "</div>"
      ]
     },
     "execution_count": 22,
     "metadata": {},
     "output_type": "execute_result"
    }
   ],
   "execution_count": 22
  },
  {
   "metadata": {
    "ExecuteTime": {
     "end_time": "2025-03-15T09:24:10.102642Z",
     "start_time": "2025-03-15T09:24:10.088438Z"
    }
   },
   "cell_type": "code",
   "source": "data_forecast['Google_trends'] = data_forecast['Google_trends'].apply(lambda x: round(x))",
   "id": "d9ff66c9fab538c9",
   "outputs": [],
   "execution_count": 23
  },
  {
   "metadata": {
    "ExecuteTime": {
     "end_time": "2025-03-15T09:24:10.109620Z",
     "start_time": "2025-03-15T09:24:10.103651Z"
    }
   },
   "cell_type": "code",
   "source": "data_forecast.head()",
   "id": "2425a9904a1b9f8a",
   "outputs": [
    {
     "data": {
      "text/plain": [
       "     Tanggal  Bahan_pangan         Daerah  Harga_lag_1  Harga_lag_7  \\\n",
       "0 2024-10-01  Bawang Merah           Aceh        28960        27700   \n",
       "1 2024-10-01  Bawang Merah           Bali        24230        24240   \n",
       "2 2024-10-01  Bawang Merah         Banten        27940        25910   \n",
       "3 2024-10-01  Bawang Merah       Bengkulu        27390        26960   \n",
       "4 2024-10-01  Bawang Merah  DI Yogyakarta        24450        22240   \n",
       "\n",
       "   Harga_lag_30  Google_trends  Harga  \n",
       "0         26390             36      0  \n",
       "1         21250             41      0  \n",
       "2         25520             30      0  \n",
       "3         23840             35      0  \n",
       "4         19600             35      0  "
      ],
      "text/html": [
       "<div>\n",
       "<style scoped>\n",
       "    .dataframe tbody tr th:only-of-type {\n",
       "        vertical-align: middle;\n",
       "    }\n",
       "\n",
       "    .dataframe tbody tr th {\n",
       "        vertical-align: top;\n",
       "    }\n",
       "\n",
       "    .dataframe thead th {\n",
       "        text-align: right;\n",
       "    }\n",
       "</style>\n",
       "<table border=\"1\" class=\"dataframe\">\n",
       "  <thead>\n",
       "    <tr style=\"text-align: right;\">\n",
       "      <th></th>\n",
       "      <th>Tanggal</th>\n",
       "      <th>Bahan_pangan</th>\n",
       "      <th>Daerah</th>\n",
       "      <th>Harga_lag_1</th>\n",
       "      <th>Harga_lag_7</th>\n",
       "      <th>Harga_lag_30</th>\n",
       "      <th>Google_trends</th>\n",
       "      <th>Harga</th>\n",
       "    </tr>\n",
       "  </thead>\n",
       "  <tbody>\n",
       "    <tr>\n",
       "      <th>0</th>\n",
       "      <td>2024-10-01</td>\n",
       "      <td>Bawang Merah</td>\n",
       "      <td>Aceh</td>\n",
       "      <td>28960</td>\n",
       "      <td>27700</td>\n",
       "      <td>26390</td>\n",
       "      <td>36</td>\n",
       "      <td>0</td>\n",
       "    </tr>\n",
       "    <tr>\n",
       "      <th>1</th>\n",
       "      <td>2024-10-01</td>\n",
       "      <td>Bawang Merah</td>\n",
       "      <td>Bali</td>\n",
       "      <td>24230</td>\n",
       "      <td>24240</td>\n",
       "      <td>21250</td>\n",
       "      <td>41</td>\n",
       "      <td>0</td>\n",
       "    </tr>\n",
       "    <tr>\n",
       "      <th>2</th>\n",
       "      <td>2024-10-01</td>\n",
       "      <td>Bawang Merah</td>\n",
       "      <td>Banten</td>\n",
       "      <td>27940</td>\n",
       "      <td>25910</td>\n",
       "      <td>25520</td>\n",
       "      <td>30</td>\n",
       "      <td>0</td>\n",
       "    </tr>\n",
       "    <tr>\n",
       "      <th>3</th>\n",
       "      <td>2024-10-01</td>\n",
       "      <td>Bawang Merah</td>\n",
       "      <td>Bengkulu</td>\n",
       "      <td>27390</td>\n",
       "      <td>26960</td>\n",
       "      <td>23840</td>\n",
       "      <td>35</td>\n",
       "      <td>0</td>\n",
       "    </tr>\n",
       "    <tr>\n",
       "      <th>4</th>\n",
       "      <td>2024-10-01</td>\n",
       "      <td>Bawang Merah</td>\n",
       "      <td>DI Yogyakarta</td>\n",
       "      <td>24450</td>\n",
       "      <td>22240</td>\n",
       "      <td>19600</td>\n",
       "      <td>35</td>\n",
       "      <td>0</td>\n",
       "    </tr>\n",
       "  </tbody>\n",
       "</table>\n",
       "</div>"
      ]
     },
     "execution_count": 24,
     "metadata": {},
     "output_type": "execute_result"
    }
   ],
   "execution_count": 24
  },
  {
   "metadata": {
    "ExecuteTime": {
     "end_time": "2025-03-15T09:24:10.113080Z",
     "start_time": "2025-03-15T09:24:10.109620Z"
    }
   },
   "cell_type": "code",
   "source": [
    "date_start=dt.datetime(year=2024, month=10, day=1)\n",
    "date_end=dt.datetime(year=2024, month=12, day=31)"
   ],
   "id": "d3bdabe263dc6785",
   "outputs": [],
   "execution_count": 25
  },
  {
   "metadata": {
    "ExecuteTime": {
     "end_time": "2025-03-15T09:28:25.999219Z",
     "start_time": "2025-03-15T09:28:25.775983Z"
    }
   },
   "cell_type": "code",
   "source": [
    "for date in [date_start + dt.timedelta(days=x) for x in range((date_end - date_start).days + 1)]:\n",
    "    rate_myr = forecast_kurs_result.loc[(forecast_kurs_result['Month']==date.month) & (forecast_kurs_result['Day']==date.day), 'MYRUSD'].values\n",
    "    rate_thb = forecast_kurs_result.loc[(forecast_kurs_result['Month']==date.month) & (forecast_kurs_result['Day']==date.day), 'THBUSD'].values\n",
    "    rate_sgd = forecast_kurs_result.loc[(forecast_kurs_result['Month']==date.month) & (forecast_kurs_result['Day']==date.day), 'SGDUSD'].values\n",
    "    rate_usd = forecast_kurs_result.loc[(forecast_kurs_result['Month']==date.month) & (forecast_kurs_result['Day']==date.day), 'USDIDR'].values\n",
    "    if len(rate_myr) > 0:\n",
    "        data_forecast.loc[data_forecast['Tanggal'] == date, 'MYRUSD'] = round(rate_myr[0])\n",
    "    if len(rate_thb) > 0:\n",
    "        data_forecast.loc[data_forecast['Tanggal'] == date, 'THBUSD'] = round(rate_thb[0])\n",
    "    if len(rate_usd) > 0:\n",
    "        data_forecast.loc[data_forecast['Tanggal'] == date, 'USDIDR'] = round(rate_usd[0])\n",
    "    if len(rate_sgd) > 0:\n",
    "        data_forecast.loc[data_forecast['Tanggal'] == date, 'SGDIDR'] = round(rate_sgd[0])"
   ],
   "id": "1f74c814ce360cf7",
   "outputs": [],
   "execution_count": 27
  },
  {
   "metadata": {
    "ExecuteTime": {
     "end_time": "2025-03-15T09:28:26.007833Z",
     "start_time": "2025-03-15T09:28:26.000257Z"
    }
   },
   "cell_type": "code",
   "source": "data_forecast.head()",
   "id": "8ce402a2be37639d",
   "outputs": [
    {
     "data": {
      "text/plain": [
       "     Tanggal  Bahan_pangan         Daerah  Harga_lag_1  Harga_lag_7  \\\n",
       "0 2024-10-01  Bawang Merah           Aceh        28960        27700   \n",
       "1 2024-10-01  Bawang Merah           Bali        24230        24240   \n",
       "2 2024-10-01  Bawang Merah         Banten        27940        25910   \n",
       "3 2024-10-01  Bawang Merah       Bengkulu        27390        26960   \n",
       "4 2024-10-01  Bawang Merah  DI Yogyakarta        24450        22240   \n",
       "\n",
       "   Harga_lag_30  Google_trends  Harga  MYRUSD  THBUSD   USDIDR  SGDIDR  \n",
       "0         26390             36      0  3379.0   430.0  14726.0  3379.0  \n",
       "1         21250             41      0  3379.0   430.0  14726.0  3379.0  \n",
       "2         25520             30      0  3379.0   430.0  14726.0  3379.0  \n",
       "3         23840             35      0  3379.0   430.0  14726.0  3379.0  \n",
       "4         19600             35      0  3379.0   430.0  14726.0  3379.0  "
      ],
      "text/html": [
       "<div>\n",
       "<style scoped>\n",
       "    .dataframe tbody tr th:only-of-type {\n",
       "        vertical-align: middle;\n",
       "    }\n",
       "\n",
       "    .dataframe tbody tr th {\n",
       "        vertical-align: top;\n",
       "    }\n",
       "\n",
       "    .dataframe thead th {\n",
       "        text-align: right;\n",
       "    }\n",
       "</style>\n",
       "<table border=\"1\" class=\"dataframe\">\n",
       "  <thead>\n",
       "    <tr style=\"text-align: right;\">\n",
       "      <th></th>\n",
       "      <th>Tanggal</th>\n",
       "      <th>Bahan_pangan</th>\n",
       "      <th>Daerah</th>\n",
       "      <th>Harga_lag_1</th>\n",
       "      <th>Harga_lag_7</th>\n",
       "      <th>Harga_lag_30</th>\n",
       "      <th>Google_trends</th>\n",
       "      <th>Harga</th>\n",
       "      <th>MYRUSD</th>\n",
       "      <th>THBUSD</th>\n",
       "      <th>USDIDR</th>\n",
       "      <th>SGDIDR</th>\n",
       "    </tr>\n",
       "  </thead>\n",
       "  <tbody>\n",
       "    <tr>\n",
       "      <th>0</th>\n",
       "      <td>2024-10-01</td>\n",
       "      <td>Bawang Merah</td>\n",
       "      <td>Aceh</td>\n",
       "      <td>28960</td>\n",
       "      <td>27700</td>\n",
       "      <td>26390</td>\n",
       "      <td>36</td>\n",
       "      <td>0</td>\n",
       "      <td>3379.0</td>\n",
       "      <td>430.0</td>\n",
       "      <td>14726.0</td>\n",
       "      <td>3379.0</td>\n",
       "    </tr>\n",
       "    <tr>\n",
       "      <th>1</th>\n",
       "      <td>2024-10-01</td>\n",
       "      <td>Bawang Merah</td>\n",
       "      <td>Bali</td>\n",
       "      <td>24230</td>\n",
       "      <td>24240</td>\n",
       "      <td>21250</td>\n",
       "      <td>41</td>\n",
       "      <td>0</td>\n",
       "      <td>3379.0</td>\n",
       "      <td>430.0</td>\n",
       "      <td>14726.0</td>\n",
       "      <td>3379.0</td>\n",
       "    </tr>\n",
       "    <tr>\n",
       "      <th>2</th>\n",
       "      <td>2024-10-01</td>\n",
       "      <td>Bawang Merah</td>\n",
       "      <td>Banten</td>\n",
       "      <td>27940</td>\n",
       "      <td>25910</td>\n",
       "      <td>25520</td>\n",
       "      <td>30</td>\n",
       "      <td>0</td>\n",
       "      <td>3379.0</td>\n",
       "      <td>430.0</td>\n",
       "      <td>14726.0</td>\n",
       "      <td>3379.0</td>\n",
       "    </tr>\n",
       "    <tr>\n",
       "      <th>3</th>\n",
       "      <td>2024-10-01</td>\n",
       "      <td>Bawang Merah</td>\n",
       "      <td>Bengkulu</td>\n",
       "      <td>27390</td>\n",
       "      <td>26960</td>\n",
       "      <td>23840</td>\n",
       "      <td>35</td>\n",
       "      <td>0</td>\n",
       "      <td>3379.0</td>\n",
       "      <td>430.0</td>\n",
       "      <td>14726.0</td>\n",
       "      <td>3379.0</td>\n",
       "    </tr>\n",
       "    <tr>\n",
       "      <th>4</th>\n",
       "      <td>2024-10-01</td>\n",
       "      <td>Bawang Merah</td>\n",
       "      <td>DI Yogyakarta</td>\n",
       "      <td>24450</td>\n",
       "      <td>22240</td>\n",
       "      <td>19600</td>\n",
       "      <td>35</td>\n",
       "      <td>0</td>\n",
       "      <td>3379.0</td>\n",
       "      <td>430.0</td>\n",
       "      <td>14726.0</td>\n",
       "      <td>3379.0</td>\n",
       "    </tr>\n",
       "  </tbody>\n",
       "</table>\n",
       "</div>"
      ]
     },
     "execution_count": 28,
     "metadata": {},
     "output_type": "execute_result"
    }
   ],
   "execution_count": 28
  },
  {
   "metadata": {
    "ExecuteTime": {
     "end_time": "2025-03-15T09:28:26.018474Z",
     "start_time": "2025-03-15T09:28:26.008865Z"
    }
   },
   "cell_type": "code",
   "source": "data_forecast.tail()",
   "id": "9e01421739fd5608",
   "outputs": [
    {
     "data": {
      "text/plain": [
       "         Tanggal           Bahan_pangan             Daerah  Harga_lag_1  \\\n",
       "40659 2024-12-31  Tepung Terigu (Curah)  Sulawesi Tenggara            0   \n",
       "40660 2024-12-31  Tepung Terigu (Curah)     Sulawesi Utara            0   \n",
       "40661 2024-12-31  Tepung Terigu (Curah)     Sumatera Barat            0   \n",
       "40662 2024-12-31  Tepung Terigu (Curah)   Sumatera Selatan            0   \n",
       "40663 2024-12-31  Tepung Terigu (Curah)     Sumatera Utara            0   \n",
       "\n",
       "       Harga_lag_7  Harga_lag_30  Google_trends  Harga  MYRUSD  THBUSD  \\\n",
       "40659            0             0             38      0  3508.0   445.0   \n",
       "40660            0             0             38      0  3508.0   445.0   \n",
       "40661            0             0             37      0  3508.0   445.0   \n",
       "40662            0             0             37      0  3508.0   445.0   \n",
       "40663            0             0             37      0  3508.0   445.0   \n",
       "\n",
       "        USDIDR  SGDIDR  \n",
       "40659  15744.0  3508.0  \n",
       "40660  15744.0  3508.0  \n",
       "40661  15744.0  3508.0  \n",
       "40662  15744.0  3508.0  \n",
       "40663  15744.0  3508.0  "
      ],
      "text/html": [
       "<div>\n",
       "<style scoped>\n",
       "    .dataframe tbody tr th:only-of-type {\n",
       "        vertical-align: middle;\n",
       "    }\n",
       "\n",
       "    .dataframe tbody tr th {\n",
       "        vertical-align: top;\n",
       "    }\n",
       "\n",
       "    .dataframe thead th {\n",
       "        text-align: right;\n",
       "    }\n",
       "</style>\n",
       "<table border=\"1\" class=\"dataframe\">\n",
       "  <thead>\n",
       "    <tr style=\"text-align: right;\">\n",
       "      <th></th>\n",
       "      <th>Tanggal</th>\n",
       "      <th>Bahan_pangan</th>\n",
       "      <th>Daerah</th>\n",
       "      <th>Harga_lag_1</th>\n",
       "      <th>Harga_lag_7</th>\n",
       "      <th>Harga_lag_30</th>\n",
       "      <th>Google_trends</th>\n",
       "      <th>Harga</th>\n",
       "      <th>MYRUSD</th>\n",
       "      <th>THBUSD</th>\n",
       "      <th>USDIDR</th>\n",
       "      <th>SGDIDR</th>\n",
       "    </tr>\n",
       "  </thead>\n",
       "  <tbody>\n",
       "    <tr>\n",
       "      <th>40659</th>\n",
       "      <td>2024-12-31</td>\n",
       "      <td>Tepung Terigu (Curah)</td>\n",
       "      <td>Sulawesi Tenggara</td>\n",
       "      <td>0</td>\n",
       "      <td>0</td>\n",
       "      <td>0</td>\n",
       "      <td>38</td>\n",
       "      <td>0</td>\n",
       "      <td>3508.0</td>\n",
       "      <td>445.0</td>\n",
       "      <td>15744.0</td>\n",
       "      <td>3508.0</td>\n",
       "    </tr>\n",
       "    <tr>\n",
       "      <th>40660</th>\n",
       "      <td>2024-12-31</td>\n",
       "      <td>Tepung Terigu (Curah)</td>\n",
       "      <td>Sulawesi Utara</td>\n",
       "      <td>0</td>\n",
       "      <td>0</td>\n",
       "      <td>0</td>\n",
       "      <td>38</td>\n",
       "      <td>0</td>\n",
       "      <td>3508.0</td>\n",
       "      <td>445.0</td>\n",
       "      <td>15744.0</td>\n",
       "      <td>3508.0</td>\n",
       "    </tr>\n",
       "    <tr>\n",
       "      <th>40661</th>\n",
       "      <td>2024-12-31</td>\n",
       "      <td>Tepung Terigu (Curah)</td>\n",
       "      <td>Sumatera Barat</td>\n",
       "      <td>0</td>\n",
       "      <td>0</td>\n",
       "      <td>0</td>\n",
       "      <td>37</td>\n",
       "      <td>0</td>\n",
       "      <td>3508.0</td>\n",
       "      <td>445.0</td>\n",
       "      <td>15744.0</td>\n",
       "      <td>3508.0</td>\n",
       "    </tr>\n",
       "    <tr>\n",
       "      <th>40662</th>\n",
       "      <td>2024-12-31</td>\n",
       "      <td>Tepung Terigu (Curah)</td>\n",
       "      <td>Sumatera Selatan</td>\n",
       "      <td>0</td>\n",
       "      <td>0</td>\n",
       "      <td>0</td>\n",
       "      <td>37</td>\n",
       "      <td>0</td>\n",
       "      <td>3508.0</td>\n",
       "      <td>445.0</td>\n",
       "      <td>15744.0</td>\n",
       "      <td>3508.0</td>\n",
       "    </tr>\n",
       "    <tr>\n",
       "      <th>40663</th>\n",
       "      <td>2024-12-31</td>\n",
       "      <td>Tepung Terigu (Curah)</td>\n",
       "      <td>Sumatera Utara</td>\n",
       "      <td>0</td>\n",
       "      <td>0</td>\n",
       "      <td>0</td>\n",
       "      <td>37</td>\n",
       "      <td>0</td>\n",
       "      <td>3508.0</td>\n",
       "      <td>445.0</td>\n",
       "      <td>15744.0</td>\n",
       "      <td>3508.0</td>\n",
       "    </tr>\n",
       "  </tbody>\n",
       "</table>\n",
       "</div>"
      ]
     },
     "execution_count": 29,
     "metadata": {},
     "output_type": "execute_result"
    }
   ],
   "execution_count": 29
  },
  {
   "metadata": {},
   "cell_type": "markdown",
   "source": "## 2.3 Save data",
   "id": "5d0168998dea1c85"
  },
  {
   "metadata": {
    "ExecuteTime": {
     "end_time": "2025-03-15T10:01:34.421294Z",
     "start_time": "2025-03-15T10:01:34.417798Z"
    }
   },
   "cell_type": "code",
   "source": [
    "output_file='data_forecast_merged.csv'\n",
    "if not os.path.exists(output_file):\n",
    "    data_forecast.to_csv(output_file, index=False)"
   ],
   "id": "b8ed36e8eceb6c45",
   "outputs": [],
   "execution_count": 70
  },
  {
   "metadata": {
    "ExecuteTime": {
     "end_time": "2025-03-15T10:22:32.494171Z",
     "start_time": "2025-03-15T10:22:32.459488Z"
    }
   },
   "cell_type": "code",
   "source": "data_forecast = pd.read_csv('data_forecast_merged.csv')",
   "id": "8164c91e89fa60e9",
   "outputs": [],
   "execution_count": 120
  },
  {
   "metadata": {},
   "cell_type": "markdown",
   "source": "## 2.4 Data Exploration",
   "id": "a076109aa3ab2ca1"
  },
  {
   "metadata": {
    "ExecuteTime": {
     "end_time": "2025-03-15T10:22:32.623346Z",
     "start_time": "2025-03-15T10:22:32.603246Z"
    }
   },
   "cell_type": "code",
   "source": "data_forecast.describe()",
   "id": "9cab63f7f57a2086",
   "outputs": [
    {
     "data": {
      "text/plain": [
       "         Harga_lag_1    Harga_lag_7   Harga_lag_30  Google_trends    Harga        MYRUSD        THBUSD        USDIDR        SGDIDR\n",
       "count   40664.000000   40664.000000   40664.000000   40664.000000  40664.0  40664.000000  40664.000000  40664.000000  40664.000000\n",
       "mean      377.090055    2645.980720   11766.499361      37.511583      0.0   3377.836957    428.206522  14871.086957   3377.836957\n",
       "std      4939.236626   12879.063617   25160.136301       8.328190      0.0     58.889026      7.267554    565.728632     58.889026\n",
       "min         0.000000       0.000000       0.000000      -2.000000      0.0   3294.000000    409.000000  14266.000000   3294.000000\n",
       "25%         0.000000       0.000000       0.000000      37.000000      0.0   3324.000000    423.000000  14399.500000   3324.000000\n",
       "50%         0.000000       0.000000       0.000000      38.000000      0.0   3377.500000    428.500000  14612.000000   3377.500000\n",
       "75%         0.000000       0.000000   16330.000000      39.000000      0.0   3427.000000    434.000000  15597.250000   3427.000000\n",
       "max    158210.000000  162480.000000  162480.000000      81.000000      0.0   3514.000000    445.000000  15773.000000   3514.000000"
      ],
      "text/html": [
       "<div>\n",
       "<style scoped>\n",
       "    .dataframe tbody tr th:only-of-type {\n",
       "        vertical-align: middle;\n",
       "    }\n",
       "\n",
       "    .dataframe tbody tr th {\n",
       "        vertical-align: top;\n",
       "    }\n",
       "\n",
       "    .dataframe thead th {\n",
       "        text-align: right;\n",
       "    }\n",
       "</style>\n",
       "<table border=\"1\" class=\"dataframe\">\n",
       "  <thead>\n",
       "    <tr style=\"text-align: right;\">\n",
       "      <th></th>\n",
       "      <th>Harga_lag_1</th>\n",
       "      <th>Harga_lag_7</th>\n",
       "      <th>Harga_lag_30</th>\n",
       "      <th>Google_trends</th>\n",
       "      <th>Harga</th>\n",
       "      <th>MYRUSD</th>\n",
       "      <th>THBUSD</th>\n",
       "      <th>USDIDR</th>\n",
       "      <th>SGDIDR</th>\n",
       "    </tr>\n",
       "  </thead>\n",
       "  <tbody>\n",
       "    <tr>\n",
       "      <th>count</th>\n",
       "      <td>40664.000000</td>\n",
       "      <td>40664.000000</td>\n",
       "      <td>40664.000000</td>\n",
       "      <td>40664.000000</td>\n",
       "      <td>40664.0</td>\n",
       "      <td>40664.000000</td>\n",
       "      <td>40664.000000</td>\n",
       "      <td>40664.000000</td>\n",
       "      <td>40664.000000</td>\n",
       "    </tr>\n",
       "    <tr>\n",
       "      <th>mean</th>\n",
       "      <td>377.090055</td>\n",
       "      <td>2645.980720</td>\n",
       "      <td>11766.499361</td>\n",
       "      <td>37.511583</td>\n",
       "      <td>0.0</td>\n",
       "      <td>3377.836957</td>\n",
       "      <td>428.206522</td>\n",
       "      <td>14871.086957</td>\n",
       "      <td>3377.836957</td>\n",
       "    </tr>\n",
       "    <tr>\n",
       "      <th>std</th>\n",
       "      <td>4939.236626</td>\n",
       "      <td>12879.063617</td>\n",
       "      <td>25160.136301</td>\n",
       "      <td>8.328190</td>\n",
       "      <td>0.0</td>\n",
       "      <td>58.889026</td>\n",
       "      <td>7.267554</td>\n",
       "      <td>565.728632</td>\n",
       "      <td>58.889026</td>\n",
       "    </tr>\n",
       "    <tr>\n",
       "      <th>min</th>\n",
       "      <td>0.000000</td>\n",
       "      <td>0.000000</td>\n",
       "      <td>0.000000</td>\n",
       "      <td>-2.000000</td>\n",
       "      <td>0.0</td>\n",
       "      <td>3294.000000</td>\n",
       "      <td>409.000000</td>\n",
       "      <td>14266.000000</td>\n",
       "      <td>3294.000000</td>\n",
       "    </tr>\n",
       "    <tr>\n",
       "      <th>25%</th>\n",
       "      <td>0.000000</td>\n",
       "      <td>0.000000</td>\n",
       "      <td>0.000000</td>\n",
       "      <td>37.000000</td>\n",
       "      <td>0.0</td>\n",
       "      <td>3324.000000</td>\n",
       "      <td>423.000000</td>\n",
       "      <td>14399.500000</td>\n",
       "      <td>3324.000000</td>\n",
       "    </tr>\n",
       "    <tr>\n",
       "      <th>50%</th>\n",
       "      <td>0.000000</td>\n",
       "      <td>0.000000</td>\n",
       "      <td>0.000000</td>\n",
       "      <td>38.000000</td>\n",
       "      <td>0.0</td>\n",
       "      <td>3377.500000</td>\n",
       "      <td>428.500000</td>\n",
       "      <td>14612.000000</td>\n",
       "      <td>3377.500000</td>\n",
       "    </tr>\n",
       "    <tr>\n",
       "      <th>75%</th>\n",
       "      <td>0.000000</td>\n",
       "      <td>0.000000</td>\n",
       "      <td>16330.000000</td>\n",
       "      <td>39.000000</td>\n",
       "      <td>0.0</td>\n",
       "      <td>3427.000000</td>\n",
       "      <td>434.000000</td>\n",
       "      <td>15597.250000</td>\n",
       "      <td>3427.000000</td>\n",
       "    </tr>\n",
       "    <tr>\n",
       "      <th>max</th>\n",
       "      <td>158210.000000</td>\n",
       "      <td>162480.000000</td>\n",
       "      <td>162480.000000</td>\n",
       "      <td>81.000000</td>\n",
       "      <td>0.0</td>\n",
       "      <td>3514.000000</td>\n",
       "      <td>445.000000</td>\n",
       "      <td>15773.000000</td>\n",
       "      <td>3514.000000</td>\n",
       "    </tr>\n",
       "  </tbody>\n",
       "</table>\n",
       "</div>"
      ]
     },
     "execution_count": 121,
     "metadata": {},
     "output_type": "execute_result"
    }
   ],
   "execution_count": 121
  },
  {
   "metadata": {
    "ExecuteTime": {
     "end_time": "2025-03-15T10:22:32.653009Z",
     "start_time": "2025-03-15T10:22:32.644044Z"
    }
   },
   "cell_type": "code",
   "source": "data_forecast.info()",
   "id": "67cdade241dcff5",
   "outputs": [
    {
     "name": "stdout",
     "output_type": "stream",
     "text": [
      "<class 'pandas.core.frame.DataFrame'>\n",
      "RangeIndex: 40664 entries, 0 to 40663\n",
      "Data columns (total 12 columns):\n",
      " #   Column         Non-Null Count  Dtype  \n",
      "---  ------         --------------  -----  \n",
      " 0   Tanggal        40664 non-null  object \n",
      " 1   Bahan_pangan   40664 non-null  object \n",
      " 2   Daerah         40664 non-null  object \n",
      " 3   Harga_lag_1    40664 non-null  int64  \n",
      " 4   Harga_lag_7    40664 non-null  int64  \n",
      " 5   Harga_lag_30   40664 non-null  int64  \n",
      " 6   Google_trends  40664 non-null  int64  \n",
      " 7   Harga          40664 non-null  int64  \n",
      " 8   MYRUSD         40664 non-null  float64\n",
      " 9   THBUSD         40664 non-null  float64\n",
      " 10  USDIDR         40664 non-null  float64\n",
      " 11  SGDIDR         40664 non-null  float64\n",
      "dtypes: float64(4), int64(5), object(3)\n",
      "memory usage: 3.7+ MB\n"
     ]
    }
   ],
   "execution_count": 122
  },
  {
   "metadata": {
    "ExecuteTime": {
     "end_time": "2025-03-15T10:22:32.706004Z",
     "start_time": "2025-03-15T10:22:32.698288Z"
    }
   },
   "cell_type": "code",
   "source": "data_forecast['Tanggal'] = pd.to_datetime(data_forecast['Tanggal'])",
   "id": "95435d11f8bf7a50",
   "outputs": [],
   "execution_count": 123
  },
  {
   "metadata": {
    "ExecuteTime": {
     "end_time": "2025-03-15T10:22:32.743454Z",
     "start_time": "2025-03-15T10:22:32.730980Z"
    }
   },
   "cell_type": "code",
   "source": [
    "bhn_pgn_label_encoder = LabelEncoder()\n",
    "daerah_label_encoder = LabelEncoder()\n",
    "\n",
    "data_forecast['Bahan_pangan'] = bhn_pgn_label_encoder.fit_transform(data_forecast['Bahan_pangan'])\n",
    "data_forecast['Daerah'] = daerah_label_encoder.fit_transform(data_forecast['Daerah'])"
   ],
   "id": "d06d7410daa23a82",
   "outputs": [],
   "execution_count": 124
  },
  {
   "metadata": {
    "ExecuteTime": {
     "end_time": "2025-03-15T10:22:32.780135Z",
     "start_time": "2025-03-15T10:22:32.773817Z"
    }
   },
   "cell_type": "code",
   "source": [
    "# Buat DataFrame untuk mapping Bahan Pangan\n",
    "mapping_bp = pd.DataFrame({\n",
    "    \"Label\": range(len(bhn_pgn_label_encoder.classes_)),\n",
    "    \"Bahan Pangan\": bhn_pgn_label_encoder.classes_\n",
    "})\n",
    "\n",
    "# Buat DataFrame untuk mapping Daerah\n",
    "mapping_daerah = pd.DataFrame({\n",
    "    \"Label\": range(len(daerah_label_encoder.classes_)),\n",
    "    \"Daerah\": daerah_label_encoder.classes_\n",
    "})\n",
    "\n",
    "# Tampilkan dalam bentuk tabel\n",
    "print(\"Mapping Bahan Pangan:\")\n",
    "print(mapping_bp.to_string(index=False))  # Hapus index agar lebih rapi\n",
    "\n",
    "print(\"\\nMapping Daerah:\")\n",
    "print(mapping_daerah.to_string(index=False))"
   ],
   "id": "687065bf51871909",
   "outputs": [
    {
     "name": "stdout",
     "output_type": "stream",
     "text": [
      "Mapping Bahan Pangan:\n",
      " Label                    Bahan Pangan\n",
      "     0                    Bawang Merah\n",
      "     1            Bawang Putih Bonggol\n",
      "     2                    Beras Medium\n",
      "     3                   Beras Premium\n",
      "     4            Cabai Merah Keriting\n",
      "     5               Cabai Rawit Merah\n",
      "     6                 Daging Ayam Ras\n",
      "     7               Daging Sapi Murni\n",
      "     8                   Gula Konsumsi\n",
      "     9             Minyak Goreng Curah\n",
      "    10 Minyak Goreng Kemasan Sederhana\n",
      "    11                  Telur Ayam Ras\n",
      "    12           Tepung Terigu (Curah)\n",
      "\n",
      "Mapping Daerah:\n",
      " Label                    Daerah\n",
      "     0                      Aceh\n",
      "     1                      Bali\n",
      "     2                    Banten\n",
      "     3                  Bengkulu\n",
      "     4             DI Yogyakarta\n",
      "     5               DKI Jakarta\n",
      "     6                 Gorontalo\n",
      "     7                     Jambi\n",
      "     8                Jawa Barat\n",
      "     9               Jawa Tengah\n",
      "    10                Jawa Timur\n",
      "    11          Kalimantan Barat\n",
      "    12        Kalimantan Selatan\n",
      "    13         Kalimantan Tengah\n",
      "    14          Kalimantan Timur\n",
      "    15          Kalimantan Utara\n",
      "    16 Kepulauan Bangka Belitung\n",
      "    17            Kepulauan Riau\n",
      "    18                   Lampung\n",
      "    19                    Maluku\n",
      "    20              Maluku Utara\n",
      "    21       Nusa Tenggara Barat\n",
      "    22       Nusa Tenggara Timur\n",
      "    23                     Papua\n",
      "    24               Papua Barat\n",
      "    25                      Riau\n",
      "    26            Sulawesi Barat\n",
      "    27          Sulawesi Selatan\n",
      "    28           Sulawesi Tengah\n",
      "    29         Sulawesi Tenggara\n",
      "    30            Sulawesi Utara\n",
      "    31            Sumatera Barat\n",
      "    32          Sumatera Selatan\n",
      "    33            Sumatera Utara\n"
     ]
    }
   ],
   "execution_count": 125
  },
  {
   "metadata": {
    "ExecuteTime": {
     "end_time": "2025-03-15T10:22:32.874788Z",
     "start_time": "2025-03-15T10:22:32.865287Z"
    }
   },
   "cell_type": "code",
   "source": [
    "data_forecast['Year'] = data_forecast['Tanggal'].dt.year\n",
    "data_forecast['Month'] = data_forecast['Tanggal'].dt.month\n",
    "data_forecast['Day'] = data_forecast['Tanggal'].dt.day\n",
    "data_forecast['Weekday'] = data_forecast['Tanggal'].dt.weekday  # Senin (0) - Minggu (6)"
   ],
   "id": "ab232b751465826d",
   "outputs": [],
   "execution_count": 126
  },
  {
   "metadata": {
    "ExecuteTime": {
     "end_time": "2025-03-15T10:22:32.901887Z",
     "start_time": "2025-03-15T10:22:32.896087Z"
    }
   },
   "cell_type": "code",
   "source": "data_forecast = data_forecast.drop(columns=['Tanggal'])",
   "id": "2a5753c0c2db9870",
   "outputs": [],
   "execution_count": 127
  },
  {
   "metadata": {
    "ExecuteTime": {
     "end_time": "2025-03-15T10:22:32.948192Z",
     "start_time": "2025-03-15T10:22:32.939781Z"
    }
   },
   "cell_type": "code",
   "source": "data_forecast.head()",
   "id": "7a44ebf3be35970e",
   "outputs": [
    {
     "data": {
      "text/plain": [
       "   Bahan_pangan  Daerah  Harga_lag_1  Harga_lag_7  Harga_lag_30  ...  SGDIDR  Year  Month  Day  Weekday\n",
       "0             0       0        28960        27700         26390  ...  3379.0  2024     10    1        1\n",
       "1             0       1        24230        24240         21250  ...  3379.0  2024     10    1        1\n",
       "2             0       2        27940        25910         25520  ...  3379.0  2024     10    1        1\n",
       "3             0       3        27390        26960         23840  ...  3379.0  2024     10    1        1\n",
       "4             0       4        24450        22240         19600  ...  3379.0  2024     10    1        1\n",
       "\n",
       "[5 rows x 15 columns]"
      ],
      "text/html": [
       "<div>\n",
       "<style scoped>\n",
       "    .dataframe tbody tr th:only-of-type {\n",
       "        vertical-align: middle;\n",
       "    }\n",
       "\n",
       "    .dataframe tbody tr th {\n",
       "        vertical-align: top;\n",
       "    }\n",
       "\n",
       "    .dataframe thead th {\n",
       "        text-align: right;\n",
       "    }\n",
       "</style>\n",
       "<table border=\"1\" class=\"dataframe\">\n",
       "  <thead>\n",
       "    <tr style=\"text-align: right;\">\n",
       "      <th></th>\n",
       "      <th>Bahan_pangan</th>\n",
       "      <th>Daerah</th>\n",
       "      <th>Harga_lag_1</th>\n",
       "      <th>Harga_lag_7</th>\n",
       "      <th>Harga_lag_30</th>\n",
       "      <th>...</th>\n",
       "      <th>SGDIDR</th>\n",
       "      <th>Year</th>\n",
       "      <th>Month</th>\n",
       "      <th>Day</th>\n",
       "      <th>Weekday</th>\n",
       "    </tr>\n",
       "  </thead>\n",
       "  <tbody>\n",
       "    <tr>\n",
       "      <th>0</th>\n",
       "      <td>0</td>\n",
       "      <td>0</td>\n",
       "      <td>28960</td>\n",
       "      <td>27700</td>\n",
       "      <td>26390</td>\n",
       "      <td>...</td>\n",
       "      <td>3379.0</td>\n",
       "      <td>2024</td>\n",
       "      <td>10</td>\n",
       "      <td>1</td>\n",
       "      <td>1</td>\n",
       "    </tr>\n",
       "    <tr>\n",
       "      <th>1</th>\n",
       "      <td>0</td>\n",
       "      <td>1</td>\n",
       "      <td>24230</td>\n",
       "      <td>24240</td>\n",
       "      <td>21250</td>\n",
       "      <td>...</td>\n",
       "      <td>3379.0</td>\n",
       "      <td>2024</td>\n",
       "      <td>10</td>\n",
       "      <td>1</td>\n",
       "      <td>1</td>\n",
       "    </tr>\n",
       "    <tr>\n",
       "      <th>2</th>\n",
       "      <td>0</td>\n",
       "      <td>2</td>\n",
       "      <td>27940</td>\n",
       "      <td>25910</td>\n",
       "      <td>25520</td>\n",
       "      <td>...</td>\n",
       "      <td>3379.0</td>\n",
       "      <td>2024</td>\n",
       "      <td>10</td>\n",
       "      <td>1</td>\n",
       "      <td>1</td>\n",
       "    </tr>\n",
       "    <tr>\n",
       "      <th>3</th>\n",
       "      <td>0</td>\n",
       "      <td>3</td>\n",
       "      <td>27390</td>\n",
       "      <td>26960</td>\n",
       "      <td>23840</td>\n",
       "      <td>...</td>\n",
       "      <td>3379.0</td>\n",
       "      <td>2024</td>\n",
       "      <td>10</td>\n",
       "      <td>1</td>\n",
       "      <td>1</td>\n",
       "    </tr>\n",
       "    <tr>\n",
       "      <th>4</th>\n",
       "      <td>0</td>\n",
       "      <td>4</td>\n",
       "      <td>24450</td>\n",
       "      <td>22240</td>\n",
       "      <td>19600</td>\n",
       "      <td>...</td>\n",
       "      <td>3379.0</td>\n",
       "      <td>2024</td>\n",
       "      <td>10</td>\n",
       "      <td>1</td>\n",
       "      <td>1</td>\n",
       "    </tr>\n",
       "  </tbody>\n",
       "</table>\n",
       "<p>5 rows × 15 columns</p>\n",
       "</div>"
      ]
     },
     "execution_count": 128,
     "metadata": {},
     "output_type": "execute_result"
    }
   ],
   "execution_count": 128
  },
  {
   "metadata": {
    "ExecuteTime": {
     "end_time": "2025-03-15T10:22:32.978282Z",
     "start_time": "2025-03-15T10:22:32.969808Z"
    }
   },
   "cell_type": "code",
   "source": [
    "columns_will_convert = [\n",
    "    'Harga_lag_1',\n",
    "    'Harga_lag_7',\n",
    "    'Harga_lag_30',\n",
    "    'Google_trends',\n",
    "    'MYRUSD',\n",
    "    'SGDIDR',\n",
    "    'THBUSD',\n",
    "    'USDIDR',\n",
    "    'Harga'\n",
    "]\n",
    "data_forecast[columns_will_convert] = data_forecast[columns_will_convert].apply(pd.to_numeric, errors='coerce')"
   ],
   "id": "50249c4206b29d76",
   "outputs": [],
   "execution_count": 129
  },
  {
   "metadata": {
    "ExecuteTime": {
     "end_time": "2025-03-15T10:22:33.001116Z",
     "start_time": "2025-03-15T10:22:32.992478Z"
    }
   },
   "cell_type": "code",
   "source": "data_forecast.head()",
   "id": "9fa52ee953c4f405",
   "outputs": [
    {
     "data": {
      "text/plain": [
       "   Bahan_pangan  Daerah  Harga_lag_1  Harga_lag_7  Harga_lag_30  ...  SGDIDR  Year  Month  Day  Weekday\n",
       "0             0       0        28960        27700         26390  ...  3379.0  2024     10    1        1\n",
       "1             0       1        24230        24240         21250  ...  3379.0  2024     10    1        1\n",
       "2             0       2        27940        25910         25520  ...  3379.0  2024     10    1        1\n",
       "3             0       3        27390        26960         23840  ...  3379.0  2024     10    1        1\n",
       "4             0       4        24450        22240         19600  ...  3379.0  2024     10    1        1\n",
       "\n",
       "[5 rows x 15 columns]"
      ],
      "text/html": [
       "<div>\n",
       "<style scoped>\n",
       "    .dataframe tbody tr th:only-of-type {\n",
       "        vertical-align: middle;\n",
       "    }\n",
       "\n",
       "    .dataframe tbody tr th {\n",
       "        vertical-align: top;\n",
       "    }\n",
       "\n",
       "    .dataframe thead th {\n",
       "        text-align: right;\n",
       "    }\n",
       "</style>\n",
       "<table border=\"1\" class=\"dataframe\">\n",
       "  <thead>\n",
       "    <tr style=\"text-align: right;\">\n",
       "      <th></th>\n",
       "      <th>Bahan_pangan</th>\n",
       "      <th>Daerah</th>\n",
       "      <th>Harga_lag_1</th>\n",
       "      <th>Harga_lag_7</th>\n",
       "      <th>Harga_lag_30</th>\n",
       "      <th>...</th>\n",
       "      <th>SGDIDR</th>\n",
       "      <th>Year</th>\n",
       "      <th>Month</th>\n",
       "      <th>Day</th>\n",
       "      <th>Weekday</th>\n",
       "    </tr>\n",
       "  </thead>\n",
       "  <tbody>\n",
       "    <tr>\n",
       "      <th>0</th>\n",
       "      <td>0</td>\n",
       "      <td>0</td>\n",
       "      <td>28960</td>\n",
       "      <td>27700</td>\n",
       "      <td>26390</td>\n",
       "      <td>...</td>\n",
       "      <td>3379.0</td>\n",
       "      <td>2024</td>\n",
       "      <td>10</td>\n",
       "      <td>1</td>\n",
       "      <td>1</td>\n",
       "    </tr>\n",
       "    <tr>\n",
       "      <th>1</th>\n",
       "      <td>0</td>\n",
       "      <td>1</td>\n",
       "      <td>24230</td>\n",
       "      <td>24240</td>\n",
       "      <td>21250</td>\n",
       "      <td>...</td>\n",
       "      <td>3379.0</td>\n",
       "      <td>2024</td>\n",
       "      <td>10</td>\n",
       "      <td>1</td>\n",
       "      <td>1</td>\n",
       "    </tr>\n",
       "    <tr>\n",
       "      <th>2</th>\n",
       "      <td>0</td>\n",
       "      <td>2</td>\n",
       "      <td>27940</td>\n",
       "      <td>25910</td>\n",
       "      <td>25520</td>\n",
       "      <td>...</td>\n",
       "      <td>3379.0</td>\n",
       "      <td>2024</td>\n",
       "      <td>10</td>\n",
       "      <td>1</td>\n",
       "      <td>1</td>\n",
       "    </tr>\n",
       "    <tr>\n",
       "      <th>3</th>\n",
       "      <td>0</td>\n",
       "      <td>3</td>\n",
       "      <td>27390</td>\n",
       "      <td>26960</td>\n",
       "      <td>23840</td>\n",
       "      <td>...</td>\n",
       "      <td>3379.0</td>\n",
       "      <td>2024</td>\n",
       "      <td>10</td>\n",
       "      <td>1</td>\n",
       "      <td>1</td>\n",
       "    </tr>\n",
       "    <tr>\n",
       "      <th>4</th>\n",
       "      <td>0</td>\n",
       "      <td>4</td>\n",
       "      <td>24450</td>\n",
       "      <td>22240</td>\n",
       "      <td>19600</td>\n",
       "      <td>...</td>\n",
       "      <td>3379.0</td>\n",
       "      <td>2024</td>\n",
       "      <td>10</td>\n",
       "      <td>1</td>\n",
       "      <td>1</td>\n",
       "    </tr>\n",
       "  </tbody>\n",
       "</table>\n",
       "<p>5 rows × 15 columns</p>\n",
       "</div>"
      ]
     },
     "execution_count": 130,
     "metadata": {},
     "output_type": "execute_result"
    }
   ],
   "execution_count": 130
  },
  {
   "metadata": {
    "ExecuteTime": {
     "end_time": "2025-03-15T10:22:33.035238Z",
     "start_time": "2025-03-15T10:22:33.027232Z"
    }
   },
   "cell_type": "code",
   "source": "data_forecast.info()",
   "id": "9f32a6e06bf2b68f",
   "outputs": [
    {
     "name": "stdout",
     "output_type": "stream",
     "text": [
      "<class 'pandas.core.frame.DataFrame'>\n",
      "RangeIndex: 40664 entries, 0 to 40663\n",
      "Data columns (total 15 columns):\n",
      " #   Column         Non-Null Count  Dtype  \n",
      "---  ------         --------------  -----  \n",
      " 0   Bahan_pangan   40664 non-null  int64  \n",
      " 1   Daerah         40664 non-null  int64  \n",
      " 2   Harga_lag_1    40664 non-null  int64  \n",
      " 3   Harga_lag_7    40664 non-null  int64  \n",
      " 4   Harga_lag_30   40664 non-null  int64  \n",
      " 5   Google_trends  40664 non-null  int64  \n",
      " 6   Harga          40664 non-null  int64  \n",
      " 7   MYRUSD         40664 non-null  float64\n",
      " 8   THBUSD         40664 non-null  float64\n",
      " 9   USDIDR         40664 non-null  float64\n",
      " 10  SGDIDR         40664 non-null  float64\n",
      " 11  Year           40664 non-null  int32  \n",
      " 12  Month          40664 non-null  int32  \n",
      " 13  Day            40664 non-null  int32  \n",
      " 14  Weekday        40664 non-null  int32  \n",
      "dtypes: float64(4), int32(4), int64(7)\n",
      "memory usage: 4.0 MB\n"
     ]
    }
   ],
   "execution_count": 131
  },
  {
   "metadata": {
    "ExecuteTime": {
     "end_time": "2025-03-15T10:22:33.138641Z",
     "start_time": "2025-03-15T10:22:33.133009Z"
    }
   },
   "cell_type": "code",
   "source": [
    "# Pisahkan fitur dan target\n",
    "X = data_forecast.drop('Harga', axis=1)\n",
    "y = data_forecast['Harga']"
   ],
   "id": "bb952337125f8db2",
   "outputs": [],
   "execution_count": 132
  },
  {
   "metadata": {
    "ExecuteTime": {
     "end_time": "2025-03-15T10:22:33.189802Z",
     "start_time": "2025-03-15T10:22:33.183172Z"
    }
   },
   "cell_type": "code",
   "source": [
    "# Get the rows matching your filter criteria\n",
    "filter_mask = (data_forecast['Day'] == date_start.day) & \\\n",
    "            (data_forecast['Month'] == date_start.month) & \\\n",
    "            (data_forecast['Year'] == date_start.year) & \\\n",
    "            (data_forecast['Harga_lag_1'] != 0) & \\\n",
    "            (data_forecast['Harga_lag_7'] != 0) & \\\n",
    "            (data_forecast['Harga_lag_30'] != 0) & \\\n",
    "            (data_forecast['Harga'] == 0)\n",
    "    \n",
    "# Get the subset for prediction\n",
    "X_subset = data_forecast[filter_mask].drop('Harga', axis=1)"
   ],
   "id": "5b7fbddfc8fca43f",
   "outputs": [],
   "execution_count": 133
  },
  {
   "metadata": {
    "ExecuteTime": {
     "end_time": "2025-03-15T10:22:33.316546Z",
     "start_time": "2025-03-15T10:22:33.313317Z"
    }
   },
   "cell_type": "code",
   "source": "X_subset.shape",
   "id": "983ad102f2978bac",
   "outputs": [
    {
     "data": {
      "text/plain": [
       "(440, 14)"
      ]
     },
     "execution_count": 134,
     "metadata": {},
     "output_type": "execute_result"
    }
   ],
   "execution_count": 134
  },
  {
   "metadata": {
    "ExecuteTime": {
     "end_time": "2025-03-15T10:22:33.358375Z",
     "start_time": "2025-03-15T10:22:33.349937Z"
    }
   },
   "cell_type": "code",
   "source": "X_subset.head()",
   "id": "3d3e94f9132c4211",
   "outputs": [
    {
     "data": {
      "text/plain": [
       "   Bahan_pangan  Daerah  Harga_lag_1  Harga_lag_7  Harga_lag_30  ...  SGDIDR  Year  Month  Day  Weekday\n",
       "0             0       0        28960        27700         26390  ...  3379.0  2024     10    1        1\n",
       "1             0       1        24230        24240         21250  ...  3379.0  2024     10    1        1\n",
       "2             0       2        27940        25910         25520  ...  3379.0  2024     10    1        1\n",
       "3             0       3        27390        26960         23840  ...  3379.0  2024     10    1        1\n",
       "4             0       4        24450        22240         19600  ...  3379.0  2024     10    1        1\n",
       "\n",
       "[5 rows x 14 columns]"
      ],
      "text/html": [
       "<div>\n",
       "<style scoped>\n",
       "    .dataframe tbody tr th:only-of-type {\n",
       "        vertical-align: middle;\n",
       "    }\n",
       "\n",
       "    .dataframe tbody tr th {\n",
       "        vertical-align: top;\n",
       "    }\n",
       "\n",
       "    .dataframe thead th {\n",
       "        text-align: right;\n",
       "    }\n",
       "</style>\n",
       "<table border=\"1\" class=\"dataframe\">\n",
       "  <thead>\n",
       "    <tr style=\"text-align: right;\">\n",
       "      <th></th>\n",
       "      <th>Bahan_pangan</th>\n",
       "      <th>Daerah</th>\n",
       "      <th>Harga_lag_1</th>\n",
       "      <th>Harga_lag_7</th>\n",
       "      <th>Harga_lag_30</th>\n",
       "      <th>...</th>\n",
       "      <th>SGDIDR</th>\n",
       "      <th>Year</th>\n",
       "      <th>Month</th>\n",
       "      <th>Day</th>\n",
       "      <th>Weekday</th>\n",
       "    </tr>\n",
       "  </thead>\n",
       "  <tbody>\n",
       "    <tr>\n",
       "      <th>0</th>\n",
       "      <td>0</td>\n",
       "      <td>0</td>\n",
       "      <td>28960</td>\n",
       "      <td>27700</td>\n",
       "      <td>26390</td>\n",
       "      <td>...</td>\n",
       "      <td>3379.0</td>\n",
       "      <td>2024</td>\n",
       "      <td>10</td>\n",
       "      <td>1</td>\n",
       "      <td>1</td>\n",
       "    </tr>\n",
       "    <tr>\n",
       "      <th>1</th>\n",
       "      <td>0</td>\n",
       "      <td>1</td>\n",
       "      <td>24230</td>\n",
       "      <td>24240</td>\n",
       "      <td>21250</td>\n",
       "      <td>...</td>\n",
       "      <td>3379.0</td>\n",
       "      <td>2024</td>\n",
       "      <td>10</td>\n",
       "      <td>1</td>\n",
       "      <td>1</td>\n",
       "    </tr>\n",
       "    <tr>\n",
       "      <th>2</th>\n",
       "      <td>0</td>\n",
       "      <td>2</td>\n",
       "      <td>27940</td>\n",
       "      <td>25910</td>\n",
       "      <td>25520</td>\n",
       "      <td>...</td>\n",
       "      <td>3379.0</td>\n",
       "      <td>2024</td>\n",
       "      <td>10</td>\n",
       "      <td>1</td>\n",
       "      <td>1</td>\n",
       "    </tr>\n",
       "    <tr>\n",
       "      <th>3</th>\n",
       "      <td>0</td>\n",
       "      <td>3</td>\n",
       "      <td>27390</td>\n",
       "      <td>26960</td>\n",
       "      <td>23840</td>\n",
       "      <td>...</td>\n",
       "      <td>3379.0</td>\n",
       "      <td>2024</td>\n",
       "      <td>10</td>\n",
       "      <td>1</td>\n",
       "      <td>1</td>\n",
       "    </tr>\n",
       "    <tr>\n",
       "      <th>4</th>\n",
       "      <td>0</td>\n",
       "      <td>4</td>\n",
       "      <td>24450</td>\n",
       "      <td>22240</td>\n",
       "      <td>19600</td>\n",
       "      <td>...</td>\n",
       "      <td>3379.0</td>\n",
       "      <td>2024</td>\n",
       "      <td>10</td>\n",
       "      <td>1</td>\n",
       "      <td>1</td>\n",
       "    </tr>\n",
       "  </tbody>\n",
       "</table>\n",
       "<p>5 rows × 14 columns</p>\n",
       "</div>"
      ]
     },
     "execution_count": 135,
     "metadata": {},
     "output_type": "execute_result"
    }
   ],
   "execution_count": 135
  },
  {
   "metadata": {
    "ExecuteTime": {
     "end_time": "2025-03-15T10:22:33.410263Z",
     "start_time": "2025-03-15T10:22:33.402179Z"
    }
   },
   "cell_type": "code",
   "source": "X_subset.tail()",
   "id": "d2d814e7c0f681b5",
   "outputs": [
    {
     "data": {
      "text/plain": [
       "     Bahan_pangan  Daerah  Harga_lag_1  Harga_lag_7  Harga_lag_30  ...  SGDIDR  Year  Month  Day  Weekday\n",
       "437            12      29         9620         9760          9800  ...  3379.0  2024     10    1        1\n",
       "438            12      30        10690        10760         10840  ...  3379.0  2024     10    1        1\n",
       "439            12      31         9920         9780          9800  ...  3379.0  2024     10    1        1\n",
       "440            12      32         8960         8940          9020  ...  3379.0  2024     10    1        1\n",
       "441            12      33        10640        10580         10730  ...  3379.0  2024     10    1        1\n",
       "\n",
       "[5 rows x 14 columns]"
      ],
      "text/html": [
       "<div>\n",
       "<style scoped>\n",
       "    .dataframe tbody tr th:only-of-type {\n",
       "        vertical-align: middle;\n",
       "    }\n",
       "\n",
       "    .dataframe tbody tr th {\n",
       "        vertical-align: top;\n",
       "    }\n",
       "\n",
       "    .dataframe thead th {\n",
       "        text-align: right;\n",
       "    }\n",
       "</style>\n",
       "<table border=\"1\" class=\"dataframe\">\n",
       "  <thead>\n",
       "    <tr style=\"text-align: right;\">\n",
       "      <th></th>\n",
       "      <th>Bahan_pangan</th>\n",
       "      <th>Daerah</th>\n",
       "      <th>Harga_lag_1</th>\n",
       "      <th>Harga_lag_7</th>\n",
       "      <th>Harga_lag_30</th>\n",
       "      <th>...</th>\n",
       "      <th>SGDIDR</th>\n",
       "      <th>Year</th>\n",
       "      <th>Month</th>\n",
       "      <th>Day</th>\n",
       "      <th>Weekday</th>\n",
       "    </tr>\n",
       "  </thead>\n",
       "  <tbody>\n",
       "    <tr>\n",
       "      <th>437</th>\n",
       "      <td>12</td>\n",
       "      <td>29</td>\n",
       "      <td>9620</td>\n",
       "      <td>9760</td>\n",
       "      <td>9800</td>\n",
       "      <td>...</td>\n",
       "      <td>3379.0</td>\n",
       "      <td>2024</td>\n",
       "      <td>10</td>\n",
       "      <td>1</td>\n",
       "      <td>1</td>\n",
       "    </tr>\n",
       "    <tr>\n",
       "      <th>438</th>\n",
       "      <td>12</td>\n",
       "      <td>30</td>\n",
       "      <td>10690</td>\n",
       "      <td>10760</td>\n",
       "      <td>10840</td>\n",
       "      <td>...</td>\n",
       "      <td>3379.0</td>\n",
       "      <td>2024</td>\n",
       "      <td>10</td>\n",
       "      <td>1</td>\n",
       "      <td>1</td>\n",
       "    </tr>\n",
       "    <tr>\n",
       "      <th>439</th>\n",
       "      <td>12</td>\n",
       "      <td>31</td>\n",
       "      <td>9920</td>\n",
       "      <td>9780</td>\n",
       "      <td>9800</td>\n",
       "      <td>...</td>\n",
       "      <td>3379.0</td>\n",
       "      <td>2024</td>\n",
       "      <td>10</td>\n",
       "      <td>1</td>\n",
       "      <td>1</td>\n",
       "    </tr>\n",
       "    <tr>\n",
       "      <th>440</th>\n",
       "      <td>12</td>\n",
       "      <td>32</td>\n",
       "      <td>8960</td>\n",
       "      <td>8940</td>\n",
       "      <td>9020</td>\n",
       "      <td>...</td>\n",
       "      <td>3379.0</td>\n",
       "      <td>2024</td>\n",
       "      <td>10</td>\n",
       "      <td>1</td>\n",
       "      <td>1</td>\n",
       "    </tr>\n",
       "    <tr>\n",
       "      <th>441</th>\n",
       "      <td>12</td>\n",
       "      <td>33</td>\n",
       "      <td>10640</td>\n",
       "      <td>10580</td>\n",
       "      <td>10730</td>\n",
       "      <td>...</td>\n",
       "      <td>3379.0</td>\n",
       "      <td>2024</td>\n",
       "      <td>10</td>\n",
       "      <td>1</td>\n",
       "      <td>1</td>\n",
       "    </tr>\n",
       "  </tbody>\n",
       "</table>\n",
       "<p>5 rows × 14 columns</p>\n",
       "</div>"
      ]
     },
     "execution_count": 136,
     "metadata": {},
     "output_type": "execute_result"
    }
   ],
   "execution_count": 136
  },
  {
   "metadata": {
    "ExecuteTime": {
     "end_time": "2025-03-15T10:22:33.440699Z",
     "start_time": "2025-03-15T10:22:33.437247Z"
    }
   },
   "cell_type": "code",
   "source": [
    "def pipeline_preprocessing(X):\n",
    "    # Buat pipeline dengan preprocessing\n",
    "    pipeline = Pipeline([\n",
    "        ('quantile_transform', QuantileTransformer(n_quantiles=400, output_distribution='normal')),\n",
    "        ('scaler', StandardScaler())  # Scaling fitur\n",
    "    ])\n",
    "    pipeline.fit(X)\n",
    "    X_transformed = pipeline.transform(X)\n",
    "    return X_transformed"
   ],
   "id": "774fcd4ddac61b79",
   "outputs": [],
   "execution_count": 137
  },
  {
   "metadata": {
    "ExecuteTime": {
     "end_time": "2025-03-15T10:22:34.613507Z",
     "start_time": "2025-03-15T10:22:33.484979Z"
    }
   },
   "cell_type": "code",
   "source": [
    "# Load the saved model\n",
    "best_xgb = xgboost.XGBRegressor()\n",
    "best_xgb.load_model('forecast_xgboost_regressor_model.json')"
   ],
   "id": "1c68e95269ce059f",
   "outputs": [],
   "execution_count": 138
  },
  {
   "metadata": {
    "ExecuteTime": {
     "end_time": "2025-03-15T10:34:33.975596Z",
     "start_time": "2025-03-15T10:22:34.614521Z"
    }
   },
   "cell_type": "code",
   "source": [
    "for index, date in enumerate([date_start + dt.timedelta(days=x) for x in range((date_end - date_start).days + 1)]):\n",
    "    day = date.day\n",
    "    month = date.month\n",
    "    year = date.year\n",
    "        \n",
    "    # Get the rows matching your filter criteria\n",
    "    filter_mask = (data_forecast['Day'] == day) & \\\n",
    "                  (data_forecast['Month'] == month) & \\\n",
    "                  (data_forecast['Year'] == year) & \\\n",
    "                  (data_forecast['Harga_lag_1'] != 0) & \\\n",
    "                  (data_forecast['Harga_lag_7'] != 0) & \\\n",
    "                  (data_forecast['Harga_lag_30'] != 0) & \\\n",
    "                  (data_forecast['Harga'] == 0)\n",
    "    \n",
    "    # Get the subset for prediction\n",
    "    X_subset = data_forecast[filter_mask].drop('Harga', axis=1)\n",
    "    \n",
    "        # Only predict if there are rows to predict\n",
    "    if len(X_subset) > 0:\n",
    "        X_subset_transformed = pipeline_preprocessing(X_subset)\n",
    "        result = best_xgb.predict(X_subset_transformed)\n",
    "        # Update using the same filter mask\n",
    "        data_forecast.loc[filter_mask, 'Harga'] = result.round().astype(int)\n",
    "        for (bahan_pangan, daerah), group in data_forecast.groupby(['Bahan_pangan', 'Daerah']):\n",
    "            # Sort by date components\n",
    "            group_sorted = group.sort_values(by=['Year', 'Month', 'Day'])\n",
    "            \n",
    "            # Get the indices in sorted order\n",
    "            indices = group_sorted.index\n",
    "            \n",
    "            # Update lag_1\n",
    "            for i in range(1, len(indices)):\n",
    "                current_idx = indices[i]\n",
    "                prev_idx = indices[i-1]\n",
    "                \n",
    "                # If Harga_lag_1 is 0, update it with the previous day's Harga\n",
    "                if data_forecast.loc[current_idx, 'Harga_lag_1'] == 0:\n",
    "                    data_forecast.loc[current_idx, 'Harga_lag_1'] = data_forecast.loc[prev_idx, 'Harga']\n",
    "            \n",
    "            # Update lag_7\n",
    "            for i in range(7, len(indices)):\n",
    "                current_idx = indices[i]\n",
    "                prev_7_idx = indices[i-7]\n",
    "                \n",
    "                # If Harga_lag_7 is 0, update it with the value from 7 days ago\n",
    "                if data_forecast.loc[current_idx, 'Harga_lag_7'] == 0:\n",
    "                    data_forecast.loc[current_idx, 'Harga_lag_7'] = data_forecast.loc[prev_7_idx, 'Harga']\n",
    "            \n",
    "            # Update lag_30\n",
    "            for i in range(30, len(indices)):\n",
    "                current_idx = indices[i]\n",
    "                prev_30_idx = indices[i-30]\n",
    "                \n",
    "                # If Harga_lag_30 is 0, update it with the value from 30 days ago\n",
    "                if data_forecast.loc[current_idx, 'Harga_lag_30'] == 0:\n",
    "                    data_forecast.loc[current_idx, 'Harga_lag_30'] = data_forecast.loc[prev_30_idx, 'Harga']\n",
    "            # \n",
    "            # print(f\"Remaining zeros in Harga_lag_1: {(data_forecast['Harga_lag_1'] == 0).sum()}\")\n",
    "            # print(f\"Remaining zeros in Harga_lag_7: {(data_forecast['Harga_lag_7'] == 0).sum()}\")\n",
    "            # print(f\"Remaining zeros in Harga_lag_30: {(data_forecast['Harga_lag_30'] == 0).sum()}\")"
   ],
   "id": "ab37408500c478a4",
   "outputs": [],
   "execution_count": 139
  },
  {
   "metadata": {
    "ExecuteTime": {
     "end_time": "2025-03-15T10:34:33.988661Z",
     "start_time": "2025-03-15T10:34:33.976615Z"
    }
   },
   "cell_type": "code",
   "source": "data_forecast.head()",
   "id": "f9d3b277b6b8b6e2",
   "outputs": [
    {
     "data": {
      "text/plain": [
       "   Bahan_pangan  Daerah  Harga_lag_1  Harga_lag_7  Harga_lag_30  ...  SGDIDR  Year  Month  Day  Weekday\n",
       "0             0       0        28960        27700         26390  ...  3379.0  2024     10    1        1\n",
       "1             0       1        24230        24240         21250  ...  3379.0  2024     10    1        1\n",
       "2             0       2        27940        25910         25520  ...  3379.0  2024     10    1        1\n",
       "3             0       3        27390        26960         23840  ...  3379.0  2024     10    1        1\n",
       "4             0       4        24450        22240         19600  ...  3379.0  2024     10    1        1\n",
       "\n",
       "[5 rows x 15 columns]"
      ],
      "text/html": [
       "<div>\n",
       "<style scoped>\n",
       "    .dataframe tbody tr th:only-of-type {\n",
       "        vertical-align: middle;\n",
       "    }\n",
       "\n",
       "    .dataframe tbody tr th {\n",
       "        vertical-align: top;\n",
       "    }\n",
       "\n",
       "    .dataframe thead th {\n",
       "        text-align: right;\n",
       "    }\n",
       "</style>\n",
       "<table border=\"1\" class=\"dataframe\">\n",
       "  <thead>\n",
       "    <tr style=\"text-align: right;\">\n",
       "      <th></th>\n",
       "      <th>Bahan_pangan</th>\n",
       "      <th>Daerah</th>\n",
       "      <th>Harga_lag_1</th>\n",
       "      <th>Harga_lag_7</th>\n",
       "      <th>Harga_lag_30</th>\n",
       "      <th>...</th>\n",
       "      <th>SGDIDR</th>\n",
       "      <th>Year</th>\n",
       "      <th>Month</th>\n",
       "      <th>Day</th>\n",
       "      <th>Weekday</th>\n",
       "    </tr>\n",
       "  </thead>\n",
       "  <tbody>\n",
       "    <tr>\n",
       "      <th>0</th>\n",
       "      <td>0</td>\n",
       "      <td>0</td>\n",
       "      <td>28960</td>\n",
       "      <td>27700</td>\n",
       "      <td>26390</td>\n",
       "      <td>...</td>\n",
       "      <td>3379.0</td>\n",
       "      <td>2024</td>\n",
       "      <td>10</td>\n",
       "      <td>1</td>\n",
       "      <td>1</td>\n",
       "    </tr>\n",
       "    <tr>\n",
       "      <th>1</th>\n",
       "      <td>0</td>\n",
       "      <td>1</td>\n",
       "      <td>24230</td>\n",
       "      <td>24240</td>\n",
       "      <td>21250</td>\n",
       "      <td>...</td>\n",
       "      <td>3379.0</td>\n",
       "      <td>2024</td>\n",
       "      <td>10</td>\n",
       "      <td>1</td>\n",
       "      <td>1</td>\n",
       "    </tr>\n",
       "    <tr>\n",
       "      <th>2</th>\n",
       "      <td>0</td>\n",
       "      <td>2</td>\n",
       "      <td>27940</td>\n",
       "      <td>25910</td>\n",
       "      <td>25520</td>\n",
       "      <td>...</td>\n",
       "      <td>3379.0</td>\n",
       "      <td>2024</td>\n",
       "      <td>10</td>\n",
       "      <td>1</td>\n",
       "      <td>1</td>\n",
       "    </tr>\n",
       "    <tr>\n",
       "      <th>3</th>\n",
       "      <td>0</td>\n",
       "      <td>3</td>\n",
       "      <td>27390</td>\n",
       "      <td>26960</td>\n",
       "      <td>23840</td>\n",
       "      <td>...</td>\n",
       "      <td>3379.0</td>\n",
       "      <td>2024</td>\n",
       "      <td>10</td>\n",
       "      <td>1</td>\n",
       "      <td>1</td>\n",
       "    </tr>\n",
       "    <tr>\n",
       "      <th>4</th>\n",
       "      <td>0</td>\n",
       "      <td>4</td>\n",
       "      <td>24450</td>\n",
       "      <td>22240</td>\n",
       "      <td>19600</td>\n",
       "      <td>...</td>\n",
       "      <td>3379.0</td>\n",
       "      <td>2024</td>\n",
       "      <td>10</td>\n",
       "      <td>1</td>\n",
       "      <td>1</td>\n",
       "    </tr>\n",
       "  </tbody>\n",
       "</table>\n",
       "<p>5 rows × 15 columns</p>\n",
       "</div>"
      ]
     },
     "execution_count": 140,
     "metadata": {},
     "output_type": "execute_result"
    }
   ],
   "execution_count": 140
  },
  {
   "metadata": {
    "ExecuteTime": {
     "end_time": "2025-03-15T10:36:37.635431Z",
     "start_time": "2025-03-15T10:36:37.626071Z"
    }
   },
   "cell_type": "code",
   "source": "data_forecast.tail()",
   "id": "1d28fb26db693303",
   "outputs": [
    {
     "data": {
      "text/plain": [
       "       Bahan_pangan  Daerah  Harga_lag_1  Harga_lag_7  Harga_lag_30  ...  SGDIDR  Year  Month  Day  Weekday\n",
       "40659            12      29         9950         9950          9950  ...  3508.0  2024     12   31        1\n",
       "40660            12      30        11130        11136         11136  ...  3508.0  2024     12   31        1\n",
       "40661            12      31        10050        10055         10050  ...  3508.0  2024     12   31        1\n",
       "40662            12      32         8678         8678          8678  ...  3508.0  2024     12   31        1\n",
       "40663            12      33        10908        10908         10908  ...  3508.0  2024     12   31        1\n",
       "\n",
       "[5 rows x 15 columns]"
      ],
      "text/html": [
       "<div>\n",
       "<style scoped>\n",
       "    .dataframe tbody tr th:only-of-type {\n",
       "        vertical-align: middle;\n",
       "    }\n",
       "\n",
       "    .dataframe tbody tr th {\n",
       "        vertical-align: top;\n",
       "    }\n",
       "\n",
       "    .dataframe thead th {\n",
       "        text-align: right;\n",
       "    }\n",
       "</style>\n",
       "<table border=\"1\" class=\"dataframe\">\n",
       "  <thead>\n",
       "    <tr style=\"text-align: right;\">\n",
       "      <th></th>\n",
       "      <th>Bahan_pangan</th>\n",
       "      <th>Daerah</th>\n",
       "      <th>Harga_lag_1</th>\n",
       "      <th>Harga_lag_7</th>\n",
       "      <th>Harga_lag_30</th>\n",
       "      <th>...</th>\n",
       "      <th>SGDIDR</th>\n",
       "      <th>Year</th>\n",
       "      <th>Month</th>\n",
       "      <th>Day</th>\n",
       "      <th>Weekday</th>\n",
       "    </tr>\n",
       "  </thead>\n",
       "  <tbody>\n",
       "    <tr>\n",
       "      <th>40659</th>\n",
       "      <td>12</td>\n",
       "      <td>29</td>\n",
       "      <td>9950</td>\n",
       "      <td>9950</td>\n",
       "      <td>9950</td>\n",
       "      <td>...</td>\n",
       "      <td>3508.0</td>\n",
       "      <td>2024</td>\n",
       "      <td>12</td>\n",
       "      <td>31</td>\n",
       "      <td>1</td>\n",
       "    </tr>\n",
       "    <tr>\n",
       "      <th>40660</th>\n",
       "      <td>12</td>\n",
       "      <td>30</td>\n",
       "      <td>11130</td>\n",
       "      <td>11136</td>\n",
       "      <td>11136</td>\n",
       "      <td>...</td>\n",
       "      <td>3508.0</td>\n",
       "      <td>2024</td>\n",
       "      <td>12</td>\n",
       "      <td>31</td>\n",
       "      <td>1</td>\n",
       "    </tr>\n",
       "    <tr>\n",
       "      <th>40661</th>\n",
       "      <td>12</td>\n",
       "      <td>31</td>\n",
       "      <td>10050</td>\n",
       "      <td>10055</td>\n",
       "      <td>10050</td>\n",
       "      <td>...</td>\n",
       "      <td>3508.0</td>\n",
       "      <td>2024</td>\n",
       "      <td>12</td>\n",
       "      <td>31</td>\n",
       "      <td>1</td>\n",
       "    </tr>\n",
       "    <tr>\n",
       "      <th>40662</th>\n",
       "      <td>12</td>\n",
       "      <td>32</td>\n",
       "      <td>8678</td>\n",
       "      <td>8678</td>\n",
       "      <td>8678</td>\n",
       "      <td>...</td>\n",
       "      <td>3508.0</td>\n",
       "      <td>2024</td>\n",
       "      <td>12</td>\n",
       "      <td>31</td>\n",
       "      <td>1</td>\n",
       "    </tr>\n",
       "    <tr>\n",
       "      <th>40663</th>\n",
       "      <td>12</td>\n",
       "      <td>33</td>\n",
       "      <td>10908</td>\n",
       "      <td>10908</td>\n",
       "      <td>10908</td>\n",
       "      <td>...</td>\n",
       "      <td>3508.0</td>\n",
       "      <td>2024</td>\n",
       "      <td>12</td>\n",
       "      <td>31</td>\n",
       "      <td>1</td>\n",
       "    </tr>\n",
       "  </tbody>\n",
       "</table>\n",
       "<p>5 rows × 15 columns</p>\n",
       "</div>"
      ]
     },
     "execution_count": 141,
     "metadata": {},
     "output_type": "execute_result"
    }
   ],
   "execution_count": 141
  },
  {
   "metadata": {
    "ExecuteTime": {
     "end_time": "2025-03-15T10:36:55.431853Z",
     "start_time": "2025-03-15T10:36:55.293859Z"
    }
   },
   "cell_type": "code",
   "source": "data_forecast.to_csv('data_forecast_final.csv', index=False)",
   "id": "86e2b366f4aec13c",
   "outputs": [],
   "execution_count": 142
  },
  {
   "metadata": {
    "ExecuteTime": {
     "end_time": "2025-03-15T10:39:22.185117Z",
     "start_time": "2025-03-15T10:39:22.172829Z"
    }
   },
   "cell_type": "code",
   "source": [
    "for (bahan_pangan, daerah), group in data_forecast.groupby(['Bahan_pangan', 'Daerah']):\n",
    "    print(group.head(10))\n",
    "    break"
   ],
   "id": "2d50f9eae1f5d653",
   "outputs": [
    {
     "name": "stdout",
     "output_type": "stream",
     "text": [
      "      Bahan_pangan  Daerah  Harga_lag_1  Harga_lag_7  Harga_lag_30  ...  SGDIDR  Year  Month  Day  Weekday\n",
      "0                0       0        28960        27700         26390  ...  3379.0  2024     10    1        1\n",
      "442              0       0        31222        28110         26730  ...  3380.0  2024     10    2        2\n",
      "884              0       0        34730        28110         26240  ...  3380.0  2024     10    3        3\n",
      "1326             0       0        35865        27890         26110  ...  3405.0  2024     10    4        4\n",
      "1768             0       0        30151        28150         26080  ...  3423.0  2024     10    5        5\n",
      "2210             0       0        30172        28430         26150  ...  3438.0  2024     10    6        6\n",
      "2652             0       0        30580        28960         25950  ...  3446.0  2024     10    7        0\n",
      "3094             0       0        30765        31222         25490  ...  3422.0  2024     10    8        1\n",
      "3536             0       0        30809        34730         25960  ...  3422.0  2024     10    9        2\n",
      "3978             0       0        30760        35865         26120  ...  3422.0  2024     10   10        3\n",
      "\n",
      "[10 rows x 15 columns]\n"
     ]
    }
   ],
   "execution_count": 149
  },
  {
   "metadata": {},
   "cell_type": "code",
   "outputs": [],
   "execution_count": null,
   "source": "",
   "id": "e2d8e29a8e795068"
  }
 ],
 "metadata": {
  "kernelspec": {
   "display_name": "Python 3",
   "language": "python",
   "name": "python3"
  },
  "language_info": {
   "codemirror_mode": {
    "name": "ipython",
    "version": 2
   },
   "file_extension": ".py",
   "mimetype": "text/x-python",
   "name": "python",
   "nbconvert_exporter": "python",
   "pygments_lexer": "ipython2",
   "version": "2.7.6"
  }
 },
 "nbformat": 4,
 "nbformat_minor": 5
}
