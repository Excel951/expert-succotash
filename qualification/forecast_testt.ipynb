{
 "nbformat": 4,
 "nbformat_minor": 0,
 "metadata": {
  "colab": {
   "provenance": [],
   "toc_visible": true,
   "authorship_tag": "ABX9TyOBsuAy1NnOuQ7ESJ1MGfXb"
  },
  "kernelspec": {
   "name": "python3",
   "display_name": "Python 3 (ipykernel)",
   "language": "python"
  },
  "language_info": {
   "name": "python"
  }
 },
 "cells": [
  {
   "cell_type": "markdown",
   "source": [
    "# &nbsp; 1. Initiating"
   ],
   "metadata": {
    "id": "rYnbkv7Zekgb"
   }
  },
  {
   "cell_type": "markdown",
   "source": [
    "## &nbsp; 1.1 Install Libraries"
   ],
   "metadata": {
    "id": "2nS-MvITetH4"
   }
  },
  {
   "cell_type": "code",
   "metadata": {
    "id": "FZl4CTmreUDO",
    "ExecuteTime": {
     "end_time": "2025-03-14T02:35:28.507026Z",
     "start_time": "2025-03-14T02:35:27.748777Z"
    }
   },
   "source": [
    "# Holy grail\n",
    "import numpy as np\n",
    "import pandas as pd\n",
    "from jinja2.utils import concat\n",
    "from numpy.ma.core import concatenate\n",
    "\n",
    "# Scikit-learn\n",
    "from sklearn.preprocessing import StandardScaler, QuantileTransformer\n",
    "from sklearn.model_selection import GroupKFold, cross_val_score, train_test_split\n",
    "from sklearn.metrics import mean_squared_error, accuracy_score, mean_absolute_error, mean_squared_error\n",
    "from sklearn.metrics import mean_absolute_percentage_error\n",
    "from sklearn.pipeline import make_pipeline, Pipeline\n",
    "from sklearn.impute import SimpleImputer\n",
    "from sklearn.cluster import KMeans\n",
    "from sklearn.preprocessing import LabelEncoder\n",
    "\n",
    "# Visualization\n",
    "import matplotlib.pyplot as plt\n",
    "import branca.colormap as cm\n",
    "import seaborn as sns\n",
    "import folium\n",
    "\n",
    "# Models\n",
    "from sklearn.ensemble import RandomForestRegressor\n",
    "from sklearn.model_selection import GridSearchCV, RandomizedSearchCV\n",
    "from sklearn.metrics import r2_score\n",
    "from sklearn.linear_model import LinearRegression, Lasso, Ridge, ElasticNet\n",
    "from sklearn.ensemble import RandomForestRegressor\n",
    "from sklearn.svm import SVR\n",
    "from xgboost import XGBRegressor\n",
    "from lightgbm import LGBMRegressor\n",
    "import xgboost as xgb\n",
    "import lightgbm as lgb"
   ],
   "outputs": [],
   "execution_count": 1
  },
  {
   "cell_type": "markdown",
   "source": [
    "## &nbsp; 1.2 Connect to G-Drive"
   ],
   "metadata": {
    "id": "PEA2n_yTfSHi"
   }
  },
  {
   "cell_type": "code",
   "source": [
    "# from google.colab import drive\n",
    "# drive.mount('/content/drive')"
   ],
   "metadata": {
    "colab": {
     "base_uri": "https://localhost:8080/"
    },
    "id": "0YpwX2DnfHhX",
    "executionInfo": {
     "status": "ok",
     "timestamp": 1741880383637,
     "user_tz": -420,
     "elapsed": 40451,
     "user": {
      "displayName": "Luthfi Krisna Bayu",
      "userId": "02424307416199458792"
     }
    },
    "outputId": "2c2c523c-bec5-4d83-a729-36e68489afce"
   },
   "execution_count": null,
   "outputs": [
    {
     "output_type": "stream",
     "name": "stdout",
     "text": [
      "Mounted at /content/drive\n"
     ]
    }
   ]
  },
  {
   "metadata": {
    "ExecuteTime": {
     "end_time": "2025-03-14T02:36:14.732061Z",
     "start_time": "2025-03-14T02:36:14.728062Z"
    }
   },
   "cell_type": "code",
   "source": [
    "import warnings\n",
    "warnings.filterwarnings('ignore')"
   ],
   "outputs": [],
   "execution_count": 4
  },
  {
   "cell_type": "markdown",
   "source": [
    "## &nbsp; 1.3 Load Data"
   ],
   "metadata": {
    "id": "jPaAqBg4frSr"
   }
  },
  {
   "cell_type": "code",
   "source": [
    "# file_path = \"train.csv\"\n",
    "file_path='data_forecast.csv'\n",
    "df = pd.read_csv(file_path)"
   ],
   "metadata": {
    "colab": {
     "base_uri": "https://localhost:8080/"
    },
    "id": "XD3JoVo1fYke",
    "executionInfo": {
     "status": "ok",
     "timestamp": 1741880400859,
     "user_tz": -420,
     "elapsed": 13875,
     "user": {
      "displayName": "Luthfi Krisna Bayu",
      "userId": "02424307416199458792"
     }
    },
    "outputId": "18559390-c29e-4f79-98f7-c5bccb810a06",
    "ExecuteTime": {
     "end_time": "2025-03-14T05:41:09.214157Z",
     "start_time": "2025-03-14T05:41:09.181163Z"
    }
   },
   "outputs": [],
   "execution_count": 137
  },
  {
   "cell_type": "code",
   "source": [
    "df.head()"
   ],
   "metadata": {
    "colab": {
     "base_uri": "https://localhost:8080/",
     "height": 206
    },
    "id": "r7VOCJzIgBIf",
    "executionInfo": {
     "status": "ok",
     "timestamp": 1741880401041,
     "user_tz": -420,
     "elapsed": 176,
     "user": {
      "displayName": "Luthfi Krisna Bayu",
      "userId": "02424307416199458792"
     }
    },
    "outputId": "97d78bd9-95e5-4db5-fd3a-3e77b6022d93",
    "ExecuteTime": {
     "end_time": "2025-03-14T05:00:46.083201Z",
     "start_time": "2025-03-14T05:00:46.073271Z"
    }
   },
   "outputs": [
    {
     "data": {
      "text/plain": [
       "      Tanggal  Bahan_pangan         Daerah  Harga_lag_1  Harga_lag_7  \\\n",
       "0  2024-10-01  Bawang Merah           Aceh        28960        27700   \n",
       "1  2024-10-01  Bawang Merah           Bali        24230        24240   \n",
       "2  2024-10-01  Bawang Merah         Banten        27940        25910   \n",
       "3  2024-10-01  Bawang Merah       Bengkulu        27390        26960   \n",
       "4  2024-10-01  Bawang Merah  DI Yogyakarta        24450        22240   \n",
       "\n",
       "   Harga_lag_30  Google_trends  Harga  \n",
       "0         26390              0      0  \n",
       "1         21250              0      0  \n",
       "2         25520              0      0  \n",
       "3         23840              0      0  \n",
       "4         19600              0      0  "
      ],
      "text/html": [
       "<div>\n",
       "<style scoped>\n",
       "    .dataframe tbody tr th:only-of-type {\n",
       "        vertical-align: middle;\n",
       "    }\n",
       "\n",
       "    .dataframe tbody tr th {\n",
       "        vertical-align: top;\n",
       "    }\n",
       "\n",
       "    .dataframe thead th {\n",
       "        text-align: right;\n",
       "    }\n",
       "</style>\n",
       "<table border=\"1\" class=\"dataframe\">\n",
       "  <thead>\n",
       "    <tr style=\"text-align: right;\">\n",
       "      <th></th>\n",
       "      <th>Tanggal</th>\n",
       "      <th>Bahan_pangan</th>\n",
       "      <th>Daerah</th>\n",
       "      <th>Harga_lag_1</th>\n",
       "      <th>Harga_lag_7</th>\n",
       "      <th>Harga_lag_30</th>\n",
       "      <th>Google_trends</th>\n",
       "      <th>Harga</th>\n",
       "    </tr>\n",
       "  </thead>\n",
       "  <tbody>\n",
       "    <tr>\n",
       "      <th>0</th>\n",
       "      <td>2024-10-01</td>\n",
       "      <td>Bawang Merah</td>\n",
       "      <td>Aceh</td>\n",
       "      <td>28960</td>\n",
       "      <td>27700</td>\n",
       "      <td>26390</td>\n",
       "      <td>0</td>\n",
       "      <td>0</td>\n",
       "    </tr>\n",
       "    <tr>\n",
       "      <th>1</th>\n",
       "      <td>2024-10-01</td>\n",
       "      <td>Bawang Merah</td>\n",
       "      <td>Bali</td>\n",
       "      <td>24230</td>\n",
       "      <td>24240</td>\n",
       "      <td>21250</td>\n",
       "      <td>0</td>\n",
       "      <td>0</td>\n",
       "    </tr>\n",
       "    <tr>\n",
       "      <th>2</th>\n",
       "      <td>2024-10-01</td>\n",
       "      <td>Bawang Merah</td>\n",
       "      <td>Banten</td>\n",
       "      <td>27940</td>\n",
       "      <td>25910</td>\n",
       "      <td>25520</td>\n",
       "      <td>0</td>\n",
       "      <td>0</td>\n",
       "    </tr>\n",
       "    <tr>\n",
       "      <th>3</th>\n",
       "      <td>2024-10-01</td>\n",
       "      <td>Bawang Merah</td>\n",
       "      <td>Bengkulu</td>\n",
       "      <td>27390</td>\n",
       "      <td>26960</td>\n",
       "      <td>23840</td>\n",
       "      <td>0</td>\n",
       "      <td>0</td>\n",
       "    </tr>\n",
       "    <tr>\n",
       "      <th>4</th>\n",
       "      <td>2024-10-01</td>\n",
       "      <td>Bawang Merah</td>\n",
       "      <td>DI Yogyakarta</td>\n",
       "      <td>24450</td>\n",
       "      <td>22240</td>\n",
       "      <td>19600</td>\n",
       "      <td>0</td>\n",
       "      <td>0</td>\n",
       "    </tr>\n",
       "  </tbody>\n",
       "</table>\n",
       "</div>"
      ]
     },
     "execution_count": 92,
     "metadata": {},
     "output_type": "execute_result"
    }
   ],
   "execution_count": 92
  },
  {
   "cell_type": "markdown",
   "source": [
    "# &nbsp; 2. EDA"
   ],
   "metadata": {
    "id": "3WnTktyAgeJ6"
   }
  },
  {
   "cell_type": "markdown",
   "source": [
    "## &nbsp; 2.1 Statistical Description"
   ],
   "metadata": {
    "id": "o2xNZXeBghFh"
   }
  },
  {
   "cell_type": "code",
   "source": [
    "df.shape"
   ],
   "metadata": {
    "colab": {
     "base_uri": "https://localhost:8080/"
    },
    "id": "DTAI3wpXgcjU",
    "executionInfo": {
     "status": "ok",
     "timestamp": 1741880401100,
     "user_tz": -420,
     "elapsed": 55,
     "user": {
      "displayName": "Luthfi Krisna Bayu",
      "userId": "02424307416199458792"
     }
    },
    "outputId": "7b9cde0f-fbbd-489c-d103-216cdf7136c8",
    "ExecuteTime": {
     "end_time": "2025-03-14T05:00:48.958322Z",
     "start_time": "2025-03-14T05:00:48.953220Z"
    }
   },
   "outputs": [
    {
     "data": {
      "text/plain": [
       "(40664, 8)"
      ]
     },
     "execution_count": 93,
     "metadata": {},
     "output_type": "execute_result"
    }
   ],
   "execution_count": 93
  },
  {
   "cell_type": "code",
   "source": [
    "df.info()"
   ],
   "metadata": {
    "colab": {
     "base_uri": "https://localhost:8080/"
    },
    "id": "PQyAuNY4g2c_",
    "executionInfo": {
     "status": "ok",
     "timestamp": 1741880401267,
     "user_tz": -420,
     "elapsed": 161,
     "user": {
      "displayName": "Luthfi Krisna Bayu",
      "userId": "02424307416199458792"
     }
    },
    "outputId": "2fe82d0a-8b75-4deb-9fcc-e63e03cd503a",
    "ExecuteTime": {
     "end_time": "2025-03-14T05:00:49.895460Z",
     "start_time": "2025-03-14T05:00:49.879560Z"
    }
   },
   "outputs": [
    {
     "name": "stdout",
     "output_type": "stream",
     "text": [
      "<class 'pandas.core.frame.DataFrame'>\n",
      "RangeIndex: 40664 entries, 0 to 40663\n",
      "Data columns (total 8 columns):\n",
      " #   Column         Non-Null Count  Dtype \n",
      "---  ------         --------------  ----- \n",
      " 0   Tanggal        40664 non-null  object\n",
      " 1   Bahan_pangan   40664 non-null  object\n",
      " 2   Daerah         40664 non-null  object\n",
      " 3   Harga_lag_1    40664 non-null  int64 \n",
      " 4   Harga_lag_7    40664 non-null  int64 \n",
      " 5   Harga_lag_30   40664 non-null  int64 \n",
      " 6   Google_trends  40664 non-null  int64 \n",
      " 7   Harga          40664 non-null  int64 \n",
      "dtypes: int64(5), object(3)\n",
      "memory usage: 2.5+ MB\n"
     ]
    }
   ],
   "execution_count": 94
  },
  {
   "cell_type": "code",
   "source": [
    "# Cek contoh nilai unik dalam kolom Tanggal\n",
    "print(df['Tanggal'].unique()[:10])  # Melihat 10 nilai unik pertama\n",
    "\n",
    "# Konversi 'Tanggal' ke datetime dengan format yang lebih fleksibel\n",
    "df['Tanggal'] = pd.to_datetime(df['Tanggal'], errors='coerce')\n",
    "\n",
    "# Cek apakah ada nilai yang gagal dikonversi\n",
    "print(df[df['Tanggal'].isna()])\n",
    "\n",
    "# Jika ada nilai NaN, bisa dihapus atau ditangani secara khusus\n",
    "df = df.dropna(subset=['Tanggal'])\n",
    "\n",
    "# Konversi kolom numerik\n",
    "num_cols = ['Harga_lag_1', 'Harga_lag_7',\n",
    "            'Harga_lag_30', 'Google_trends',\n",
    "            'MYRUSD', 'SGDUSD',\n",
    "            'THBUSD', 'USDIDR', 'Harga']\n",
    "\n",
    "df[num_cols] = df[num_cols].apply(pd.to_numeric, errors='coerce')"
   ],
   "metadata": {
    "colab": {
     "base_uri": "https://localhost:8080/"
    },
    "id": "ucZM4XPdg4x2",
    "executionInfo": {
     "status": "ok",
     "timestamp": 1741880401343,
     "user_tz": -420,
     "elapsed": 72,
     "user": {
      "displayName": "Luthfi Krisna Bayu",
      "userId": "02424307416199458792"
     }
    },
    "outputId": "dd22a4ee-60f4-4b3c-933d-497a5f5b4e71",
    "ExecuteTime": {
     "end_time": "2025-03-14T05:41:21.442920Z",
     "start_time": "2025-03-14T05:41:21.405290Z"
    }
   },
   "outputs": [
    {
     "name": "stdout",
     "output_type": "stream",
     "text": [
      "['2024-10-01' '2024-10-02' '2024-10-03' '2024-10-04' '2024-10-05'\n",
      " '2024-10-06' '2024-10-07' '2024-10-08' '2024-10-09' '2024-10-10']\n",
      "Empty DataFrame\n",
      "Columns: [Tanggal, Bahan_pangan, Daerah, Harga_lag_1, Harga_lag_7, Harga_lag_30, Google_trends, Harga]\n",
      "Index: []\n"
     ]
    },
    {
     "ename": "KeyError",
     "evalue": "\"['MYRUSD', 'SGDUSD', 'THBUSD', 'USDIDR'] not in index\"",
     "output_type": "error",
     "traceback": [
      "\u001B[1;31m---------------------------------------------------------------------------\u001B[0m",
      "\u001B[1;31mKeyError\u001B[0m                                  Traceback (most recent call last)",
      "Cell \u001B[1;32mIn[138], line 19\u001B[0m\n\u001B[0;32m     13\u001B[0m \u001B[38;5;66;03m# Konversi kolom numerik\u001B[39;00m\n\u001B[0;32m     14\u001B[0m num_cols \u001B[38;5;241m=\u001B[39m [\u001B[38;5;124m'\u001B[39m\u001B[38;5;124mHarga_lag_1\u001B[39m\u001B[38;5;124m'\u001B[39m, \u001B[38;5;124m'\u001B[39m\u001B[38;5;124mHarga_lag_7\u001B[39m\u001B[38;5;124m'\u001B[39m,\n\u001B[0;32m     15\u001B[0m             \u001B[38;5;124m'\u001B[39m\u001B[38;5;124mHarga_lag_30\u001B[39m\u001B[38;5;124m'\u001B[39m, \u001B[38;5;124m'\u001B[39m\u001B[38;5;124mGoogle_trends\u001B[39m\u001B[38;5;124m'\u001B[39m,\n\u001B[0;32m     16\u001B[0m             \u001B[38;5;124m'\u001B[39m\u001B[38;5;124mMYRUSD\u001B[39m\u001B[38;5;124m'\u001B[39m, \u001B[38;5;124m'\u001B[39m\u001B[38;5;124mSGDUSD\u001B[39m\u001B[38;5;124m'\u001B[39m,\n\u001B[0;32m     17\u001B[0m             \u001B[38;5;124m'\u001B[39m\u001B[38;5;124mTHBUSD\u001B[39m\u001B[38;5;124m'\u001B[39m, \u001B[38;5;124m'\u001B[39m\u001B[38;5;124mUSDIDR\u001B[39m\u001B[38;5;124m'\u001B[39m, \u001B[38;5;124m'\u001B[39m\u001B[38;5;124mHarga\u001B[39m\u001B[38;5;124m'\u001B[39m]\n\u001B[1;32m---> 19\u001B[0m df[num_cols] \u001B[38;5;241m=\u001B[39m \u001B[43mdf\u001B[49m\u001B[43m[\u001B[49m\u001B[43mnum_cols\u001B[49m\u001B[43m]\u001B[49m\u001B[38;5;241m.\u001B[39mapply(pd\u001B[38;5;241m.\u001B[39mto_numeric, errors\u001B[38;5;241m=\u001B[39m\u001B[38;5;124m'\u001B[39m\u001B[38;5;124mcoerce\u001B[39m\u001B[38;5;124m'\u001B[39m)\n",
      "File \u001B[1;32m~\\OneDrive\\Documents\\ML\\Lomba Arkavidia\\.venv\\Lib\\site-packages\\pandas\\core\\frame.py:4108\u001B[0m, in \u001B[0;36mDataFrame.__getitem__\u001B[1;34m(self, key)\u001B[0m\n\u001B[0;32m   4106\u001B[0m     \u001B[38;5;28;01mif\u001B[39;00m is_iterator(key):\n\u001B[0;32m   4107\u001B[0m         key \u001B[38;5;241m=\u001B[39m \u001B[38;5;28mlist\u001B[39m(key)\n\u001B[1;32m-> 4108\u001B[0m     indexer \u001B[38;5;241m=\u001B[39m \u001B[38;5;28;43mself\u001B[39;49m\u001B[38;5;241;43m.\u001B[39;49m\u001B[43mcolumns\u001B[49m\u001B[38;5;241;43m.\u001B[39;49m\u001B[43m_get_indexer_strict\u001B[49m\u001B[43m(\u001B[49m\u001B[43mkey\u001B[49m\u001B[43m,\u001B[49m\u001B[43m \u001B[49m\u001B[38;5;124;43m\"\u001B[39;49m\u001B[38;5;124;43mcolumns\u001B[39;49m\u001B[38;5;124;43m\"\u001B[39;49m\u001B[43m)\u001B[49m[\u001B[38;5;241m1\u001B[39m]\n\u001B[0;32m   4110\u001B[0m \u001B[38;5;66;03m# take() does not accept boolean indexers\u001B[39;00m\n\u001B[0;32m   4111\u001B[0m \u001B[38;5;28;01mif\u001B[39;00m \u001B[38;5;28mgetattr\u001B[39m(indexer, \u001B[38;5;124m\"\u001B[39m\u001B[38;5;124mdtype\u001B[39m\u001B[38;5;124m\"\u001B[39m, \u001B[38;5;28;01mNone\u001B[39;00m) \u001B[38;5;241m==\u001B[39m \u001B[38;5;28mbool\u001B[39m:\n",
      "File \u001B[1;32m~\\OneDrive\\Documents\\ML\\Lomba Arkavidia\\.venv\\Lib\\site-packages\\pandas\\core\\indexes\\base.py:6200\u001B[0m, in \u001B[0;36mIndex._get_indexer_strict\u001B[1;34m(self, key, axis_name)\u001B[0m\n\u001B[0;32m   6197\u001B[0m \u001B[38;5;28;01melse\u001B[39;00m:\n\u001B[0;32m   6198\u001B[0m     keyarr, indexer, new_indexer \u001B[38;5;241m=\u001B[39m \u001B[38;5;28mself\u001B[39m\u001B[38;5;241m.\u001B[39m_reindex_non_unique(keyarr)\n\u001B[1;32m-> 6200\u001B[0m \u001B[38;5;28;43mself\u001B[39;49m\u001B[38;5;241;43m.\u001B[39;49m\u001B[43m_raise_if_missing\u001B[49m\u001B[43m(\u001B[49m\u001B[43mkeyarr\u001B[49m\u001B[43m,\u001B[49m\u001B[43m \u001B[49m\u001B[43mindexer\u001B[49m\u001B[43m,\u001B[49m\u001B[43m \u001B[49m\u001B[43maxis_name\u001B[49m\u001B[43m)\u001B[49m\n\u001B[0;32m   6202\u001B[0m keyarr \u001B[38;5;241m=\u001B[39m \u001B[38;5;28mself\u001B[39m\u001B[38;5;241m.\u001B[39mtake(indexer)\n\u001B[0;32m   6203\u001B[0m \u001B[38;5;28;01mif\u001B[39;00m \u001B[38;5;28misinstance\u001B[39m(key, Index):\n\u001B[0;32m   6204\u001B[0m     \u001B[38;5;66;03m# GH 42790 - Preserve name from an Index\u001B[39;00m\n",
      "File \u001B[1;32m~\\OneDrive\\Documents\\ML\\Lomba Arkavidia\\.venv\\Lib\\site-packages\\pandas\\core\\indexes\\base.py:6252\u001B[0m, in \u001B[0;36mIndex._raise_if_missing\u001B[1;34m(self, key, indexer, axis_name)\u001B[0m\n\u001B[0;32m   6249\u001B[0m     \u001B[38;5;28;01mraise\u001B[39;00m \u001B[38;5;167;01mKeyError\u001B[39;00m(\u001B[38;5;124mf\u001B[39m\u001B[38;5;124m\"\u001B[39m\u001B[38;5;124mNone of [\u001B[39m\u001B[38;5;132;01m{\u001B[39;00mkey\u001B[38;5;132;01m}\u001B[39;00m\u001B[38;5;124m] are in the [\u001B[39m\u001B[38;5;132;01m{\u001B[39;00maxis_name\u001B[38;5;132;01m}\u001B[39;00m\u001B[38;5;124m]\u001B[39m\u001B[38;5;124m\"\u001B[39m)\n\u001B[0;32m   6251\u001B[0m not_found \u001B[38;5;241m=\u001B[39m \u001B[38;5;28mlist\u001B[39m(ensure_index(key)[missing_mask\u001B[38;5;241m.\u001B[39mnonzero()[\u001B[38;5;241m0\u001B[39m]]\u001B[38;5;241m.\u001B[39munique())\n\u001B[1;32m-> 6252\u001B[0m \u001B[38;5;28;01mraise\u001B[39;00m \u001B[38;5;167;01mKeyError\u001B[39;00m(\u001B[38;5;124mf\u001B[39m\u001B[38;5;124m\"\u001B[39m\u001B[38;5;132;01m{\u001B[39;00mnot_found\u001B[38;5;132;01m}\u001B[39;00m\u001B[38;5;124m not in index\u001B[39m\u001B[38;5;124m\"\u001B[39m)\n",
      "\u001B[1;31mKeyError\u001B[0m: \"['MYRUSD', 'SGDUSD', 'THBUSD', 'USDIDR'] not in index\""
     ]
    }
   ],
   "execution_count": 138
  },
  {
   "cell_type": "code",
   "source": [
    "# # Hapus baris dengan indeks 53358\n",
    "# df = df.drop(index=53358).reset_index(drop=True)"
   ],
   "metadata": {
    "id": "wJ2QyFrSg7bk"
   },
   "execution_count": null,
   "outputs": []
  },
  {
   "cell_type": "code",
   "source": [
    "df.info()"
   ],
   "metadata": {
    "colab": {
     "base_uri": "https://localhost:8080/"
    },
    "id": "2HLjVKlOi8LV",
    "executionInfo": {
     "status": "ok",
     "timestamp": 1741880401876,
     "user_tz": -420,
     "elapsed": 531,
     "user": {
      "displayName": "Luthfi Krisna Bayu",
      "userId": "02424307416199458792"
     }
    },
    "outputId": "424b3a27-a40e-4cef-df6b-1ce7eebab902",
    "ExecuteTime": {
     "end_time": "2025-03-14T05:01:05.913906Z",
     "start_time": "2025-03-14T05:01:05.905678Z"
    }
   },
   "outputs": [
    {
     "name": "stdout",
     "output_type": "stream",
     "text": [
      "<class 'pandas.core.frame.DataFrame'>\n",
      "RangeIndex: 40664 entries, 0 to 40663\n",
      "Data columns (total 8 columns):\n",
      " #   Column         Non-Null Count  Dtype         \n",
      "---  ------         --------------  -----         \n",
      " 0   Tanggal        40664 non-null  datetime64[ns]\n",
      " 1   Bahan_pangan   40664 non-null  object        \n",
      " 2   Daerah         40664 non-null  object        \n",
      " 3   Harga_lag_1    40664 non-null  int64         \n",
      " 4   Harga_lag_7    40664 non-null  int64         \n",
      " 5   Harga_lag_30   40664 non-null  int64         \n",
      " 6   Google_trends  40664 non-null  int64         \n",
      " 7   Harga          40664 non-null  int64         \n",
      "dtypes: datetime64[ns](1), int64(5), object(2)\n",
      "memory usage: 2.5+ MB\n"
     ]
    }
   ],
   "execution_count": 96
  },
  {
   "cell_type": "code",
   "source": [
    "df.describe()"
   ],
   "metadata": {
    "colab": {
     "base_uri": "https://localhost:8080/",
     "height": 301
    },
    "id": "dk8_LI-ejMaP",
    "executionInfo": {
     "status": "ok",
     "timestamp": 1741880402102,
     "user_tz": -420,
     "elapsed": 214,
     "user": {
      "displayName": "Luthfi Krisna Bayu",
      "userId": "02424307416199458792"
     }
    },
    "outputId": "4cd6ff11-ab04-42c1-d54c-f499f53a6a42",
    "ExecuteTime": {
     "end_time": "2025-03-14T05:01:08.784596Z",
     "start_time": "2025-03-14T05:01:08.752369Z"
    }
   },
   "outputs": [
    {
     "data": {
      "text/plain": [
       "                   Tanggal  Harga_lag_1  Harga_lag_7  Harga_lag_30  \\\n",
       "count                40664       40,664       40,664        40,664   \n",
       "mean   2024-11-15 12:00:00          377        2,646        11,766   \n",
       "min    2024-10-01 00:00:00            0            0             0   \n",
       "25%    2024-10-23 18:00:00            0            0             0   \n",
       "50%    2024-11-15 12:00:00            0            0             0   \n",
       "75%    2024-12-08 06:00:00            0            0        16,330   \n",
       "max    2024-12-31 00:00:00      158,210      162,480       162,480   \n",
       "std                    NaN        4,939       12,879        25,160   \n",
       "\n",
       "       Google_trends  Harga  \n",
       "count         40,664 40,664  \n",
       "mean               0      0  \n",
       "min                0      0  \n",
       "25%                0      0  \n",
       "50%                0      0  \n",
       "75%                0      0  \n",
       "max                0      0  \n",
       "std                0      0  "
      ],
      "text/html": [
       "<div>\n",
       "<style scoped>\n",
       "    .dataframe tbody tr th:only-of-type {\n",
       "        vertical-align: middle;\n",
       "    }\n",
       "\n",
       "    .dataframe tbody tr th {\n",
       "        vertical-align: top;\n",
       "    }\n",
       "\n",
       "    .dataframe thead th {\n",
       "        text-align: right;\n",
       "    }\n",
       "</style>\n",
       "<table border=\"1\" class=\"dataframe\">\n",
       "  <thead>\n",
       "    <tr style=\"text-align: right;\">\n",
       "      <th></th>\n",
       "      <th>Tanggal</th>\n",
       "      <th>Harga_lag_1</th>\n",
       "      <th>Harga_lag_7</th>\n",
       "      <th>Harga_lag_30</th>\n",
       "      <th>Google_trends</th>\n",
       "      <th>Harga</th>\n",
       "    </tr>\n",
       "  </thead>\n",
       "  <tbody>\n",
       "    <tr>\n",
       "      <th>count</th>\n",
       "      <td>40664</td>\n",
       "      <td>40,664</td>\n",
       "      <td>40,664</td>\n",
       "      <td>40,664</td>\n",
       "      <td>40,664</td>\n",
       "      <td>40,664</td>\n",
       "    </tr>\n",
       "    <tr>\n",
       "      <th>mean</th>\n",
       "      <td>2024-11-15 12:00:00</td>\n",
       "      <td>377</td>\n",
       "      <td>2,646</td>\n",
       "      <td>11,766</td>\n",
       "      <td>0</td>\n",
       "      <td>0</td>\n",
       "    </tr>\n",
       "    <tr>\n",
       "      <th>min</th>\n",
       "      <td>2024-10-01 00:00:00</td>\n",
       "      <td>0</td>\n",
       "      <td>0</td>\n",
       "      <td>0</td>\n",
       "      <td>0</td>\n",
       "      <td>0</td>\n",
       "    </tr>\n",
       "    <tr>\n",
       "      <th>25%</th>\n",
       "      <td>2024-10-23 18:00:00</td>\n",
       "      <td>0</td>\n",
       "      <td>0</td>\n",
       "      <td>0</td>\n",
       "      <td>0</td>\n",
       "      <td>0</td>\n",
       "    </tr>\n",
       "    <tr>\n",
       "      <th>50%</th>\n",
       "      <td>2024-11-15 12:00:00</td>\n",
       "      <td>0</td>\n",
       "      <td>0</td>\n",
       "      <td>0</td>\n",
       "      <td>0</td>\n",
       "      <td>0</td>\n",
       "    </tr>\n",
       "    <tr>\n",
       "      <th>75%</th>\n",
       "      <td>2024-12-08 06:00:00</td>\n",
       "      <td>0</td>\n",
       "      <td>0</td>\n",
       "      <td>16,330</td>\n",
       "      <td>0</td>\n",
       "      <td>0</td>\n",
       "    </tr>\n",
       "    <tr>\n",
       "      <th>max</th>\n",
       "      <td>2024-12-31 00:00:00</td>\n",
       "      <td>158,210</td>\n",
       "      <td>162,480</td>\n",
       "      <td>162,480</td>\n",
       "      <td>0</td>\n",
       "      <td>0</td>\n",
       "    </tr>\n",
       "    <tr>\n",
       "      <th>std</th>\n",
       "      <td>NaN</td>\n",
       "      <td>4,939</td>\n",
       "      <td>12,879</td>\n",
       "      <td>25,160</td>\n",
       "      <td>0</td>\n",
       "      <td>0</td>\n",
       "    </tr>\n",
       "  </tbody>\n",
       "</table>\n",
       "</div>"
      ]
     },
     "execution_count": 97,
     "metadata": {},
     "output_type": "execute_result"
    }
   ],
   "execution_count": 97
  },
  {
   "cell_type": "code",
   "source": [
    "duplicate_rows = df.duplicated()\n",
    "print(\"Jumlah baris duplikat:\", duplicate_rows.sum())"
   ],
   "metadata": {
    "colab": {
     "base_uri": "https://localhost:8080/"
    },
    "id": "MPCYfJH7jdCO",
    "executionInfo": {
     "status": "ok",
     "timestamp": 1741880402632,
     "user_tz": -420,
     "elapsed": 524,
     "user": {
      "displayName": "Luthfi Krisna Bayu",
      "userId": "02424307416199458792"
     }
    },
    "outputId": "b19cdadc-8652-4886-f9d0-68924b4effe6",
    "ExecuteTime": {
     "end_time": "2025-03-14T05:41:38.325890Z",
     "start_time": "2025-03-14T05:41:38.310928Z"
    }
   },
   "outputs": [
    {
     "name": "stdout",
     "output_type": "stream",
     "text": [
      "Jumlah baris duplikat: 0\n"
     ]
    }
   ],
   "execution_count": 139
  },
  {
   "cell_type": "code",
   "source": [
    "missing_values = df.isnull().sum()\n",
    "print(\"Jumlah missing values per kolom:\\n\", missing_values)"
   ],
   "metadata": {
    "colab": {
     "base_uri": "https://localhost:8080/"
    },
    "id": "RmbSml2akTRB",
    "executionInfo": {
     "status": "ok",
     "timestamp": 1741880402716,
     "user_tz": -420,
     "elapsed": 79,
     "user": {
      "displayName": "Luthfi Krisna Bayu",
      "userId": "02424307416199458792"
     }
    },
    "outputId": "d6b63f2b-16f6-4dea-9ab4-0eaaf778ff97",
    "ExecuteTime": {
     "end_time": "2025-03-14T05:41:38.766504Z",
     "start_time": "2025-03-14T05:41:38.756416Z"
    }
   },
   "outputs": [
    {
     "name": "stdout",
     "output_type": "stream",
     "text": [
      "Jumlah missing values per kolom:\n",
      " Tanggal          0\n",
      "Bahan_pangan     0\n",
      "Daerah           0\n",
      "Harga_lag_1      0\n",
      "Harga_lag_7      0\n",
      "Harga_lag_30     0\n",
      "Google_trends    0\n",
      "Harga            0\n",
      "dtype: int64\n"
     ]
    }
   ],
   "execution_count": 140
  },
  {
   "cell_type": "markdown",
   "source": [
    "## &nbsp; 2.2 Adjustment Features"
   ],
   "metadata": {
    "id": "-LQ-ai5gk4jt"
   }
  },
  {
   "cell_type": "code",
   "source": [
    "print((df == 0).sum())"
   ],
   "metadata": {
    "colab": {
     "base_uri": "https://localhost:8080/"
    },
    "id": "VRPX-1D9kZgN",
    "executionInfo": {
     "status": "ok",
     "timestamp": 1741880402859,
     "user_tz": -420,
     "elapsed": 138,
     "user": {
      "displayName": "Luthfi Krisna Bayu",
      "userId": "02424307416199458792"
     }
    },
    "outputId": "6ceb90fc-b295-44d6-bb7b-d94968394b76",
    "ExecuteTime": {
     "end_time": "2025-03-14T05:41:43.090454Z",
     "start_time": "2025-03-14T05:41:43.081519Z"
    }
   },
   "outputs": [
    {
     "name": "stdout",
     "output_type": "stream",
     "text": [
      "Tanggal              0\n",
      "Bahan_pangan         0\n",
      "Daerah               0\n",
      "Harga_lag_1      40223\n",
      "Harga_lag_7      37583\n",
      "Harga_lag_30     27020\n",
      "Google_trends    40664\n",
      "Harga            40664\n",
      "dtype: int64\n"
     ]
    }
   ],
   "execution_count": 141
  },
  {
   "cell_type": "code",
   "source": [
    "df[['Harga', 'Harga_lag_1', 'Harga_lag_7', 'Harga_lag_30']].hist(bins=50, figsize=(10,6))\n",
    "plt.show()"
   ],
   "metadata": {
    "colab": {
     "base_uri": "https://localhost:8080/",
     "height": 545
    },
    "id": "xdypiTOylCBX",
    "executionInfo": {
     "status": "ok",
     "timestamp": 1741880405087,
     "user_tz": -420,
     "elapsed": 170,
     "user": {
      "displayName": "Luthfi Krisna Bayu",
      "userId": "02424307416199458792"
     }
    },
    "outputId": "1e30a666-43ef-48f2-8cf0-6e6fed0e4fae",
    "ExecuteTime": {
     "end_time": "2025-03-14T05:41:46.720209Z",
     "start_time": "2025-03-14T05:41:46.433844Z"
    }
   },
   "outputs": [
    {
     "data": {
      "text/plain": [
       "<Figure size 1000x600 with 4 Axes>"
      ],
      "image/png": "[encoded data removed]"
     },
     "metadata": {},
     "output_type": "display_data"
    }
   ],
   "execution_count": 142
  },
  {
   "cell_type": "code",
   "source": [
    "plt.figure(figsize=(10,6))\n",
    "sns.boxplot(data=df[['Harga', 'Harga_lag_1', 'Harga_lag_7', 'Harga_lag_30']])\n",
    "plt.xticks(rotation=45)\n",
    "plt.show()"
   ],
   "metadata": {
    "colab": {
     "base_uri": "https://localhost:8080/",
     "height": 585
    },
    "id": "xq-5KWz0lH0G",
    "executionInfo": {
     "status": "ok",
     "timestamp": 1741880410155,
     "user_tz": -420,
     "elapsed": 4389,
     "user": {
      "displayName": "Luthfi Krisna Bayu",
      "userId": "02424307416199458792"
     }
    },
    "outputId": "4b6725e1-e71d-4b0e-8ee3-e8b3c4496e98",
    "ExecuteTime": {
     "end_time": "2025-03-14T02:38:28.989771Z",
     "start_time": "2025-03-14T02:38:23.074606Z"
    }
   },
   "outputs": [
    {
     "data": {
      "text/plain": [
       "<Figure size 1000x600 with 1 Axes>"
      ],
      "image/png": "[encoded data removed]"
     },
     "metadata": {},
     "output_type": "display_data"
    }
   ],
   "execution_count": 15
  },
  {
   "cell_type": "code",
   "source": [
    "# Ubah nilai 0 menjadi NaN untuk kolom yang seharusnya tidak memiliki nilai 0\n",
    "cols_with_zeros = ['Harga_lag_1', 'Harga_lag_7', 'Harga_lag_30', 'Google_trends',\n",
    "                   'MYRUSD', 'SGDUSD', 'THBUSD', 'USDIDR', 'Harga']\n",
    "df[cols_with_zeros] = df[cols_with_zeros].replace(0, pd.NA)"
   ],
   "metadata": {
    "id": "jnbl9mOolNSN",
    "ExecuteTime": {
     "end_time": "2025-03-14T02:38:31.866671Z",
     "start_time": "2025-03-14T02:38:31.467948Z"
    }
   },
   "outputs": [],
   "execution_count": 16
  },
  {
   "cell_type": "code",
   "source": [
    "df.head()"
   ],
   "metadata": {
    "colab": {
     "base_uri": "https://localhost:8080/",
     "height": 206
    },
    "id": "QwKbHWfmmEoK",
    "executionInfo": {
     "status": "ok",
     "timestamp": 1741880410796,
     "user_tz": -420,
     "elapsed": 182,
     "user": {
      "displayName": "Luthfi Krisna Bayu",
      "userId": "02424307416199458792"
     }
    },
    "outputId": "2922d6e1-e1d6-40df-84c1-4ae2a36cf1ce",
    "ExecuteTime": {
     "end_time": "2025-03-14T02:38:33.539556Z",
     "start_time": "2025-03-14T02:38:33.522204Z"
    }
   },
   "outputs": [
    {
     "data": {
      "text/plain": [
       "     Tanggal  Bahan_pangan  Daerah Harga_lag_1 Harga_lag_7 Harga_lag_30  \\\n",
       "0 2022-01-01  Bawang Merah    Aceh        <NA>        <NA>         <NA>   \n",
       "1 2022-01-01  Bawang Merah    Bali        <NA>        <NA>         <NA>   \n",
       "2 2022-01-01  Bawang Merah  Banten        <NA>        <NA>         <NA>   \n",
       "3 2022-01-01  Bawang Merah    Aceh        <NA>        <NA>         <NA>   \n",
       "4 2022-01-01  Bawang Merah    Bali        <NA>        <NA>         <NA>   \n",
       "\n",
       "  Google_trends MYRUSD SGDUSD THBUSD USDIDR    Harga  \n",
       "0          <NA>   <NA>   <NA>   <NA>   <NA>  28970.0  \n",
       "1          <NA>   <NA>   <NA>   <NA>   <NA>  20870.0  \n",
       "2          <NA>   <NA>   <NA>   <NA>   <NA>  26890.0  \n",
       "3          <NA>   <NA>   <NA>   <NA>   <NA>  28970.0  \n",
       "4          <NA>   <NA>   <NA>   <NA>   <NA>  20870.0  "
      ],
      "text/html": [
       "<div>\n",
       "<style scoped>\n",
       "    .dataframe tbody tr th:only-of-type {\n",
       "        vertical-align: middle;\n",
       "    }\n",
       "\n",
       "    .dataframe tbody tr th {\n",
       "        vertical-align: top;\n",
       "    }\n",
       "\n",
       "    .dataframe thead th {\n",
       "        text-align: right;\n",
       "    }\n",
       "</style>\n",
       "<table border=\"1\" class=\"dataframe\">\n",
       "  <thead>\n",
       "    <tr style=\"text-align: right;\">\n",
       "      <th></th>\n",
       "      <th>Tanggal</th>\n",
       "      <th>Bahan_pangan</th>\n",
       "      <th>Daerah</th>\n",
       "      <th>Harga_lag_1</th>\n",
       "      <th>Harga_lag_7</th>\n",
       "      <th>Harga_lag_30</th>\n",
       "      <th>Google_trends</th>\n",
       "      <th>MYRUSD</th>\n",
       "      <th>SGDUSD</th>\n",
       "      <th>THBUSD</th>\n",
       "      <th>USDIDR</th>\n",
       "      <th>Harga</th>\n",
       "    </tr>\n",
       "  </thead>\n",
       "  <tbody>\n",
       "    <tr>\n",
       "      <th>0</th>\n",
       "      <td>2022-01-01</td>\n",
       "      <td>Bawang Merah</td>\n",
       "      <td>Aceh</td>\n",
       "      <td>&lt;NA&gt;</td>\n",
       "      <td>&lt;NA&gt;</td>\n",
       "      <td>&lt;NA&gt;</td>\n",
       "      <td>&lt;NA&gt;</td>\n",
       "      <td>&lt;NA&gt;</td>\n",
       "      <td>&lt;NA&gt;</td>\n",
       "      <td>&lt;NA&gt;</td>\n",
       "      <td>&lt;NA&gt;</td>\n",
       "      <td>28970.0</td>\n",
       "    </tr>\n",
       "    <tr>\n",
       "      <th>1</th>\n",
       "      <td>2022-01-01</td>\n",
       "      <td>Bawang Merah</td>\n",
       "      <td>Bali</td>\n",
       "      <td>&lt;NA&gt;</td>\n",
       "      <td>&lt;NA&gt;</td>\n",
       "      <td>&lt;NA&gt;</td>\n",
       "      <td>&lt;NA&gt;</td>\n",
       "      <td>&lt;NA&gt;</td>\n",
       "      <td>&lt;NA&gt;</td>\n",
       "      <td>&lt;NA&gt;</td>\n",
       "      <td>&lt;NA&gt;</td>\n",
       "      <td>20870.0</td>\n",
       "    </tr>\n",
       "    <tr>\n",
       "      <th>2</th>\n",
       "      <td>2022-01-01</td>\n",
       "      <td>Bawang Merah</td>\n",
       "      <td>Banten</td>\n",
       "      <td>&lt;NA&gt;</td>\n",
       "      <td>&lt;NA&gt;</td>\n",
       "      <td>&lt;NA&gt;</td>\n",
       "      <td>&lt;NA&gt;</td>\n",
       "      <td>&lt;NA&gt;</td>\n",
       "      <td>&lt;NA&gt;</td>\n",
       "      <td>&lt;NA&gt;</td>\n",
       "      <td>&lt;NA&gt;</td>\n",
       "      <td>26890.0</td>\n",
       "    </tr>\n",
       "    <tr>\n",
       "      <th>3</th>\n",
       "      <td>2022-01-01</td>\n",
       "      <td>Bawang Merah</td>\n",
       "      <td>Aceh</td>\n",
       "      <td>&lt;NA&gt;</td>\n",
       "      <td>&lt;NA&gt;</td>\n",
       "      <td>&lt;NA&gt;</td>\n",
       "      <td>&lt;NA&gt;</td>\n",
       "      <td>&lt;NA&gt;</td>\n",
       "      <td>&lt;NA&gt;</td>\n",
       "      <td>&lt;NA&gt;</td>\n",
       "      <td>&lt;NA&gt;</td>\n",
       "      <td>28970.0</td>\n",
       "    </tr>\n",
       "    <tr>\n",
       "      <th>4</th>\n",
       "      <td>2022-01-01</td>\n",
       "      <td>Bawang Merah</td>\n",
       "      <td>Bali</td>\n",
       "      <td>&lt;NA&gt;</td>\n",
       "      <td>&lt;NA&gt;</td>\n",
       "      <td>&lt;NA&gt;</td>\n",
       "      <td>&lt;NA&gt;</td>\n",
       "      <td>&lt;NA&gt;</td>\n",
       "      <td>&lt;NA&gt;</td>\n",
       "      <td>&lt;NA&gt;</td>\n",
       "      <td>&lt;NA&gt;</td>\n",
       "      <td>20870.0</td>\n",
       "    </tr>\n",
       "  </tbody>\n",
       "</table>\n",
       "</div>"
      ]
     },
     "execution_count": 17,
     "metadata": {},
     "output_type": "execute_result"
    }
   ],
   "execution_count": 17
  },
  {
   "cell_type": "code",
   "source": [
    "df.tail()"
   ],
   "metadata": {
    "colab": {
     "base_uri": "https://localhost:8080/",
     "height": 206
    },
    "id": "ljtgA_JWmOH5",
    "executionInfo": {
     "status": "ok",
     "timestamp": 1741880410965,
     "user_tz": -420,
     "elapsed": 164,
     "user": {
      "displayName": "Luthfi Krisna Bayu",
      "userId": "02424307416199458792"
     }
    },
    "outputId": "cc7b535b-8e1b-4e09-a452-9b7e2f52e26a",
    "ExecuteTime": {
     "end_time": "2025-03-14T02:38:35.285852Z",
     "start_time": "2025-03-14T02:38:35.269521Z"
    }
   },
   "outputs": [
    {
     "data": {
      "text/plain": [
       "          Tanggal           Bahan_pangan             Daerah Harga_lag_1  \\\n",
       "471044 2024-09-30  Tepung Terigu (Curah)  Sulawesi Tenggara      9680.0   \n",
       "471045 2024-09-30  Tepung Terigu (Curah)     Sulawesi Utara     10760.0   \n",
       "471046 2024-09-30  Tepung Terigu (Curah)     Sumatera Barat      9830.0   \n",
       "471047 2024-09-30  Tepung Terigu (Curah)   Sumatera Selatan      8960.0   \n",
       "471048 2024-09-30  Tepung Terigu (Curah)     Sumatera Utara     10710.0   \n",
       "\n",
       "       Harga_lag_7 Harga_lag_30 Google_trends     MYRUSD     SGDUSD    THBUSD  \\\n",
       "471044      9720.0       9810.0          <NA>  3670.3084  11804.482  467.3261   \n",
       "471045     10760.0      10770.0          <NA>  3670.3084  11804.482  467.3261   \n",
       "471046      9760.0       9800.0          <NA>  3670.3084  11804.482  467.3261   \n",
       "471047      8940.0       8970.0          <NA>  3670.3084  11804.482  467.3261   \n",
       "471048     10520.0      10870.0          <NA>  3670.3084  11804.482  467.3261   \n",
       "\n",
       "         USDIDR    Harga  \n",
       "471044  15118.0   9620.0  \n",
       "471045  15118.0  10690.0  \n",
       "471046  15118.0   9920.0  \n",
       "471047  15118.0   8960.0  \n",
       "471048  15118.0  10640.0  "
      ],
      "text/html": [
       "<div>\n",
       "<style scoped>\n",
       "    .dataframe tbody tr th:only-of-type {\n",
       "        vertical-align: middle;\n",
       "    }\n",
       "\n",
       "    .dataframe tbody tr th {\n",
       "        vertical-align: top;\n",
       "    }\n",
       "\n",
       "    .dataframe thead th {\n",
       "        text-align: right;\n",
       "    }\n",
       "</style>\n",
       "<table border=\"1\" class=\"dataframe\">\n",
       "  <thead>\n",
       "    <tr style=\"text-align: right;\">\n",
       "      <th></th>\n",
       "      <th>Tanggal</th>\n",
       "      <th>Bahan_pangan</th>\n",
       "      <th>Daerah</th>\n",
       "      <th>Harga_lag_1</th>\n",
       "      <th>Harga_lag_7</th>\n",
       "      <th>Harga_lag_30</th>\n",
       "      <th>Google_trends</th>\n",
       "      <th>MYRUSD</th>\n",
       "      <th>SGDUSD</th>\n",
       "      <th>THBUSD</th>\n",
       "      <th>USDIDR</th>\n",
       "      <th>Harga</th>\n",
       "    </tr>\n",
       "  </thead>\n",
       "  <tbody>\n",
       "    <tr>\n",
       "      <th>471044</th>\n",
       "      <td>2024-09-30</td>\n",
       "      <td>Tepung Terigu (Curah)</td>\n",
       "      <td>Sulawesi Tenggara</td>\n",
       "      <td>9680.0</td>\n",
       "      <td>9720.0</td>\n",
       "      <td>9810.0</td>\n",
       "      <td>&lt;NA&gt;</td>\n",
       "      <td>3670.3084</td>\n",
       "      <td>11804.482</td>\n",
       "      <td>467.3261</td>\n",
       "      <td>15118.0</td>\n",
       "      <td>9620.0</td>\n",
       "    </tr>\n",
       "    <tr>\n",
       "      <th>471045</th>\n",
       "      <td>2024-09-30</td>\n",
       "      <td>Tepung Terigu (Curah)</td>\n",
       "      <td>Sulawesi Utara</td>\n",
       "      <td>10760.0</td>\n",
       "      <td>10760.0</td>\n",
       "      <td>10770.0</td>\n",
       "      <td>&lt;NA&gt;</td>\n",
       "      <td>3670.3084</td>\n",
       "      <td>11804.482</td>\n",
       "      <td>467.3261</td>\n",
       "      <td>15118.0</td>\n",
       "      <td>10690.0</td>\n",
       "    </tr>\n",
       "    <tr>\n",
       "      <th>471046</th>\n",
       "      <td>2024-09-30</td>\n",
       "      <td>Tepung Terigu (Curah)</td>\n",
       "      <td>Sumatera Barat</td>\n",
       "      <td>9830.0</td>\n",
       "      <td>9760.0</td>\n",
       "      <td>9800.0</td>\n",
       "      <td>&lt;NA&gt;</td>\n",
       "      <td>3670.3084</td>\n",
       "      <td>11804.482</td>\n",
       "      <td>467.3261</td>\n",
       "      <td>15118.0</td>\n",
       "      <td>9920.0</td>\n",
       "    </tr>\n",
       "    <tr>\n",
       "      <th>471047</th>\n",
       "      <td>2024-09-30</td>\n",
       "      <td>Tepung Terigu (Curah)</td>\n",
       "      <td>Sumatera Selatan</td>\n",
       "      <td>8960.0</td>\n",
       "      <td>8940.0</td>\n",
       "      <td>8970.0</td>\n",
       "      <td>&lt;NA&gt;</td>\n",
       "      <td>3670.3084</td>\n",
       "      <td>11804.482</td>\n",
       "      <td>467.3261</td>\n",
       "      <td>15118.0</td>\n",
       "      <td>8960.0</td>\n",
       "    </tr>\n",
       "    <tr>\n",
       "      <th>471048</th>\n",
       "      <td>2024-09-30</td>\n",
       "      <td>Tepung Terigu (Curah)</td>\n",
       "      <td>Sumatera Utara</td>\n",
       "      <td>10710.0</td>\n",
       "      <td>10520.0</td>\n",
       "      <td>10870.0</td>\n",
       "      <td>&lt;NA&gt;</td>\n",
       "      <td>3670.3084</td>\n",
       "      <td>11804.482</td>\n",
       "      <td>467.3261</td>\n",
       "      <td>15118.0</td>\n",
       "      <td>10640.0</td>\n",
       "    </tr>\n",
       "  </tbody>\n",
       "</table>\n",
       "</div>"
      ]
     },
     "execution_count": 18,
     "metadata": {},
     "output_type": "execute_result"
    }
   ],
   "execution_count": 18
  },
  {
   "cell_type": "code",
   "source": [
    "df.isna().mean() * 100"
   ],
   "metadata": {
    "colab": {
     "base_uri": "https://localhost:8080/",
     "height": 461
    },
    "id": "VGwMT7bwma0v",
    "executionInfo": {
     "status": "ok",
     "timestamp": 1741880411127,
     "user_tz": -420,
     "elapsed": 158,
     "user": {
      "displayName": "Luthfi Krisna Bayu",
      "userId": "02424307416199458792"
     }
    },
    "outputId": "0be5ba8e-0dff-459c-d5c9-19117313d001",
    "ExecuteTime": {
     "end_time": "2025-03-14T02:38:36.327502Z",
     "start_time": "2025-03-14T02:38:36.177159Z"
    }
   },
   "outputs": [
    {
     "data": {
      "text/plain": [
       "Tanggal           0.000000\n",
       "Bahan_pangan      0.000000\n",
       "Daerah            0.000000\n",
       "Harga_lag_1       5.054899\n",
       "Harga_lag_7       5.653139\n",
       "Harga_lag_30      7.996425\n",
       "Google_trends    76.624251\n",
       "MYRUSD            0.255176\n",
       "SGDUSD            0.255176\n",
       "THBUSD            0.255176\n",
       "USDIDR            0.255176\n",
       "Harga             4.887400\n",
       "dtype: float64"
      ]
     },
     "execution_count": 19,
     "metadata": {},
     "output_type": "execute_result"
    }
   ],
   "execution_count": 19
  },
  {
   "cell_type": "code",
   "source": [
    "# Isi harga yang hilang dengan median per bahan pangan dan daerah\n",
    "df['Harga'] = df.groupby(['Bahan_pangan', 'Daerah'])['Harga'].transform(lambda x: x.fillna(x.median()))\n",
    "\n",
    "# Isi nilai tukar dengan rata-rata 7 hari sebelumnya\n",
    "df[['MYRUSD', 'SGDUSD', 'THBUSD', 'USDIDR']] = df[['MYRUSD', 'SGDUSD', 'THBUSD', 'USDIDR']].fillna(method='ffill', limit=7)"
   ],
   "metadata": {
    "colab": {
     "base_uri": "https://localhost:8080/"
    },
    "id": "_0B9qimdmhQi",
    "executionInfo": {
     "status": "ok",
     "timestamp": 1741880419373,
     "user_tz": -420,
     "elapsed": 8228,
     "user": {
      "displayName": "Luthfi Krisna Bayu",
      "userId": "02424307416199458792"
     }
    },
    "outputId": "6931c665-ada3-4797-b560-1f94c8abf146",
    "ExecuteTime": {
     "end_time": "2025-03-14T02:38:39.098006Z",
     "start_time": "2025-03-14T02:38:38.353581Z"
    }
   },
   "outputs": [],
   "execution_count": 20
  },
  {
   "cell_type": "code",
   "source": [
    "df.describe()"
   ],
   "metadata": {
    "colab": {
     "base_uri": "https://localhost:8080/",
     "height": 301
    },
    "id": "f3J3hvrWmzwl",
    "executionInfo": {
     "status": "ok",
     "timestamp": 1741880420385,
     "user_tz": -420,
     "elapsed": 212,
     "user": {
      "displayName": "Luthfi Krisna Bayu",
      "userId": "02424307416199458792"
     }
    },
    "outputId": "15318b04-f176-493f-c751-987bcaf4c905",
    "ExecuteTime": {
     "end_time": "2025-03-14T02:38:41.248034Z",
     "start_time": "2025-03-14T02:38:41.202083Z"
    }
   },
   "outputs": [
    {
     "data": {
      "text/plain": [
       "                             Tanggal          Harga\n",
       "count                         471048  471048.000000\n",
       "mean   2023-04-23 13:12:54.586029056   35896.007021\n",
       "min              2022-01-01 00:00:00    7480.000000\n",
       "25%              2022-07-24 00:00:00   14650.000000\n",
       "50%              2023-04-17 00:00:00   26170.000000\n",
       "75%              2024-01-08 00:00:00   40460.000000\n",
       "max              2024-09-30 00:00:00  180000.000000\n",
       "std                              NaN   33359.221338"
      ],
      "text/html": [
       "<div>\n",
       "<style scoped>\n",
       "    .dataframe tbody tr th:only-of-type {\n",
       "        vertical-align: middle;\n",
       "    }\n",
       "\n",
       "    .dataframe tbody tr th {\n",
       "        vertical-align: top;\n",
       "    }\n",
       "\n",
       "    .dataframe thead th {\n",
       "        text-align: right;\n",
       "    }\n",
       "</style>\n",
       "<table border=\"1\" class=\"dataframe\">\n",
       "  <thead>\n",
       "    <tr style=\"text-align: right;\">\n",
       "      <th></th>\n",
       "      <th>Tanggal</th>\n",
       "      <th>Harga</th>\n",
       "    </tr>\n",
       "  </thead>\n",
       "  <tbody>\n",
       "    <tr>\n",
       "      <th>count</th>\n",
       "      <td>471048</td>\n",
       "      <td>471048.000000</td>\n",
       "    </tr>\n",
       "    <tr>\n",
       "      <th>mean</th>\n",
       "      <td>2023-04-23 13:12:54.586029056</td>\n",
       "      <td>35896.007021</td>\n",
       "    </tr>\n",
       "    <tr>\n",
       "      <th>min</th>\n",
       "      <td>2022-01-01 00:00:00</td>\n",
       "      <td>7480.000000</td>\n",
       "    </tr>\n",
       "    <tr>\n",
       "      <th>25%</th>\n",
       "      <td>2022-07-24 00:00:00</td>\n",
       "      <td>14650.000000</td>\n",
       "    </tr>\n",
       "    <tr>\n",
       "      <th>50%</th>\n",
       "      <td>2023-04-17 00:00:00</td>\n",
       "      <td>26170.000000</td>\n",
       "    </tr>\n",
       "    <tr>\n",
       "      <th>75%</th>\n",
       "      <td>2024-01-08 00:00:00</td>\n",
       "      <td>40460.000000</td>\n",
       "    </tr>\n",
       "    <tr>\n",
       "      <th>max</th>\n",
       "      <td>2024-09-30 00:00:00</td>\n",
       "      <td>180000.000000</td>\n",
       "    </tr>\n",
       "    <tr>\n",
       "      <th>std</th>\n",
       "      <td>NaN</td>\n",
       "      <td>33359.221338</td>\n",
       "    </tr>\n",
       "  </tbody>\n",
       "</table>\n",
       "</div>"
      ]
     },
     "execution_count": 21,
     "metadata": {},
     "output_type": "execute_result"
    }
   ],
   "execution_count": 21
  },
  {
   "cell_type": "code",
   "source": [
    "df.shape"
   ],
   "metadata": {
    "colab": {
     "base_uri": "https://localhost:8080/"
    },
    "id": "a_I0dsMDm9KA",
    "executionInfo": {
     "status": "ok",
     "timestamp": 1741880421630,
     "user_tz": -420,
     "elapsed": 236,
     "user": {
      "displayName": "Luthfi Krisna Bayu",
      "userId": "02424307416199458792"
     }
    },
    "outputId": "fa8d8584-7061-4862-bdcd-1d95e1d2f915",
    "ExecuteTime": {
     "end_time": "2025-03-14T02:38:42.985418Z",
     "start_time": "2025-03-14T02:38:42.979480Z"
    }
   },
   "outputs": [
    {
     "data": {
      "text/plain": [
       "(471048, 12)"
      ]
     },
     "execution_count": 22,
     "metadata": {},
     "output_type": "execute_result"
    }
   ],
   "execution_count": 22
  },
  {
   "cell_type": "code",
   "source": [
    "df.info()"
   ],
   "metadata": {
    "colab": {
     "base_uri": "https://localhost:8080/"
    },
    "id": "56eQNpgDnOYC",
    "executionInfo": {
     "status": "ok",
     "timestamp": 1741880421706,
     "user_tz": -420,
     "elapsed": 72,
     "user": {
      "displayName": "Luthfi Krisna Bayu",
      "userId": "02424307416199458792"
     }
    },
    "outputId": "7108d89a-70a3-4de6-ba01-8d0bf3b21044",
    "ExecuteTime": {
     "end_time": "2025-03-14T02:38:43.860219Z",
     "start_time": "2025-03-14T02:38:43.700142Z"
    }
   },
   "outputs": [
    {
     "name": "stdout",
     "output_type": "stream",
     "text": [
      "<class 'pandas.core.frame.DataFrame'>\n",
      "Index: 471048 entries, 0 to 471048\n",
      "Data columns (total 12 columns):\n",
      " #   Column         Non-Null Count   Dtype         \n",
      "---  ------         --------------   -----         \n",
      " 0   Tanggal        471048 non-null  datetime64[ns]\n",
      " 1   Bahan_pangan   471048 non-null  object        \n",
      " 2   Daerah         471048 non-null  object        \n",
      " 3   Harga_lag_1    447237 non-null  object        \n",
      " 4   Harga_lag_7    444419 non-null  object        \n",
      " 5   Harga_lag_30   433381 non-null  object        \n",
      " 6   Google_trends  110111 non-null  object        \n",
      " 7   MYRUSD         469846 non-null  object        \n",
      " 8   SGDUSD         469846 non-null  object        \n",
      " 9   THBUSD         469846 non-null  object        \n",
      " 10  USDIDR         469846 non-null  object        \n",
      " 11  Harga          471048 non-null  float64       \n",
      "dtypes: datetime64[ns](1), float64(1), object(10)\n",
      "memory usage: 46.7+ MB\n"
     ]
    }
   ],
   "execution_count": 23
  },
  {
   "cell_type": "code",
   "source": [
    "# Konversi kolom numerik\n",
    "num_cols = ['Harga_lag_1', 'Harga_lag_7',\n",
    "            'Harga_lag_30', 'Google_trends',\n",
    "            'MYRUSD', 'SGDUSD',\n",
    "            'THBUSD', 'USDIDR', 'Harga']\n",
    "\n",
    "df[num_cols] = df[num_cols].apply(pd.to_numeric, errors='coerce')"
   ],
   "metadata": {
    "id": "tuoGVTDCnQP0",
    "ExecuteTime": {
     "end_time": "2025-03-14T02:38:45.473446Z",
     "start_time": "2025-03-14T02:38:44.850371Z"
    }
   },
   "outputs": [],
   "execution_count": 24
  },
  {
   "metadata": {
    "ExecuteTime": {
     "end_time": "2025-03-14T05:41:59.328563Z",
     "start_time": "2025-03-14T05:41:59.323218Z"
    }
   },
   "cell_type": "code",
   "source": [
    "num_cols = ['Google_trends']\n",
    "df[num_cols] = df[num_cols].apply(pd.to_numeric, errors='coerce')"
   ],
   "outputs": [],
   "execution_count": 143
  },
  {
   "cell_type": "code",
   "source": [
    "df.info()"
   ],
   "metadata": {
    "colab": {
     "base_uri": "https://localhost:8080/"
    },
    "id": "Vc150nTPneTq",
    "executionInfo": {
     "status": "ok",
     "timestamp": 1741880422369,
     "user_tz": -420,
     "elapsed": 643,
     "user": {
      "displayName": "Luthfi Krisna Bayu",
      "userId": "02424307416199458792"
     }
    },
    "outputId": "b1475da4-8f52-47f5-8170-07d64e743cb8",
    "ExecuteTime": {
     "end_time": "2025-03-14T05:42:01.200632Z",
     "start_time": "2025-03-14T05:42:01.191876Z"
    }
   },
   "outputs": [
    {
     "name": "stdout",
     "output_type": "stream",
     "text": [
      "<class 'pandas.core.frame.DataFrame'>\n",
      "RangeIndex: 40664 entries, 0 to 40663\n",
      "Data columns (total 8 columns):\n",
      " #   Column         Non-Null Count  Dtype         \n",
      "---  ------         --------------  -----         \n",
      " 0   Tanggal        40664 non-null  datetime64[ns]\n",
      " 1   Bahan_pangan   40664 non-null  object        \n",
      " 2   Daerah         40664 non-null  object        \n",
      " 3   Harga_lag_1    40664 non-null  int64         \n",
      " 4   Harga_lag_7    40664 non-null  int64         \n",
      " 5   Harga_lag_30   40664 non-null  int64         \n",
      " 6   Google_trends  40664 non-null  int64         \n",
      " 7   Harga          40664 non-null  int64         \n",
      "dtypes: datetime64[ns](1), int64(5), object(2)\n",
      "memory usage: 2.5+ MB\n"
     ]
    }
   ],
   "execution_count": 144
  },
  {
   "cell_type": "code",
   "source": [
    "df.describe()"
   ],
   "metadata": {
    "colab": {
     "base_uri": "https://localhost:8080/",
     "height": 301
    },
    "id": "bdu8rKxPngJr",
    "executionInfo": {
     "status": "ok",
     "timestamp": 1741880422957,
     "user_tz": -420,
     "elapsed": 581,
     "user": {
      "displayName": "Luthfi Krisna Bayu",
      "userId": "02424307416199458792"
     }
    },
    "outputId": "6b8b8fed-4f92-4e81-9bed-41fffb902fe2",
    "ExecuteTime": {
     "end_time": "2025-03-14T05:03:46.196185Z",
     "start_time": "2025-03-14T05:03:46.178065Z"
    }
   },
   "outputs": [
    {
     "data": {
      "text/plain": [
       "                   Tanggal  Harga_lag_1  Harga_lag_7  Harga_lag_30  \\\n",
       "count                40664       40,664       40,664        40,664   \n",
       "mean   2024-11-15 12:00:00          377        2,646        11,766   \n",
       "min    2024-10-01 00:00:00            0            0             0   \n",
       "25%    2024-10-23 18:00:00            0            0             0   \n",
       "50%    2024-11-15 12:00:00            0            0             0   \n",
       "75%    2024-12-08 06:00:00            0            0        16,330   \n",
       "max    2024-12-31 00:00:00      158,210      162,480       162,480   \n",
       "std                    NaN        4,939       12,879        25,160   \n",
       "\n",
       "       Google_trends  Harga  \n",
       "count         40,664 40,664  \n",
       "mean               0      0  \n",
       "min                0      0  \n",
       "25%                0      0  \n",
       "50%                0      0  \n",
       "75%                0      0  \n",
       "max                0      0  \n",
       "std                0      0  "
      ],
      "text/html": [
       "<div>\n",
       "<style scoped>\n",
       "    .dataframe tbody tr th:only-of-type {\n",
       "        vertical-align: middle;\n",
       "    }\n",
       "\n",
       "    .dataframe tbody tr th {\n",
       "        vertical-align: top;\n",
       "    }\n",
       "\n",
       "    .dataframe thead th {\n",
       "        text-align: right;\n",
       "    }\n",
       "</style>\n",
       "<table border=\"1\" class=\"dataframe\">\n",
       "  <thead>\n",
       "    <tr style=\"text-align: right;\">\n",
       "      <th></th>\n",
       "      <th>Tanggal</th>\n",
       "      <th>Harga_lag_1</th>\n",
       "      <th>Harga_lag_7</th>\n",
       "      <th>Harga_lag_30</th>\n",
       "      <th>Google_trends</th>\n",
       "      <th>Harga</th>\n",
       "    </tr>\n",
       "  </thead>\n",
       "  <tbody>\n",
       "    <tr>\n",
       "      <th>count</th>\n",
       "      <td>40664</td>\n",
       "      <td>40,664</td>\n",
       "      <td>40,664</td>\n",
       "      <td>40,664</td>\n",
       "      <td>40,664</td>\n",
       "      <td>40,664</td>\n",
       "    </tr>\n",
       "    <tr>\n",
       "      <th>mean</th>\n",
       "      <td>2024-11-15 12:00:00</td>\n",
       "      <td>377</td>\n",
       "      <td>2,646</td>\n",
       "      <td>11,766</td>\n",
       "      <td>0</td>\n",
       "      <td>0</td>\n",
       "    </tr>\n",
       "    <tr>\n",
       "      <th>min</th>\n",
       "      <td>2024-10-01 00:00:00</td>\n",
       "      <td>0</td>\n",
       "      <td>0</td>\n",
       "      <td>0</td>\n",
       "      <td>0</td>\n",
       "      <td>0</td>\n",
       "    </tr>\n",
       "    <tr>\n",
       "      <th>25%</th>\n",
       "      <td>2024-10-23 18:00:00</td>\n",
       "      <td>0</td>\n",
       "      <td>0</td>\n",
       "      <td>0</td>\n",
       "      <td>0</td>\n",
       "      <td>0</td>\n",
       "    </tr>\n",
       "    <tr>\n",
       "      <th>50%</th>\n",
       "      <td>2024-11-15 12:00:00</td>\n",
       "      <td>0</td>\n",
       "      <td>0</td>\n",
       "      <td>0</td>\n",
       "      <td>0</td>\n",
       "      <td>0</td>\n",
       "    </tr>\n",
       "    <tr>\n",
       "      <th>75%</th>\n",
       "      <td>2024-12-08 06:00:00</td>\n",
       "      <td>0</td>\n",
       "      <td>0</td>\n",
       "      <td>16,330</td>\n",
       "      <td>0</td>\n",
       "      <td>0</td>\n",
       "    </tr>\n",
       "    <tr>\n",
       "      <th>max</th>\n",
       "      <td>2024-12-31 00:00:00</td>\n",
       "      <td>158,210</td>\n",
       "      <td>162,480</td>\n",
       "      <td>162,480</td>\n",
       "      <td>0</td>\n",
       "      <td>0</td>\n",
       "    </tr>\n",
       "    <tr>\n",
       "      <th>std</th>\n",
       "      <td>NaN</td>\n",
       "      <td>4,939</td>\n",
       "      <td>12,879</td>\n",
       "      <td>25,160</td>\n",
       "      <td>0</td>\n",
       "      <td>0</td>\n",
       "    </tr>\n",
       "  </tbody>\n",
       "</table>\n",
       "</div>"
      ]
     },
     "execution_count": 106,
     "metadata": {},
     "output_type": "execute_result"
    }
   ],
   "execution_count": 106
  },
  {
   "cell_type": "code",
   "source": [
    "# Pilih hanya kolom numerik (float64) untuk dibulatkan\n",
    "num_cols = df.select_dtypes(include=['float64']).columns\n",
    "\n",
    "# Bulatkan dan ubah ke bilangan bulat\n",
    "df[num_cols] = df[num_cols].round(0).astype('Int64')"
   ],
   "metadata": {
    "id": "gyiBswx8ni4G",
    "ExecuteTime": {
     "end_time": "2025-03-14T02:39:28.534941Z",
     "start_time": "2025-03-14T02:39:27.736374Z"
    }
   },
   "outputs": [],
   "execution_count": 27
  },
  {
   "cell_type": "markdown",
   "source": [
    "### 2.2.1 Result of Imputation"
   ],
   "metadata": {
    "id": "QvzL7dJRqwiY"
   }
  },
  {
   "cell_type": "code",
   "source": [
    "df.info()"
   ],
   "metadata": {
    "colab": {
     "base_uri": "https://localhost:8080/"
    },
    "id": "hQMRh5niojmO",
    "executionInfo": {
     "status": "ok",
     "timestamp": 1741880423125,
     "user_tz": -420,
     "elapsed": 139,
     "user": {
      "displayName": "Luthfi Krisna Bayu",
      "userId": "02424307416199458792"
     }
    },
    "outputId": "1a11422e-fbac-4280-8c67-535b25c86c8c",
    "ExecuteTime": {
     "end_time": "2025-03-14T02:39:33.789741Z",
     "start_time": "2025-03-14T02:39:33.724588Z"
    }
   },
   "outputs": [
    {
     "name": "stdout",
     "output_type": "stream",
     "text": [
      "<class 'pandas.core.frame.DataFrame'>\n",
      "Index: 471048 entries, 0 to 471048\n",
      "Data columns (total 12 columns):\n",
      " #   Column         Non-Null Count   Dtype         \n",
      "---  ------         --------------   -----         \n",
      " 0   Tanggal        471048 non-null  datetime64[ns]\n",
      " 1   Bahan_pangan   471048 non-null  object        \n",
      " 2   Daerah         471048 non-null  object        \n",
      " 3   Harga_lag_1    447237 non-null  Int64         \n",
      " 4   Harga_lag_7    444419 non-null  Int64         \n",
      " 5   Harga_lag_30   433381 non-null  Int64         \n",
      " 6   Google_trends  110111 non-null  Int64         \n",
      " 7   MYRUSD         469846 non-null  Int64         \n",
      " 8   SGDUSD         469846 non-null  Int64         \n",
      " 9   THBUSD         469846 non-null  Int64         \n",
      " 10  USDIDR         469846 non-null  Int64         \n",
      " 11  Harga          471048 non-null  Int64         \n",
      "dtypes: Int64(9), datetime64[ns](1), object(2)\n",
      "memory usage: 50.8+ MB\n"
     ]
    }
   ],
   "execution_count": 28
  },
  {
   "cell_type": "code",
   "source": [
    "df.describe()"
   ],
   "metadata": {
    "colab": {
     "base_uri": "https://localhost:8080/",
     "height": 301
    },
    "id": "VqC_zlp7pQt6",
    "executionInfo": {
     "status": "ok",
     "timestamp": 1741880423518,
     "user_tz": -420,
     "elapsed": 389,
     "user": {
      "displayName": "Luthfi Krisna Bayu",
      "userId": "02424307416199458792"
     }
    },
    "outputId": "54550a41-f5da-4af4-8c63-eeb5957c51dd",
    "ExecuteTime": {
     "end_time": "2025-03-14T02:39:40.583160Z",
     "start_time": "2025-03-14T02:39:40.349187Z"
    }
   },
   "outputs": [
    {
     "data": {
      "text/plain": [
       "                             Tanggal   Harga_lag_1   Harga_lag_7  \\\n",
       "count                         471048      447237.0      444419.0   \n",
       "mean   2023-04-23 13:12:54.586029056  36168.703998  36175.916871   \n",
       "min              2022-01-01 00:00:00        7480.0        7480.0   \n",
       "25%              2022-07-24 00:00:00       14660.0       14650.0   \n",
       "50%              2023-04-17 00:00:00       26460.0       26460.0   \n",
       "75%              2024-01-08 00:00:00       40650.0       40690.0   \n",
       "max              2024-09-30 00:00:00      180000.0      180000.0   \n",
       "std                              NaN  33542.351582  33544.117676   \n",
       "\n",
       "       Harga_lag_30  Google_trends       MYRUSD       SGDUSD      THBUSD  \\\n",
       "count      433381.0       110111.0     469846.0     469846.0    469846.0   \n",
       "mean   36167.109333      37.980792  3379.565381  11235.33302  434.557855   \n",
       "min          7480.0            1.0       3206.0      10438.0       399.0   \n",
       "25%         14620.0           25.0       3312.0      10676.0       427.0   \n",
       "50%         26460.0           39.0       3361.0      11308.0       436.0   \n",
       "75%         40730.0           52.0       3430.0      11644.0       443.0   \n",
       "max        180000.0          100.0       3682.0      12230.0       467.0   \n",
       "std    33545.860371      20.907236    90.081199    507.84821   13.287068   \n",
       "\n",
       "             USDIDR         Harga  \n",
       "count      469846.0      471048.0  \n",
       "mean   15213.318909  35896.007021  \n",
       "min         14215.0        7480.0  \n",
       "25%         14816.0       14650.0  \n",
       "50%         15216.0       26170.0  \n",
       "75%         15621.0       40460.0  \n",
       "max         16492.0      180000.0  \n",
       "std      580.915559  33359.221338  "
      ],
      "text/html": [
       "<div>\n",
       "<style scoped>\n",
       "    .dataframe tbody tr th:only-of-type {\n",
       "        vertical-align: middle;\n",
       "    }\n",
       "\n",
       "    .dataframe tbody tr th {\n",
       "        vertical-align: top;\n",
       "    }\n",
       "\n",
       "    .dataframe thead th {\n",
       "        text-align: right;\n",
       "    }\n",
       "</style>\n",
       "<table border=\"1\" class=\"dataframe\">\n",
       "  <thead>\n",
       "    <tr style=\"text-align: right;\">\n",
       "      <th></th>\n",
       "      <th>Tanggal</th>\n",
       "      <th>Harga_lag_1</th>\n",
       "      <th>Harga_lag_7</th>\n",
       "      <th>Harga_lag_30</th>\n",
       "      <th>Google_trends</th>\n",
       "      <th>MYRUSD</th>\n",
       "      <th>SGDUSD</th>\n",
       "      <th>THBUSD</th>\n",
       "      <th>USDIDR</th>\n",
       "      <th>Harga</th>\n",
       "    </tr>\n",
       "  </thead>\n",
       "  <tbody>\n",
       "    <tr>\n",
       "      <th>count</th>\n",
       "      <td>471048</td>\n",
       "      <td>447237.0</td>\n",
       "      <td>444419.0</td>\n",
       "      <td>433381.0</td>\n",
       "      <td>110111.0</td>\n",
       "      <td>469846.0</td>\n",
       "      <td>469846.0</td>\n",
       "      <td>469846.0</td>\n",
       "      <td>469846.0</td>\n",
       "      <td>471048.0</td>\n",
       "    </tr>\n",
       "    <tr>\n",
       "      <th>mean</th>\n",
       "      <td>2023-04-23 13:12:54.586029056</td>\n",
       "      <td>36168.703998</td>\n",
       "      <td>36175.916871</td>\n",
       "      <td>36167.109333</td>\n",
       "      <td>37.980792</td>\n",
       "      <td>3379.565381</td>\n",
       "      <td>11235.33302</td>\n",
       "      <td>434.557855</td>\n",
       "      <td>15213.318909</td>\n",
       "      <td>35896.007021</td>\n",
       "    </tr>\n",
       "    <tr>\n",
       "      <th>min</th>\n",
       "      <td>2022-01-01 00:00:00</td>\n",
       "      <td>7480.0</td>\n",
       "      <td>7480.0</td>\n",
       "      <td>7480.0</td>\n",
       "      <td>1.0</td>\n",
       "      <td>3206.0</td>\n",
       "      <td>10438.0</td>\n",
       "      <td>399.0</td>\n",
       "      <td>14215.0</td>\n",
       "      <td>7480.0</td>\n",
       "    </tr>\n",
       "    <tr>\n",
       "      <th>25%</th>\n",
       "      <td>2022-07-24 00:00:00</td>\n",
       "      <td>14660.0</td>\n",
       "      <td>14650.0</td>\n",
       "      <td>14620.0</td>\n",
       "      <td>25.0</td>\n",
       "      <td>3312.0</td>\n",
       "      <td>10676.0</td>\n",
       "      <td>427.0</td>\n",
       "      <td>14816.0</td>\n",
       "      <td>14650.0</td>\n",
       "    </tr>\n",
       "    <tr>\n",
       "      <th>50%</th>\n",
       "      <td>2023-04-17 00:00:00</td>\n",
       "      <td>26460.0</td>\n",
       "      <td>26460.0</td>\n",
       "      <td>26460.0</td>\n",
       "      <td>39.0</td>\n",
       "      <td>3361.0</td>\n",
       "      <td>11308.0</td>\n",
       "      <td>436.0</td>\n",
       "      <td>15216.0</td>\n",
       "      <td>26170.0</td>\n",
       "    </tr>\n",
       "    <tr>\n",
       "      <th>75%</th>\n",
       "      <td>2024-01-08 00:00:00</td>\n",
       "      <td>40650.0</td>\n",
       "      <td>40690.0</td>\n",
       "      <td>40730.0</td>\n",
       "      <td>52.0</td>\n",
       "      <td>3430.0</td>\n",
       "      <td>11644.0</td>\n",
       "      <td>443.0</td>\n",
       "      <td>15621.0</td>\n",
       "      <td>40460.0</td>\n",
       "    </tr>\n",
       "    <tr>\n",
       "      <th>max</th>\n",
       "      <td>2024-09-30 00:00:00</td>\n",
       "      <td>180000.0</td>\n",
       "      <td>180000.0</td>\n",
       "      <td>180000.0</td>\n",
       "      <td>100.0</td>\n",
       "      <td>3682.0</td>\n",
       "      <td>12230.0</td>\n",
       "      <td>467.0</td>\n",
       "      <td>16492.0</td>\n",
       "      <td>180000.0</td>\n",
       "    </tr>\n",
       "    <tr>\n",
       "      <th>std</th>\n",
       "      <td>NaN</td>\n",
       "      <td>33542.351582</td>\n",
       "      <td>33544.117676</td>\n",
       "      <td>33545.860371</td>\n",
       "      <td>20.907236</td>\n",
       "      <td>90.081199</td>\n",
       "      <td>507.84821</td>\n",
       "      <td>13.287068</td>\n",
       "      <td>580.915559</td>\n",
       "      <td>33359.221338</td>\n",
       "    </tr>\n",
       "  </tbody>\n",
       "</table>\n",
       "</div>"
      ]
     },
     "execution_count": 29,
     "metadata": {},
     "output_type": "execute_result"
    }
   ],
   "execution_count": 29
  },
  {
   "cell_type": "code",
   "source": [
    "# Format angka dalam df.describe() agar tampil sebagai bilangan bulat\n",
    "pd.options.display.float_format = '{:,.0f}'.format"
   ],
   "metadata": {
    "id": "O20JbGuMpT3_",
    "ExecuteTime": {
     "end_time": "2025-03-14T02:41:06.249778Z",
     "start_time": "2025-03-14T02:41:06.244781Z"
    }
   },
   "outputs": [],
   "execution_count": 30
  },
  {
   "cell_type": "code",
   "source": [
    "df.describe()"
   ],
   "metadata": {
    "colab": {
     "base_uri": "https://localhost:8080/",
     "height": 301
    },
    "id": "SnUw6orWps98",
    "executionInfo": {
     "status": "ok",
     "timestamp": 1741880423910,
     "user_tz": -420,
     "elapsed": 201,
     "user": {
      "displayName": "Luthfi Krisna Bayu",
      "userId": "02424307416199458792"
     }
    },
    "outputId": "05387ada-14ef-4206-e013-1e7a3e941e3d",
    "ExecuteTime": {
     "end_time": "2025-03-14T02:41:07.552189Z",
     "start_time": "2025-03-14T02:41:07.330980Z"
    }
   },
   "outputs": [
    {
     "data": {
      "text/plain": [
       "                             Tanggal  Harga_lag_1  Harga_lag_7  Harga_lag_30  \\\n",
       "count                         471048      447,237      444,419       433,381   \n",
       "mean   2023-04-23 13:12:54.586029056       36,169       36,176        36,167   \n",
       "min              2022-01-01 00:00:00        7,480        7,480         7,480   \n",
       "25%              2022-07-24 00:00:00       14,660       14,650        14,620   \n",
       "50%              2023-04-17 00:00:00       26,460       26,460        26,460   \n",
       "75%              2024-01-08 00:00:00       40,650       40,690        40,730   \n",
       "max              2024-09-30 00:00:00      180,000      180,000       180,000   \n",
       "std                              NaN       33,542       33,544        33,546   \n",
       "\n",
       "       Google_trends  MYRUSD  SGDUSD  THBUSD  USDIDR   Harga  \n",
       "count        110,111 469,846 469,846 469,846 469,846 471,048  \n",
       "mean              38   3,380  11,235     435  15,213  35,896  \n",
       "min                1   3,206  10,438     399  14,215   7,480  \n",
       "25%               25   3,312  10,676     427  14,816  14,650  \n",
       "50%               39   3,361  11,308     436  15,216  26,170  \n",
       "75%               52   3,430  11,644     443  15,621  40,460  \n",
       "max              100   3,682  12,230     467  16,492 180,000  \n",
       "std               21      90     508      13     581  33,359  "
      ],
      "text/html": [
       "<div>\n",
       "<style scoped>\n",
       "    .dataframe tbody tr th:only-of-type {\n",
       "        vertical-align: middle;\n",
       "    }\n",
       "\n",
       "    .dataframe tbody tr th {\n",
       "        vertical-align: top;\n",
       "    }\n",
       "\n",
       "    .dataframe thead th {\n",
       "        text-align: right;\n",
       "    }\n",
       "</style>\n",
       "<table border=\"1\" class=\"dataframe\">\n",
       "  <thead>\n",
       "    <tr style=\"text-align: right;\">\n",
       "      <th></th>\n",
       "      <th>Tanggal</th>\n",
       "      <th>Harga_lag_1</th>\n",
       "      <th>Harga_lag_7</th>\n",
       "      <th>Harga_lag_30</th>\n",
       "      <th>Google_trends</th>\n",
       "      <th>MYRUSD</th>\n",
       "      <th>SGDUSD</th>\n",
       "      <th>THBUSD</th>\n",
       "      <th>USDIDR</th>\n",
       "      <th>Harga</th>\n",
       "    </tr>\n",
       "  </thead>\n",
       "  <tbody>\n",
       "    <tr>\n",
       "      <th>count</th>\n",
       "      <td>471048</td>\n",
       "      <td>447,237</td>\n",
       "      <td>444,419</td>\n",
       "      <td>433,381</td>\n",
       "      <td>110,111</td>\n",
       "      <td>469,846</td>\n",
       "      <td>469,846</td>\n",
       "      <td>469,846</td>\n",
       "      <td>469,846</td>\n",
       "      <td>471,048</td>\n",
       "    </tr>\n",
       "    <tr>\n",
       "      <th>mean</th>\n",
       "      <td>2023-04-23 13:12:54.586029056</td>\n",
       "      <td>36,169</td>\n",
       "      <td>36,176</td>\n",
       "      <td>36,167</td>\n",
       "      <td>38</td>\n",
       "      <td>3,380</td>\n",
       "      <td>11,235</td>\n",
       "      <td>435</td>\n",
       "      <td>15,213</td>\n",
       "      <td>35,896</td>\n",
       "    </tr>\n",
       "    <tr>\n",
       "      <th>min</th>\n",
       "      <td>2022-01-01 00:00:00</td>\n",
       "      <td>7,480</td>\n",
       "      <td>7,480</td>\n",
       "      <td>7,480</td>\n",
       "      <td>1</td>\n",
       "      <td>3,206</td>\n",
       "      <td>10,438</td>\n",
       "      <td>399</td>\n",
       "      <td>14,215</td>\n",
       "      <td>7,480</td>\n",
       "    </tr>\n",
       "    <tr>\n",
       "      <th>25%</th>\n",
       "      <td>2022-07-24 00:00:00</td>\n",
       "      <td>14,660</td>\n",
       "      <td>14,650</td>\n",
       "      <td>14,620</td>\n",
       "      <td>25</td>\n",
       "      <td>3,312</td>\n",
       "      <td>10,676</td>\n",
       "      <td>427</td>\n",
       "      <td>14,816</td>\n",
       "      <td>14,650</td>\n",
       "    </tr>\n",
       "    <tr>\n",
       "      <th>50%</th>\n",
       "      <td>2023-04-17 00:00:00</td>\n",
       "      <td>26,460</td>\n",
       "      <td>26,460</td>\n",
       "      <td>26,460</td>\n",
       "      <td>39</td>\n",
       "      <td>3,361</td>\n",
       "      <td>11,308</td>\n",
       "      <td>436</td>\n",
       "      <td>15,216</td>\n",
       "      <td>26,170</td>\n",
       "    </tr>\n",
       "    <tr>\n",
       "      <th>75%</th>\n",
       "      <td>2024-01-08 00:00:00</td>\n",
       "      <td>40,650</td>\n",
       "      <td>40,690</td>\n",
       "      <td>40,730</td>\n",
       "      <td>52</td>\n",
       "      <td>3,430</td>\n",
       "      <td>11,644</td>\n",
       "      <td>443</td>\n",
       "      <td>15,621</td>\n",
       "      <td>40,460</td>\n",
       "    </tr>\n",
       "    <tr>\n",
       "      <th>max</th>\n",
       "      <td>2024-09-30 00:00:00</td>\n",
       "      <td>180,000</td>\n",
       "      <td>180,000</td>\n",
       "      <td>180,000</td>\n",
       "      <td>100</td>\n",
       "      <td>3,682</td>\n",
       "      <td>12,230</td>\n",
       "      <td>467</td>\n",
       "      <td>16,492</td>\n",
       "      <td>180,000</td>\n",
       "    </tr>\n",
       "    <tr>\n",
       "      <th>std</th>\n",
       "      <td>NaN</td>\n",
       "      <td>33,542</td>\n",
       "      <td>33,544</td>\n",
       "      <td>33,546</td>\n",
       "      <td>21</td>\n",
       "      <td>90</td>\n",
       "      <td>508</td>\n",
       "      <td>13</td>\n",
       "      <td>581</td>\n",
       "      <td>33,359</td>\n",
       "    </tr>\n",
       "  </tbody>\n",
       "</table>\n",
       "</div>"
      ]
     },
     "execution_count": 31,
     "metadata": {},
     "output_type": "execute_result"
    }
   ],
   "execution_count": 31
  },
  {
   "cell_type": "code",
   "source": [
    "df.tail()"
   ],
   "metadata": {
    "colab": {
     "base_uri": "https://localhost:8080/",
     "height": 206
    },
    "id": "3z5_mwvUpwp1",
    "executionInfo": {
     "status": "ok",
     "timestamp": 1741880424092,
     "user_tz": -420,
     "elapsed": 175,
     "user": {
      "displayName": "Luthfi Krisna Bayu",
      "userId": "02424307416199458792"
     }
    },
    "outputId": "4a6f92b1-9101-4bdd-cf91-282ff14eb8d3",
    "ExecuteTime": {
     "end_time": "2025-03-14T02:41:09.396401Z",
     "start_time": "2025-03-14T02:41:09.379882Z"
    }
   },
   "outputs": [
    {
     "data": {
      "text/plain": [
       "          Tanggal           Bahan_pangan             Daerah  Harga_lag_1  \\\n",
       "471044 2024-09-30  Tepung Terigu (Curah)  Sulawesi Tenggara         9680   \n",
       "471045 2024-09-30  Tepung Terigu (Curah)     Sulawesi Utara        10760   \n",
       "471046 2024-09-30  Tepung Terigu (Curah)     Sumatera Barat         9830   \n",
       "471047 2024-09-30  Tepung Terigu (Curah)   Sumatera Selatan         8960   \n",
       "471048 2024-09-30  Tepung Terigu (Curah)     Sumatera Utara        10710   \n",
       "\n",
       "        Harga_lag_7  Harga_lag_30  Google_trends  MYRUSD  SGDUSD  THBUSD  \\\n",
       "471044         9720          9810           <NA>    3670   11804     467   \n",
       "471045        10760         10770           <NA>    3670   11804     467   \n",
       "471046         9760          9800           <NA>    3670   11804     467   \n",
       "471047         8940          8970           <NA>    3670   11804     467   \n",
       "471048        10520         10870           <NA>    3670   11804     467   \n",
       "\n",
       "        USDIDR  Harga  \n",
       "471044   15118   9620  \n",
       "471045   15118  10690  \n",
       "471046   15118   9920  \n",
       "471047   15118   8960  \n",
       "471048   15118  10640  "
      ],
      "text/html": [
       "<div>\n",
       "<style scoped>\n",
       "    .dataframe tbody tr th:only-of-type {\n",
       "        vertical-align: middle;\n",
       "    }\n",
       "\n",
       "    .dataframe tbody tr th {\n",
       "        vertical-align: top;\n",
       "    }\n",
       "\n",
       "    .dataframe thead th {\n",
       "        text-align: right;\n",
       "    }\n",
       "</style>\n",
       "<table border=\"1\" class=\"dataframe\">\n",
       "  <thead>\n",
       "    <tr style=\"text-align: right;\">\n",
       "      <th></th>\n",
       "      <th>Tanggal</th>\n",
       "      <th>Bahan_pangan</th>\n",
       "      <th>Daerah</th>\n",
       "      <th>Harga_lag_1</th>\n",
       "      <th>Harga_lag_7</th>\n",
       "      <th>Harga_lag_30</th>\n",
       "      <th>Google_trends</th>\n",
       "      <th>MYRUSD</th>\n",
       "      <th>SGDUSD</th>\n",
       "      <th>THBUSD</th>\n",
       "      <th>USDIDR</th>\n",
       "      <th>Harga</th>\n",
       "    </tr>\n",
       "  </thead>\n",
       "  <tbody>\n",
       "    <tr>\n",
       "      <th>471044</th>\n",
       "      <td>2024-09-30</td>\n",
       "      <td>Tepung Terigu (Curah)</td>\n",
       "      <td>Sulawesi Tenggara</td>\n",
       "      <td>9680</td>\n",
       "      <td>9720</td>\n",
       "      <td>9810</td>\n",
       "      <td>&lt;NA&gt;</td>\n",
       "      <td>3670</td>\n",
       "      <td>11804</td>\n",
       "      <td>467</td>\n",
       "      <td>15118</td>\n",
       "      <td>9620</td>\n",
       "    </tr>\n",
       "    <tr>\n",
       "      <th>471045</th>\n",
       "      <td>2024-09-30</td>\n",
       "      <td>Tepung Terigu (Curah)</td>\n",
       "      <td>Sulawesi Utara</td>\n",
       "      <td>10760</td>\n",
       "      <td>10760</td>\n",
       "      <td>10770</td>\n",
       "      <td>&lt;NA&gt;</td>\n",
       "      <td>3670</td>\n",
       "      <td>11804</td>\n",
       "      <td>467</td>\n",
       "      <td>15118</td>\n",
       "      <td>10690</td>\n",
       "    </tr>\n",
       "    <tr>\n",
       "      <th>471046</th>\n",
       "      <td>2024-09-30</td>\n",
       "      <td>Tepung Terigu (Curah)</td>\n",
       "      <td>Sumatera Barat</td>\n",
       "      <td>9830</td>\n",
       "      <td>9760</td>\n",
       "      <td>9800</td>\n",
       "      <td>&lt;NA&gt;</td>\n",
       "      <td>3670</td>\n",
       "      <td>11804</td>\n",
       "      <td>467</td>\n",
       "      <td>15118</td>\n",
       "      <td>9920</td>\n",
       "    </tr>\n",
       "    <tr>\n",
       "      <th>471047</th>\n",
       "      <td>2024-09-30</td>\n",
       "      <td>Tepung Terigu (Curah)</td>\n",
       "      <td>Sumatera Selatan</td>\n",
       "      <td>8960</td>\n",
       "      <td>8940</td>\n",
       "      <td>8970</td>\n",
       "      <td>&lt;NA&gt;</td>\n",
       "      <td>3670</td>\n",
       "      <td>11804</td>\n",
       "      <td>467</td>\n",
       "      <td>15118</td>\n",
       "      <td>8960</td>\n",
       "    </tr>\n",
       "    <tr>\n",
       "      <th>471048</th>\n",
       "      <td>2024-09-30</td>\n",
       "      <td>Tepung Terigu (Curah)</td>\n",
       "      <td>Sumatera Utara</td>\n",
       "      <td>10710</td>\n",
       "      <td>10520</td>\n",
       "      <td>10870</td>\n",
       "      <td>&lt;NA&gt;</td>\n",
       "      <td>3670</td>\n",
       "      <td>11804</td>\n",
       "      <td>467</td>\n",
       "      <td>15118</td>\n",
       "      <td>10640</td>\n",
       "    </tr>\n",
       "  </tbody>\n",
       "</table>\n",
       "</div>"
      ]
     },
     "execution_count": 32,
     "metadata": {},
     "output_type": "execute_result"
    }
   ],
   "execution_count": 32
  },
  {
   "cell_type": "code",
   "source": [
    "# Cek apakah ada nilai <NA>\n",
    "print(df.isna().sum())"
   ],
   "metadata": {
    "colab": {
     "base_uri": "https://localhost:8080/"
    },
    "id": "sKiH0Ae6qF_t",
    "executionInfo": {
     "status": "ok",
     "timestamp": 1741880424261,
     "user_tz": -420,
     "elapsed": 150,
     "user": {
      "displayName": "Luthfi Krisna Bayu",
      "userId": "02424307416199458792"
     }
    },
    "outputId": "5046a84b-8074-4190-a54f-8e4131af565a",
    "ExecuteTime": {
     "end_time": "2025-03-14T05:04:09.656943Z",
     "start_time": "2025-03-14T05:04:09.649943Z"
    }
   },
   "outputs": [
    {
     "name": "stdout",
     "output_type": "stream",
     "text": [
      "Tanggal          0\n",
      "Bahan_pangan     0\n",
      "Daerah           0\n",
      "Harga_lag_1      0\n",
      "Harga_lag_7      0\n",
      "Harga_lag_30     0\n",
      "Google_trends    0\n",
      "Harga            0\n",
      "dtype: int64\n"
     ]
    }
   ],
   "execution_count": 107
  },
  {
   "cell_type": "code",
   "source": [
    "# Identifikasi kolom numerik yang bertipe Int64\n",
    "num_cols = df.select_dtypes(include=['Int64']).columns\n",
    "\n",
    "# Imputasi nilai <NA> dengan mean yang sudah dibulatkan\n",
    "df[num_cols] = df[num_cols].apply(lambda x: x.fillna(round(x.mean())))\n",
    "\n",
    "# Cek kembali apakah masih ada nilai <NA>\n",
    "print(df.isna().sum())"
   ],
   "metadata": {
    "colab": {
     "base_uri": "https://localhost:8080/"
    },
    "id": "CmhZwNE_qYdv",
    "executionInfo": {
     "status": "ok",
     "timestamp": 1741880424337,
     "user_tz": -420,
     "elapsed": 71,
     "user": {
      "displayName": "Luthfi Krisna Bayu",
      "userId": "02424307416199458792"
     }
    },
    "outputId": "553eb603-f305-4a8e-983c-3ea373e4ec87",
    "ExecuteTime": {
     "end_time": "2025-03-14T02:41:13.735256Z",
     "start_time": "2025-03-14T02:41:13.585120Z"
    }
   },
   "outputs": [
    {
     "name": "stdout",
     "output_type": "stream",
     "text": [
      "Tanggal          0\n",
      "Bahan_pangan     0\n",
      "Daerah           0\n",
      "Harga_lag_1      0\n",
      "Harga_lag_7      0\n",
      "Harga_lag_30     0\n",
      "Google_trends    0\n",
      "MYRUSD           0\n",
      "SGDUSD           0\n",
      "THBUSD           0\n",
      "USDIDR           0\n",
      "Harga            0\n",
      "dtype: int64\n"
     ]
    }
   ],
   "execution_count": 34
  },
  {
   "cell_type": "code",
   "source": [
    "df.info()"
   ],
   "metadata": {
    "colab": {
     "base_uri": "https://localhost:8080/"
    },
    "id": "vlbDaFrAqc4t",
    "executionInfo": {
     "status": "ok",
     "timestamp": 1741880424516,
     "user_tz": -420,
     "elapsed": 174,
     "user": {
      "displayName": "Luthfi Krisna Bayu",
      "userId": "02424307416199458792"
     }
    },
    "outputId": "67838440-465a-40b2-e1c9-51eefaf397cf",
    "ExecuteTime": {
     "end_time": "2025-03-14T05:04:24.619841Z",
     "start_time": "2025-03-14T05:04:24.608478Z"
    }
   },
   "outputs": [
    {
     "name": "stdout",
     "output_type": "stream",
     "text": [
      "<class 'pandas.core.frame.DataFrame'>\n",
      "RangeIndex: 40664 entries, 0 to 40663\n",
      "Data columns (total 8 columns):\n",
      " #   Column         Non-Null Count  Dtype         \n",
      "---  ------         --------------  -----         \n",
      " 0   Tanggal        40664 non-null  datetime64[ns]\n",
      " 1   Bahan_pangan   40664 non-null  object        \n",
      " 2   Daerah         40664 non-null  object        \n",
      " 3   Harga_lag_1    40664 non-null  int64         \n",
      " 4   Harga_lag_7    40664 non-null  int64         \n",
      " 5   Harga_lag_30   40664 non-null  int64         \n",
      " 6   Google_trends  40664 non-null  int64         \n",
      " 7   Harga          40664 non-null  int64         \n",
      "dtypes: datetime64[ns](1), int64(5), object(2)\n",
      "memory usage: 2.5+ MB\n"
     ]
    }
   ],
   "execution_count": 108
  },
  {
   "cell_type": "code",
   "source": [
    "df.describe()"
   ],
   "metadata": {
    "colab": {
     "base_uri": "https://localhost:8080/",
     "height": 301
    },
    "id": "P7wMBI7LrA_f",
    "executionInfo": {
     "status": "ok",
     "timestamp": 1741880424782,
     "user_tz": -420,
     "elapsed": 259,
     "user": {
      "displayName": "Luthfi Krisna Bayu",
      "userId": "02424307416199458792"
     }
    },
    "outputId": "6abf505a-a8bb-4eee-96be-4f8dd15b4d1a",
    "ExecuteTime": {
     "end_time": "2025-03-14T02:41:28.360779Z",
     "start_time": "2025-03-14T02:41:28.166619Z"
    }
   },
   "outputs": [
    {
     "data": {
      "text/plain": [
       "                             Tanggal  Harga_lag_1  Harga_lag_7  Harga_lag_30  \\\n",
       "count                         471048      471,048      471,048       471,048   \n",
       "mean   2023-04-23 13:12:54.586029056       36,169       36,176        36,167   \n",
       "min              2022-01-01 00:00:00        7,480        7,480         7,480   \n",
       "25%              2022-07-24 00:00:00       14,840       14,850        14,900   \n",
       "50%              2023-04-17 00:00:00       27,860       28,030        28,760   \n",
       "75%              2024-01-08 00:00:00       39,680       39,590        39,100   \n",
       "max              2024-09-30 00:00:00      180,000      180,000       180,000   \n",
       "std                              NaN       32,684       32,582        32,177   \n",
       "\n",
       "       Google_trends  MYRUSD  SGDUSD  THBUSD  USDIDR   Harga  \n",
       "count        471,048 471,048 471,048 471,048 471,048 471,048  \n",
       "mean              38   3,380  11,235     435  15,213  35,896  \n",
       "min                1   3,206  10,438     399  14,215   7,480  \n",
       "25%               38   3,313  10,677     427  14,823  14,650  \n",
       "50%               38   3,361  11,308     436  15,216  26,170  \n",
       "75%               38   3,430  11,641     442  15,621  40,460  \n",
       "max              100   3,682  12,230     467  16,492 180,000  \n",
       "std               10      90     507      13     580  33,359  "
      ],
      "text/html": [
       "<div>\n",
       "<style scoped>\n",
       "    .dataframe tbody tr th:only-of-type {\n",
       "        vertical-align: middle;\n",
       "    }\n",
       "\n",
       "    .dataframe tbody tr th {\n",
       "        vertical-align: top;\n",
       "    }\n",
       "\n",
       "    .dataframe thead th {\n",
       "        text-align: right;\n",
       "    }\n",
       "</style>\n",
       "<table border=\"1\" class=\"dataframe\">\n",
       "  <thead>\n",
       "    <tr style=\"text-align: right;\">\n",
       "      <th></th>\n",
       "      <th>Tanggal</th>\n",
       "      <th>Harga_lag_1</th>\n",
       "      <th>Harga_lag_7</th>\n",
       "      <th>Harga_lag_30</th>\n",
       "      <th>Google_trends</th>\n",
       "      <th>MYRUSD</th>\n",
       "      <th>SGDUSD</th>\n",
       "      <th>THBUSD</th>\n",
       "      <th>USDIDR</th>\n",
       "      <th>Harga</th>\n",
       "    </tr>\n",
       "  </thead>\n",
       "  <tbody>\n",
       "    <tr>\n",
       "      <th>count</th>\n",
       "      <td>471048</td>\n",
       "      <td>471,048</td>\n",
       "      <td>471,048</td>\n",
       "      <td>471,048</td>\n",
       "      <td>471,048</td>\n",
       "      <td>471,048</td>\n",
       "      <td>471,048</td>\n",
       "      <td>471,048</td>\n",
       "      <td>471,048</td>\n",
       "      <td>471,048</td>\n",
       "    </tr>\n",
       "    <tr>\n",
       "      <th>mean</th>\n",
       "      <td>2023-04-23 13:12:54.586029056</td>\n",
       "      <td>36,169</td>\n",
       "      <td>36,176</td>\n",
       "      <td>36,167</td>\n",
       "      <td>38</td>\n",
       "      <td>3,380</td>\n",
       "      <td>11,235</td>\n",
       "      <td>435</td>\n",
       "      <td>15,213</td>\n",
       "      <td>35,896</td>\n",
       "    </tr>\n",
       "    <tr>\n",
       "      <th>min</th>\n",
       "      <td>2022-01-01 00:00:00</td>\n",
       "      <td>7,480</td>\n",
       "      <td>7,480</td>\n",
       "      <td>7,480</td>\n",
       "      <td>1</td>\n",
       "      <td>3,206</td>\n",
       "      <td>10,438</td>\n",
       "      <td>399</td>\n",
       "      <td>14,215</td>\n",
       "      <td>7,480</td>\n",
       "    </tr>\n",
       "    <tr>\n",
       "      <th>25%</th>\n",
       "      <td>2022-07-24 00:00:00</td>\n",
       "      <td>14,840</td>\n",
       "      <td>14,850</td>\n",
       "      <td>14,900</td>\n",
       "      <td>38</td>\n",
       "      <td>3,313</td>\n",
       "      <td>10,677</td>\n",
       "      <td>427</td>\n",
       "      <td>14,823</td>\n",
       "      <td>14,650</td>\n",
       "    </tr>\n",
       "    <tr>\n",
       "      <th>50%</th>\n",
       "      <td>2023-04-17 00:00:00</td>\n",
       "      <td>27,860</td>\n",
       "      <td>28,030</td>\n",
       "      <td>28,760</td>\n",
       "      <td>38</td>\n",
       "      <td>3,361</td>\n",
       "      <td>11,308</td>\n",
       "      <td>436</td>\n",
       "      <td>15,216</td>\n",
       "      <td>26,170</td>\n",
       "    </tr>\n",
       "    <tr>\n",
       "      <th>75%</th>\n",
       "      <td>2024-01-08 00:00:00</td>\n",
       "      <td>39,680</td>\n",
       "      <td>39,590</td>\n",
       "      <td>39,100</td>\n",
       "      <td>38</td>\n",
       "      <td>3,430</td>\n",
       "      <td>11,641</td>\n",
       "      <td>442</td>\n",
       "      <td>15,621</td>\n",
       "      <td>40,460</td>\n",
       "    </tr>\n",
       "    <tr>\n",
       "      <th>max</th>\n",
       "      <td>2024-09-30 00:00:00</td>\n",
       "      <td>180,000</td>\n",
       "      <td>180,000</td>\n",
       "      <td>180,000</td>\n",
       "      <td>100</td>\n",
       "      <td>3,682</td>\n",
       "      <td>12,230</td>\n",
       "      <td>467</td>\n",
       "      <td>16,492</td>\n",
       "      <td>180,000</td>\n",
       "    </tr>\n",
       "    <tr>\n",
       "      <th>std</th>\n",
       "      <td>NaN</td>\n",
       "      <td>32,684</td>\n",
       "      <td>32,582</td>\n",
       "      <td>32,177</td>\n",
       "      <td>10</td>\n",
       "      <td>90</td>\n",
       "      <td>507</td>\n",
       "      <td>13</td>\n",
       "      <td>580</td>\n",
       "      <td>33,359</td>\n",
       "    </tr>\n",
       "  </tbody>\n",
       "</table>\n",
       "</div>"
      ]
     },
     "execution_count": 36,
     "metadata": {},
     "output_type": "execute_result"
    }
   ],
   "execution_count": 36
  },
  {
   "cell_type": "code",
   "source": [
    "df.head()"
   ],
   "metadata": {
    "colab": {
     "base_uri": "https://localhost:8080/",
     "height": 206
    },
    "id": "jU8FtBQPrT9a",
    "executionInfo": {
     "status": "ok",
     "timestamp": 1741880425175,
     "user_tz": -420,
     "elapsed": 386,
     "user": {
      "displayName": "Luthfi Krisna Bayu",
      "userId": "02424307416199458792"
     }
    },
    "outputId": "7dc0d1da-e8f7-495b-a95e-5d0d2b9f4a47",
    "ExecuteTime": {
     "end_time": "2025-03-14T02:41:28.736248Z",
     "start_time": "2025-03-14T02:41:28.723739Z"
    }
   },
   "outputs": [
    {
     "data": {
      "text/plain": [
       "     Tanggal  Bahan_pangan  Daerah  Harga_lag_1  Harga_lag_7  Harga_lag_30  \\\n",
       "0 2022-01-01  Bawang Merah    Aceh        36169        36176         36167   \n",
       "1 2022-01-01  Bawang Merah    Bali        36169        36176         36167   \n",
       "2 2022-01-01  Bawang Merah  Banten        36169        36176         36167   \n",
       "3 2022-01-01  Bawang Merah    Aceh        36169        36176         36167   \n",
       "4 2022-01-01  Bawang Merah    Bali        36169        36176         36167   \n",
       "\n",
       "   Google_trends  MYRUSD  SGDUSD  THBUSD  USDIDR  Harga  \n",
       "0             38    3380   11235     435   15213  28970  \n",
       "1             38    3380   11235     435   15213  20870  \n",
       "2             38    3380   11235     435   15213  26890  \n",
       "3             38    3380   11235     435   15213  28970  \n",
       "4             38    3380   11235     435   15213  20870  "
      ],
      "text/html": [
       "<div>\n",
       "<style scoped>\n",
       "    .dataframe tbody tr th:only-of-type {\n",
       "        vertical-align: middle;\n",
       "    }\n",
       "\n",
       "    .dataframe tbody tr th {\n",
       "        vertical-align: top;\n",
       "    }\n",
       "\n",
       "    .dataframe thead th {\n",
       "        text-align: right;\n",
       "    }\n",
       "</style>\n",
       "<table border=\"1\" class=\"dataframe\">\n",
       "  <thead>\n",
       "    <tr style=\"text-align: right;\">\n",
       "      <th></th>\n",
       "      <th>Tanggal</th>\n",
       "      <th>Bahan_pangan</th>\n",
       "      <th>Daerah</th>\n",
       "      <th>Harga_lag_1</th>\n",
       "      <th>Harga_lag_7</th>\n",
       "      <th>Harga_lag_30</th>\n",
       "      <th>Google_trends</th>\n",
       "      <th>MYRUSD</th>\n",
       "      <th>SGDUSD</th>\n",
       "      <th>THBUSD</th>\n",
       "      <th>USDIDR</th>\n",
       "      <th>Harga</th>\n",
       "    </tr>\n",
       "  </thead>\n",
       "  <tbody>\n",
       "    <tr>\n",
       "      <th>0</th>\n",
       "      <td>2022-01-01</td>\n",
       "      <td>Bawang Merah</td>\n",
       "      <td>Aceh</td>\n",
       "      <td>36169</td>\n",
       "      <td>36176</td>\n",
       "      <td>36167</td>\n",
       "      <td>38</td>\n",
       "      <td>3380</td>\n",
       "      <td>11235</td>\n",
       "      <td>435</td>\n",
       "      <td>15213</td>\n",
       "      <td>28970</td>\n",
       "    </tr>\n",
       "    <tr>\n",
       "      <th>1</th>\n",
       "      <td>2022-01-01</td>\n",
       "      <td>Bawang Merah</td>\n",
       "      <td>Bali</td>\n",
       "      <td>36169</td>\n",
       "      <td>36176</td>\n",
       "      <td>36167</td>\n",
       "      <td>38</td>\n",
       "      <td>3380</td>\n",
       "      <td>11235</td>\n",
       "      <td>435</td>\n",
       "      <td>15213</td>\n",
       "      <td>20870</td>\n",
       "    </tr>\n",
       "    <tr>\n",
       "      <th>2</th>\n",
       "      <td>2022-01-01</td>\n",
       "      <td>Bawang Merah</td>\n",
       "      <td>Banten</td>\n",
       "      <td>36169</td>\n",
       "      <td>36176</td>\n",
       "      <td>36167</td>\n",
       "      <td>38</td>\n",
       "      <td>3380</td>\n",
       "      <td>11235</td>\n",
       "      <td>435</td>\n",
       "      <td>15213</td>\n",
       "      <td>26890</td>\n",
       "    </tr>\n",
       "    <tr>\n",
       "      <th>3</th>\n",
       "      <td>2022-01-01</td>\n",
       "      <td>Bawang Merah</td>\n",
       "      <td>Aceh</td>\n",
       "      <td>36169</td>\n",
       "      <td>36176</td>\n",
       "      <td>36167</td>\n",
       "      <td>38</td>\n",
       "      <td>3380</td>\n",
       "      <td>11235</td>\n",
       "      <td>435</td>\n",
       "      <td>15213</td>\n",
       "      <td>28970</td>\n",
       "    </tr>\n",
       "    <tr>\n",
       "      <th>4</th>\n",
       "      <td>2022-01-01</td>\n",
       "      <td>Bawang Merah</td>\n",
       "      <td>Bali</td>\n",
       "      <td>36169</td>\n",
       "      <td>36176</td>\n",
       "      <td>36167</td>\n",
       "      <td>38</td>\n",
       "      <td>3380</td>\n",
       "      <td>11235</td>\n",
       "      <td>435</td>\n",
       "      <td>15213</td>\n",
       "      <td>20870</td>\n",
       "    </tr>\n",
       "  </tbody>\n",
       "</table>\n",
       "</div>"
      ]
     },
     "execution_count": 37,
     "metadata": {},
     "output_type": "execute_result"
    }
   ],
   "execution_count": 37
  },
  {
   "cell_type": "code",
   "source": [
    "df.tail()"
   ],
   "metadata": {
    "colab": {
     "base_uri": "https://localhost:8080/",
     "height": 206
    },
    "id": "B1Hr_fJyrRsz",
    "executionInfo": {
     "status": "ok",
     "timestamp": 1741880425434,
     "user_tz": -420,
     "elapsed": 249,
     "user": {
      "displayName": "Luthfi Krisna Bayu",
      "userId": "02424307416199458792"
     }
    },
    "outputId": "29248be2-3454-48cf-87bd-2a621bdb9b7d",
    "ExecuteTime": {
     "end_time": "2025-03-14T02:41:29.558359Z",
     "start_time": "2025-03-14T02:41:29.543701Z"
    }
   },
   "outputs": [
    {
     "data": {
      "text/plain": [
       "          Tanggal           Bahan_pangan             Daerah  Harga_lag_1  \\\n",
       "471044 2024-09-30  Tepung Terigu (Curah)  Sulawesi Tenggara         9680   \n",
       "471045 2024-09-30  Tepung Terigu (Curah)     Sulawesi Utara        10760   \n",
       "471046 2024-09-30  Tepung Terigu (Curah)     Sumatera Barat         9830   \n",
       "471047 2024-09-30  Tepung Terigu (Curah)   Sumatera Selatan         8960   \n",
       "471048 2024-09-30  Tepung Terigu (Curah)     Sumatera Utara        10710   \n",
       "\n",
       "        Harga_lag_7  Harga_lag_30  Google_trends  MYRUSD  SGDUSD  THBUSD  \\\n",
       "471044         9720          9810             38    3670   11804     467   \n",
       "471045        10760         10770             38    3670   11804     467   \n",
       "471046         9760          9800             38    3670   11804     467   \n",
       "471047         8940          8970             38    3670   11804     467   \n",
       "471048        10520         10870             38    3670   11804     467   \n",
       "\n",
       "        USDIDR  Harga  \n",
       "471044   15118   9620  \n",
       "471045   15118  10690  \n",
       "471046   15118   9920  \n",
       "471047   15118   8960  \n",
       "471048   15118  10640  "
      ],
      "text/html": [
       "<div>\n",
       "<style scoped>\n",
       "    .dataframe tbody tr th:only-of-type {\n",
       "        vertical-align: middle;\n",
       "    }\n",
       "\n",
       "    .dataframe tbody tr th {\n",
       "        vertical-align: top;\n",
       "    }\n",
       "\n",
       "    .dataframe thead th {\n",
       "        text-align: right;\n",
       "    }\n",
       "</style>\n",
       "<table border=\"1\" class=\"dataframe\">\n",
       "  <thead>\n",
       "    <tr style=\"text-align: right;\">\n",
       "      <th></th>\n",
       "      <th>Tanggal</th>\n",
       "      <th>Bahan_pangan</th>\n",
       "      <th>Daerah</th>\n",
       "      <th>Harga_lag_1</th>\n",
       "      <th>Harga_lag_7</th>\n",
       "      <th>Harga_lag_30</th>\n",
       "      <th>Google_trends</th>\n",
       "      <th>MYRUSD</th>\n",
       "      <th>SGDUSD</th>\n",
       "      <th>THBUSD</th>\n",
       "      <th>USDIDR</th>\n",
       "      <th>Harga</th>\n",
       "    </tr>\n",
       "  </thead>\n",
       "  <tbody>\n",
       "    <tr>\n",
       "      <th>471044</th>\n",
       "      <td>2024-09-30</td>\n",
       "      <td>Tepung Terigu (Curah)</td>\n",
       "      <td>Sulawesi Tenggara</td>\n",
       "      <td>9680</td>\n",
       "      <td>9720</td>\n",
       "      <td>9810</td>\n",
       "      <td>38</td>\n",
       "      <td>3670</td>\n",
       "      <td>11804</td>\n",
       "      <td>467</td>\n",
       "      <td>15118</td>\n",
       "      <td>9620</td>\n",
       "    </tr>\n",
       "    <tr>\n",
       "      <th>471045</th>\n",
       "      <td>2024-09-30</td>\n",
       "      <td>Tepung Terigu (Curah)</td>\n",
       "      <td>Sulawesi Utara</td>\n",
       "      <td>10760</td>\n",
       "      <td>10760</td>\n",
       "      <td>10770</td>\n",
       "      <td>38</td>\n",
       "      <td>3670</td>\n",
       "      <td>11804</td>\n",
       "      <td>467</td>\n",
       "      <td>15118</td>\n",
       "      <td>10690</td>\n",
       "    </tr>\n",
       "    <tr>\n",
       "      <th>471046</th>\n",
       "      <td>2024-09-30</td>\n",
       "      <td>Tepung Terigu (Curah)</td>\n",
       "      <td>Sumatera Barat</td>\n",
       "      <td>9830</td>\n",
       "      <td>9760</td>\n",
       "      <td>9800</td>\n",
       "      <td>38</td>\n",
       "      <td>3670</td>\n",
       "      <td>11804</td>\n",
       "      <td>467</td>\n",
       "      <td>15118</td>\n",
       "      <td>9920</td>\n",
       "    </tr>\n",
       "    <tr>\n",
       "      <th>471047</th>\n",
       "      <td>2024-09-30</td>\n",
       "      <td>Tepung Terigu (Curah)</td>\n",
       "      <td>Sumatera Selatan</td>\n",
       "      <td>8960</td>\n",
       "      <td>8940</td>\n",
       "      <td>8970</td>\n",
       "      <td>38</td>\n",
       "      <td>3670</td>\n",
       "      <td>11804</td>\n",
       "      <td>467</td>\n",
       "      <td>15118</td>\n",
       "      <td>8960</td>\n",
       "    </tr>\n",
       "    <tr>\n",
       "      <th>471048</th>\n",
       "      <td>2024-09-30</td>\n",
       "      <td>Tepung Terigu (Curah)</td>\n",
       "      <td>Sumatera Utara</td>\n",
       "      <td>10710</td>\n",
       "      <td>10520</td>\n",
       "      <td>10870</td>\n",
       "      <td>38</td>\n",
       "      <td>3670</td>\n",
       "      <td>11804</td>\n",
       "      <td>467</td>\n",
       "      <td>15118</td>\n",
       "      <td>10640</td>\n",
       "    </tr>\n",
       "  </tbody>\n",
       "</table>\n",
       "</div>"
      ]
     },
     "execution_count": 38,
     "metadata": {},
     "output_type": "execute_result"
    }
   ],
   "execution_count": 38
  },
  {
   "cell_type": "code",
   "source": [
    "print(\"Unique values in 'Bahan_pangan':\")\n",
    "print(df['Bahan_pangan'].unique())\n",
    "\n",
    "print(\"\\nUnique values in 'Daerah':\")\n",
    "print(df['Daerah'].unique())"
   ],
   "metadata": {
    "colab": {
     "base_uri": "https://localhost:8080/"
    },
    "id": "_ZSkaMFz_IL_",
    "executionInfo": {
     "status": "ok",
     "timestamp": 1741880425789,
     "user_tz": -420,
     "elapsed": 176,
     "user": {
      "displayName": "Luthfi Krisna Bayu",
      "userId": "02424307416199458792"
     }
    },
    "outputId": "3b15e15c-deb0-4d21-90ef-6c7d7682a7b2",
    "ExecuteTime": {
     "end_time": "2025-03-14T05:08:13.083357Z",
     "start_time": "2025-03-14T05:08:13.074990Z"
    }
   },
   "outputs": [
    {
     "name": "stdout",
     "output_type": "stream",
     "text": [
      "Unique values in 'Bahan_pangan':\n",
      "['Bawang Merah' 'Bawang Putih Bonggol' 'Beras Medium' 'Beras Premium'\n",
      " 'Cabai Merah Keriting' 'Cabai Rawit Merah' 'Daging Ayam Ras'\n",
      " 'Daging Sapi Murni' 'Gula Konsumsi' 'Minyak Goreng Curah'\n",
      " 'Minyak Goreng Kemasan Sederhana' 'Telur Ayam Ras'\n",
      " 'Tepung Terigu (Curah)']\n",
      "\n",
      "Unique values in 'Daerah':\n",
      "['Aceh' 'Bali' 'Banten' 'Bengkulu' 'DI Yogyakarta' 'DKI Jakarta'\n",
      " 'Gorontalo' 'Jambi' 'Jawa Barat' 'Jawa Tengah' 'Jawa Timur'\n",
      " 'Kalimantan Barat' 'Kalimantan Selatan' 'Kalimantan Tengah'\n",
      " 'Kalimantan Timur' 'Kalimantan Utara' 'Kepulauan Bangka Belitung'\n",
      " 'Kepulauan Riau' 'Lampung' 'Maluku Utara' 'Maluku' 'Nusa Tenggara Barat'\n",
      " 'Nusa Tenggara Timur' 'Papua Barat' 'Papua' 'Riau' 'Sulawesi Barat'\n",
      " 'Sulawesi Selatan' 'Sulawesi Tengah' 'Sulawesi Tenggara' 'Sulawesi Utara'\n",
      " 'Sumatera Barat' 'Sumatera Selatan' 'Sumatera Utara']\n"
     ]
    }
   ],
   "execution_count": 119
  },
  {
   "cell_type": "markdown",
   "source": [
    "# &nbsp; 3. Encoding"
   ],
   "metadata": {
    "id": "DehBH7sbAwe-"
   }
  },
  {
   "cell_type": "code",
   "source": [
    "# Buat LabelEncoder\n",
    "label_encoder_bp = LabelEncoder()\n",
    "label_encoder_daerah = LabelEncoder()\n",
    "\n",
    "# Terapkan Label Encoding ke kolom 'Bahan_pangan' dan 'Daerah'\n",
    "df['Bahan_pangan'] = label_encoder_bp.fit_transform(df['Bahan_pangan'])\n",
    "df['Daerah'] = label_encoder_daerah.fit_transform(df['Daerah'])\n",
    "\n",
    "# Cek hasil encoding\n",
    "print(df[['Bahan_pangan', 'Daerah']].head())"
   ],
   "metadata": {
    "colab": {
     "base_uri": "https://localhost:8080/"
    },
    "id": "uY_xnFs1A1KX",
    "executionInfo": {
     "status": "ok",
     "timestamp": 1741880432578,
     "user_tz": -420,
     "elapsed": 348,
     "user": {
      "displayName": "Luthfi Krisna Bayu",
      "userId": "02424307416199458792"
     }
    },
    "outputId": "8e4cbab5-1daf-421c-9e6a-6dd572e4b666",
    "ExecuteTime": {
     "end_time": "2025-03-14T05:42:12.441259Z",
     "start_time": "2025-03-14T05:42:12.426569Z"
    }
   },
   "outputs": [
    {
     "name": "stdout",
     "output_type": "stream",
     "text": [
      "   Bahan_pangan  Daerah\n",
      "0             0       0\n",
      "1             0       1\n",
      "2             0       2\n",
      "3             0       3\n",
      "4             0       4\n"
     ]
    }
   ],
   "execution_count": 145
  },
  {
   "cell_type": "code",
   "source": [
    "# Buat DataFrame untuk mapping Bahan Pangan\n",
    "mapping_bp = pd.DataFrame({\n",
    "    \"Label\": range(len(label_encoder_bp.classes_)),\n",
    "    \"Bahan Pangan\": label_encoder_bp.classes_\n",
    "})\n",
    "\n",
    "# Buat DataFrame untuk mapping Daerah\n",
    "mapping_daerah = pd.DataFrame({\n",
    "    \"Label\": range(len(label_encoder_daerah.classes_)),\n",
    "    \"Daerah\": label_encoder_daerah.classes_\n",
    "})\n",
    "\n",
    "# Tampilkan dalam bentuk tabel\n",
    "print(\"Mapping Bahan Pangan:\")\n",
    "print(mapping_bp.to_string(index=False))  # Hapus index agar lebih rapi\n",
    "\n",
    "print(\"\\nMapping Daerah:\")\n",
    "print(mapping_daerah.to_string(index=False))"
   ],
   "metadata": {
    "colab": {
     "base_uri": "https://localhost:8080/"
    },
    "id": "CitkUkpBEWIF",
    "executionInfo": {
     "status": "ok",
     "timestamp": 1741880448755,
     "user_tz": -420,
     "elapsed": 424,
     "user": {
      "displayName": "Luthfi Krisna Bayu",
      "userId": "02424307416199458792"
     }
    },
    "outputId": "ed8e3deb-7f79-4a1e-b03f-31b7a56e4203",
    "ExecuteTime": {
     "end_time": "2025-03-14T05:42:14.748824Z",
     "start_time": "2025-03-14T05:42:14.740197Z"
    }
   },
   "outputs": [
    {
     "name": "stdout",
     "output_type": "stream",
     "text": [
      "Mapping Bahan Pangan:\n",
      " Label                    Bahan Pangan\n",
      "     0                    Bawang Merah\n",
      "     1            Bawang Putih Bonggol\n",
      "     2                    Beras Medium\n",
      "     3                   Beras Premium\n",
      "     4            Cabai Merah Keriting\n",
      "     5               Cabai Rawit Merah\n",
      "     6                 Daging Ayam Ras\n",
      "     7               Daging Sapi Murni\n",
      "     8                   Gula Konsumsi\n",
      "     9             Minyak Goreng Curah\n",
      "    10 Minyak Goreng Kemasan Sederhana\n",
      "    11                  Telur Ayam Ras\n",
      "    12           Tepung Terigu (Curah)\n",
      "\n",
      "Mapping Daerah:\n",
      " Label                    Daerah\n",
      "     0                      Aceh\n",
      "     1                      Bali\n",
      "     2                    Banten\n",
      "     3                  Bengkulu\n",
      "     4             DI Yogyakarta\n",
      "     5               DKI Jakarta\n",
      "     6                 Gorontalo\n",
      "     7                     Jambi\n",
      "     8                Jawa Barat\n",
      "     9               Jawa Tengah\n",
      "    10                Jawa Timur\n",
      "    11          Kalimantan Barat\n",
      "    12        Kalimantan Selatan\n",
      "    13         Kalimantan Tengah\n",
      "    14          Kalimantan Timur\n",
      "    15          Kalimantan Utara\n",
      "    16 Kepulauan Bangka Belitung\n",
      "    17            Kepulauan Riau\n",
      "    18                   Lampung\n",
      "    19                    Maluku\n",
      "    20              Maluku Utara\n",
      "    21       Nusa Tenggara Barat\n",
      "    22       Nusa Tenggara Timur\n",
      "    23                     Papua\n",
      "    24               Papua Barat\n",
      "    25                      Riau\n",
      "    26            Sulawesi Barat\n",
      "    27          Sulawesi Selatan\n",
      "    28           Sulawesi Tengah\n",
      "    29         Sulawesi Tenggara\n",
      "    30            Sulawesi Utara\n",
      "    31            Sumatera Barat\n",
      "    32          Sumatera Selatan\n",
      "    33            Sumatera Utara\n"
     ]
    }
   ],
   "execution_count": 146
  },
  {
   "cell_type": "code",
   "source": [
    "df.info()"
   ],
   "metadata": {
    "colab": {
     "base_uri": "https://localhost:8080/"
    },
    "id": "qMPBZIV3Elx_",
    "executionInfo": {
     "status": "ok",
     "timestamp": 1741880450609,
     "user_tz": -420,
     "elapsed": 488,
     "user": {
      "displayName": "Luthfi Krisna Bayu",
      "userId": "02424307416199458792"
     }
    },
    "outputId": "9d3eee90-70da-4a0e-f172-54039a21650a",
    "ExecuteTime": {
     "end_time": "2025-03-14T05:08:24.547862Z",
     "start_time": "2025-03-14T05:08:24.540419Z"
    }
   },
   "outputs": [
    {
     "name": "stdout",
     "output_type": "stream",
     "text": [
      "<class 'pandas.core.frame.DataFrame'>\n",
      "RangeIndex: 40664 entries, 0 to 40663\n",
      "Data columns (total 8 columns):\n",
      " #   Column         Non-Null Count  Dtype         \n",
      "---  ------         --------------  -----         \n",
      " 0   Tanggal        40664 non-null  datetime64[ns]\n",
      " 1   Bahan_pangan   40664 non-null  int64         \n",
      " 2   Daerah         40664 non-null  int64         \n",
      " 3   Harga_lag_1    40664 non-null  int64         \n",
      " 4   Harga_lag_7    40664 non-null  int64         \n",
      " 5   Harga_lag_30   40664 non-null  int64         \n",
      " 6   Google_trends  40664 non-null  int64         \n",
      " 7   Harga          40664 non-null  int64         \n",
      "dtypes: datetime64[ns](1), int64(7)\n",
      "memory usage: 2.5 MB\n"
     ]
    }
   ],
   "execution_count": 122
  },
  {
   "cell_type": "code",
   "source": [
    "df.describe()"
   ],
   "metadata": {
    "colab": {
     "base_uri": "https://localhost:8080/",
     "height": 301
    },
    "id": "BS5s40OHEqry",
    "executionInfo": {
     "status": "ok",
     "timestamp": 1741880451619,
     "user_tz": -420,
     "elapsed": 343,
     "user": {
      "displayName": "Luthfi Krisna Bayu",
      "userId": "02424307416199458792"
     }
    },
    "outputId": "affaefa6-af1c-4449-a3f4-22ee4a82b7f1",
    "ExecuteTime": {
     "end_time": "2025-03-14T02:41:41.128572Z",
     "start_time": "2025-03-14T02:41:40.855943Z"
    }
   },
   "outputs": [
    {
     "data": {
      "text/plain": [
       "                             Tanggal  Bahan_pangan  Daerah  Harga_lag_1  \\\n",
       "count                         471048       471,048 471,048      471,048   \n",
       "mean   2023-04-23 13:12:54.586029056             6      16       36,169   \n",
       "min              2022-01-01 00:00:00             0       0        7,480   \n",
       "25%              2022-07-24 00:00:00             3       8       14,840   \n",
       "50%              2023-04-17 00:00:00             6      16       27,860   \n",
       "75%              2024-01-08 00:00:00             9      25       39,680   \n",
       "max              2024-09-30 00:00:00            12      33      180,000   \n",
       "std                              NaN             4      10       32,684   \n",
       "\n",
       "       Harga_lag_7  Harga_lag_30  Google_trends  MYRUSD  SGDUSD  THBUSD  \\\n",
       "count      471,048       471,048        471,048 471,048 471,048 471,048   \n",
       "mean        36,176        36,167             38   3,380  11,235     435   \n",
       "min          7,480         7,480              1   3,206  10,438     399   \n",
       "25%         14,850        14,900             38   3,313  10,677     427   \n",
       "50%         28,030        28,760             38   3,361  11,308     436   \n",
       "75%         39,590        39,100             38   3,430  11,641     442   \n",
       "max        180,000       180,000            100   3,682  12,230     467   \n",
       "std         32,582        32,177             10      90     507      13   \n",
       "\n",
       "       USDIDR   Harga  \n",
       "count 471,048 471,048  \n",
       "mean   15,213  35,896  \n",
       "min    14,215   7,480  \n",
       "25%    14,823  14,650  \n",
       "50%    15,216  26,170  \n",
       "75%    15,621  40,460  \n",
       "max    16,492 180,000  \n",
       "std       580  33,359  "
      ],
      "text/html": [
       "<div>\n",
       "<style scoped>\n",
       "    .dataframe tbody tr th:only-of-type {\n",
       "        vertical-align: middle;\n",
       "    }\n",
       "\n",
       "    .dataframe tbody tr th {\n",
       "        vertical-align: top;\n",
       "    }\n",
       "\n",
       "    .dataframe thead th {\n",
       "        text-align: right;\n",
       "    }\n",
       "</style>\n",
       "<table border=\"1\" class=\"dataframe\">\n",
       "  <thead>\n",
       "    <tr style=\"text-align: right;\">\n",
       "      <th></th>\n",
       "      <th>Tanggal</th>\n",
       "      <th>Bahan_pangan</th>\n",
       "      <th>Daerah</th>\n",
       "      <th>Harga_lag_1</th>\n",
       "      <th>Harga_lag_7</th>\n",
       "      <th>Harga_lag_30</th>\n",
       "      <th>Google_trends</th>\n",
       "      <th>MYRUSD</th>\n",
       "      <th>SGDUSD</th>\n",
       "      <th>THBUSD</th>\n",
       "      <th>USDIDR</th>\n",
       "      <th>Harga</th>\n",
       "    </tr>\n",
       "  </thead>\n",
       "  <tbody>\n",
       "    <tr>\n",
       "      <th>count</th>\n",
       "      <td>471048</td>\n",
       "      <td>471,048</td>\n",
       "      <td>471,048</td>\n",
       "      <td>471,048</td>\n",
       "      <td>471,048</td>\n",
       "      <td>471,048</td>\n",
       "      <td>471,048</td>\n",
       "      <td>471,048</td>\n",
       "      <td>471,048</td>\n",
       "      <td>471,048</td>\n",
       "      <td>471,048</td>\n",
       "      <td>471,048</td>\n",
       "    </tr>\n",
       "    <tr>\n",
       "      <th>mean</th>\n",
       "      <td>2023-04-23 13:12:54.586029056</td>\n",
       "      <td>6</td>\n",
       "      <td>16</td>\n",
       "      <td>36,169</td>\n",
       "      <td>36,176</td>\n",
       "      <td>36,167</td>\n",
       "      <td>38</td>\n",
       "      <td>3,380</td>\n",
       "      <td>11,235</td>\n",
       "      <td>435</td>\n",
       "      <td>15,213</td>\n",
       "      <td>35,896</td>\n",
       "    </tr>\n",
       "    <tr>\n",
       "      <th>min</th>\n",
       "      <td>2022-01-01 00:00:00</td>\n",
       "      <td>0</td>\n",
       "      <td>0</td>\n",
       "      <td>7,480</td>\n",
       "      <td>7,480</td>\n",
       "      <td>7,480</td>\n",
       "      <td>1</td>\n",
       "      <td>3,206</td>\n",
       "      <td>10,438</td>\n",
       "      <td>399</td>\n",
       "      <td>14,215</td>\n",
       "      <td>7,480</td>\n",
       "    </tr>\n",
       "    <tr>\n",
       "      <th>25%</th>\n",
       "      <td>2022-07-24 00:00:00</td>\n",
       "      <td>3</td>\n",
       "      <td>8</td>\n",
       "      <td>14,840</td>\n",
       "      <td>14,850</td>\n",
       "      <td>14,900</td>\n",
       "      <td>38</td>\n",
       "      <td>3,313</td>\n",
       "      <td>10,677</td>\n",
       "      <td>427</td>\n",
       "      <td>14,823</td>\n",
       "      <td>14,650</td>\n",
       "    </tr>\n",
       "    <tr>\n",
       "      <th>50%</th>\n",
       "      <td>2023-04-17 00:00:00</td>\n",
       "      <td>6</td>\n",
       "      <td>16</td>\n",
       "      <td>27,860</td>\n",
       "      <td>28,030</td>\n",
       "      <td>28,760</td>\n",
       "      <td>38</td>\n",
       "      <td>3,361</td>\n",
       "      <td>11,308</td>\n",
       "      <td>436</td>\n",
       "      <td>15,216</td>\n",
       "      <td>26,170</td>\n",
       "    </tr>\n",
       "    <tr>\n",
       "      <th>75%</th>\n",
       "      <td>2024-01-08 00:00:00</td>\n",
       "      <td>9</td>\n",
       "      <td>25</td>\n",
       "      <td>39,680</td>\n",
       "      <td>39,590</td>\n",
       "      <td>39,100</td>\n",
       "      <td>38</td>\n",
       "      <td>3,430</td>\n",
       "      <td>11,641</td>\n",
       "      <td>442</td>\n",
       "      <td>15,621</td>\n",
       "      <td>40,460</td>\n",
       "    </tr>\n",
       "    <tr>\n",
       "      <th>max</th>\n",
       "      <td>2024-09-30 00:00:00</td>\n",
       "      <td>12</td>\n",
       "      <td>33</td>\n",
       "      <td>180,000</td>\n",
       "      <td>180,000</td>\n",
       "      <td>180,000</td>\n",
       "      <td>100</td>\n",
       "      <td>3,682</td>\n",
       "      <td>12,230</td>\n",
       "      <td>467</td>\n",
       "      <td>16,492</td>\n",
       "      <td>180,000</td>\n",
       "    </tr>\n",
       "    <tr>\n",
       "      <th>std</th>\n",
       "      <td>NaN</td>\n",
       "      <td>4</td>\n",
       "      <td>10</td>\n",
       "      <td>32,684</td>\n",
       "      <td>32,582</td>\n",
       "      <td>32,177</td>\n",
       "      <td>10</td>\n",
       "      <td>90</td>\n",
       "      <td>507</td>\n",
       "      <td>13</td>\n",
       "      <td>580</td>\n",
       "      <td>33,359</td>\n",
       "    </tr>\n",
       "  </tbody>\n",
       "</table>\n",
       "</div>"
      ]
     },
     "execution_count": 43,
     "metadata": {},
     "output_type": "execute_result"
    }
   ],
   "execution_count": 43
  },
  {
   "cell_type": "code",
   "source": [
    "df.head()"
   ],
   "metadata": {
    "colab": {
     "base_uri": "https://localhost:8080/",
     "height": 206
    },
    "id": "HsdyGKfMKyKP",
    "executionInfo": {
     "status": "ok",
     "timestamp": 1741880506895,
     "user_tz": -420,
     "elapsed": 750,
     "user": {
      "displayName": "Luthfi Krisna Bayu",
      "userId": "02424307416199458792"
     }
    },
    "outputId": "c93d12c9-37b0-4679-91c6-347e91d18f6e",
    "ExecuteTime": {
     "end_time": "2025-03-14T02:41:41.854399Z",
     "start_time": "2025-03-14T02:41:41.832875Z"
    }
   },
   "outputs": [
    {
     "data": {
      "text/plain": [
       "     Tanggal  Bahan_pangan  Daerah  Harga_lag_1  Harga_lag_7  Harga_lag_30  \\\n",
       "0 2022-01-01             0       0        36169        36176         36167   \n",
       "1 2022-01-01             0       1        36169        36176         36167   \n",
       "2 2022-01-01             0       2        36169        36176         36167   \n",
       "3 2022-01-01             0       0        36169        36176         36167   \n",
       "4 2022-01-01             0       1        36169        36176         36167   \n",
       "\n",
       "   Google_trends  MYRUSD  SGDUSD  THBUSD  USDIDR  Harga  \n",
       "0             38    3380   11235     435   15213  28970  \n",
       "1             38    3380   11235     435   15213  20870  \n",
       "2             38    3380   11235     435   15213  26890  \n",
       "3             38    3380   11235     435   15213  28970  \n",
       "4             38    3380   11235     435   15213  20870  "
      ],
      "text/html": [
       "<div>\n",
       "<style scoped>\n",
       "    .dataframe tbody tr th:only-of-type {\n",
       "        vertical-align: middle;\n",
       "    }\n",
       "\n",
       "    .dataframe tbody tr th {\n",
       "        vertical-align: top;\n",
       "    }\n",
       "\n",
       "    .dataframe thead th {\n",
       "        text-align: right;\n",
       "    }\n",
       "</style>\n",
       "<table border=\"1\" class=\"dataframe\">\n",
       "  <thead>\n",
       "    <tr style=\"text-align: right;\">\n",
       "      <th></th>\n",
       "      <th>Tanggal</th>\n",
       "      <th>Bahan_pangan</th>\n",
       "      <th>Daerah</th>\n",
       "      <th>Harga_lag_1</th>\n",
       "      <th>Harga_lag_7</th>\n",
       "      <th>Harga_lag_30</th>\n",
       "      <th>Google_trends</th>\n",
       "      <th>MYRUSD</th>\n",
       "      <th>SGDUSD</th>\n",
       "      <th>THBUSD</th>\n",
       "      <th>USDIDR</th>\n",
       "      <th>Harga</th>\n",
       "    </tr>\n",
       "  </thead>\n",
       "  <tbody>\n",
       "    <tr>\n",
       "      <th>0</th>\n",
       "      <td>2022-01-01</td>\n",
       "      <td>0</td>\n",
       "      <td>0</td>\n",
       "      <td>36169</td>\n",
       "      <td>36176</td>\n",
       "      <td>36167</td>\n",
       "      <td>38</td>\n",
       "      <td>3380</td>\n",
       "      <td>11235</td>\n",
       "      <td>435</td>\n",
       "      <td>15213</td>\n",
       "      <td>28970</td>\n",
       "    </tr>\n",
       "    <tr>\n",
       "      <th>1</th>\n",
       "      <td>2022-01-01</td>\n",
       "      <td>0</td>\n",
       "      <td>1</td>\n",
       "      <td>36169</td>\n",
       "      <td>36176</td>\n",
       "      <td>36167</td>\n",
       "      <td>38</td>\n",
       "      <td>3380</td>\n",
       "      <td>11235</td>\n",
       "      <td>435</td>\n",
       "      <td>15213</td>\n",
       "      <td>20870</td>\n",
       "    </tr>\n",
       "    <tr>\n",
       "      <th>2</th>\n",
       "      <td>2022-01-01</td>\n",
       "      <td>0</td>\n",
       "      <td>2</td>\n",
       "      <td>36169</td>\n",
       "      <td>36176</td>\n",
       "      <td>36167</td>\n",
       "      <td>38</td>\n",
       "      <td>3380</td>\n",
       "      <td>11235</td>\n",
       "      <td>435</td>\n",
       "      <td>15213</td>\n",
       "      <td>26890</td>\n",
       "    </tr>\n",
       "    <tr>\n",
       "      <th>3</th>\n",
       "      <td>2022-01-01</td>\n",
       "      <td>0</td>\n",
       "      <td>0</td>\n",
       "      <td>36169</td>\n",
       "      <td>36176</td>\n",
       "      <td>36167</td>\n",
       "      <td>38</td>\n",
       "      <td>3380</td>\n",
       "      <td>11235</td>\n",
       "      <td>435</td>\n",
       "      <td>15213</td>\n",
       "      <td>28970</td>\n",
       "    </tr>\n",
       "    <tr>\n",
       "      <th>4</th>\n",
       "      <td>2022-01-01</td>\n",
       "      <td>0</td>\n",
       "      <td>1</td>\n",
       "      <td>36169</td>\n",
       "      <td>36176</td>\n",
       "      <td>36167</td>\n",
       "      <td>38</td>\n",
       "      <td>3380</td>\n",
       "      <td>11235</td>\n",
       "      <td>435</td>\n",
       "      <td>15213</td>\n",
       "      <td>20870</td>\n",
       "    </tr>\n",
       "  </tbody>\n",
       "</table>\n",
       "</div>"
      ]
     },
     "execution_count": 44,
     "metadata": {},
     "output_type": "execute_result"
    }
   ],
   "execution_count": 44
  },
  {
   "cell_type": "code",
   "source": [
    "df.tail()"
   ],
   "metadata": {
    "colab": {
     "base_uri": "https://localhost:8080/",
     "height": 206
    },
    "id": "sKIGoikiK01i",
    "executionInfo": {
     "status": "ok",
     "timestamp": 1741880519227,
     "user_tz": -420,
     "elapsed": 331,
     "user": {
      "displayName": "Luthfi Krisna Bayu",
      "userId": "02424307416199458792"
     }
    },
    "outputId": "058eb8b2-c520-4d75-8cbc-d7c141adf470",
    "ExecuteTime": {
     "end_time": "2025-03-14T02:41:42.892867Z",
     "start_time": "2025-03-14T02:41:42.877536Z"
    }
   },
   "outputs": [
    {
     "data": {
      "text/plain": [
       "          Tanggal  Bahan_pangan  Daerah  Harga_lag_1  Harga_lag_7  \\\n",
       "471044 2024-09-30            12      29         9680         9720   \n",
       "471045 2024-09-30            12      30        10760        10760   \n",
       "471046 2024-09-30            12      31         9830         9760   \n",
       "471047 2024-09-30            12      32         8960         8940   \n",
       "471048 2024-09-30            12      33        10710        10520   \n",
       "\n",
       "        Harga_lag_30  Google_trends  MYRUSD  SGDUSD  THBUSD  USDIDR  Harga  \n",
       "471044          9810             38    3670   11804     467   15118   9620  \n",
       "471045         10770             38    3670   11804     467   15118  10690  \n",
       "471046          9800             38    3670   11804     467   15118   9920  \n",
       "471047          8970             38    3670   11804     467   15118   8960  \n",
       "471048         10870             38    3670   11804     467   15118  10640  "
      ],
      "text/html": [
       "<div>\n",
       "<style scoped>\n",
       "    .dataframe tbody tr th:only-of-type {\n",
       "        vertical-align: middle;\n",
       "    }\n",
       "\n",
       "    .dataframe tbody tr th {\n",
       "        vertical-align: top;\n",
       "    }\n",
       "\n",
       "    .dataframe thead th {\n",
       "        text-align: right;\n",
       "    }\n",
       "</style>\n",
       "<table border=\"1\" class=\"dataframe\">\n",
       "  <thead>\n",
       "    <tr style=\"text-align: right;\">\n",
       "      <th></th>\n",
       "      <th>Tanggal</th>\n",
       "      <th>Bahan_pangan</th>\n",
       "      <th>Daerah</th>\n",
       "      <th>Harga_lag_1</th>\n",
       "      <th>Harga_lag_7</th>\n",
       "      <th>Harga_lag_30</th>\n",
       "      <th>Google_trends</th>\n",
       "      <th>MYRUSD</th>\n",
       "      <th>SGDUSD</th>\n",
       "      <th>THBUSD</th>\n",
       "      <th>USDIDR</th>\n",
       "      <th>Harga</th>\n",
       "    </tr>\n",
       "  </thead>\n",
       "  <tbody>\n",
       "    <tr>\n",
       "      <th>471044</th>\n",
       "      <td>2024-09-30</td>\n",
       "      <td>12</td>\n",
       "      <td>29</td>\n",
       "      <td>9680</td>\n",
       "      <td>9720</td>\n",
       "      <td>9810</td>\n",
       "      <td>38</td>\n",
       "      <td>3670</td>\n",
       "      <td>11804</td>\n",
       "      <td>467</td>\n",
       "      <td>15118</td>\n",
       "      <td>9620</td>\n",
       "    </tr>\n",
       "    <tr>\n",
       "      <th>471045</th>\n",
       "      <td>2024-09-30</td>\n",
       "      <td>12</td>\n",
       "      <td>30</td>\n",
       "      <td>10760</td>\n",
       "      <td>10760</td>\n",
       "      <td>10770</td>\n",
       "      <td>38</td>\n",
       "      <td>3670</td>\n",
       "      <td>11804</td>\n",
       "      <td>467</td>\n",
       "      <td>15118</td>\n",
       "      <td>10690</td>\n",
       "    </tr>\n",
       "    <tr>\n",
       "      <th>471046</th>\n",
       "      <td>2024-09-30</td>\n",
       "      <td>12</td>\n",
       "      <td>31</td>\n",
       "      <td>9830</td>\n",
       "      <td>9760</td>\n",
       "      <td>9800</td>\n",
       "      <td>38</td>\n",
       "      <td>3670</td>\n",
       "      <td>11804</td>\n",
       "      <td>467</td>\n",
       "      <td>15118</td>\n",
       "      <td>9920</td>\n",
       "    </tr>\n",
       "    <tr>\n",
       "      <th>471047</th>\n",
       "      <td>2024-09-30</td>\n",
       "      <td>12</td>\n",
       "      <td>32</td>\n",
       "      <td>8960</td>\n",
       "      <td>8940</td>\n",
       "      <td>8970</td>\n",
       "      <td>38</td>\n",
       "      <td>3670</td>\n",
       "      <td>11804</td>\n",
       "      <td>467</td>\n",
       "      <td>15118</td>\n",
       "      <td>8960</td>\n",
       "    </tr>\n",
       "    <tr>\n",
       "      <th>471048</th>\n",
       "      <td>2024-09-30</td>\n",
       "      <td>12</td>\n",
       "      <td>33</td>\n",
       "      <td>10710</td>\n",
       "      <td>10520</td>\n",
       "      <td>10870</td>\n",
       "      <td>38</td>\n",
       "      <td>3670</td>\n",
       "      <td>11804</td>\n",
       "      <td>467</td>\n",
       "      <td>15118</td>\n",
       "      <td>10640</td>\n",
       "    </tr>\n",
       "  </tbody>\n",
       "</table>\n",
       "</div>"
      ]
     },
     "execution_count": 45,
     "metadata": {},
     "output_type": "execute_result"
    }
   ],
   "execution_count": 45
  },
  {
   "cell_type": "markdown",
   "source": [
    "# &nbsp; 4. Outliers Identify"
   ],
   "metadata": {
    "id": "zrqsyVn2rG43"
   }
  },
  {
   "cell_type": "markdown",
   "source": [
    "**Hati-Hati nge running bagian Outliers. Untuk bab 4. Outliers Identify running 1x gpp**"
   ],
   "metadata": {
    "id": "tFJtfojWSjd9"
   }
  },
  {
   "cell_type": "code",
   "source": [
    "# Visualisasi dengan box plot\n",
    "plt.figure(figsize=(10, 6))\n",
    "sns.boxplot(df)\n",
    "plt.title('Box plot untuk mendeteksi outliers')\n",
    "plt.xticks(rotation=45)\n",
    "plt.show()"
   ],
   "metadata": {
    "colab": {
     "base_uri": "https://localhost:8080/",
     "height": 614
    },
    "id": "YvbV5nFFvKke",
    "executionInfo": {
     "status": "ok",
     "timestamp": 1741880553961,
     "user_tz": -420,
     "elapsed": 22206,
     "user": {
      "displayName": "Luthfi Krisna Bayu",
      "userId": "02424307416199458792"
     }
    },
    "outputId": "23d9f6c4-c5ad-46f8-bff7-a7341e6511a3",
    "ExecuteTime": {
     "end_time": "2025-03-14T02:42:01.377715Z",
     "start_time": "2025-03-14T02:41:45.844672Z"
    }
   },
   "outputs": [
    {
     "data": {
      "text/plain": [
       "<Figure size 1000x600 with 1 Axes>"
      ],
      "image/png": "[encoded data removed]"
     },
     "metadata": {},
     "output_type": "display_data"
    }
   ],
   "execution_count": 46
  },
  {
   "cell_type": "markdown",
   "source": [
    "## &nbsp; 4.1 Outliers of harga_lag_1"
   ],
   "metadata": {
    "id": "iFGaFdZxsqCl"
   }
  },
  {
   "cell_type": "markdown",
   "source": [
    "**This outliers adjustment uses the IQR (Inter Quartile Range) Technique**"
   ],
   "metadata": {
    "id": "-Y2_tG_1syoq"
   }
  },
  {
   "cell_type": "markdown",
   "source": [
    "**Bagian ini 4.1 lalu 4.1.1 lalu 4.1.2 di running. Setelah itu balik lagi running 4.1 sampai 4.1.2. Pokok nya cek sampe Boxplotnya gaada outliers. Sama seperti yang lain juga ya (4.2 juga sama dan seterusnya sampe outliers harga)**"
   ],
   "metadata": {
    "id": "PDe_XAVTS5Pq"
   }
  },
  {
   "cell_type": "code",
   "source": [
    "# Hitung Q1 dan Q3\n",
    "Q1 = df['Harga_lag_1'].quantile(0.25)\n",
    "Q3 = df['Harga_lag_1'].quantile(0.75)\n",
    "\n",
    "# Hitung IQR\n",
    "IQR = Q3 - Q1\n",
    "\n",
    "# Tentukan batas atas dan batas bawah\n",
    "upper_bound = Q3 + 1.5 * IQR\n",
    "lower_bound = Q1 - 1.5 * IQR\n",
    "\n",
    "# Identifikasi outliers\n",
    "outliers = df[(df['Harga_lag_1'] < lower_bound) | (df['Harga_lag_1'] > upper_bound)]\n",
    "\n",
    "# Tampilkan outliers\n",
    "print(\"Outliers:\")\n",
    "outliers"
   ],
   "metadata": {
    "colab": {
     "base_uri": "https://localhost:8080/",
     "height": 441
    },
    "id": "RcvwVY2yrpNa",
    "executionInfo": {
     "status": "ok",
     "timestamp": 1741880609230,
     "user_tz": -420,
     "elapsed": 423,
     "user": {
      "displayName": "Luthfi Krisna Bayu",
      "userId": "02424307416199458792"
     }
    },
    "outputId": "5d935b7d-6be2-4251-ae13-ad30cf33567a",
    "ExecuteTime": {
     "end_time": "2025-03-14T02:42:56.147435Z",
     "start_time": "2025-03-14T02:42:56.111847Z"
    }
   },
   "outputs": [
    {
     "name": "stdout",
     "output_type": "stream",
     "text": [
      "Outliers:\n"
     ]
    },
    {
     "data": {
      "text/plain": [
       "          Tanggal  Bahan_pangan  Daerah  Harga_lag_1  Harga_lag_7  \\\n",
       "907    2022-01-02             4      11       71,580       36,176   \n",
       "908    2022-01-02             4      12       70,710       36,176   \n",
       "909    2022-01-02             4      13       75,030       36,176   \n",
       "910    2022-01-02             4      14       73,790       36,176   \n",
       "916    2022-01-02             4      19       74,100       36,176   \n",
       "...           ...           ...     ...          ...          ...   \n",
       "470783 2024-09-30             5       6       71,700       72,050   \n",
       "470788 2024-09-30             5      11       68,870       71,440   \n",
       "470792 2024-09-30             5      15       75,030       36,176   \n",
       "470797 2024-09-30             5      19       69,310       68,470   \n",
       "470807 2024-09-30             5      30       73,840       75,210   \n",
       "\n",
       "        Harga_lag_30  Google_trends  MYRUSD  SGDUSD  THBUSD  USDIDR  Harga  \n",
       "907           36,167             38    3380   11235     435   15213 75,430  \n",
       "908           36,167             38    3380   11235     435   15213 59,180  \n",
       "909           36,167             38    3380   11235     435   15213 74,010  \n",
       "910           36,167             38    3380   11235     435   15213 72,230  \n",
       "916           36,167             38    3380   11235     435   15213 69,850  \n",
       "...              ...            ...     ...     ...     ...     ...    ...  \n",
       "470783        64,020             38    3670   11804     467   15118 70,400  \n",
       "470788        72,750             38    3670   11804     467   15118 66,110  \n",
       "470792        36,167             38    3670   11804     467   15118 75,950  \n",
       "470797        74,520             38    3670   11804     467   15118 64,170  \n",
       "470807        65,080             38    3670   11804     467   15118 74,260  \n",
       "\n",
       "[6642 rows x 12 columns]"
      ],
      "text/html": [
       "<div>\n",
       "<style scoped>\n",
       "    .dataframe tbody tr th:only-of-type {\n",
       "        vertical-align: middle;\n",
       "    }\n",
       "\n",
       "    .dataframe tbody tr th {\n",
       "        vertical-align: top;\n",
       "    }\n",
       "\n",
       "    .dataframe thead th {\n",
       "        text-align: right;\n",
       "    }\n",
       "</style>\n",
       "<table border=\"1\" class=\"dataframe\">\n",
       "  <thead>\n",
       "    <tr style=\"text-align: right;\">\n",
       "      <th></th>\n",
       "      <th>Tanggal</th>\n",
       "      <th>Bahan_pangan</th>\n",
       "      <th>Daerah</th>\n",
       "      <th>Harga_lag_1</th>\n",
       "      <th>Harga_lag_7</th>\n",
       "      <th>Harga_lag_30</th>\n",
       "      <th>Google_trends</th>\n",
       "      <th>MYRUSD</th>\n",
       "      <th>SGDUSD</th>\n",
       "      <th>THBUSD</th>\n",
       "      <th>USDIDR</th>\n",
       "      <th>Harga</th>\n",
       "    </tr>\n",
       "  </thead>\n",
       "  <tbody>\n",
       "    <tr>\n",
       "      <th>907</th>\n",
       "      <td>2022-01-02</td>\n",
       "      <td>4</td>\n",
       "      <td>11</td>\n",
       "      <td>71,580</td>\n",
       "      <td>36,176</td>\n",
       "      <td>36,167</td>\n",
       "      <td>38</td>\n",
       "      <td>3380</td>\n",
       "      <td>11235</td>\n",
       "      <td>435</td>\n",
       "      <td>15213</td>\n",
       "      <td>75,430</td>\n",
       "    </tr>\n",
       "    <tr>\n",
       "      <th>908</th>\n",
       "      <td>2022-01-02</td>\n",
       "      <td>4</td>\n",
       "      <td>12</td>\n",
       "      <td>70,710</td>\n",
       "      <td>36,176</td>\n",
       "      <td>36,167</td>\n",
       "      <td>38</td>\n",
       "      <td>3380</td>\n",
       "      <td>11235</td>\n",
       "      <td>435</td>\n",
       "      <td>15213</td>\n",
       "      <td>59,180</td>\n",
       "    </tr>\n",
       "    <tr>\n",
       "      <th>909</th>\n",
       "      <td>2022-01-02</td>\n",
       "      <td>4</td>\n",
       "      <td>13</td>\n",
       "      <td>75,030</td>\n",
       "      <td>36,176</td>\n",
       "      <td>36,167</td>\n",
       "      <td>38</td>\n",
       "      <td>3380</td>\n",
       "      <td>11235</td>\n",
       "      <td>435</td>\n",
       "      <td>15213</td>\n",
       "      <td>74,010</td>\n",
       "    </tr>\n",
       "    <tr>\n",
       "      <th>910</th>\n",
       "      <td>2022-01-02</td>\n",
       "      <td>4</td>\n",
       "      <td>14</td>\n",
       "      <td>73,790</td>\n",
       "      <td>36,176</td>\n",
       "      <td>36,167</td>\n",
       "      <td>38</td>\n",
       "      <td>3380</td>\n",
       "      <td>11235</td>\n",
       "      <td>435</td>\n",
       "      <td>15213</td>\n",
       "      <td>72,230</td>\n",
       "    </tr>\n",
       "    <tr>\n",
       "      <th>916</th>\n",
       "      <td>2022-01-02</td>\n",
       "      <td>4</td>\n",
       "      <td>19</td>\n",
       "      <td>74,100</td>\n",
       "      <td>36,176</td>\n",
       "      <td>36,167</td>\n",
       "      <td>38</td>\n",
       "      <td>3380</td>\n",
       "      <td>11235</td>\n",
       "      <td>435</td>\n",
       "      <td>15213</td>\n",
       "      <td>69,850</td>\n",
       "    </tr>\n",
       "    <tr>\n",
       "      <th>...</th>\n",
       "      <td>...</td>\n",
       "      <td>...</td>\n",
       "      <td>...</td>\n",
       "      <td>...</td>\n",
       "      <td>...</td>\n",
       "      <td>...</td>\n",
       "      <td>...</td>\n",
       "      <td>...</td>\n",
       "      <td>...</td>\n",
       "      <td>...</td>\n",
       "      <td>...</td>\n",
       "      <td>...</td>\n",
       "    </tr>\n",
       "    <tr>\n",
       "      <th>470783</th>\n",
       "      <td>2024-09-30</td>\n",
       "      <td>5</td>\n",
       "      <td>6</td>\n",
       "      <td>71,700</td>\n",
       "      <td>72,050</td>\n",
       "      <td>64,020</td>\n",
       "      <td>38</td>\n",
       "      <td>3670</td>\n",
       "      <td>11804</td>\n",
       "      <td>467</td>\n",
       "      <td>15118</td>\n",
       "      <td>70,400</td>\n",
       "    </tr>\n",
       "    <tr>\n",
       "      <th>470788</th>\n",
       "      <td>2024-09-30</td>\n",
       "      <td>5</td>\n",
       "      <td>11</td>\n",
       "      <td>68,870</td>\n",
       "      <td>71,440</td>\n",
       "      <td>72,750</td>\n",
       "      <td>38</td>\n",
       "      <td>3670</td>\n",
       "      <td>11804</td>\n",
       "      <td>467</td>\n",
       "      <td>15118</td>\n",
       "      <td>66,110</td>\n",
       "    </tr>\n",
       "    <tr>\n",
       "      <th>470792</th>\n",
       "      <td>2024-09-30</td>\n",
       "      <td>5</td>\n",
       "      <td>15</td>\n",
       "      <td>75,030</td>\n",
       "      <td>36,176</td>\n",
       "      <td>36,167</td>\n",
       "      <td>38</td>\n",
       "      <td>3670</td>\n",
       "      <td>11804</td>\n",
       "      <td>467</td>\n",
       "      <td>15118</td>\n",
       "      <td>75,950</td>\n",
       "    </tr>\n",
       "    <tr>\n",
       "      <th>470797</th>\n",
       "      <td>2024-09-30</td>\n",
       "      <td>5</td>\n",
       "      <td>19</td>\n",
       "      <td>69,310</td>\n",
       "      <td>68,470</td>\n",
       "      <td>74,520</td>\n",
       "      <td>38</td>\n",
       "      <td>3670</td>\n",
       "      <td>11804</td>\n",
       "      <td>467</td>\n",
       "      <td>15118</td>\n",
       "      <td>64,170</td>\n",
       "    </tr>\n",
       "    <tr>\n",
       "      <th>470807</th>\n",
       "      <td>2024-09-30</td>\n",
       "      <td>5</td>\n",
       "      <td>30</td>\n",
       "      <td>73,840</td>\n",
       "      <td>75,210</td>\n",
       "      <td>65,080</td>\n",
       "      <td>38</td>\n",
       "      <td>3670</td>\n",
       "      <td>11804</td>\n",
       "      <td>467</td>\n",
       "      <td>15118</td>\n",
       "      <td>74,260</td>\n",
       "    </tr>\n",
       "  </tbody>\n",
       "</table>\n",
       "<p>6642 rows × 12 columns</p>\n",
       "</div>"
      ]
     },
     "execution_count": 60,
     "metadata": {},
     "output_type": "execute_result"
    }
   ],
   "execution_count": 60
  },
  {
   "cell_type": "markdown",
   "source": [
    "### 4.1.1 &nbsp; Adjust Outliers harga_lag_1 with Mean"
   ],
   "metadata": {
    "id": "p8nnHrjUw1ks"
   }
  },
  {
   "cell_type": "code",
   "source": [
    "# Hitung Q1 dan Q3\n",
    "Q1 = df['Harga_lag_1'].quantile(0.25)\n",
    "Q3 = df['Harga_lag_1'].quantile(0.75)\n",
    "\n",
    "# Hitung IQR\n",
    "IQR = Q3 - Q1\n",
    "\n",
    "# Tentukan batas atas dan batas bawah\n",
    "upper_bound = Q3 + 1.5 * IQR\n",
    "lower_bound = Q1 - 1.5 * IQR\n",
    "\n",
    "# Hitung mean dari kolom 'Harga_lag_1'\n",
    "mean_harga_lag_1 = df['Harga_lag_1'].mean()\n",
    "\n",
    "# Ganti nilai outliers dengan mean\n",
    "df['Harga_lag_1'] = df['Harga_lag_1'].apply(\n",
    "    lambda x: mean_harga_lag_1 if x < lower_bound or x > upper_bound else x\n",
    ")\n",
    "\n",
    "# Tampilkan hasil setelah mengganti outliers\n",
    "print(\"Setelah mengganti outliers dengan mean:\")\n",
    "df['Harga_lag_1'].describe()"
   ],
   "metadata": {
    "colab": {
     "base_uri": "https://localhost:8080/",
     "height": 353
    },
    "id": "YZOUmYF-HmcO",
    "executionInfo": {
     "status": "ok",
     "timestamp": 1741880613829,
     "user_tz": -420,
     "elapsed": 327,
     "user": {
      "displayName": "Luthfi Krisna Bayu",
      "userId": "02424307416199458792"
     }
    },
    "outputId": "538c3203-82b1-4345-b796-41bcac401d8e",
    "ExecuteTime": {
     "end_time": "2025-03-14T02:42:57.915529Z",
     "start_time": "2025-03-14T02:42:57.739075Z"
    }
   },
   "outputs": [
    {
     "name": "stdout",
     "output_type": "stream",
     "text": [
      "Setelah mengganti outliers dengan mean:\n"
     ]
    },
    {
     "data": {
      "text/plain": [
       "count   471,048\n",
       "mean     27,340\n",
       "std      13,337\n",
       "min       7,480\n",
       "25%      14,840\n",
       "50%      27,860\n",
       "75%      36,169\n",
       "max      68,160\n",
       "Name: Harga_lag_1, dtype: float64"
      ]
     },
     "execution_count": 61,
     "metadata": {},
     "output_type": "execute_result"
    }
   ],
   "execution_count": 61
  },
  {
   "cell_type": "markdown",
   "source": [
    "### 4.1.2&nbsp; Boxplot harga_lag_1 After Adjust"
   ],
   "metadata": {
    "id": "Hk2gI7F4x4bZ"
   }
  },
  {
   "cell_type": "markdown",
   "source": [
    "**Pokoknya patokan adjustment outliers berhasil kalau Boxplotnya bersih (bebas dari outliers)**"
   ],
   "metadata": {
    "id": "TG7J8yxpTfQg"
   }
  },
  {
   "cell_type": "code",
   "source": [
    "# Membuat boxplot untuk kolom 'harga_lag_1' setelah Adjustment with Mean\n",
    "plt.figure(figsize=(8, 6))\n",
    "sns.boxplot(df['Harga_lag_1'])\n",
    "plt.title('Boxplot untuk Kolom harga_lag_1 setelah Adjustment with Mean')\n",
    "plt.show()"
   ],
   "metadata": {
    "colab": {
     "base_uri": "https://localhost:8080/",
     "height": 526
    },
    "id": "qlau1WywxgXa",
    "executionInfo": {
     "status": "ok",
     "timestamp": 1741880617873,
     "user_tz": -420,
     "elapsed": 516,
     "user": {
      "displayName": "Luthfi Krisna Bayu",
      "userId": "02424307416199458792"
     }
    },
    "outputId": "4aa4c8b5-1cc3-4dfb-ec1e-6904ac2b6459",
    "ExecuteTime": {
     "end_time": "2025-03-14T02:43:01.295666Z",
     "start_time": "2025-03-14T02:43:00.453002Z"
    }
   },
   "outputs": [
    {
     "data": {
      "text/plain": [
       "<Figure size 800x600 with 1 Axes>"
      ],
      "image/png": "[encoded data removed]"
     },
     "metadata": {},
     "output_type": "display_data"
    }
   ],
   "execution_count": 62
  },
  {
   "cell_type": "markdown",
   "source": [
    "## &nbsp; 4.2 Outliers of harga_lag_7"
   ],
   "metadata": {
    "id": "8ketfUJYyobn"
   }
  },
  {
   "cell_type": "code",
   "source": [
    "# Hitung Q1 dan Q3\n",
    "Q1 = df['Harga_lag_7'].quantile(0.25)\n",
    "Q3 = df['Harga_lag_7'].quantile(0.75)\n",
    "\n",
    "# Hitung IQR\n",
    "IQR = Q3 - Q1\n",
    "\n",
    "# Tentukan batas atas dan batas bawah\n",
    "upper_bound = Q3 + 1.5 * IQR\n",
    "lower_bound = Q1 - 1.5 * IQR\n",
    "\n",
    "# Identifikasi outliers\n",
    "outliers = df[(df['Harga_lag_7'] < lower_bound) | (df['Harga_lag_7'] > upper_bound)]\n",
    "\n",
    "# Tampilkan outliers\n",
    "print(\"Outliers:\")\n",
    "outliers"
   ],
   "metadata": {
    "colab": {
     "base_uri": "https://localhost:8080/",
     "height": 441
    },
    "id": "-8evd1OUyHym",
    "executionInfo": {
     "status": "ok",
     "timestamp": 1741880667327,
     "user_tz": -420,
     "elapsed": 258,
     "user": {
      "displayName": "Luthfi Krisna Bayu",
      "userId": "02424307416199458792"
     }
    },
    "outputId": "75ae5218-4bc7-4eda-f990-042fed8873b9",
    "ExecuteTime": {
     "end_time": "2025-03-14T02:43:02.245689Z",
     "start_time": "2025-03-14T02:43:02.214183Z"
    }
   },
   "outputs": [
    {
     "name": "stdout",
     "output_type": "stream",
     "text": [
      "Outliers:\n"
     ]
    },
    {
     "data": {
      "text/plain": [
       "          Tanggal  Bahan_pangan  Daerah  Harga_lag_1  Harga_lag_7  \\\n",
       "3559   2022-01-08             4      11       60,060       71,580   \n",
       "3560   2022-01-08             4      12       60,230       70,710   \n",
       "3561   2022-01-08             4      13       27,963       75,030   \n",
       "3562   2022-01-08             4      14       61,210       73,790   \n",
       "3568   2022-01-08             4      19       66,830       74,100   \n",
       "...           ...           ...     ...          ...          ...   \n",
       "470365 2024-09-29             5      30       27,963       74,310   \n",
       "470783 2024-09-30             5       6       27,963       72,050   \n",
       "470788 2024-09-30             5      11       27,963       71,440   \n",
       "470797 2024-09-30             5      19       27,963       68,470   \n",
       "470807 2024-09-30             5      30       27,963       75,210   \n",
       "\n",
       "        Harga_lag_30  Google_trends  MYRUSD  SGDUSD  THBUSD  USDIDR  Harga  \n",
       "3559          36,167             38    3422   10587     429   14408 65,510  \n",
       "3560          36,167             38    3422   10587     429   14408 59,510  \n",
       "3561          36,167             38    3422   10587     429   14408 70,480  \n",
       "3562          36,167             38    3422   10587     429   14408 56,350  \n",
       "3568          36,167             38    3422   10587     429   14408 66,680  \n",
       "...              ...            ...     ...     ...     ...     ...    ...  \n",
       "470365        66,660             38    3640   11738     466   15070 73,840  \n",
       "470783        64,020             38    3670   11804     467   15118 70,400  \n",
       "470788        72,750             38    3670   11804     467   15118 66,110  \n",
       "470797        74,520             38    3670   11804     467   15118 64,170  \n",
       "470807        65,080             38    3670   11804     467   15118 74,260  \n",
       "\n",
       "[6500 rows x 12 columns]"
      ],
      "text/html": [
       "<div>\n",
       "<style scoped>\n",
       "    .dataframe tbody tr th:only-of-type {\n",
       "        vertical-align: middle;\n",
       "    }\n",
       "\n",
       "    .dataframe tbody tr th {\n",
       "        vertical-align: top;\n",
       "    }\n",
       "\n",
       "    .dataframe thead th {\n",
       "        text-align: right;\n",
       "    }\n",
       "</style>\n",
       "<table border=\"1\" class=\"dataframe\">\n",
       "  <thead>\n",
       "    <tr style=\"text-align: right;\">\n",
       "      <th></th>\n",
       "      <th>Tanggal</th>\n",
       "      <th>Bahan_pangan</th>\n",
       "      <th>Daerah</th>\n",
       "      <th>Harga_lag_1</th>\n",
       "      <th>Harga_lag_7</th>\n",
       "      <th>Harga_lag_30</th>\n",
       "      <th>Google_trends</th>\n",
       "      <th>MYRUSD</th>\n",
       "      <th>SGDUSD</th>\n",
       "      <th>THBUSD</th>\n",
       "      <th>USDIDR</th>\n",
       "      <th>Harga</th>\n",
       "    </tr>\n",
       "  </thead>\n",
       "  <tbody>\n",
       "    <tr>\n",
       "      <th>3559</th>\n",
       "      <td>2022-01-08</td>\n",
       "      <td>4</td>\n",
       "      <td>11</td>\n",
       "      <td>60,060</td>\n",
       "      <td>71,580</td>\n",
       "      <td>36,167</td>\n",
       "      <td>38</td>\n",
       "      <td>3422</td>\n",
       "      <td>10587</td>\n",
       "      <td>429</td>\n",
       "      <td>14408</td>\n",
       "      <td>65,510</td>\n",
       "    </tr>\n",
       "    <tr>\n",
       "      <th>3560</th>\n",
       "      <td>2022-01-08</td>\n",
       "      <td>4</td>\n",
       "      <td>12</td>\n",
       "      <td>60,230</td>\n",
       "      <td>70,710</td>\n",
       "      <td>36,167</td>\n",
       "      <td>38</td>\n",
       "      <td>3422</td>\n",
       "      <td>10587</td>\n",
       "      <td>429</td>\n",
       "      <td>14408</td>\n",
       "      <td>59,510</td>\n",
       "    </tr>\n",
       "    <tr>\n",
       "      <th>3561</th>\n",
       "      <td>2022-01-08</td>\n",
       "      <td>4</td>\n",
       "      <td>13</td>\n",
       "      <td>27,963</td>\n",
       "      <td>75,030</td>\n",
       "      <td>36,167</td>\n",
       "      <td>38</td>\n",
       "      <td>3422</td>\n",
       "      <td>10587</td>\n",
       "      <td>429</td>\n",
       "      <td>14408</td>\n",
       "      <td>70,480</td>\n",
       "    </tr>\n",
       "    <tr>\n",
       "      <th>3562</th>\n",
       "      <td>2022-01-08</td>\n",
       "      <td>4</td>\n",
       "      <td>14</td>\n",
       "      <td>61,210</td>\n",
       "      <td>73,790</td>\n",
       "      <td>36,167</td>\n",
       "      <td>38</td>\n",
       "      <td>3422</td>\n",
       "      <td>10587</td>\n",
       "      <td>429</td>\n",
       "      <td>14408</td>\n",
       "      <td>56,350</td>\n",
       "    </tr>\n",
       "    <tr>\n",
       "      <th>3568</th>\n",
       "      <td>2022-01-08</td>\n",
       "      <td>4</td>\n",
       "      <td>19</td>\n",
       "      <td>66,830</td>\n",
       "      <td>74,100</td>\n",
       "      <td>36,167</td>\n",
       "      <td>38</td>\n",
       "      <td>3422</td>\n",
       "      <td>10587</td>\n",
       "      <td>429</td>\n",
       "      <td>14408</td>\n",
       "      <td>66,680</td>\n",
       "    </tr>\n",
       "    <tr>\n",
       "      <th>...</th>\n",
       "      <td>...</td>\n",
       "      <td>...</td>\n",
       "      <td>...</td>\n",
       "      <td>...</td>\n",
       "      <td>...</td>\n",
       "      <td>...</td>\n",
       "      <td>...</td>\n",
       "      <td>...</td>\n",
       "      <td>...</td>\n",
       "      <td>...</td>\n",
       "      <td>...</td>\n",
       "      <td>...</td>\n",
       "    </tr>\n",
       "    <tr>\n",
       "      <th>470365</th>\n",
       "      <td>2024-09-29</td>\n",
       "      <td>5</td>\n",
       "      <td>30</td>\n",
       "      <td>27,963</td>\n",
       "      <td>74,310</td>\n",
       "      <td>66,660</td>\n",
       "      <td>38</td>\n",
       "      <td>3640</td>\n",
       "      <td>11738</td>\n",
       "      <td>466</td>\n",
       "      <td>15070</td>\n",
       "      <td>73,840</td>\n",
       "    </tr>\n",
       "    <tr>\n",
       "      <th>470783</th>\n",
       "      <td>2024-09-30</td>\n",
       "      <td>5</td>\n",
       "      <td>6</td>\n",
       "      <td>27,963</td>\n",
       "      <td>72,050</td>\n",
       "      <td>64,020</td>\n",
       "      <td>38</td>\n",
       "      <td>3670</td>\n",
       "      <td>11804</td>\n",
       "      <td>467</td>\n",
       "      <td>15118</td>\n",
       "      <td>70,400</td>\n",
       "    </tr>\n",
       "    <tr>\n",
       "      <th>470788</th>\n",
       "      <td>2024-09-30</td>\n",
       "      <td>5</td>\n",
       "      <td>11</td>\n",
       "      <td>27,963</td>\n",
       "      <td>71,440</td>\n",
       "      <td>72,750</td>\n",
       "      <td>38</td>\n",
       "      <td>3670</td>\n",
       "      <td>11804</td>\n",
       "      <td>467</td>\n",
       "      <td>15118</td>\n",
       "      <td>66,110</td>\n",
       "    </tr>\n",
       "    <tr>\n",
       "      <th>470797</th>\n",
       "      <td>2024-09-30</td>\n",
       "      <td>5</td>\n",
       "      <td>19</td>\n",
       "      <td>27,963</td>\n",
       "      <td>68,470</td>\n",
       "      <td>74,520</td>\n",
       "      <td>38</td>\n",
       "      <td>3670</td>\n",
       "      <td>11804</td>\n",
       "      <td>467</td>\n",
       "      <td>15118</td>\n",
       "      <td>64,170</td>\n",
       "    </tr>\n",
       "    <tr>\n",
       "      <th>470807</th>\n",
       "      <td>2024-09-30</td>\n",
       "      <td>5</td>\n",
       "      <td>30</td>\n",
       "      <td>27,963</td>\n",
       "      <td>75,210</td>\n",
       "      <td>65,080</td>\n",
       "      <td>38</td>\n",
       "      <td>3670</td>\n",
       "      <td>11804</td>\n",
       "      <td>467</td>\n",
       "      <td>15118</td>\n",
       "      <td>74,260</td>\n",
       "    </tr>\n",
       "  </tbody>\n",
       "</table>\n",
       "<p>6500 rows × 12 columns</p>\n",
       "</div>"
      ]
     },
     "execution_count": 63,
     "metadata": {},
     "output_type": "execute_result"
    }
   ],
   "execution_count": 63
  },
  {
   "cell_type": "markdown",
   "source": [
    "### 4.2.1 &nbsp; Adjust Outliers harga_lag_7 with Mean"
   ],
   "metadata": {
    "id": "yjK3Orjey8sC"
   }
  },
  {
   "cell_type": "code",
   "source": [
    "# Hitung Q1 dan Q3\n",
    "Q1 = df['Harga_lag_7'].quantile(0.25)\n",
    "Q3 = df['Harga_lag_7'].quantile(0.75)\n",
    "\n",
    "# Hitung IQR\n",
    "IQR = Q3 - Q1\n",
    "\n",
    "# Tentukan batas atas dan batas bawah\n",
    "upper_bound = Q3 + 1.5 * IQR\n",
    "lower_bound = Q1 - 1.5 * IQR\n",
    "\n",
    "# Hitung mean dari kolom 'Harga_lag_7'\n",
    "mean_harga_lag_7 = df['Harga_lag_7'].mean()\n",
    "\n",
    "# Ganti nilai outliers dengan mean\n",
    "df['Harga_lag_7'] = df['Harga_lag_7'].apply(\n",
    "    lambda x: mean_harga_lag_7 if x < lower_bound or x > upper_bound else x\n",
    ")\n",
    "\n",
    "# Tampilkan hasil setelah mengganti outliers\n",
    "print(\"Setelah mengganti outliers dengan mean:\")\n",
    "df['Harga_lag_7'].describe()"
   ],
   "metadata": {
    "colab": {
     "base_uri": "https://localhost:8080/",
     "height": 353
    },
    "id": "l6m2ydP0yxc7",
    "executionInfo": {
     "status": "ok",
     "timestamp": 1741880670082,
     "user_tz": -420,
     "elapsed": 306,
     "user": {
      "displayName": "Luthfi Krisna Bayu",
      "userId": "02424307416199458792"
     }
    },
    "outputId": "2ea8638a-d792-4de5-a60a-03ff0f21737f",
    "ExecuteTime": {
     "end_time": "2025-03-14T02:43:03.821734Z",
     "start_time": "2025-03-14T02:43:03.654127Z"
    }
   },
   "outputs": [
    {
     "name": "stdout",
     "output_type": "stream",
     "text": [
      "Setelah mengganti outliers dengan mean:\n"
     ]
    },
    {
     "data": {
      "text/plain": [
       "count   471,048\n",
       "mean     27,400\n",
       "std      13,325\n",
       "min       7,480\n",
       "25%      14,850\n",
       "50%      28,008\n",
       "75%      36,176\n",
       "max      68,160\n",
       "Name: Harga_lag_7, dtype: float64"
      ]
     },
     "execution_count": 64,
     "metadata": {},
     "output_type": "execute_result"
    }
   ],
   "execution_count": 64
  },
  {
   "cell_type": "markdown",
   "source": [
    "### 4.2.2&nbsp; Boxplot harga_lag_7 After Adjust"
   ],
   "metadata": {
    "id": "iLsqMPMKzL6t"
   }
  },
  {
   "cell_type": "code",
   "source": [
    "# Membuat boxplot untuk kolom 'harga_lag_7' setelah Adjustment with Mean\n",
    "plt.figure(figsize=(8, 6))\n",
    "sns.boxplot(df['Harga_lag_7'])\n",
    "plt.title('Boxplot untuk Kolom harga_lag_7 setelah Adjustment with Mean')\n",
    "plt.show()"
   ],
   "metadata": {
    "colab": {
     "base_uri": "https://localhost:8080/",
     "height": 526
    },
    "id": "9qqA1Te3zG3d",
    "executionInfo": {
     "status": "ok",
     "timestamp": 1741880674317,
     "user_tz": -420,
     "elapsed": 1594,
     "user": {
      "displayName": "Luthfi Krisna Bayu",
      "userId": "02424307416199458792"
     }
    },
    "outputId": "04fca6e9-7028-49f9-8058-d35db6472a7a",
    "ExecuteTime": {
     "end_time": "2025-03-14T02:43:06.255468Z",
     "start_time": "2025-03-14T02:43:05.333365Z"
    }
   },
   "outputs": [
    {
     "data": {
      "text/plain": [
       "<Figure size 800x600 with 1 Axes>"
      ],
      "image/png": "[encoded data removed]"
     },
     "metadata": {},
     "output_type": "display_data"
    }
   ],
   "execution_count": 65
  },
  {
   "cell_type": "markdown",
   "source": [
    "## &nbsp; 4.3 Outliers of harga_lag_30"
   ],
   "metadata": {
    "id": "pmAiIbl5zk-a"
   }
  },
  {
   "cell_type": "code",
   "source": [
    "# Hitung Q1 dan Q3\n",
    "Q1 = df['Harga_lag_30'].quantile(0.25)\n",
    "Q3 = df['Harga_lag_30'].quantile(0.75)\n",
    "\n",
    "# Hitung IQR\n",
    "IQR = Q3 - Q1\n",
    "\n",
    "# Tentukan batas atas dan batas bawah\n",
    "upper_bound = Q3 + 1.5 * IQR\n",
    "lower_bound = Q1 - 1.5 * IQR\n",
    "\n",
    "# Identifikasi outliers\n",
    "outliers = df[(df['Harga_lag_30'] < lower_bound) | (df['Harga_lag_30'] > upper_bound)]\n",
    "\n",
    "# Tampilkan outliers\n",
    "print(\"Outliers:\")\n",
    "outliers"
   ],
   "metadata": {
    "colab": {
     "base_uri": "https://localhost:8080/",
     "height": 441
    },
    "id": "lwYBMuUNzWiR",
    "executionInfo": {
     "status": "ok",
     "timestamp": 1741880712709,
     "user_tz": -420,
     "elapsed": 326,
     "user": {
      "displayName": "Luthfi Krisna Bayu",
      "userId": "02424307416199458792"
     }
    },
    "outputId": "0faa97f0-950f-4cbf-e154-479c13b3e22e",
    "ExecuteTime": {
     "end_time": "2025-03-14T02:43:07.204161Z",
     "start_time": "2025-03-14T02:43:07.166597Z"
    }
   },
   "outputs": [
    {
     "name": "stdout",
     "output_type": "stream",
     "text": [
      "Outliers:\n"
     ]
    },
    {
     "data": {
      "text/plain": [
       "          Tanggal  Bahan_pangan  Daerah  Harga_lag_1  Harga_lag_7  \\\n",
       "14167  2022-02-01             4      11       43,430       43,280   \n",
       "14168  2022-02-01             4      12       43,900       47,390   \n",
       "14169  2022-02-01             4      13       59,810       62,670   \n",
       "14170  2022-02-01             4      14       42,980       48,840   \n",
       "14176  2022-02-01             4      19       54,980       56,440   \n",
       "...           ...           ...     ...          ...          ...   \n",
       "470763 2024-09-30             4      19       57,410       61,370   \n",
       "470788 2024-09-30             5      11       27,963       28,008   \n",
       "470790 2024-09-30             5      13       60,930       63,310   \n",
       "470794 2024-09-30             5      17       65,870       60,060   \n",
       "470797 2024-09-30             5      19       27,963       28,008   \n",
       "\n",
       "        Harga_lag_30  Google_trends  MYRUSD  SGDUSD  THBUSD  USDIDR  Harga  \n",
       "14167         71,580             38    3430   10617     432   14350 44,320  \n",
       "14168         70,710             38    3430   10617     432   14350 44,220  \n",
       "14169         75,030             38    3430   10617     432   14350 58,240  \n",
       "14170         73,790             38    3430   10617     432   14350 41,590  \n",
       "14176         74,100             38    3430   10617     432   14350 53,770  \n",
       "...              ...            ...     ...     ...     ...     ...    ...  \n",
       "470763        69,880             38    3670   11804     467   15118 57,210  \n",
       "470788        72,750             38    3670   11804     467   15118 66,110  \n",
       "470790        69,250             38    3670   11804     467   15118 62,410  \n",
       "470794        69,550             38    3670   11804     467   15118 62,790  \n",
       "470797        74,520             38    3670   11804     467   15118 64,170  \n",
       "\n",
       "[5718 rows x 12 columns]"
      ],
      "text/html": [
       "<div>\n",
       "<style scoped>\n",
       "    .dataframe tbody tr th:only-of-type {\n",
       "        vertical-align: middle;\n",
       "    }\n",
       "\n",
       "    .dataframe tbody tr th {\n",
       "        vertical-align: top;\n",
       "    }\n",
       "\n",
       "    .dataframe thead th {\n",
       "        text-align: right;\n",
       "    }\n",
       "</style>\n",
       "<table border=\"1\" class=\"dataframe\">\n",
       "  <thead>\n",
       "    <tr style=\"text-align: right;\">\n",
       "      <th></th>\n",
       "      <th>Tanggal</th>\n",
       "      <th>Bahan_pangan</th>\n",
       "      <th>Daerah</th>\n",
       "      <th>Harga_lag_1</th>\n",
       "      <th>Harga_lag_7</th>\n",
       "      <th>Harga_lag_30</th>\n",
       "      <th>Google_trends</th>\n",
       "      <th>MYRUSD</th>\n",
       "      <th>SGDUSD</th>\n",
       "      <th>THBUSD</th>\n",
       "      <th>USDIDR</th>\n",
       "      <th>Harga</th>\n",
       "    </tr>\n",
       "  </thead>\n",
       "  <tbody>\n",
       "    <tr>\n",
       "      <th>14167</th>\n",
       "      <td>2022-02-01</td>\n",
       "      <td>4</td>\n",
       "      <td>11</td>\n",
       "      <td>43,430</td>\n",
       "      <td>43,280</td>\n",
       "      <td>71,580</td>\n",
       "      <td>38</td>\n",
       "      <td>3430</td>\n",
       "      <td>10617</td>\n",
       "      <td>432</td>\n",
       "      <td>14350</td>\n",
       "      <td>44,320</td>\n",
       "    </tr>\n",
       "    <tr>\n",
       "      <th>14168</th>\n",
       "      <td>2022-02-01</td>\n",
       "      <td>4</td>\n",
       "      <td>12</td>\n",
       "      <td>43,900</td>\n",
       "      <td>47,390</td>\n",
       "      <td>70,710</td>\n",
       "      <td>38</td>\n",
       "      <td>3430</td>\n",
       "      <td>10617</td>\n",
       "      <td>432</td>\n",
       "      <td>14350</td>\n",
       "      <td>44,220</td>\n",
       "    </tr>\n",
       "    <tr>\n",
       "      <th>14169</th>\n",
       "      <td>2022-02-01</td>\n",
       "      <td>4</td>\n",
       "      <td>13</td>\n",
       "      <td>59,810</td>\n",
       "      <td>62,670</td>\n",
       "      <td>75,030</td>\n",
       "      <td>38</td>\n",
       "      <td>3430</td>\n",
       "      <td>10617</td>\n",
       "      <td>432</td>\n",
       "      <td>14350</td>\n",
       "      <td>58,240</td>\n",
       "    </tr>\n",
       "    <tr>\n",
       "      <th>14170</th>\n",
       "      <td>2022-02-01</td>\n",
       "      <td>4</td>\n",
       "      <td>14</td>\n",
       "      <td>42,980</td>\n",
       "      <td>48,840</td>\n",
       "      <td>73,790</td>\n",
       "      <td>38</td>\n",
       "      <td>3430</td>\n",
       "      <td>10617</td>\n",
       "      <td>432</td>\n",
       "      <td>14350</td>\n",
       "      <td>41,590</td>\n",
       "    </tr>\n",
       "    <tr>\n",
       "      <th>14176</th>\n",
       "      <td>2022-02-01</td>\n",
       "      <td>4</td>\n",
       "      <td>19</td>\n",
       "      <td>54,980</td>\n",
       "      <td>56,440</td>\n",
       "      <td>74,100</td>\n",
       "      <td>38</td>\n",
       "      <td>3430</td>\n",
       "      <td>10617</td>\n",
       "      <td>432</td>\n",
       "      <td>14350</td>\n",
       "      <td>53,770</td>\n",
       "    </tr>\n",
       "    <tr>\n",
       "      <th>...</th>\n",
       "      <td>...</td>\n",
       "      <td>...</td>\n",
       "      <td>...</td>\n",
       "      <td>...</td>\n",
       "      <td>...</td>\n",
       "      <td>...</td>\n",
       "      <td>...</td>\n",
       "      <td>...</td>\n",
       "      <td>...</td>\n",
       "      <td>...</td>\n",
       "      <td>...</td>\n",
       "      <td>...</td>\n",
       "    </tr>\n",
       "    <tr>\n",
       "      <th>470763</th>\n",
       "      <td>2024-09-30</td>\n",
       "      <td>4</td>\n",
       "      <td>19</td>\n",
       "      <td>57,410</td>\n",
       "      <td>61,370</td>\n",
       "      <td>69,880</td>\n",
       "      <td>38</td>\n",
       "      <td>3670</td>\n",
       "      <td>11804</td>\n",
       "      <td>467</td>\n",
       "      <td>15118</td>\n",
       "      <td>57,210</td>\n",
       "    </tr>\n",
       "    <tr>\n",
       "      <th>470788</th>\n",
       "      <td>2024-09-30</td>\n",
       "      <td>5</td>\n",
       "      <td>11</td>\n",
       "      <td>27,963</td>\n",
       "      <td>28,008</td>\n",
       "      <td>72,750</td>\n",
       "      <td>38</td>\n",
       "      <td>3670</td>\n",
       "      <td>11804</td>\n",
       "      <td>467</td>\n",
       "      <td>15118</td>\n",
       "      <td>66,110</td>\n",
       "    </tr>\n",
       "    <tr>\n",
       "      <th>470790</th>\n",
       "      <td>2024-09-30</td>\n",
       "      <td>5</td>\n",
       "      <td>13</td>\n",
       "      <td>60,930</td>\n",
       "      <td>63,310</td>\n",
       "      <td>69,250</td>\n",
       "      <td>38</td>\n",
       "      <td>3670</td>\n",
       "      <td>11804</td>\n",
       "      <td>467</td>\n",
       "      <td>15118</td>\n",
       "      <td>62,410</td>\n",
       "    </tr>\n",
       "    <tr>\n",
       "      <th>470794</th>\n",
       "      <td>2024-09-30</td>\n",
       "      <td>5</td>\n",
       "      <td>17</td>\n",
       "      <td>65,870</td>\n",
       "      <td>60,060</td>\n",
       "      <td>69,550</td>\n",
       "      <td>38</td>\n",
       "      <td>3670</td>\n",
       "      <td>11804</td>\n",
       "      <td>467</td>\n",
       "      <td>15118</td>\n",
       "      <td>62,790</td>\n",
       "    </tr>\n",
       "    <tr>\n",
       "      <th>470797</th>\n",
       "      <td>2024-09-30</td>\n",
       "      <td>5</td>\n",
       "      <td>19</td>\n",
       "      <td>27,963</td>\n",
       "      <td>28,008</td>\n",
       "      <td>74,520</td>\n",
       "      <td>38</td>\n",
       "      <td>3670</td>\n",
       "      <td>11804</td>\n",
       "      <td>467</td>\n",
       "      <td>15118</td>\n",
       "      <td>64,170</td>\n",
       "    </tr>\n",
       "  </tbody>\n",
       "</table>\n",
       "<p>5718 rows × 12 columns</p>\n",
       "</div>"
      ]
     },
     "execution_count": 66,
     "metadata": {},
     "output_type": "execute_result"
    }
   ],
   "execution_count": 66
  },
  {
   "cell_type": "markdown",
   "source": [
    "### 4.3.1 &nbsp; Adjust Outliers harga_lag_30 with Mean"
   ],
   "metadata": {
    "id": "FFxu103rz13B"
   }
  },
  {
   "cell_type": "code",
   "source": [
    "# Hitung Q1 dan Q3\n",
    "Q1 = df['Harga_lag_30'].quantile(0.25)\n",
    "Q3 = df['Harga_lag_30'].quantile(0.75)\n",
    "\n",
    "# Hitung IQR\n",
    "IQR = Q3 - Q1\n",
    "\n",
    "# Tentukan batas atas dan batas bawah\n",
    "upper_bound = Q3 + 1.5 * IQR\n",
    "lower_bound = Q1 - 1.5 * IQR\n",
    "\n",
    "# Hitung mean dari kolom 'Harga_lag_30'\n",
    "mean_harga_lag_30 = df['Harga_lag_30'].mean()\n",
    "\n",
    "# Ganti nilai outliers dengan mean\n",
    "df['Harga_lag_30'] = df['Harga_lag_30'].apply(\n",
    "    lambda x: mean_harga_lag_30 if x < lower_bound or x > upper_bound else x\n",
    ")\n",
    "\n",
    "# Tampilkan hasil setelah mengganti outliers\n",
    "print(\"Setelah mengganti outliers dengan mean:\")\n",
    "df['Harga_lag_30'].describe()"
   ],
   "metadata": {
    "colab": {
     "base_uri": "https://localhost:8080/",
     "height": 353
    },
    "id": "GcUNgRq1zvaq",
    "executionInfo": {
     "status": "ok",
     "timestamp": 1741880715521,
     "user_tz": -420,
     "elapsed": 284,
     "user": {
      "displayName": "Luthfi Krisna Bayu",
      "userId": "02424307416199458792"
     }
    },
    "outputId": "5d75c6c7-f2d5-4640-f57c-104dba16577a",
    "ExecuteTime": {
     "end_time": "2025-03-14T02:43:08.860979Z",
     "start_time": "2025-03-14T02:43:08.711794Z"
    }
   },
   "outputs": [
    {
     "name": "stdout",
     "output_type": "stream",
     "text": [
      "Setelah mengganti outliers dengan mean:\n"
     ]
    },
    {
     "data": {
      "text/plain": [
       "count   471,048\n",
       "mean     27,608\n",
       "std      13,244\n",
       "min       7,480\n",
       "25%      14,900\n",
       "50%      28,135\n",
       "75%      36,167\n",
       "max      68,060\n",
       "Name: Harga_lag_30, dtype: float64"
      ]
     },
     "execution_count": 67,
     "metadata": {},
     "output_type": "execute_result"
    }
   ],
   "execution_count": 67
  },
  {
   "cell_type": "markdown",
   "source": [
    "### 4.3.2&nbsp; Boxplot harga_lag_30 After Adjust"
   ],
   "metadata": {
    "id": "PJHWNL0f0CUh"
   }
  },
  {
   "cell_type": "code",
   "source": [
    "# Membuat boxplot untuk kolom 'harga_lag_30' setelah Adjustment with Mean\n",
    "plt.figure(figsize=(8, 6))\n",
    "sns.boxplot(df['Harga_lag_30'])\n",
    "plt.title('Boxplot untuk Kolom harga_lag_30 setelah Adjustment with Mean')\n",
    "plt.show()"
   ],
   "metadata": {
    "colab": {
     "base_uri": "https://localhost:8080/",
     "height": 526
    },
    "id": "r6MoSrpkz-cy",
    "executionInfo": {
     "status": "ok",
     "timestamp": 1741880718714,
     "user_tz": -420,
     "elapsed": 544,
     "user": {
      "displayName": "Luthfi Krisna Bayu",
      "userId": "02424307416199458792"
     }
    },
    "outputId": "a737c253-9ca4-407d-8ef5-dee4c4f0c3b2",
    "ExecuteTime": {
     "end_time": "2025-03-14T02:43:11.503861Z",
     "start_time": "2025-03-14T02:43:10.569700Z"
    }
   },
   "outputs": [
    {
     "data": {
      "text/plain": [
       "<Figure size 800x600 with 1 Axes>"
      ],
      "image/png": "[encoded data removed]"
     },
     "metadata": {},
     "output_type": "display_data"
    }
   ],
   "execution_count": 68
  },
  {
   "cell_type": "markdown",
   "source": [
    "## &nbsp; 4.4 Outliers of harga"
   ],
   "metadata": {
    "id": "1339TN9M0Vmx"
   }
  },
  {
   "cell_type": "code",
   "source": [
    "# Hitung Q1 dan Q3\n",
    "Q1 = df['Harga'].quantile(0.25)\n",
    "Q3 = df['Harga'].quantile(0.75)\n",
    "\n",
    "# Hitung IQR\n",
    "IQR = Q3 - Q1\n",
    "\n",
    "# Tentukan batas atas dan batas bawah\n",
    "upper_bound = Q3 + 1.5 * IQR\n",
    "lower_bound = Q1 - 1.5 * IQR\n",
    "\n",
    "# Identifikasi outliers\n",
    "outliers = df[(df['Harga'] < lower_bound) | (df['Harga'] > upper_bound)]\n",
    "\n",
    "# Tampilkan outliers\n",
    "print(\"Outliers:\")\n",
    "outliers"
   ],
   "metadata": {
    "colab": {
     "base_uri": "https://localhost:8080/",
     "height": 441
    },
    "id": "WXR66-LI0KFH",
    "executionInfo": {
     "status": "ok",
     "timestamp": 1741880760389,
     "user_tz": -420,
     "elapsed": 252,
     "user": {
      "displayName": "Luthfi Krisna Bayu",
      "userId": "02424307416199458792"
     }
    },
    "outputId": "f7ab3509-f9ca-4ed3-e88c-64362e790686",
    "ExecuteTime": {
     "end_time": "2025-03-14T02:43:13.484168Z",
     "start_time": "2025-03-14T02:43:13.447705Z"
    }
   },
   "outputs": [
    {
     "name": "stdout",
     "output_type": "stream",
     "text": [
      "Outliers:\n"
     ]
    },
    {
     "data": {
      "text/plain": [
       "          Tanggal  Bahan_pangan  Daerah  Harga_lag_1  Harga_lag_7  \\\n",
       "295    2022-01-01             4      11       36,169       36,176   \n",
       "296    2022-01-01             4      12       36,169       36,176   \n",
       "297    2022-01-01             4      13       36,169       36,176   \n",
       "298    2022-01-01             4      14       36,169       36,176   \n",
       "304    2022-01-01             4      19       36,169       36,176   \n",
       "...           ...           ...     ...          ...          ...   \n",
       "470365 2024-09-29             5      30       27,963       28,008   \n",
       "470783 2024-09-30             5       6       27,963       28,008   \n",
       "470792 2024-09-30             5      15       27,963       36,176   \n",
       "470796 2024-09-30             5      20       36,169       36,176   \n",
       "470807 2024-09-30             5      30       27,963       28,008   \n",
       "\n",
       "        Harga_lag_30  Google_trends  MYRUSD  SGDUSD  THBUSD  USDIDR  Harga  \n",
       "295           36,167             38    3380   11235     435   15213 71,580  \n",
       "296           36,167             38    3380   11235     435   15213 70,710  \n",
       "297           36,167             38    3380   11235     435   15213 75,030  \n",
       "298           36,167             38    3380   11235     435   15213 73,790  \n",
       "304           36,167             38    3380   11235     435   15213 74,100  \n",
       "...              ...            ...     ...     ...     ...     ...    ...  \n",
       "470365        66,660             38    3640   11738     466   15070 73,840  \n",
       "470783        64,020             38    3670   11804     467   15118 70,400  \n",
       "470792        36,167             38    3670   11804     467   15118 75,950  \n",
       "470796        36,167             38    3670   11804     467   15118 76,800  \n",
       "470807        65,080             38    3670   11804     467   15118 74,260  \n",
       "\n",
       "[8495 rows x 12 columns]"
      ],
      "text/html": [
       "<div>\n",
       "<style scoped>\n",
       "    .dataframe tbody tr th:only-of-type {\n",
       "        vertical-align: middle;\n",
       "    }\n",
       "\n",
       "    .dataframe tbody tr th {\n",
       "        vertical-align: top;\n",
       "    }\n",
       "\n",
       "    .dataframe thead th {\n",
       "        text-align: right;\n",
       "    }\n",
       "</style>\n",
       "<table border=\"1\" class=\"dataframe\">\n",
       "  <thead>\n",
       "    <tr style=\"text-align: right;\">\n",
       "      <th></th>\n",
       "      <th>Tanggal</th>\n",
       "      <th>Bahan_pangan</th>\n",
       "      <th>Daerah</th>\n",
       "      <th>Harga_lag_1</th>\n",
       "      <th>Harga_lag_7</th>\n",
       "      <th>Harga_lag_30</th>\n",
       "      <th>Google_trends</th>\n",
       "      <th>MYRUSD</th>\n",
       "      <th>SGDUSD</th>\n",
       "      <th>THBUSD</th>\n",
       "      <th>USDIDR</th>\n",
       "      <th>Harga</th>\n",
       "    </tr>\n",
       "  </thead>\n",
       "  <tbody>\n",
       "    <tr>\n",
       "      <th>295</th>\n",
       "      <td>2022-01-01</td>\n",
       "      <td>4</td>\n",
       "      <td>11</td>\n",
       "      <td>36,169</td>\n",
       "      <td>36,176</td>\n",
       "      <td>36,167</td>\n",
       "      <td>38</td>\n",
       "      <td>3380</td>\n",
       "      <td>11235</td>\n",
       "      <td>435</td>\n",
       "      <td>15213</td>\n",
       "      <td>71,580</td>\n",
       "    </tr>\n",
       "    <tr>\n",
       "      <th>296</th>\n",
       "      <td>2022-01-01</td>\n",
       "      <td>4</td>\n",
       "      <td>12</td>\n",
       "      <td>36,169</td>\n",
       "      <td>36,176</td>\n",
       "      <td>36,167</td>\n",
       "      <td>38</td>\n",
       "      <td>3380</td>\n",
       "      <td>11235</td>\n",
       "      <td>435</td>\n",
       "      <td>15213</td>\n",
       "      <td>70,710</td>\n",
       "    </tr>\n",
       "    <tr>\n",
       "      <th>297</th>\n",
       "      <td>2022-01-01</td>\n",
       "      <td>4</td>\n",
       "      <td>13</td>\n",
       "      <td>36,169</td>\n",
       "      <td>36,176</td>\n",
       "      <td>36,167</td>\n",
       "      <td>38</td>\n",
       "      <td>3380</td>\n",
       "      <td>11235</td>\n",
       "      <td>435</td>\n",
       "      <td>15213</td>\n",
       "      <td>75,030</td>\n",
       "    </tr>\n",
       "    <tr>\n",
       "      <th>298</th>\n",
       "      <td>2022-01-01</td>\n",
       "      <td>4</td>\n",
       "      <td>14</td>\n",
       "      <td>36,169</td>\n",
       "      <td>36,176</td>\n",
       "      <td>36,167</td>\n",
       "      <td>38</td>\n",
       "      <td>3380</td>\n",
       "      <td>11235</td>\n",
       "      <td>435</td>\n",
       "      <td>15213</td>\n",
       "      <td>73,790</td>\n",
       "    </tr>\n",
       "    <tr>\n",
       "      <th>304</th>\n",
       "      <td>2022-01-01</td>\n",
       "      <td>4</td>\n",
       "      <td>19</td>\n",
       "      <td>36,169</td>\n",
       "      <td>36,176</td>\n",
       "      <td>36,167</td>\n",
       "      <td>38</td>\n",
       "      <td>3380</td>\n",
       "      <td>11235</td>\n",
       "      <td>435</td>\n",
       "      <td>15213</td>\n",
       "      <td>74,100</td>\n",
       "    </tr>\n",
       "    <tr>\n",
       "      <th>...</th>\n",
       "      <td>...</td>\n",
       "      <td>...</td>\n",
       "      <td>...</td>\n",
       "      <td>...</td>\n",
       "      <td>...</td>\n",
       "      <td>...</td>\n",
       "      <td>...</td>\n",
       "      <td>...</td>\n",
       "      <td>...</td>\n",
       "      <td>...</td>\n",
       "      <td>...</td>\n",
       "      <td>...</td>\n",
       "    </tr>\n",
       "    <tr>\n",
       "      <th>470365</th>\n",
       "      <td>2024-09-29</td>\n",
       "      <td>5</td>\n",
       "      <td>30</td>\n",
       "      <td>27,963</td>\n",
       "      <td>28,008</td>\n",
       "      <td>66,660</td>\n",
       "      <td>38</td>\n",
       "      <td>3640</td>\n",
       "      <td>11738</td>\n",
       "      <td>466</td>\n",
       "      <td>15070</td>\n",
       "      <td>73,840</td>\n",
       "    </tr>\n",
       "    <tr>\n",
       "      <th>470783</th>\n",
       "      <td>2024-09-30</td>\n",
       "      <td>5</td>\n",
       "      <td>6</td>\n",
       "      <td>27,963</td>\n",
       "      <td>28,008</td>\n",
       "      <td>64,020</td>\n",
       "      <td>38</td>\n",
       "      <td>3670</td>\n",
       "      <td>11804</td>\n",
       "      <td>467</td>\n",
       "      <td>15118</td>\n",
       "      <td>70,400</td>\n",
       "    </tr>\n",
       "    <tr>\n",
       "      <th>470792</th>\n",
       "      <td>2024-09-30</td>\n",
       "      <td>5</td>\n",
       "      <td>15</td>\n",
       "      <td>27,963</td>\n",
       "      <td>36,176</td>\n",
       "      <td>36,167</td>\n",
       "      <td>38</td>\n",
       "      <td>3670</td>\n",
       "      <td>11804</td>\n",
       "      <td>467</td>\n",
       "      <td>15118</td>\n",
       "      <td>75,950</td>\n",
       "    </tr>\n",
       "    <tr>\n",
       "      <th>470796</th>\n",
       "      <td>2024-09-30</td>\n",
       "      <td>5</td>\n",
       "      <td>20</td>\n",
       "      <td>36,169</td>\n",
       "      <td>36,176</td>\n",
       "      <td>36,167</td>\n",
       "      <td>38</td>\n",
       "      <td>3670</td>\n",
       "      <td>11804</td>\n",
       "      <td>467</td>\n",
       "      <td>15118</td>\n",
       "      <td>76,800</td>\n",
       "    </tr>\n",
       "    <tr>\n",
       "      <th>470807</th>\n",
       "      <td>2024-09-30</td>\n",
       "      <td>5</td>\n",
       "      <td>30</td>\n",
       "      <td>27,963</td>\n",
       "      <td>28,008</td>\n",
       "      <td>65,080</td>\n",
       "      <td>38</td>\n",
       "      <td>3670</td>\n",
       "      <td>11804</td>\n",
       "      <td>467</td>\n",
       "      <td>15118</td>\n",
       "      <td>74,260</td>\n",
       "    </tr>\n",
       "  </tbody>\n",
       "</table>\n",
       "<p>8495 rows × 12 columns</p>\n",
       "</div>"
      ]
     },
     "execution_count": 69,
     "metadata": {},
     "output_type": "execute_result"
    }
   ],
   "execution_count": 69
  },
  {
   "cell_type": "markdown",
   "source": [
    "### 4.4.1 &nbsp; Adjust Outliers harga with Mean"
   ],
   "metadata": {
    "id": "9MqAvzZA0hBj"
   }
  },
  {
   "cell_type": "code",
   "source": [
    "# Hitung Q1 dan Q3\n",
    "Q1 = df['Harga'].quantile(0.25)\n",
    "Q3 = df['Harga'].quantile(0.75)\n",
    "\n",
    "# Hitung IQR\n",
    "IQR = Q3 - Q1\n",
    "\n",
    "# Tentukan batas atas dan batas bawah\n",
    "upper_bound = Q3 + 1.5 * IQR\n",
    "lower_bound = Q1 - 1.5 * IQR\n",
    "\n",
    "# Hitung mean dari kolom 'Harga'\n",
    "mean_harga = df['Harga'].mean()\n",
    "\n",
    "# Ganti nilai outliers dengan mean\n",
    "df['Harga'] = df['Harga'].apply(\n",
    "    lambda x: mean_harga if x < lower_bound or x > upper_bound else x\n",
    ")\n",
    "\n",
    "# Tampilkan hasil setelah mengganti outliers\n",
    "print(\"Setelah mengganti outliers dengan mean:\")\n",
    "df['Harga'].describe()"
   ],
   "metadata": {
    "colab": {
     "base_uri": "https://localhost:8080/",
     "height": 353
    },
    "id": "lD-VvOgK0dYX",
    "executionInfo": {
     "status": "ok",
     "timestamp": 1741880763647,
     "user_tz": -420,
     "elapsed": 307,
     "user": {
      "displayName": "Luthfi Krisna Bayu",
      "userId": "02424307416199458792"
     }
    },
    "outputId": "126e38d2-91da-47a7-9572-3e28c81606d8",
    "ExecuteTime": {
     "end_time": "2025-03-14T02:43:15.191230Z",
     "start_time": "2025-03-14T02:43:14.992882Z"
    }
   },
   "outputs": [
    {
     "name": "stdout",
     "output_type": "stream",
     "text": [
      "Setelah mengganti outliers dengan mean:\n"
     ]
    },
    {
     "data": {
      "text/plain": [
       "count   471,048\n",
       "mean     26,674\n",
       "std      13,439\n",
       "min       7,480\n",
       "25%      14,650\n",
       "50%      26,170\n",
       "75%      35,896\n",
       "max      67,760\n",
       "Name: Harga, dtype: float64"
      ]
     },
     "execution_count": 70,
     "metadata": {},
     "output_type": "execute_result"
    }
   ],
   "execution_count": 70
  },
  {
   "cell_type": "markdown",
   "source": [
    "### 4.4.2&nbsp; Boxplot harga After Adjust"
   ],
   "metadata": {
    "id": "flRXbtJg0s0m"
   }
  },
  {
   "cell_type": "code",
   "source": [
    "# Membuat boxplot untuk kolom 'harga' setelah Adjustment with Mean\n",
    "plt.figure(figsize=(8, 6))\n",
    "sns.boxplot(df['Harga'])\n",
    "plt.title('Boxplot untuk Kolom harga setelah Adjustment with Mean')\n",
    "plt.show()"
   ],
   "metadata": {
    "colab": {
     "base_uri": "https://localhost:8080/",
     "height": 526
    },
    "id": "xYGZx1SL0pYy",
    "executionInfo": {
     "status": "ok",
     "timestamp": 1741880770029,
     "user_tz": -420,
     "elapsed": 1026,
     "user": {
      "displayName": "Luthfi Krisna Bayu",
      "userId": "02424307416199458792"
     }
    },
    "outputId": "4f1252db-1d0f-41dd-8fee-ff449df9d32c",
    "ExecuteTime": {
     "end_time": "2025-03-14T02:43:17.765375Z",
     "start_time": "2025-03-14T02:43:16.895456Z"
    }
   },
   "outputs": [
    {
     "data": {
      "text/plain": [
       "<Figure size 800x600 with 1 Axes>"
      ],
      "image/png": "[encoded data removed]"
     },
     "metadata": {},
     "output_type": "display_data"
    }
   ],
   "execution_count": 71
  },
  {
   "cell_type": "markdown",
   "source": [
    "## 4.5&nbsp; Recheck of Outliers All"
   ],
   "metadata": {
    "id": "_3IuecIE1DI3"
   }
  },
  {
   "cell_type": "code",
   "source": [
    "# Visualisasi dengan box plot\n",
    "plt.figure(figsize=(10, 6))\n",
    "sns.boxplot(df)\n",
    "plt.title('Box plot After Adjustment of outliers')\n",
    "plt.xticks(rotation=45)\n",
    "plt.show()"
   ],
   "metadata": {
    "colab": {
     "base_uri": "https://localhost:8080/",
     "height": 614
    },
    "id": "ageSQNRN02Vf",
    "executionInfo": {
     "status": "ok",
     "timestamp": 1741880875828,
     "user_tz": -420,
     "elapsed": 23424,
     "user": {
      "displayName": "Luthfi Krisna Bayu",
      "userId": "02424307416199458792"
     }
    },
    "outputId": "627deabc-d182-48cb-b464-8ef737ebdc51",
    "ExecuteTime": {
     "end_time": "2025-03-14T02:43:35.303457Z",
     "start_time": "2025-03-14T02:43:19.922725Z"
    }
   },
   "outputs": [
    {
     "data": {
      "text/plain": [
       "<Figure size 1000x600 with 1 Axes>"
      ],
      "image/png": "[encoded data removed]"
     },
     "metadata": {},
     "output_type": "display_data"
    }
   ],
   "execution_count": 72
  },
  {
   "cell_type": "markdown",
   "source": [
    "# 5.&nbsp;Data Preparation for Modelling"
   ],
   "metadata": {
    "id": "6om6ohmf1VUl"
   }
  },
  {
   "metadata": {
    "ExecuteTime": {
     "end_time": "2025-03-14T02:44:16.349407Z",
     "start_time": "2025-03-14T02:44:16.343968Z"
    }
   },
   "cell_type": "code",
   "source": "df.columns",
   "outputs": [
    {
     "data": {
      "text/plain": [
       "Index(['Tanggal', 'Bahan_pangan', 'Daerah', 'Harga_lag_1', 'Harga_lag_7',\n",
       "       'Harga_lag_30', 'Google_trends', 'MYRUSD', 'SGDUSD', 'THBUSD', 'USDIDR',\n",
       "       'Harga'],\n",
       "      dtype='object')"
      ]
     },
     "execution_count": 73,
     "metadata": {},
     "output_type": "execute_result"
    }
   ],
   "execution_count": 73
  },
  {
   "cell_type": "markdown",
   "source": [
    "## 5.1&nbsp; Train-Test Split"
   ],
   "metadata": {
    "id": "vb2ztgRY1b8l"
   }
  },
  {
   "cell_type": "code",
   "source": [
    "# # Pisahkan fitur dan target\n",
    "# X = df.drop('Harga', axis=1)\n",
    "# y = df['Harga']\n",
    "\n",
    "# X=df.drop(['Harga', 'Harga_lag_1', 'Harga_lag_7', 'Harga_lag_30', 'MYRUSD', 'SGDUSD', 'THBUSD', 'USDIDR', 'Google_trends'], axis=1)\n",
    "X=df.drop(['Harga', 'Harga_lag_1', 'Harga_lag_7', 'Harga_lag_30', 'Google_trends'], axis=1)\n",
    "y=df['Google_trends']"
   ],
   "metadata": {
    "id": "gUoJp_6x1Mkj",
    "ExecuteTime": {
     "end_time": "2025-03-14T05:42:25.759592Z",
     "start_time": "2025-03-14T05:42:25.754022Z"
    }
   },
   "outputs": [],
   "execution_count": 147
  },
  {
   "cell_type": "code",
   "source": [
    "# Lakukan train-test split\n",
    "X_train, X_test, y_train, y_test = train_test_split(X, y, test_size=0.2, random_state=42)"
   ],
   "metadata": {
    "id": "Xsqpb1xn1nMg",
    "ExecuteTime": {
     "end_time": "2025-03-14T05:42:28.666758Z",
     "start_time": "2025-03-14T05:42:28.659758Z"
    }
   },
   "outputs": [],
   "execution_count": 148
  },
  {
   "cell_type": "code",
   "source": [
    "X_train['Year'] = X_train['Tanggal'].dt.year\n",
    "X_train['Month'] = X_train['Tanggal'].dt.month\n",
    "X_train['Day'] = X_train['Tanggal'].dt.day\n",
    "X_train['Weekday'] = X_train['Tanggal'].dt.weekday  # Senin (0) - Minggu (6)\n",
    "\n",
    "X_test['Year'] = X_test['Tanggal'].dt.year\n",
    "X_test['Month'] = X_test['Tanggal'].dt.month\n",
    "X_test['Day'] = X_test['Tanggal'].dt.day\n",
    "X_test['Weekday'] = X_test['Tanggal'].dt.weekday"
   ],
   "metadata": {
    "id": "190r_2uo3gNA",
    "ExecuteTime": {
     "end_time": "2025-03-14T05:42:29.064823Z",
     "start_time": "2025-03-14T05:42:29.052603Z"
    }
   },
   "outputs": [],
   "execution_count": 149
  },
  {
   "metadata": {
    "ExecuteTime": {
     "end_time": "2025-03-14T05:44:46.425203Z",
     "start_time": "2025-03-14T05:44:46.415204Z"
    }
   },
   "cell_type": "code",
   "source": [
    "X['Year'] = X['Tanggal'].dt.year\n",
    "X['Month'] = X['Tanggal'].dt.month\n",
    "X['Day'] = X['Tanggal'].dt.day\n",
    "X['Weekday'] = X['Tanggal'].dt.weekday  # Senin (0) - Minggu (6)"
   ],
   "outputs": [],
   "execution_count": 157
  },
  {
   "cell_type": "code",
   "source": [
    "# Hapus kolom 'Tanggal' karena sudah dipecah menjadi fitur numerik\n",
    "X_train = X_train.drop(columns=['Tanggal'])\n",
    "X_test = X_test.drop(columns=['Tanggal'])"
   ],
   "metadata": {
    "id": "9ahpEdXv4CM1",
    "ExecuteTime": {
     "end_time": "2025-03-14T05:44:57.643297Z",
     "start_time": "2025-03-14T05:44:57.639072Z"
    }
   },
   "outputs": [],
   "execution_count": 158
  },
  {
   "metadata": {},
   "cell_type": "code",
   "outputs": [],
   "execution_count": null,
   "source": [
    "# Hapus kolom 'Tanggal' karena sudah dipecah menjadi fitur numerik\n",
    "X = X.drop(columns=['Tanggal'])"
   ]
  },
  {
   "metadata": {
    "ExecuteTime": {
     "end_time": "2025-03-14T05:45:20.237058Z",
     "start_time": "2025-03-14T05:45:20.230652Z"
    }
   },
   "cell_type": "code",
   "source": "X.head()",
   "outputs": [
    {
     "data": {
      "text/plain": [
       "   Bahan_pangan  Daerah  Year  Month  Day  Weekday\n",
       "0             0       0  2024     10    1        1\n",
       "1             0       1  2024     10    1        1\n",
       "2             0       2  2024     10    1        1\n",
       "3             0       3  2024     10    1        1\n",
       "4             0       4  2024     10    1        1"
      ],
      "text/html": [
       "<div>\n",
       "<style scoped>\n",
       "    .dataframe tbody tr th:only-of-type {\n",
       "        vertical-align: middle;\n",
       "    }\n",
       "\n",
       "    .dataframe tbody tr th {\n",
       "        vertical-align: top;\n",
       "    }\n",
       "\n",
       "    .dataframe thead th {\n",
       "        text-align: right;\n",
       "    }\n",
       "</style>\n",
       "<table border=\"1\" class=\"dataframe\">\n",
       "  <thead>\n",
       "    <tr style=\"text-align: right;\">\n",
       "      <th></th>\n",
       "      <th>Bahan_pangan</th>\n",
       "      <th>Daerah</th>\n",
       "      <th>Year</th>\n",
       "      <th>Month</th>\n",
       "      <th>Day</th>\n",
       "      <th>Weekday</th>\n",
       "    </tr>\n",
       "  </thead>\n",
       "  <tbody>\n",
       "    <tr>\n",
       "      <th>0</th>\n",
       "      <td>0</td>\n",
       "      <td>0</td>\n",
       "      <td>2024</td>\n",
       "      <td>10</td>\n",
       "      <td>1</td>\n",
       "      <td>1</td>\n",
       "    </tr>\n",
       "    <tr>\n",
       "      <th>1</th>\n",
       "      <td>0</td>\n",
       "      <td>1</td>\n",
       "      <td>2024</td>\n",
       "      <td>10</td>\n",
       "      <td>1</td>\n",
       "      <td>1</td>\n",
       "    </tr>\n",
       "    <tr>\n",
       "      <th>2</th>\n",
       "      <td>0</td>\n",
       "      <td>2</td>\n",
       "      <td>2024</td>\n",
       "      <td>10</td>\n",
       "      <td>1</td>\n",
       "      <td>1</td>\n",
       "    </tr>\n",
       "    <tr>\n",
       "      <th>3</th>\n",
       "      <td>0</td>\n",
       "      <td>3</td>\n",
       "      <td>2024</td>\n",
       "      <td>10</td>\n",
       "      <td>1</td>\n",
       "      <td>1</td>\n",
       "    </tr>\n",
       "    <tr>\n",
       "      <th>4</th>\n",
       "      <td>0</td>\n",
       "      <td>4</td>\n",
       "      <td>2024</td>\n",
       "      <td>10</td>\n",
       "      <td>1</td>\n",
       "      <td>1</td>\n",
       "    </tr>\n",
       "  </tbody>\n",
       "</table>\n",
       "</div>"
      ]
     },
     "execution_count": 159,
     "metadata": {},
     "output_type": "execute_result"
    }
   ],
   "execution_count": 159
  },
  {
   "cell_type": "markdown",
   "source": [
    "## 5.2&nbsp; Scaling"
   ],
   "metadata": {
    "id": "g6PgtiM715Qe"
   }
  },
  {
   "cell_type": "code",
   "source": [
    "# Buat pipeline dengan preprocessing\n",
    "pipeline = Pipeline([\n",
    "    ('quantile_transform', QuantileTransformer(output_distribution='normal')),\n",
    "    ('scaler', StandardScaler())  # Scaling fitur\n",
    "])"
   ],
   "metadata": {
    "id": "HJqMi_rt12OT",
    "ExecuteTime": {
     "end_time": "2025-03-14T05:45:28.389911Z",
     "start_time": "2025-03-14T05:45:28.386430Z"
    }
   },
   "outputs": [],
   "execution_count": 160
  },
  {
   "cell_type": "markdown",
   "source": [
    "## 5.3&nbsp; PreProcess Data train & test"
   ],
   "metadata": {
    "id": "bmJGHIt32C3p"
   }
  },
  {
   "cell_type": "code",
   "source": [
    "pipeline.fit(X_train)\n",
    "X_train_transformed = pipeline.transform(X_train)\n",
    "X_test_transformed = pipeline.transform(X_test)"
   ],
   "metadata": {
    "id": "JsF76mOu1-O4",
    "ExecuteTime": {
     "end_time": "2025-03-14T05:42:55.812254Z",
     "start_time": "2025-03-14T05:42:55.745450Z"
    }
   },
   "outputs": [],
   "execution_count": 154
  },
  {
   "metadata": {
    "ExecuteTime": {
     "end_time": "2025-03-14T05:45:46.411660Z",
     "start_time": "2025-03-14T05:45:46.364156Z"
    }
   },
   "cell_type": "code",
   "source": [
    "pipeline.fit(X)\n",
    "X_transformed = pipeline.transform(X)"
   ],
   "outputs": [],
   "execution_count": 161
  },
  {
   "cell_type": "markdown",
   "source": [
    "# &nbsp; 6. Modelling"
   ],
   "metadata": {
    "id": "dokglk9BMlJV"
   }
  },
  {
   "cell_type": "markdown",
   "source": [
    "## &nbsp; 6.1 XGBoost without Tuning"
   ],
   "metadata": {
    "id": "bQke__4uN5tm"
   }
  },
  {
   "cell_type": "code",
   "source": [
    "# Inisialisasi model XGBoost untuk regresi\n",
    "xgb_model = xgb.XGBRegressor(random_state=42)\n",
    "\n",
    "# Latih model pada data latih yang telah ditransformasi\n",
    "xgb_model.fit(X_train_transformed, y_train)\n",
    "\n",
    "# Prediksi pada data uji yang telah ditransformasi\n",
    "y_pred_xgb = xgb_model.predict(X_test_transformed)\n",
    "\n",
    "# Evaluasi model dengan MAPE\n",
    "mape_score = mean_absolute_percentage_error(y_test, y_pred_xgb)\n",
    "\n",
    "print(\"XGBoost Regressor:\")\n",
    "print(\"Mean Absolute Percentage Error (MAPE):\", mape_score)"
   ],
   "metadata": {
    "colab": {
     "base_uri": "https://localhost:8080/"
    },
    "id": "XmIGAxrlMokS",
    "executionInfo": {
     "status": "ok",
     "timestamp": 1741881265005,
     "user_tz": -420,
     "elapsed": 3256,
     "user": {
      "displayName": "Luthfi Krisna Bayu",
      "userId": "02424307416199458792"
     }
    },
    "outputId": "16ab927c-b675-449f-d24f-6e442f248769",
    "ExecuteTime": {
     "end_time": "2025-03-14T02:48:06.743404Z",
     "start_time": "2025-03-14T02:48:05.461034Z"
    }
   },
   "outputs": [
    {
     "name": "stdout",
     "output_type": "stream",
     "text": [
      "XGBoost Regressor:\n",
      "Mean Absolute Percentage Error (MAPE): 0.13344642519950867\n"
     ]
    }
   ],
   "execution_count": 81
  },
  {
   "cell_type": "markdown",
   "source": [
    "Gunakan MAPE sebagai evaluasi utama (semakin kecil, semakin baik)."
   ],
   "metadata": {
    "id": "UfmCtMs8PCwn"
   }
  },
  {
   "cell_type": "markdown",
   "source": [
    "Hasil MAPE = 0.0236 berarti error rata-rata model hanya sekitar 2.36% dari nilai sebenarnya. Ini menunjukkan model XGBoost Regressor bekerja dengan baik dalam memprediksi harga bahan pangan! 🎯🔥"
   ],
   "metadata": {
    "id": "i5kxyrnfO5Ut"
   }
  },
  {
   "cell_type": "markdown",
   "source": [
    "## &nbsp; 6.2 XGBoost with Hyperparameter Tuning"
   ],
   "metadata": {
    "id": "1HBmu6_3OCL5"
   }
  },
  {
   "cell_type": "markdown",
   "source": [
    "Kode ini blm aku running karena pasti lama. soale laptopku bapuk. klo laptop yg bagus harusnya ga lama"
   ],
   "metadata": {
    "id": "8cP4wB9BOoaz"
   }
  },
  {
   "cell_type": "code",
   "source": [
    "# Inisialisasi model XGBoost Regressor\n",
    "xgb_model = xgb.XGBRegressor(random_state=42)\n",
    "\n",
    "# Definisikan hyperparameter yang akan dituning\n",
    "param_dist = {\n",
    "    'n_estimators': [100, 300, 500, 700],\n",
    "    'max_depth': [3, 5, 7, 9],\n",
    "    'learning_rate': [0.01, 0.05, 0.1, 0.2],\n",
    "    'subsample': [0.6, 0.8, 1.0],\n",
    "    'colsample_bytree': [0.6, 0.8, 1.0],\n",
    "    'gamma': [0, 0.1, 0.2, 0.3],\n",
    "    'reg_alpha': [0, 0.01, 0.1, 1],\n",
    "    'reg_lambda': [0.1, 0.5, 1, 5]\n",
    "}\n",
    "\n",
    "# Inisialisasi RandomizedSearchCV\n",
    "random_search = RandomizedSearchCV(\n",
    "    estimator=xgb_model,\n",
    "    param_distributions=param_dist,\n",
    "    n_iter=30,  # Ubah jumlah iterasi sesuai kebutuhan\n",
    "    scoring='neg_mean_absolute_percentage_error',\n",
    "    cv=5,\n",
    "    verbose=2,\n",
    "    n_jobs=-1,\n",
    "    random_state=42\n",
    ")\n",
    "\n",
    "# Jalankan tuning pada data latih\n",
    "random_search.fit(X_train_transformed, y_train)\n",
    "\n",
    "# Cetak hyperparameter terbaik\n",
    "print(\"Best Hyperparameters:\", random_search.best_params_)\n",
    "\n",
    "# Gunakan model terbaik untuk prediksi\n",
    "best_xgb = random_search.best_estimator_\n",
    "y_pred_best = best_xgb.predict(X_test_transformed)\n",
    "\n",
    "# Hitung MAPE\n",
    "mape_best = mean_absolute_percentage_error(y_test, y_pred_best)\n",
    "print(f\"MAPE setelah tuning: {mape_best:.4f}\")"
   ],
   "metadata": {
    "id": "k0M4o_NH2HHI",
    "ExecuteTime": {
     "end_time": "2025-03-14T03:05:49.304303Z",
     "start_time": "2025-03-14T02:57:10.460634Z"
    }
   },
   "outputs": [
    {
     "name": "stdout",
     "output_type": "stream",
     "text": [
      "Fitting 5 folds for each of 30 candidates, totalling 150 fits\n",
      "Best Hyperparameters: {'subsample': 0.6, 'reg_lambda': 0.1, 'reg_alpha': 0.1, 'n_estimators': 100, 'max_depth': 9, 'learning_rate': 0.2, 'gamma': 0, 'colsample_bytree': 1.0}\n",
      "MAPE setelah tuning: 0.1179\n"
     ]
    }
   ],
   "execution_count": 87
  },
  {
   "metadata": {
    "ExecuteTime": {
     "end_time": "2025-03-14T04:58:55.448108Z",
     "start_time": "2025-03-14T04:58:55.321767Z"
    }
   },
   "cell_type": "code",
   "source": [
    "# Save the best model to a file\n",
    "best_xgb.save_model('google_trends_xgboost_regressor_model.json')"
   ],
   "outputs": [],
   "execution_count": 88
  },
  {
   "metadata": {},
   "cell_type": "markdown",
   "source": "# 7. Forecasting "
  },
  {
   "metadata": {
    "ExecuteTime": {
     "end_time": "2025-03-14T05:53:51.060387Z",
     "start_time": "2025-03-14T05:53:50.821236Z"
    }
   },
   "cell_type": "code",
   "source": [
    "# Load the saved model\n",
    "best_xgb = xgb.XGBRegressor()\n",
    "best_xgb.load_model('google_trends_xgboost_regressor_model.json')"
   ],
   "outputs": [],
   "execution_count": 176
  },
  {
   "metadata": {
    "ExecuteTime": {
     "end_time": "2025-03-14T05:53:51.260541Z",
     "start_time": "2025-03-14T05:53:51.256541Z"
    }
   },
   "cell_type": "code",
   "source": "Data_transformed = pd.DataFrame(X_transformed, columns=['Bahan_pangan', 'Daerah', 'Year', 'Month', 'Day', 'Weekday'])",
   "outputs": [],
   "execution_count": 177
  },
  {
   "metadata": {
    "ExecuteTime": {
     "end_time": "2025-03-14T05:54:20.780467Z",
     "start_time": "2025-03-14T05:54:20.748607Z"
    }
   },
   "cell_type": "code",
   "source": "result = best_xgb.predict(X_transformed)",
   "outputs": [],
   "execution_count": 178
  },
  {
   "metadata": {
    "ExecuteTime": {
     "end_time": "2025-03-14T05:55:52.129629Z",
     "start_time": "2025-03-14T05:55:52.125622Z"
    }
   },
   "cell_type": "code",
   "source": "X['Google_trends']=result",
   "outputs": [],
   "execution_count": 183
  },
  {
   "metadata": {
    "ExecuteTime": {
     "end_time": "2025-03-14T05:55:54.790920Z",
     "start_time": "2025-03-14T05:55:54.783920Z"
    }
   },
   "cell_type": "code",
   "source": "X",
   "outputs": [
    {
     "data": {
      "text/plain": [
       "       Bahan_pangan  Daerah  Year  Month  Day  Weekday  Google_trends\n",
       "0                 0       0  2024     10    1        1             36\n",
       "1                 0       1  2024     10    1        1             41\n",
       "2                 0       2  2024     10    1        1             30\n",
       "3                 0       3  2024     10    1        1             35\n",
       "4                 0       4  2024     10    1        1             35\n",
       "...             ...     ...   ...    ...  ...      ...            ...\n",
       "40659            12      29  2024     12   31        1             38\n",
       "40660            12      30  2024     12   31        1             38\n",
       "40661            12      31  2024     12   31        1             37\n",
       "40662            12      32  2024     12   31        1             37\n",
       "40663            12      33  2024     12   31        1             37\n",
       "\n",
       "[40664 rows x 7 columns]"
      ],
      "text/html": [
       "<div>\n",
       "<style scoped>\n",
       "    .dataframe tbody tr th:only-of-type {\n",
       "        vertical-align: middle;\n",
       "    }\n",
       "\n",
       "    .dataframe tbody tr th {\n",
       "        vertical-align: top;\n",
       "    }\n",
       "\n",
       "    .dataframe thead th {\n",
       "        text-align: right;\n",
       "    }\n",
       "</style>\n",
       "<table border=\"1\" class=\"dataframe\">\n",
       "  <thead>\n",
       "    <tr style=\"text-align: right;\">\n",
       "      <th></th>\n",
       "      <th>Bahan_pangan</th>\n",
       "      <th>Daerah</th>\n",
       "      <th>Year</th>\n",
       "      <th>Month</th>\n",
       "      <th>Day</th>\n",
       "      <th>Weekday</th>\n",
       "      <th>Google_trends</th>\n",
       "    </tr>\n",
       "  </thead>\n",
       "  <tbody>\n",
       "    <tr>\n",
       "      <th>0</th>\n",
       "      <td>0</td>\n",
       "      <td>0</td>\n",
       "      <td>2024</td>\n",
       "      <td>10</td>\n",
       "      <td>1</td>\n",
       "      <td>1</td>\n",
       "      <td>36</td>\n",
       "    </tr>\n",
       "    <tr>\n",
       "      <th>1</th>\n",
       "      <td>0</td>\n",
       "      <td>1</td>\n",
       "      <td>2024</td>\n",
       "      <td>10</td>\n",
       "      <td>1</td>\n",
       "      <td>1</td>\n",
       "      <td>41</td>\n",
       "    </tr>\n",
       "    <tr>\n",
       "      <th>2</th>\n",
       "      <td>0</td>\n",
       "      <td>2</td>\n",
       "      <td>2024</td>\n",
       "      <td>10</td>\n",
       "      <td>1</td>\n",
       "      <td>1</td>\n",
       "      <td>30</td>\n",
       "    </tr>\n",
       "    <tr>\n",
       "      <th>3</th>\n",
       "      <td>0</td>\n",
       "      <td>3</td>\n",
       "      <td>2024</td>\n",
       "      <td>10</td>\n",
       "      <td>1</td>\n",
       "      <td>1</td>\n",
       "      <td>35</td>\n",
       "    </tr>\n",
       "    <tr>\n",
       "      <th>4</th>\n",
       "      <td>0</td>\n",
       "      <td>4</td>\n",
       "      <td>2024</td>\n",
       "      <td>10</td>\n",
       "      <td>1</td>\n",
       "      <td>1</td>\n",
       "      <td>35</td>\n",
       "    </tr>\n",
       "    <tr>\n",
       "      <th>...</th>\n",
       "      <td>...</td>\n",
       "      <td>...</td>\n",
       "      <td>...</td>\n",
       "      <td>...</td>\n",
       "      <td>...</td>\n",
       "      <td>...</td>\n",
       "      <td>...</td>\n",
       "    </tr>\n",
       "    <tr>\n",
       "      <th>40659</th>\n",
       "      <td>12</td>\n",
       "      <td>29</td>\n",
       "      <td>2024</td>\n",
       "      <td>12</td>\n",
       "      <td>31</td>\n",
       "      <td>1</td>\n",
       "      <td>38</td>\n",
       "    </tr>\n",
       "    <tr>\n",
       "      <th>40660</th>\n",
       "      <td>12</td>\n",
       "      <td>30</td>\n",
       "      <td>2024</td>\n",
       "      <td>12</td>\n",
       "      <td>31</td>\n",
       "      <td>1</td>\n",
       "      <td>38</td>\n",
       "    </tr>\n",
       "    <tr>\n",
       "      <th>40661</th>\n",
       "      <td>12</td>\n",
       "      <td>31</td>\n",
       "      <td>2024</td>\n",
       "      <td>12</td>\n",
       "      <td>31</td>\n",
       "      <td>1</td>\n",
       "      <td>37</td>\n",
       "    </tr>\n",
       "    <tr>\n",
       "      <th>40662</th>\n",
       "      <td>12</td>\n",
       "      <td>32</td>\n",
       "      <td>2024</td>\n",
       "      <td>12</td>\n",
       "      <td>31</td>\n",
       "      <td>1</td>\n",
       "      <td>37</td>\n",
       "    </tr>\n",
       "    <tr>\n",
       "      <th>40663</th>\n",
       "      <td>12</td>\n",
       "      <td>33</td>\n",
       "      <td>2024</td>\n",
       "      <td>12</td>\n",
       "      <td>31</td>\n",
       "      <td>1</td>\n",
       "      <td>37</td>\n",
       "    </tr>\n",
       "  </tbody>\n",
       "</table>\n",
       "<p>40664 rows × 7 columns</p>\n",
       "</div>"
      ]
     },
     "execution_count": 184,
     "metadata": {},
     "output_type": "execute_result"
    }
   ],
   "execution_count": 184
  },
  {
   "metadata": {
    "ExecuteTime": {
     "end_time": "2025-03-14T05:56:20.055591Z",
     "start_time": "2025-03-14T05:56:20.051403Z"
    }
   },
   "cell_type": "code",
   "source": "result",
   "outputs": [
    {
     "data": {
      "text/plain": [
       "array([35.722317, 40.506355, 30.250156, ..., 37.48249 , 37.14172 ,\n",
       "       37.14172 ], dtype=float32)"
      ]
     },
     "execution_count": 187,
     "metadata": {},
     "output_type": "execute_result"
    }
   ],
   "execution_count": 187
  },
  {
   "metadata": {
    "ExecuteTime": {
     "end_time": "2025-03-14T05:58:04.926666Z",
     "start_time": "2025-03-14T05:58:04.867869Z"
    }
   },
   "cell_type": "code",
   "outputs": [],
   "execution_count": 188,
   "source": "X.to_csv('google_trends_result_forecasting.csv', index=False)"
  }
 ]
}
