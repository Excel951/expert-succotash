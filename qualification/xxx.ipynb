{
 "cells": [
  {
   "metadata": {
    "ExecuteTime": {
     "end_time": "2025-03-13T01:58:31.882048Z",
     "start_time": "2025-03-13T01:58:29.902728Z"
    }
   },
   "cell_type": "code",
   "source": [
    "import pandas as pd\n",
    "import numpy as np\n",
    "import os\n",
    "import datetime as dt\n",
    "from datetime import timedelta\n",
    "from dateutil.relativedelta import *"
   ],
   "id": "d0b7f193145b0771",
   "outputs": [],
   "execution_count": 1
  },
  {
   "metadata": {
    "ExecuteTime": {
     "end_time": "2025-03-13T01:58:31.885554Z",
     "start_time": "2025-03-13T01:58:31.883062Z"
    }
   },
   "cell_type": "code",
   "source": "seed = 7",
   "id": "dae3947eaa29817e",
   "outputs": [],
   "execution_count": 2
  },
  {
   "metadata": {
    "ExecuteTime": {
     "end_time": "2025-03-13T01:58:31.890053Z",
     "start_time": "2025-03-13T01:58:31.886570Z"
    }
   },
   "cell_type": "code",
   "source": [
    "import warnings\n",
    "warnings.filterwarnings('ignore')"
   ],
   "id": "cbba40dbd079bcf2",
   "outputs": [],
   "execution_count": 3
  },
  {
   "metadata": {},
   "cell_type": "markdown",
   "source": "# Collect data",
   "id": "5a84adc141b2eaf1"
  },
  {
   "metadata": {
    "ExecuteTime": {
     "end_time": "2025-03-13T01:58:31.894053Z",
     "start_time": "2025-03-13T01:58:31.891072Z"
    }
   },
   "cell_type": "code",
   "source": [
    "root_data='comodity-price-prediction-penyisihan-arkavidia-9'\n",
    "hrg_bhn_pangan='Harga Bahan Pangan'\n",
    "folder_train='train'\n",
    "folder_mata_uang='Mata Uang'\n",
    "folder_google_trend='Google Trend'"
   ],
   "id": "555eeada2a2df80",
   "outputs": [],
   "execution_count": 4
  },
  {
   "metadata": {
    "ExecuteTime": {
     "end_time": "2025-03-13T05:42:33.329549Z",
     "start_time": "2025-03-13T05:42:33.326342Z"
    }
   },
   "cell_type": "code",
   "source": [
    "tanggal_awal=dt.datetime(year=2024,month=1,day=1)\n",
    "tanggal_akhir=dt.datetime(year=2024,month=9,day=30)"
   ],
   "id": "6ee834ca580da6e1",
   "outputs": [],
   "execution_count": 29
  },
  {
   "metadata": {
    "ExecuteTime": {
     "end_time": "2025-03-13T01:58:31.902873Z",
     "start_time": "2025-03-13T01:58:31.899638Z"
    }
   },
   "cell_type": "code",
   "source": [
    "list_bhn_pgn=[\n",
    "    'Bawang Merah',         # bawang merah\n",
    "    'Bawang Putih Bonggol', # bawang putih\n",
    "    'Beras Medium',         # beras\n",
    "    'Beras Premium',        # beras\n",
    "    'Cabai Merah Keriting', # cabai merah\n",
    "    'Cabai Rawit Merah',    # cabai rawit\n",
    "    'Daging Ayam Ras',      # daging ayam\n",
    "    'Daging Sapi Murni',    # daging sapi\n",
    "    'Gula Konsumsi',        # gula\n",
    "    'Minyak Goreng Curah',  # minyak goreng\n",
    "    'Minyak Goreng Kemasan Sederhana',  #minyak goreng\n",
    "    'Telur Ayam Ras',       # telur ayam\n",
    "    'Tepung Terigu (Curah)',# tepung terigu\n",
    "]"
   ],
   "id": "8f74bb177fc30fb0",
   "outputs": [],
   "execution_count": 6
  },
  {
   "metadata": {
    "ExecuteTime": {
     "end_time": "2025-03-13T01:58:31.907641Z",
     "start_time": "2025-03-13T01:58:31.903902Z"
    }
   },
   "cell_type": "code",
   "source": [
    "list_google_trend={\n",
    "    'Bawang Merah': 'bawang merah',\n",
    "    'Bawang Putih Bonggol': 'bawang putih',\n",
    "    'Beras Medium':'beras',\n",
    "    'Beras Premium':'beras',\n",
    "    'Cabai Merah Keriting':'cabai merah',\n",
    "    'Cabai Rawit Merah':'cabai rawit',\n",
    "    'Daging Ayam Ras':'daging ayam',\n",
    "    'Daging Sapi Murni':'daging sapi',\n",
    "    'Gula Konsumsi':'gula',\n",
    "    'Minyak Goreng Curah':'minyak goreng',\n",
    "    'Minyak Goreng Kemasan Sederhana':'minyak goreng',\n",
    "    'Telur Ayam Ras':'telur ayam',\n",
    "    'Tepung Terigu (Curah)':'tepung terigu',\n",
    "}"
   ],
   "id": "92503d371dfa15fe",
   "outputs": [],
   "execution_count": 7
  },
  {
   "metadata": {
    "ExecuteTime": {
     "end_time": "2025-03-13T01:58:31.912105Z",
     "start_time": "2025-03-13T01:58:31.907641Z"
    }
   },
   "cell_type": "code",
   "source": [
    "list_nama_daerah=[\n",
    "    'Aceh',\n",
    "    'Bali',\n",
    "    'Banten',\n",
    "    'Bengkulu',\n",
    "    'DI Yogyakarta',\n",
    "    'DKI Jakarta',\n",
    "    'Gorontalo',\n",
    "    'Jambi',\n",
    "    'Jawa Barat',\n",
    "    'Jawa Tengah',\n",
    "    'Jawa Timur',\n",
    "    'Kalimantan Barat',\n",
    "    'Kalimantan Selatan',\n",
    "    'Kalimantan Tengah',\n",
    "    'Kalimantan Timur',\n",
    "    'Kalimantan Utara',\n",
    "    'Kepulauan Bangka Belitung',\n",
    "    'Kepulauan Riau',\n",
    "    'Lampung',\n",
    "    'Maluku Utara',\n",
    "    'Maluku',\n",
    "    'Nusa Tenggara Barat',\n",
    "    'Nusa Tenggara Timur',\n",
    "    'Papua Barat',\n",
    "    'Papua',\n",
    "    'Riau',\n",
    "    'Sulawesi Barat',\n",
    "    'Sulawesi Selatan',\n",
    "    'Sulawesi Tengah',\n",
    "    'Sulawesi Tenggara',\n",
    "    'Sulawesi Utara',\n",
    "    'Sumatera Barat',\n",
    "    'Sumatera Selatan',\n",
    "    'Sumatera Utara'\n",
    "]"
   ],
   "id": "6b731971263b1035",
   "outputs": [],
   "execution_count": 8
  },
  {
   "metadata": {
    "ExecuteTime": {
     "end_time": "2025-03-13T01:58:39.375135Z",
     "start_time": "2025-03-13T01:58:39.371887Z"
    }
   },
   "cell_type": "code",
   "source": "path_data_source=os.path.join(root_data,hrg_bhn_pangan,folder_train)",
   "id": "c92293381ed3629c",
   "outputs": [],
   "execution_count": 9
  },
  {
   "metadata": {
    "ExecuteTime": {
     "end_time": "2025-03-13T05:41:51.490428Z",
     "start_time": "2025-03-13T05:41:51.485927Z"
    }
   },
   "cell_type": "code",
   "source": [
    "data_bhn_pgn={\n",
    "    'Tanggal':[],\n",
    "    'Bahan_pangan':[],\n",
    "    'Daerah':[],\n",
    "    'Harga_lag_1':[],\n",
    "    'Harga_lag_7':[],\n",
    "    'Harga_lag_30':[],\n",
    "    'Google_trends':[],\n",
    "    'MYRUSD':[],\n",
    "    'SGDUSD':[],\n",
    "    'THBUSD':[],\n",
    "    'USDIDR':[],\n",
    "    'Harga':[]\n",
    "}\n",
    "df_bhn_pgn_all=pd.DataFrame(data_bhn_pgn)"
   ],
   "id": "75e5e4d9e51b0632",
   "outputs": [],
   "execution_count": 27
  },
  {
   "metadata": {
    "ExecuteTime": {
     "end_time": "2025-03-13T05:41:52.235387Z",
     "start_time": "2025-03-13T05:41:52.211469Z"
    }
   },
   "cell_type": "code",
   "source": [
    "myrusd_path=os.path.join(root_data,folder_mata_uang,'MYRUSD=X.csv')\n",
    "df_myrusd=pd.read_csv(myrusd_path)\n",
    "df_myrusd['Date']=pd.to_datetime(df_myrusd['Date'])\n",
    "sgdusd_path=os.path.join(root_data,folder_mata_uang,'SGDUSD=X.csv')\n",
    "df_sgdusd=pd.read_csv(sgdusd_path)\n",
    "df_sgdusd['Date']=pd.to_datetime(df_sgdusd['Date'])\n",
    "thbusd_path=os.path.join(root_data,folder_mata_uang,'THBUSD=X.csv')\n",
    "df_thbusd=pd.read_csv(thbusd_path)\n",
    "df_thbusd['Date']=pd.to_datetime(df_thbusd['Date'])\n",
    "usdidr_path=os.path.join(root_data,folder_mata_uang,'USDIDR=X.csv')\n",
    "df_usdidr=pd.read_csv(usdidr_path)\n",
    "df_usdidr['Date']=pd.to_datetime(df_usdidr['Date'])\n",
    "\n",
    "myrusd=3349.6199\n",
    "sgdusd=11687.3767\n",
    "thbusd=449.8396\n",
    "usdidr=15425.0"
   ],
   "id": "81933957278d3208",
   "outputs": [],
   "execution_count": 28
  },
  {
   "metadata": {
    "ExecuteTime": {
     "end_time": "2025-03-13T07:16:55.239412Z",
     "start_time": "2025-03-13T05:42:54.889362Z"
    }
   },
   "cell_type": "code",
   "source": [
    "for date in [tanggal_awal + dt.timedelta(days=x) for x in range((tanggal_akhir - tanggal_awal).days + 1)]:\n",
    "    for nama_bhn_pgn in list_bhn_pgn:\n",
    "        file_bhn_pgn=os.path.join(path_data_source, nama_bhn_pgn+'.csv')\n",
    "        df_bhn_pgn=pd.read_csv(file_bhn_pgn)\n",
    "        try:\n",
    "            df_bhn_pgn['Date']=pd.to_datetime(df_bhn_pgn['Date'])\n",
    "        except Exception as e:\n",
    "            df_bhn_pgn['Tanggal']=pd.to_datetime(df_bhn_pgn['Tanggal'])\n",
    "        yesterday = date - timedelta(days=1)\n",
    "        week_ago = date - timedelta(days=7)\n",
    "        month_ago = date - relativedelta(months=1)\n",
    "        for daerah in list_nama_daerah:\n",
    "            try:\n",
    "                gt_path=os.path.join(root_data,folder_google_trend,list_google_trend[nama_bhn_pgn],daerah+'.csv')\n",
    "                df_gt=pd.read_csv(gt_path)\n",
    "                df_gt['Date']=pd.to_datetime(df_gt['Date'])\n",
    "            except Exception as e:\n",
    "                df_gt=None\n",
    "            \n",
    "            # QUERY DATA KURS\n",
    "            if not df_myrusd.query('Date == @date').empty and not df_usdidr.query('Date == @date').empty:\n",
    "                myrusd=round(df_myrusd.query('Date == @date')['Adj Close'].values[0]*df_usdidr.query('Date == @date')['Adj Close'].values[0], 4) if not df_myrusd.query('Date == @date').empty else np.int32(0)\n",
    "            if not df_sgdusd.query('Date == @date').empty and not df_usdidr.query('Date == @date').empty:\n",
    "                sgdusd=round(df_sgdusd.query('Date == @date')['Adj Close'].values[0]*df_usdidr.query('Date == @date')['Adj Close'].values[0], 4) if not df_sgdusd.query('Date == @date').empty else np.int32(0)\n",
    "            if not df_thbusd.query('Date == @date').empty and not df_usdidr.query('Date == @date').empty:\n",
    "                thbusd=round(df_thbusd.query('Date == @date')['Adj Close'].values[0]*df_usdidr.query('Date == @date')['Adj Close'].values[0], 4) if not df_thbusd.query('Date == @date').empty else np.int32(0)\n",
    "            if not df_usdidr.query('Date == @date').empty:\n",
    "                usdidr=round(df_usdidr.query('Date == @date')['Adj Close'].values[0], 4) if not df_myrusd.query('Date == @date').empty else np.int32(0)\n",
    "            \n",
    "            new_data={\n",
    "                'Tanggal':date,\n",
    "                'Bahan_pangan':nama_bhn_pgn,\n",
    "                'Daerah':daerah,\n",
    "                'Harga_lag_1':round(df_bhn_pgn.query('Date == @yesterday')[daerah].fillna(0).values[0]) if not df_bhn_pgn.query('Date == @yesterday').empty else 0,\n",
    "                'Harga_lag_7':round(df_bhn_pgn.query('Date == @week_ago')[daerah].fillna(0).values[0]) if not df_bhn_pgn.query('Date == @week_ago').empty else 0,\n",
    "                'Harga_lag_30':round(df_bhn_pgn.query('Date == @month_ago')[daerah].fillna(0).values[0]) if not df_bhn_pgn.query('Date == @month_ago').empty else 0,\n",
    "                'Google_trends': round(df_gt.query('Date == @date')[list_google_trend[nama_bhn_pgn]].fillna(0).values[0]) if df_gt is not None and not df_gt.query('Date == @date').empty else 0,\n",
    "                'MYRUSD':myrusd,\n",
    "                'SGDUSD':sgdusd,\n",
    "                'THBUSD':thbusd,\n",
    "                'USDIDR':usdidr,\n",
    "                'Harga':round(df_bhn_pgn.query('Date == @date')[daerah].fillna(0).values[0]) if not df_bhn_pgn.query('Date == @date').empty else 0\n",
    "            }\n",
    "            df_bhn_pgn_all = df_bhn_pgn_all._append(new_data, ignore_index=True)"
   ],
   "id": "ed818d4705fff772",
   "outputs": [],
   "execution_count": 31
  },
  {
   "metadata": {
    "ExecuteTime": {
     "end_time": "2025-03-13T07:16:55.252979Z",
     "start_time": "2025-03-13T07:16:55.240427Z"
    }
   },
   "cell_type": "code",
   "source": "df_bhn_pgn_all.head()",
   "id": "8188f558ff0e6a8",
   "outputs": [
    {
     "data": {
      "text/plain": [
       "     Tanggal  Bahan_pangan         Daerah  Harga_lag_1  Harga_lag_7  \\\n",
       "0 2024-01-01  Bawang Merah           Aceh      36790.0      34590.0   \n",
       "1 2024-01-01  Bawang Merah           Bali      35340.0      29420.0   \n",
       "2 2024-01-01  Bawang Merah         Banten      34060.0      32660.0   \n",
       "3 2024-01-01  Bawang Merah       Bengkulu      36570.0      34540.0   \n",
       "4 2024-01-01  Bawang Merah  DI Yogyakarta      33890.0      33420.0   \n",
       "\n",
       "   Harga_lag_30  Google_trends     MYRUSD      SGDUSD    THBUSD      USDIDR  \\\n",
       "0       31080.0            0.0  3349.6133  11662.3455  446.9233  15383.0996   \n",
       "1       23510.0            0.0  3349.6133  11662.3455  446.9233  15383.0996   \n",
       "2       29300.0            0.0  3349.6133  11662.3455  446.9233  15383.0996   \n",
       "3       29370.0            0.0  3349.6133  11662.3455  446.9233  15383.0996   \n",
       "4       25360.0            0.0  3349.6133  11662.3455  446.9233  15383.0996   \n",
       "\n",
       "     Harga  \n",
       "0  37020.0  \n",
       "1  35020.0  \n",
       "2  34540.0  \n",
       "3  36570.0  \n",
       "4  34630.0  "
      ],
      "text/html": [
       "<div>\n",
       "<style scoped>\n",
       "    .dataframe tbody tr th:only-of-type {\n",
       "        vertical-align: middle;\n",
       "    }\n",
       "\n",
       "    .dataframe tbody tr th {\n",
       "        vertical-align: top;\n",
       "    }\n",
       "\n",
       "    .dataframe thead th {\n",
       "        text-align: right;\n",
       "    }\n",
       "</style>\n",
       "<table border=\"1\" class=\"dataframe\">\n",
       "  <thead>\n",
       "    <tr style=\"text-align: right;\">\n",
       "      <th></th>\n",
       "      <th>Tanggal</th>\n",
       "      <th>Bahan_pangan</th>\n",
       "      <th>Daerah</th>\n",
       "      <th>Harga_lag_1</th>\n",
       "      <th>Harga_lag_7</th>\n",
       "      <th>Harga_lag_30</th>\n",
       "      <th>Google_trends</th>\n",
       "      <th>MYRUSD</th>\n",
       "      <th>SGDUSD</th>\n",
       "      <th>THBUSD</th>\n",
       "      <th>USDIDR</th>\n",
       "      <th>Harga</th>\n",
       "    </tr>\n",
       "  </thead>\n",
       "  <tbody>\n",
       "    <tr>\n",
       "      <th>0</th>\n",
       "      <td>2024-01-01</td>\n",
       "      <td>Bawang Merah</td>\n",
       "      <td>Aceh</td>\n",
       "      <td>36790.0</td>\n",
       "      <td>34590.0</td>\n",
       "      <td>31080.0</td>\n",
       "      <td>0.0</td>\n",
       "      <td>3349.6133</td>\n",
       "      <td>11662.3455</td>\n",
       "      <td>446.9233</td>\n",
       "      <td>15383.0996</td>\n",
       "      <td>37020.0</td>\n",
       "    </tr>\n",
       "    <tr>\n",
       "      <th>1</th>\n",
       "      <td>2024-01-01</td>\n",
       "      <td>Bawang Merah</td>\n",
       "      <td>Bali</td>\n",
       "      <td>35340.0</td>\n",
       "      <td>29420.0</td>\n",
       "      <td>23510.0</td>\n",
       "      <td>0.0</td>\n",
       "      <td>3349.6133</td>\n",
       "      <td>11662.3455</td>\n",
       "      <td>446.9233</td>\n",
       "      <td>15383.0996</td>\n",
       "      <td>35020.0</td>\n",
       "    </tr>\n",
       "    <tr>\n",
       "      <th>2</th>\n",
       "      <td>2024-01-01</td>\n",
       "      <td>Bawang Merah</td>\n",
       "      <td>Banten</td>\n",
       "      <td>34060.0</td>\n",
       "      <td>32660.0</td>\n",
       "      <td>29300.0</td>\n",
       "      <td>0.0</td>\n",
       "      <td>3349.6133</td>\n",
       "      <td>11662.3455</td>\n",
       "      <td>446.9233</td>\n",
       "      <td>15383.0996</td>\n",
       "      <td>34540.0</td>\n",
       "    </tr>\n",
       "    <tr>\n",
       "      <th>3</th>\n",
       "      <td>2024-01-01</td>\n",
       "      <td>Bawang Merah</td>\n",
       "      <td>Bengkulu</td>\n",
       "      <td>36570.0</td>\n",
       "      <td>34540.0</td>\n",
       "      <td>29370.0</td>\n",
       "      <td>0.0</td>\n",
       "      <td>3349.6133</td>\n",
       "      <td>11662.3455</td>\n",
       "      <td>446.9233</td>\n",
       "      <td>15383.0996</td>\n",
       "      <td>36570.0</td>\n",
       "    </tr>\n",
       "    <tr>\n",
       "      <th>4</th>\n",
       "      <td>2024-01-01</td>\n",
       "      <td>Bawang Merah</td>\n",
       "      <td>DI Yogyakarta</td>\n",
       "      <td>33890.0</td>\n",
       "      <td>33420.0</td>\n",
       "      <td>25360.0</td>\n",
       "      <td>0.0</td>\n",
       "      <td>3349.6133</td>\n",
       "      <td>11662.3455</td>\n",
       "      <td>446.9233</td>\n",
       "      <td>15383.0996</td>\n",
       "      <td>34630.0</td>\n",
       "    </tr>\n",
       "  </tbody>\n",
       "</table>\n",
       "</div>"
      ]
     },
     "execution_count": 32,
     "metadata": {},
     "output_type": "execute_result"
    }
   ],
   "execution_count": 32
  },
  {
   "metadata": {
    "ExecuteTime": {
     "end_time": "2025-03-13T07:55:10.682832Z",
     "start_time": "2025-03-13T07:55:09.898381Z"
    }
   },
   "cell_type": "code",
   "source": "df_bhn_pgn_all.to_csv('tes.csv', mode='a', index=False, header=False)",
   "id": "b90efde0fd9dcb1",
   "outputs": [],
   "execution_count": 34
  },
  {
   "metadata": {
    "ExecuteTime": {
     "end_time": "2025-03-11T04:32:59.229194Z",
     "start_time": "2025-03-11T04:32:59.192648Z"
    }
   },
   "cell_type": "code",
   "source": [
    "file_bhn_pgn=os.path.join(path_data_source, list_bhn_pgn[0]+'.csv')\n",
    "df_bhn_pgn=pd.read_csv(file_bhn_pgn)\n",
    "gt_path=os.path.join(root_data,folder_google_trend,list_google_trend[list_bhn_pgn[0]],list_nama_daerah[0]+'.csv')\n",
    "print(f'gt_path: {gt_path}')\n",
    "df_gt=pd.read_csv(gt_path)\n",
    "df_gt['Date']=pd.to_datetime(df_gt['Date'])\n",
    "date=dt.datetime(year=2022,month=7,day=26)\n",
    "df_gt.query('Date == @date')['bawang merah'].values[0]"
   ],
   "id": "a4dbf5602e4d689",
   "outputs": [
    {
     "name": "stdout",
     "output_type": "stream",
     "text": [
      "gt_path: comodity-price-prediction-penyisihan-arkavidia-9\\Google Trend\\bawang merah\\Aceh.csv\n"
     ]
    },
    {
     "data": {
      "text/plain": [
       "np.float64(49.50915254237288)"
      ]
     },
     "execution_count": 16,
     "metadata": {},
     "output_type": "execute_result"
    }
   ],
   "execution_count": 16
  },
  {
   "metadata": {
    "ExecuteTime": {
     "end_time": "2025-03-10T16:36:47.621964Z",
     "start_time": "2025-03-10T16:36:47.617922Z"
    }
   },
   "cell_type": "code",
   "source": "list_bhn_pgn[0]",
   "id": "7b166578bf987c6d",
   "outputs": [
    {
     "data": {
      "text/plain": [
       "'Bawang Merah'"
      ]
     },
     "execution_count": 51,
     "metadata": {},
     "output_type": "execute_result"
    }
   ],
   "execution_count": 51
  },
  {
   "metadata": {
    "ExecuteTime": {
     "end_time": "2025-03-10T16:37:13.709572Z",
     "start_time": "2025-03-10T16:37:13.705746Z"
    }
   },
   "cell_type": "code",
   "source": "list_google_trend['Bawang Merah']",
   "id": "b2322353527714c",
   "outputs": [
    {
     "data": {
      "text/plain": [
       "'bawang merah'"
      ]
     },
     "execution_count": 53,
     "metadata": {},
     "output_type": "execute_result"
    }
   ],
   "execution_count": 53
  },
  {
   "metadata": {
    "ExecuteTime": {
     "end_time": "2025-03-10T16:37:36.784055Z",
     "start_time": "2025-03-10T16:37:36.779648Z"
    }
   },
   "cell_type": "code",
   "source": "list_google_trend[list_bhn_pgn[0]]",
   "id": "b9c25151650242e5",
   "outputs": [
    {
     "data": {
      "text/plain": [
       "'bawang merah'"
      ]
     },
     "execution_count": 54,
     "metadata": {},
     "output_type": "execute_result"
    }
   ],
   "execution_count": 54
  },
  {
   "metadata": {
    "ExecuteTime": {
     "end_time": "2025-03-13T08:06:06.608445Z",
     "start_time": "2025-03-13T08:06:05.865444Z"
    }
   },
   "cell_type": "code",
   "source": [
    "train=pd.read_csv('train.csv')\n",
    "train.shape"
   ],
   "id": "e8332108a9040711",
   "outputs": [
    {
     "data": {
      "text/plain": [
       "(471049, 12)"
      ]
     },
     "execution_count": 36,
     "metadata": {},
     "output_type": "execute_result"
    }
   ],
   "execution_count": 36
  },
  {
   "metadata": {
    "ExecuteTime": {
     "end_time": "2025-03-13T08:06:32.271140Z",
     "start_time": "2025-03-13T08:06:32.154761Z"
    }
   },
   "cell_type": "code",
   "source": "train.info()",
   "id": "19fc446050571e13",
   "outputs": [
    {
     "name": "stdout",
     "output_type": "stream",
     "text": [
      "<class 'pandas.core.frame.DataFrame'>\n",
      "RangeIndex: 471049 entries, 0 to 471048\n",
      "Data columns (total 12 columns):\n",
      " #   Column         Non-Null Count   Dtype \n",
      "---  ------         --------------   ----- \n",
      " 0   Tanggal        471049 non-null  object\n",
      " 1   Bahan_pangan   471049 non-null  object\n",
      " 2   Daerah         471049 non-null  object\n",
      " 3   Harga_lag_1    471049 non-null  object\n",
      " 4   Harga_lag_7    471049 non-null  object\n",
      " 5   Harga_lag_30   471049 non-null  object\n",
      " 6   Google_trends  471049 non-null  object\n",
      " 7   MYRUSD         471049 non-null  object\n",
      " 8   SGDUSD         471049 non-null  object\n",
      " 9   THBUSD         471049 non-null  object\n",
      " 10  USDIDR         471049 non-null  object\n",
      " 11  Harga          471049 non-null  object\n",
      "dtypes: object(12)\n",
      "memory usage: 43.1+ MB\n"
     ]
    }
   ],
   "execution_count": 37
  },
  {
   "metadata": {},
   "cell_type": "code",
   "outputs": [],
   "execution_count": null,
   "source": "",
   "id": "eeb9ab7d5453cfb3"
  }
 ],
 "metadata": {
  "kernelspec": {
   "display_name": "Python 3",
   "language": "python",
   "name": "python3"
  },
  "language_info": {
   "codemirror_mode": {
    "name": "ipython",
    "version": 2
   },
   "file_extension": ".py",
   "mimetype": "text/x-python",
   "name": "python",
   "nbconvert_exporter": "python",
   "pygments_lexer": "ipython2",
   "version": "2.7.6"
  }
 },
 "nbformat": 4,
 "nbformat_minor": 5
}
