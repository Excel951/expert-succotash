{
 "cells": [
  {
   "metadata": {
    "ExecuteTime": {
     "end_time": "2025-03-14T03:40:39.769818Z",
     "start_time": "2025-03-14T03:40:39.765712Z"
    }
   },
   "cell_type": "code",
   "source": [
    "import pandas as pd\n",
    "import numpy as np\n",
    "import os\n",
    "import datetime as dt\n",
    "from datetime import timedelta\n",
    "from dateutil.relativedelta import *"
   ],
   "id": "d0b7f193145b0771",
   "outputs": [],
   "execution_count": 2
  },
  {
   "metadata": {
    "ExecuteTime": {
     "end_time": "2025-03-14T03:40:40.159817Z",
     "start_time": "2025-03-14T03:40:40.155658Z"
    }
   },
   "cell_type": "code",
   "source": "seed = 7",
   "id": "dae3947eaa29817e",
   "outputs": [],
   "execution_count": 3
  },
  {
   "metadata": {
    "ExecuteTime": {
     "end_time": "2025-03-14T03:40:40.574970Z",
     "start_time": "2025-03-14T03:40:40.571740Z"
    }
   },
   "cell_type": "code",
   "source": [
    "import warnings\n",
    "warnings.filterwarnings('ignore')"
   ],
   "id": "cbba40dbd079bcf2",
   "outputs": [],
   "execution_count": 4
  },
  {
   "metadata": {},
   "cell_type": "markdown",
   "source": "# Collect data",
   "id": "5a84adc141b2eaf1"
  },
  {
   "metadata": {},
   "cell_type": "markdown",
   "source": "## Define path",
   "id": "40046781cf76b9bc"
  },
  {
   "metadata": {
    "ExecuteTime": {
     "end_time": "2025-03-14T03:40:50.878342Z",
     "start_time": "2025-03-14T03:40:50.875372Z"
    }
   },
   "cell_type": "code",
   "source": [
    "root_data='comodity-price-prediction-penyisihan-arkavidia-9'\n",
    "hrg_bhn_pangan='Harga Bahan Pangan'\n",
    "folder_train='train'\n",
    "folder_mata_uang='Mata Uang'\n",
    "folder_google_trend='Google Trend'\n",
    "folder_test='test'"
   ],
   "id": "555eeada2a2df80",
   "outputs": [],
   "execution_count": 6
  },
  {
   "metadata": {},
   "cell_type": "markdown",
   "source": "## Define date range",
   "id": "4442d3d81cddc9f4"
  },
  {
   "metadata": {
    "ExecuteTime": {
     "end_time": "2025-03-14T03:40:51.995074Z",
     "start_time": "2025-03-14T03:40:51.991942Z"
    }
   },
   "cell_type": "code",
   "source": [
    "tanggal_awal=dt.datetime(year=2024,month=10,day=1)\n",
    "tanggal_akhir=dt.datetime(year=2024,month=12,day=31)"
   ],
   "id": "6ee834ca580da6e1",
   "outputs": [],
   "execution_count": 7
  },
  {
   "metadata": {},
   "cell_type": "markdown",
   "source": "# Define list of basic needs",
   "id": "787a24c0444aaab9"
  },
  {
   "metadata": {
    "ExecuteTime": {
     "end_time": "2025-03-14T03:40:53.723330Z",
     "start_time": "2025-03-14T03:40:53.718330Z"
    }
   },
   "cell_type": "code",
   "source": [
    "list_bhn_pgn=[\n",
    "    'Bawang Merah',         # bawang merah\n",
    "    'Bawang Putih Bonggol', # bawang putih\n",
    "    'Beras Medium',         # beras\n",
    "    'Beras Premium',        # beras\n",
    "    'Cabai Merah Keriting', # cabai merah\n",
    "    'Cabai Rawit Merah',    # cabai rawit\n",
    "    'Daging Ayam Ras',      # daging ayam\n",
    "    'Daging Sapi Murni',    # daging sapi\n",
    "    'Gula Konsumsi',        # gula\n",
    "    'Minyak Goreng Curah',  # minyak goreng\n",
    "    'Minyak Goreng Kemasan Sederhana',  #minyak goreng\n",
    "    'Telur Ayam Ras',       # telur ayam\n",
    "    'Tepung Terigu (Curah)',# tepung terigu\n",
    "]"
   ],
   "id": "8f74bb177fc30fb0",
   "outputs": [],
   "execution_count": 8
  },
  {
   "metadata": {
    "ExecuteTime": {
     "end_time": "2025-03-14T03:40:54.122859Z",
     "start_time": "2025-03-14T03:40:54.116947Z"
    }
   },
   "cell_type": "code",
   "source": [
    "list_google_trend={\n",
    "    'Bawang Merah': 'bawang merah',\n",
    "    'Bawang Putih Bonggol': 'bawang putih',\n",
    "    'Beras Medium':'beras',\n",
    "    'Beras Premium':'beras',\n",
    "    'Cabai Merah Keriting':'cabai merah',\n",
    "    'Cabai Rawit Merah':'cabai rawit',\n",
    "    'Daging Ayam Ras':'daging ayam',\n",
    "    'Daging Sapi Murni':'daging sapi',\n",
    "    'Gula Konsumsi':'gula',\n",
    "    'Minyak Goreng Curah':'minyak goreng',\n",
    "    'Minyak Goreng Kemasan Sederhana':'minyak goreng',\n",
    "    'Telur Ayam Ras':'telur ayam',\n",
    "    'Tepung Terigu (Curah)':'tepung terigu',\n",
    "}"
   ],
   "id": "92503d371dfa15fe",
   "outputs": [],
   "execution_count": 9
  },
  {
   "metadata": {
    "ExecuteTime": {
     "end_time": "2025-03-14T03:40:54.547437Z",
     "start_time": "2025-03-14T03:40:54.542438Z"
    }
   },
   "cell_type": "code",
   "source": [
    "list_nama_daerah=[\n",
    "    'Aceh',\n",
    "    'Bali',\n",
    "    'Banten',\n",
    "    'Bengkulu',\n",
    "    'DI Yogyakarta',\n",
    "    'DKI Jakarta',\n",
    "    'Gorontalo',\n",
    "    'Jambi',\n",
    "    'Jawa Barat',\n",
    "    'Jawa Tengah',\n",
    "    'Jawa Timur',\n",
    "    'Kalimantan Barat',\n",
    "    'Kalimantan Selatan',\n",
    "    'Kalimantan Tengah',\n",
    "    'Kalimantan Timur',\n",
    "    'Kalimantan Utara',\n",
    "    'Kepulauan Bangka Belitung',\n",
    "    'Kepulauan Riau',\n",
    "    'Lampung',\n",
    "    'Maluku Utara',\n",
    "    'Maluku',\n",
    "    'Nusa Tenggara Barat',\n",
    "    'Nusa Tenggara Timur',\n",
    "    'Papua Barat',\n",
    "    'Papua',\n",
    "    'Riau',\n",
    "    'Sulawesi Barat',\n",
    "    'Sulawesi Selatan',\n",
    "    'Sulawesi Tengah',\n",
    "    'Sulawesi Tenggara',\n",
    "    'Sulawesi Utara',\n",
    "    'Sumatera Barat',\n",
    "    'Sumatera Selatan',\n",
    "    'Sumatera Utara'\n",
    "]"
   ],
   "id": "6b731971263b1035",
   "outputs": [],
   "execution_count": 10
  },
  {
   "metadata": {
    "ExecuteTime": {
     "end_time": "2025-03-14T03:41:03.792059Z",
     "start_time": "2025-03-14T03:41:03.789590Z"
    }
   },
   "cell_type": "code",
   "source": "path_data_source=os.path.join(root_data,hrg_bhn_pangan,folder_test)",
   "id": "c92293381ed3629c",
   "outputs": [],
   "execution_count": 13
  },
  {
   "metadata": {
    "ExecuteTime": {
     "end_time": "2025-03-14T04:35:28.258123Z",
     "start_time": "2025-03-14T04:35:28.253685Z"
    }
   },
   "cell_type": "code",
   "source": [
    "data_bhn_pgn={\n",
    "    'Tanggal':[],\n",
    "    'Bahan_pangan':[],\n",
    "    'Daerah':[],\n",
    "    'Harga_lag_1':[],\n",
    "    'Harga_lag_7':[],\n",
    "    'Harga_lag_30':[],\n",
    "    'Google_trends':[],\n",
    "    'MYRUSD':[],\n",
    "    'SGDUSD':[],\n",
    "    'THBUSD':[],\n",
    "    'USDIDR':[],\n",
    "    'Harga':[]\n",
    "}\n",
    "df_bhn_pgn_all=pd.DataFrame(data_bhn_pgn)"
   ],
   "id": "75e5e4d9e51b0632",
   "outputs": [],
   "execution_count": 40
  },
  {
   "metadata": {
    "ExecuteTime": {
     "end_time": "2025-03-13T05:41:52.235387Z",
     "start_time": "2025-03-13T05:41:52.211469Z"
    }
   },
   "cell_type": "code",
   "source": [
    "myrusd_path=os.path.join(root_data,folder_mata_uang,'MYRUSD=X.csv')\n",
    "df_myrusd=pd.read_csv(myrusd_path)\n",
    "df_myrusd['Date']=pd.to_datetime(df_myrusd['Date'])\n",
    "sgdusd_path=os.path.join(root_data,folder_mata_uang,'SGDUSD=X.csv')\n",
    "df_sgdusd=pd.read_csv(sgdusd_path)\n",
    "df_sgdusd['Date']=pd.to_datetime(df_sgdusd['Date'])\n",
    "thbusd_path=os.path.join(root_data,folder_mata_uang,'THBUSD=X.csv')\n",
    "df_thbusd=pd.read_csv(thbusd_path)\n",
    "df_thbusd['Date']=pd.to_datetime(df_thbusd['Date'])\n",
    "usdidr_path=os.path.join(root_data,folder_mata_uang,'USDIDR=X.csv')\n",
    "df_usdidr=pd.read_csv(usdidr_path)\n",
    "df_usdidr['Date']=pd.to_datetime(df_usdidr['Date'])\n",
    "\n",
    "myrusd=3349.6199\n",
    "sgdusd=11687.3767\n",
    "thbusd=449.8396\n",
    "usdidr=15425.0"
   ],
   "id": "81933957278d3208",
   "outputs": [],
   "execution_count": 28
  },
  {
   "metadata": {},
   "cell_type": "markdown",
   "source": "# Process Collect Data From All Files",
   "id": "777b3aceb352b627"
  },
  {
   "metadata": {
    "ExecuteTime": {
     "end_time": "2025-03-13T07:16:55.239412Z",
     "start_time": "2025-03-13T05:42:54.889362Z"
    }
   },
   "cell_type": "code",
   "source": [
    "for date in [tanggal_awal + dt.timedelta(days=x) for x in range((tanggal_akhir - tanggal_awal).days + 1)]:\n",
    "    for nama_bhn_pgn in list_bhn_pgn:\n",
    "        file_bhn_pgn=os.path.join(path_data_source, nama_bhn_pgn+'.csv')\n",
    "        df_bhn_pgn=pd.read_csv(file_bhn_pgn)\n",
    "        try:\n",
    "            df_bhn_pgn['Date']=pd.to_datetime(df_bhn_pgn['Date'])\n",
    "        except Exception as e:\n",
    "            df_bhn_pgn['Tanggal']=pd.to_datetime(df_bhn_pgn['Tanggal'])\n",
    "        yesterday = date - timedelta(days=1)\n",
    "        week_ago = date - timedelta(days=7)\n",
    "        month_ago = date - relativedelta(months=1)\n",
    "        for daerah in list_nama_daerah:\n",
    "            try:\n",
    "                gt_path=os.path.join(root_data,folder_google_trend,list_google_trend[nama_bhn_pgn],daerah+'.csv')\n",
    "                df_gt=pd.read_csv(gt_path)\n",
    "                df_gt['Date']=pd.to_datetime(df_gt['Date'])\n",
    "            except Exception as e:\n",
    "                df_gt=None\n",
    "            \n",
    "            # QUERY DATA KURS\n",
    "            if not df_myrusd.query('Date == @date').empty and not df_usdidr.query('Date == @date').empty:\n",
    "                myrusd=round(df_myrusd.query('Date == @date')['Adj Close'].values[0]*df_usdidr.query('Date == @date')['Adj Close'].values[0], 4) if not df_myrusd.query('Date == @date').empty else np.int32(0)\n",
    "            if not df_sgdusd.query('Date == @date').empty and not df_usdidr.query('Date == @date').empty:\n",
    "                sgdusd=round(df_sgdusd.query('Date == @date')['Adj Close'].values[0]*df_usdidr.query('Date == @date')['Adj Close'].values[0], 4) if not df_sgdusd.query('Date == @date').empty else np.int32(0)\n",
    "            if not df_thbusd.query('Date == @date').empty and not df_usdidr.query('Date == @date').empty:\n",
    "                thbusd=round(df_thbusd.query('Date == @date')['Adj Close'].values[0]*df_usdidr.query('Date == @date')['Adj Close'].values[0], 4) if not df_thbusd.query('Date == @date').empty else np.int32(0)\n",
    "            if not df_usdidr.query('Date == @date').empty:\n",
    "                usdidr=round(df_usdidr.query('Date == @date')['Adj Close'].values[0], 4) if not df_myrusd.query('Date == @date').empty else np.int32(0)\n",
    "            \n",
    "            new_data={\n",
    "                'Tanggal':date,\n",
    "                'Bahan_pangan':nama_bhn_pgn,\n",
    "                'Daerah':daerah,\n",
    "                'Harga_lag_1':round(df_bhn_pgn.query('Date == @yesterday')[daerah].fillna(0).values[0]) if not df_bhn_pgn.query('Date == @yesterday').empty else 0,\n",
    "                'Harga_lag_7':round(df_bhn_pgn.query('Date == @week_ago')[daerah].fillna(0).values[0]) if not df_bhn_pgn.query('Date == @week_ago').empty else 0,\n",
    "                'Harga_lag_30':round(df_bhn_pgn.query('Date == @month_ago')[daerah].fillna(0).values[0]) if not df_bhn_pgn.query('Date == @month_ago').empty else 0,\n",
    "                'Google_trends': round(df_gt.query('Date == @date')[list_google_trend[nama_bhn_pgn]].fillna(0).values[0]) if df_gt is not None and not df_gt.query('Date == @date').empty else 0,\n",
    "                'MYRUSD':myrusd,\n",
    "                'SGDUSD':sgdusd,\n",
    "                'THBUSD':thbusd,\n",
    "                'USDIDR':usdidr,\n",
    "                'Harga':round(df_bhn_pgn.query('Date == @date')[daerah].fillna(0).values[0]) if not df_bhn_pgn.query('Date == @date').empty else 0\n",
    "            }\n",
    "            df_bhn_pgn_all = df_bhn_pgn_all._append(new_data, ignore_index=True)"
   ],
   "id": "ed818d4705fff772",
   "outputs": [],
   "execution_count": 31
  },
  {
   "metadata": {},
   "cell_type": "markdown",
   "source": "## Retrieve data for forecasting",
   "id": "524616acf15cc206"
  },
  {
   "metadata": {
    "ExecuteTime": {
     "end_time": "2025-03-14T03:45:35.191514Z",
     "start_time": "2025-03-14T03:45:35.168533Z"
    }
   },
   "cell_type": "code",
   "outputs": [
    {
     "name": "stdout",
     "output_type": "stream",
     "text": [
      "Length of data Bawang Merah: True\n",
      "\n",
      "Length of data Bawang Putih Bonggol: True\n",
      "\n",
      "Length of data Beras Medium: True\n",
      "\n",
      "Length of data Beras Premium: True\n",
      "\n",
      "Length of data Cabai Merah Keriting: True\n",
      "\n",
      "Length of data Cabai Rawit Merah: True\n",
      "\n",
      "Length of data Daging Ayam Ras: True\n",
      "\n",
      "Length of data Daging Sapi Murni: True\n",
      "\n",
      "Length of data Gula Konsumsi: True\n",
      "\n",
      "Length of data Minyak Goreng Curah: True\n",
      "\n",
      "Length of data Minyak Goreng Kemasan Sederhana: True\n",
      "\n",
      "Length of data Telur Ayam Ras: True\n",
      "\n",
      "Length of data Tepung Terigu (Curah): True\n",
      "\n"
     ]
    }
   ],
   "execution_count": 18,
   "source": [
    "# Check columns in csv, are these columns is match with data from array\n",
    "for nama_bhn_pgn in list_bhn_pgn:\n",
    "    file_bhn_pgn=os.path.join(path_data_source, nama_bhn_pgn+'.csv')\n",
    "    df_bhn_pgn=pd.read_csv(file_bhn_pgn)\n",
    "    df_bhn_pgn=df_bhn_pgn.drop('Date', axis=1)\n",
    "    print(f'Length of data {nama_bhn_pgn}: {np.array_equal(list_nama_daerah, df_bhn_pgn.columns)}\\n')"
   ],
   "id": "266b5b677d977f96"
  },
  {
   "metadata": {},
   "cell_type": "markdown",
   "source": "## Load data training",
   "id": "7fbfd55e8c8d253c"
  },
  {
   "metadata": {
    "ExecuteTime": {
     "end_time": "2025-03-14T04:30:58.538655Z",
     "start_time": "2025-03-14T04:30:57.783243Z"
    }
   },
   "cell_type": "code",
   "source": [
    "data_training=pd.read_csv('train.csv')\n",
    "data_training['Tanggal'] = pd.to_datetime(data_training['Tanggal'], format='%Y-%m-%d', errors='coerce')"
   ],
   "id": "c31e80513168d41c",
   "outputs": [],
   "execution_count": 31
  },
  {
   "metadata": {},
   "cell_type": "markdown",
   "source": "## Process for data forecasting",
   "id": "4465156fc3a4f319"
  },
  {
   "metadata": {
    "ExecuteTime": {
     "end_time": "2025-03-14T04:52:29.398285Z",
     "start_time": "2025-03-14T04:36:17.441521Z"
    }
   },
   "cell_type": "code",
   "source": [
    "new_data_list=[]\n",
    "for index, date in enumerate([tanggal_awal + dt.timedelta(days=x) for x in range((tanggal_akhir - tanggal_awal).days + 1)]):\n",
    "    if index%100:\n",
    "        print(new_data_list[index])\n",
    "    for nama_bhn_pgn in list_bhn_pgn:\n",
    "        yesterday = date - timedelta(days=1)\n",
    "        week_ago = date - timedelta(days=7)\n",
    "        month_ago = date - relativedelta(months=1)\n",
    "        for daerah in list_nama_daerah:\n",
    "            new_data={\n",
    "                'Tanggal':date,\n",
    "                'Bahan_pangan':nama_bhn_pgn,\n",
    "                'Daerah':daerah,\n",
    "                'Harga_lag_1':round(data_training.query('Tanggal == @yesterday and Daerah == @daerah and Bahan_pangan == @nama_bhn_pgn')['Harga'].values[0]) if not data_training.query('Tanggal == @yesterday').empty else 0,\n",
    "                'Harga_lag_7':round(data_training.query('Tanggal == @week_ago and Daerah == @daerah and Bahan_pangan == @nama_bhn_pgn')['Harga'].values[0]) if not data_training.query('Tanggal == @week_ago').empty else 0,\n",
    "                'Harga_lag_30':round(data_training.query('Tanggal == @month_ago and Daerah == @daerah and Bahan_pangan == @nama_bhn_pgn')['Harga'].values[0]) if not data_training.query('Tanggal == @month_ago').empty else 0,\n",
    "                'Google_trends': 0,\n",
    "                'Harga': 0\n",
    "            }\n",
    "            new_data_list.append(new_data)"
   ],
   "id": "577b0d17f739e61a",
   "outputs": [
    {
     "name": "stdout",
     "output_type": "stream",
     "text": [
      "{'Tanggal': datetime.datetime(2024, 10, 1, 0, 0), 'Bahan_pangan': 'Bawang Merah', 'Daerah': 'Bali', 'Harga_lag_1': 24230, 'Harga_lag_7': 24240, 'Harga_lag_30': 21250, 'Google_trends': 0, 'Harga': 0}\n",
      "{'Tanggal': datetime.datetime(2024, 10, 1, 0, 0), 'Bahan_pangan': 'Bawang Merah', 'Daerah': 'Banten', 'Harga_lag_1': 27940, 'Harga_lag_7': 25910, 'Harga_lag_30': 25520, 'Google_trends': 0, 'Harga': 0}\n",
      "{'Tanggal': datetime.datetime(2024, 10, 1, 0, 0), 'Bahan_pangan': 'Bawang Merah', 'Daerah': 'Bengkulu', 'Harga_lag_1': 27390, 'Harga_lag_7': 26960, 'Harga_lag_30': 23840, 'Google_trends': 0, 'Harga': 0}\n",
      "{'Tanggal': datetime.datetime(2024, 10, 1, 0, 0), 'Bahan_pangan': 'Bawang Merah', 'Daerah': 'DI Yogyakarta', 'Harga_lag_1': 24450, 'Harga_lag_7': 22240, 'Harga_lag_30': 19600, 'Google_trends': 0, 'Harga': 0}\n",
      "{'Tanggal': datetime.datetime(2024, 10, 1, 0, 0), 'Bahan_pangan': 'Bawang Merah', 'Daerah': 'DKI Jakarta', 'Harga_lag_1': 30370, 'Harga_lag_7': 29880, 'Harga_lag_30': 29400, 'Google_trends': 0, 'Harga': 0}\n",
      "{'Tanggal': datetime.datetime(2024, 10, 1, 0, 0), 'Bahan_pangan': 'Bawang Merah', 'Daerah': 'Gorontalo', 'Harga_lag_1': 32730, 'Harga_lag_7': 32760, 'Harga_lag_30': 25300, 'Google_trends': 0, 'Harga': 0}\n",
      "{'Tanggal': datetime.datetime(2024, 10, 1, 0, 0), 'Bahan_pangan': 'Bawang Merah', 'Daerah': 'Jambi', 'Harga_lag_1': 25900, 'Harga_lag_7': 24270, 'Harga_lag_30': 20570, 'Google_trends': 0, 'Harga': 0}\n",
      "{'Tanggal': datetime.datetime(2024, 10, 1, 0, 0), 'Bahan_pangan': 'Bawang Merah', 'Daerah': 'Jawa Barat', 'Harga_lag_1': 25530, 'Harga_lag_7': 24460, 'Harga_lag_30': 23900, 'Google_trends': 0, 'Harga': 0}\n",
      "{'Tanggal': datetime.datetime(2024, 10, 1, 0, 0), 'Bahan_pangan': 'Bawang Merah', 'Daerah': 'Jawa Tengah', 'Harga_lag_1': 24180, 'Harga_lag_7': 23340, 'Harga_lag_30': 22490, 'Google_trends': 0, 'Harga': 0}\n",
      "{'Tanggal': datetime.datetime(2024, 10, 1, 0, 0), 'Bahan_pangan': 'Bawang Merah', 'Daerah': 'Jawa Timur', 'Harga_lag_1': 22300, 'Harga_lag_7': 22030, 'Harga_lag_30': 19600, 'Google_trends': 0, 'Harga': 0}\n",
      "{'Tanggal': datetime.datetime(2024, 10, 1, 0, 0), 'Bahan_pangan': 'Bawang Merah', 'Daerah': 'Kalimantan Barat', 'Harga_lag_1': 30430, 'Harga_lag_7': 30460, 'Harga_lag_30': 28670, 'Google_trends': 0, 'Harga': 0}\n",
      "{'Tanggal': datetime.datetime(2024, 10, 1, 0, 0), 'Bahan_pangan': 'Bawang Merah', 'Daerah': 'Kalimantan Selatan', 'Harga_lag_1': 25270, 'Harga_lag_7': 25420, 'Harga_lag_30': 22990, 'Google_trends': 0, 'Harga': 0}\n",
      "{'Tanggal': datetime.datetime(2024, 10, 1, 0, 0), 'Bahan_pangan': 'Bawang Merah', 'Daerah': 'Kalimantan Tengah', 'Harga_lag_1': 29380, 'Harga_lag_7': 28870, 'Harga_lag_30': 26310, 'Google_trends': 0, 'Harga': 0}\n",
      "{'Tanggal': datetime.datetime(2024, 10, 1, 0, 0), 'Bahan_pangan': 'Bawang Merah', 'Daerah': 'Kalimantan Timur', 'Harga_lag_1': 32540, 'Harga_lag_7': 33110, 'Harga_lag_30': 29520, 'Google_trends': 0, 'Harga': 0}\n",
      "{'Tanggal': datetime.datetime(2024, 10, 1, 0, 0), 'Bahan_pangan': 'Bawang Merah', 'Daerah': 'Kalimantan Utara', 'Harga_lag_1': 36100, 'Harga_lag_7': 36180, 'Harga_lag_30': 33190, 'Google_trends': 0, 'Harga': 0}\n",
      "{'Tanggal': datetime.datetime(2024, 10, 1, 0, 0), 'Bahan_pangan': 'Bawang Merah', 'Daerah': 'Kepulauan Bangka Belitung', 'Harga_lag_1': 29920, 'Harga_lag_7': 29030, 'Harga_lag_30': 27160, 'Google_trends': 0, 'Harga': 0}\n",
      "{'Tanggal': datetime.datetime(2024, 10, 1, 0, 0), 'Bahan_pangan': 'Bawang Merah', 'Daerah': 'Kepulauan Riau', 'Harga_lag_1': 36130, 'Harga_lag_7': 34830, 'Harga_lag_30': 34580, 'Google_trends': 0, 'Harga': 0}\n",
      "{'Tanggal': datetime.datetime(2024, 10, 1, 0, 0), 'Bahan_pangan': 'Bawang Merah', 'Daerah': 'Lampung', 'Harga_lag_1': 24190, 'Harga_lag_7': 22960, 'Harga_lag_30': 21490, 'Google_trends': 0, 'Harga': 0}\n",
      "{'Tanggal': datetime.datetime(2024, 10, 1, 0, 0), 'Bahan_pangan': 'Bawang Merah', 'Daerah': 'Maluku Utara', 'Harga_lag_1': 45830, 'Harga_lag_7': 47410, 'Harga_lag_30': 47340, 'Google_trends': 0, 'Harga': 0}\n",
      "{'Tanggal': datetime.datetime(2024, 10, 1, 0, 0), 'Bahan_pangan': 'Bawang Merah', 'Daerah': 'Maluku', 'Harga_lag_1': 35820, 'Harga_lag_7': 36120, 'Harga_lag_30': 35880, 'Google_trends': 0, 'Harga': 0}\n",
      "{'Tanggal': datetime.datetime(2024, 10, 1, 0, 0), 'Bahan_pangan': 'Bawang Merah', 'Daerah': 'Nusa Tenggara Barat', 'Harga_lag_1': 19300, 'Harga_lag_7': 20410, 'Harga_lag_30': 18770, 'Google_trends': 0, 'Harga': 0}\n",
      "{'Tanggal': datetime.datetime(2024, 10, 1, 0, 0), 'Bahan_pangan': 'Bawang Merah', 'Daerah': 'Nusa Tenggara Timur', 'Harga_lag_1': 20230, 'Harga_lag_7': 19990, 'Harga_lag_30': 21710, 'Google_trends': 0, 'Harga': 0}\n",
      "{'Tanggal': datetime.datetime(2024, 10, 1, 0, 0), 'Bahan_pangan': 'Bawang Merah', 'Daerah': 'Papua Barat', 'Harga_lag_1': 49960, 'Harga_lag_7': 50360, 'Harga_lag_30': 54370, 'Google_trends': 0, 'Harga': 0}\n",
      "{'Tanggal': datetime.datetime(2024, 10, 1, 0, 0), 'Bahan_pangan': 'Bawang Merah', 'Daerah': 'Papua', 'Harga_lag_1': 47610, 'Harga_lag_7': 48520, 'Harga_lag_30': 48360, 'Google_trends': 0, 'Harga': 0}\n",
      "{'Tanggal': datetime.datetime(2024, 10, 1, 0, 0), 'Bahan_pangan': 'Bawang Merah', 'Daerah': 'Riau', 'Harga_lag_1': 28760, 'Harga_lag_7': 28290, 'Harga_lag_30': 24170, 'Google_trends': 0, 'Harga': 0}\n",
      "{'Tanggal': datetime.datetime(2024, 10, 1, 0, 0), 'Bahan_pangan': 'Bawang Merah', 'Daerah': 'Sulawesi Barat', 'Harga_lag_1': 26240, 'Harga_lag_7': 30510, 'Harga_lag_30': 22310, 'Google_trends': 0, 'Harga': 0}\n",
      "{'Tanggal': datetime.datetime(2024, 10, 1, 0, 0), 'Bahan_pangan': 'Bawang Merah', 'Daerah': 'Sulawesi Selatan', 'Harga_lag_1': 26350, 'Harga_lag_7': 26910, 'Harga_lag_30': 21580, 'Google_trends': 0, 'Harga': 0}\n",
      "{'Tanggal': datetime.datetime(2024, 10, 1, 0, 0), 'Bahan_pangan': 'Bawang Merah', 'Daerah': 'Sulawesi Tengah', 'Harga_lag_1': 33820, 'Harga_lag_7': 33640, 'Harga_lag_30': 26790, 'Google_trends': 0, 'Harga': 0}\n",
      "{'Tanggal': datetime.datetime(2024, 10, 1, 0, 0), 'Bahan_pangan': 'Bawang Merah', 'Daerah': 'Sulawesi Tenggara', 'Harga_lag_1': 30260, 'Harga_lag_7': 30420, 'Harga_lag_30': 27780, 'Google_trends': 0, 'Harga': 0}\n",
      "{'Tanggal': datetime.datetime(2024, 10, 1, 0, 0), 'Bahan_pangan': 'Bawang Merah', 'Daerah': 'Sulawesi Utara', 'Harga_lag_1': 34350, 'Harga_lag_7': 35870, 'Harga_lag_30': 31230, 'Google_trends': 0, 'Harga': 0}\n",
      "{'Tanggal': datetime.datetime(2024, 10, 1, 0, 0), 'Bahan_pangan': 'Bawang Merah', 'Daerah': 'Sumatera Barat', 'Harga_lag_1': 27630, 'Harga_lag_7': 26180, 'Harga_lag_30': 20010, 'Google_trends': 0, 'Harga': 0}\n",
      "{'Tanggal': datetime.datetime(2024, 10, 1, 0, 0), 'Bahan_pangan': 'Bawang Merah', 'Daerah': 'Sumatera Selatan', 'Harga_lag_1': 26100, 'Harga_lag_7': 25000, 'Harga_lag_30': 22230, 'Google_trends': 0, 'Harga': 0}\n",
      "{'Tanggal': datetime.datetime(2024, 10, 1, 0, 0), 'Bahan_pangan': 'Bawang Merah', 'Daerah': 'Sumatera Utara', 'Harga_lag_1': 27150, 'Harga_lag_7': 25560, 'Harga_lag_30': 25250, 'Google_trends': 0, 'Harga': 0}\n",
      "{'Tanggal': datetime.datetime(2024, 10, 1, 0, 0), 'Bahan_pangan': 'Bawang Putih Bonggol', 'Daerah': 'Aceh', 'Harga_lag_1': 39110, 'Harga_lag_7': 39340, 'Harga_lag_30': 39280, 'Google_trends': 0, 'Harga': 0}\n",
      "{'Tanggal': datetime.datetime(2024, 10, 1, 0, 0), 'Bahan_pangan': 'Bawang Putih Bonggol', 'Daerah': 'Bali', 'Harga_lag_1': 35530, 'Harga_lag_7': 35700, 'Harga_lag_30': 35530, 'Google_trends': 0, 'Harga': 0}\n",
      "{'Tanggal': datetime.datetime(2024, 10, 1, 0, 0), 'Bahan_pangan': 'Bawang Putih Bonggol', 'Daerah': 'Banten', 'Harga_lag_1': 39250, 'Harga_lag_7': 38970, 'Harga_lag_30': 38660, 'Google_trends': 0, 'Harga': 0}\n",
      "{'Tanggal': datetime.datetime(2024, 10, 1, 0, 0), 'Bahan_pangan': 'Bawang Putih Bonggol', 'Daerah': 'Bengkulu', 'Harga_lag_1': 39100, 'Harga_lag_7': 39490, 'Harga_lag_30': 38680, 'Google_trends': 0, 'Harga': 0}\n",
      "{'Tanggal': datetime.datetime(2024, 10, 1, 0, 0), 'Bahan_pangan': 'Bawang Putih Bonggol', 'Daerah': 'DI Yogyakarta', 'Harga_lag_1': 36090, 'Harga_lag_7': 36170, 'Harga_lag_30': 34670, 'Google_trends': 0, 'Harga': 0}\n",
      "{'Tanggal': datetime.datetime(2024, 10, 1, 0, 0), 'Bahan_pangan': 'Bawang Putih Bonggol', 'Daerah': 'DKI Jakarta', 'Harga_lag_1': 40520, 'Harga_lag_7': 40520, 'Harga_lag_30': 40520, 'Google_trends': 0, 'Harga': 0}\n",
      "{'Tanggal': datetime.datetime(2024, 10, 1, 0, 0), 'Bahan_pangan': 'Bawang Putih Bonggol', 'Daerah': 'Gorontalo', 'Harga_lag_1': 44480, 'Harga_lag_7': 45320, 'Harga_lag_30': 44510, 'Google_trends': 0, 'Harga': 0}\n",
      "{'Tanggal': datetime.datetime(2024, 10, 1, 0, 0), 'Bahan_pangan': 'Bawang Putih Bonggol', 'Daerah': 'Jambi', 'Harga_lag_1': 37430, 'Harga_lag_7': 37470, 'Harga_lag_30': 36800, 'Google_trends': 0, 'Harga': 0}\n",
      "{'Tanggal': datetime.datetime(2024, 10, 1, 0, 0), 'Bahan_pangan': 'Bawang Putih Bonggol', 'Daerah': 'Jawa Barat', 'Harga_lag_1': 38400, 'Harga_lag_7': 38350, 'Harga_lag_30': 38670, 'Google_trends': 0, 'Harga': 0}\n",
      "{'Tanggal': datetime.datetime(2024, 10, 1, 0, 0), 'Bahan_pangan': 'Bawang Putih Bonggol', 'Daerah': 'Jawa Tengah', 'Harga_lag_1': 35630, 'Harga_lag_7': 35930, 'Harga_lag_30': 35880, 'Google_trends': 0, 'Harga': 0}\n",
      "{'Tanggal': datetime.datetime(2024, 10, 1, 0, 0), 'Bahan_pangan': 'Bawang Putih Bonggol', 'Daerah': 'Jawa Timur', 'Harga_lag_1': 34950, 'Harga_lag_7': 34940, 'Harga_lag_30': 35080, 'Google_trends': 0, 'Harga': 0}\n",
      "{'Tanggal': datetime.datetime(2024, 10, 1, 0, 0), 'Bahan_pangan': 'Bawang Putih Bonggol', 'Daerah': 'Kalimantan Barat', 'Harga_lag_1': 38360, 'Harga_lag_7': 38330, 'Harga_lag_30': 37030, 'Google_trends': 0, 'Harga': 0}\n",
      "{'Tanggal': datetime.datetime(2024, 10, 1, 0, 0), 'Bahan_pangan': 'Bawang Putih Bonggol', 'Daerah': 'Kalimantan Selatan', 'Harga_lag_1': 37920, 'Harga_lag_7': 38190, 'Harga_lag_30': 38110, 'Google_trends': 0, 'Harga': 0}\n",
      "{'Tanggal': datetime.datetime(2024, 10, 1, 0, 0), 'Bahan_pangan': 'Bawang Putih Bonggol', 'Daerah': 'Kalimantan Tengah', 'Harga_lag_1': 40070, 'Harga_lag_7': 39830, 'Harga_lag_30': 39290, 'Google_trends': 0, 'Harga': 0}\n",
      "{'Tanggal': datetime.datetime(2024, 10, 1, 0, 0), 'Bahan_pangan': 'Bawang Putih Bonggol', 'Daerah': 'Kalimantan Timur', 'Harga_lag_1': 42100, 'Harga_lag_7': 41870, 'Harga_lag_30': 41170, 'Google_trends': 0, 'Harga': 0}\n",
      "{'Tanggal': datetime.datetime(2024, 10, 1, 0, 0), 'Bahan_pangan': 'Bawang Putih Bonggol', 'Daerah': 'Kalimantan Utara', 'Harga_lag_1': 42820, 'Harga_lag_7': 43160, 'Harga_lag_30': 42360, 'Google_trends': 0, 'Harga': 0}\n",
      "{'Tanggal': datetime.datetime(2024, 10, 1, 0, 0), 'Bahan_pangan': 'Bawang Putih Bonggol', 'Daerah': 'Kepulauan Bangka Belitung', 'Harga_lag_1': 39730, 'Harga_lag_7': 40350, 'Harga_lag_30': 39250, 'Google_trends': 0, 'Harga': 0}\n",
      "{'Tanggal': datetime.datetime(2024, 10, 1, 0, 0), 'Bahan_pangan': 'Bawang Putih Bonggol', 'Daerah': 'Kepulauan Riau', 'Harga_lag_1': 34720, 'Harga_lag_7': 34030, 'Harga_lag_30': 34710, 'Google_trends': 0, 'Harga': 0}\n",
      "{'Tanggal': datetime.datetime(2024, 10, 1, 0, 0), 'Bahan_pangan': 'Bawang Putih Bonggol', 'Daerah': 'Lampung', 'Harga_lag_1': 37180, 'Harga_lag_7': 36890, 'Harga_lag_30': 37290, 'Google_trends': 0, 'Harga': 0}\n",
      "{'Tanggal': datetime.datetime(2024, 10, 1, 0, 0), 'Bahan_pangan': 'Bawang Putih Bonggol', 'Daerah': 'Maluku Utara', 'Harga_lag_1': 51750, 'Harga_lag_7': 52350, 'Harga_lag_30': 55700, 'Google_trends': 0, 'Harga': 0}\n",
      "{'Tanggal': datetime.datetime(2024, 10, 1, 0, 0), 'Bahan_pangan': 'Bawang Putih Bonggol', 'Daerah': 'Maluku', 'Harga_lag_1': 44070, 'Harga_lag_7': 45010, 'Harga_lag_30': 45860, 'Google_trends': 0, 'Harga': 0}\n",
      "{'Tanggal': datetime.datetime(2024, 10, 1, 0, 0), 'Bahan_pangan': 'Bawang Putih Bonggol', 'Daerah': 'Nusa Tenggara Barat', 'Harga_lag_1': 38250, 'Harga_lag_7': 38130, 'Harga_lag_30': 38540, 'Google_trends': 0, 'Harga': 0}\n",
      "{'Tanggal': datetime.datetime(2024, 10, 1, 0, 0), 'Bahan_pangan': 'Bawang Putih Bonggol', 'Daerah': 'Nusa Tenggara Timur', 'Harga_lag_1': 40540, 'Harga_lag_7': 40900, 'Harga_lag_30': 40610, 'Google_trends': 0, 'Harga': 0}\n",
      "{'Tanggal': datetime.datetime(2024, 10, 1, 0, 0), 'Bahan_pangan': 'Bawang Putih Bonggol', 'Daerah': 'Papua Barat', 'Harga_lag_1': 50850, 'Harga_lag_7': 51440, 'Harga_lag_30': 53350, 'Google_trends': 0, 'Harga': 0}\n",
      "{'Tanggal': datetime.datetime(2024, 10, 1, 0, 0), 'Bahan_pangan': 'Bawang Putih Bonggol', 'Daerah': 'Papua', 'Harga_lag_1': 51350, 'Harga_lag_7': 51560, 'Harga_lag_30': 50400, 'Google_trends': 0, 'Harga': 0}\n",
      "{'Tanggal': datetime.datetime(2024, 10, 1, 0, 0), 'Bahan_pangan': 'Bawang Putih Bonggol', 'Daerah': 'Riau', 'Harga_lag_1': 38290, 'Harga_lag_7': 38030, 'Harga_lag_30': 38210, 'Google_trends': 0, 'Harga': 0}\n",
      "{'Tanggal': datetime.datetime(2024, 10, 1, 0, 0), 'Bahan_pangan': 'Bawang Putih Bonggol', 'Daerah': 'Sulawesi Barat', 'Harga_lag_1': 40510, 'Harga_lag_7': 40520, 'Harga_lag_30': 41920, 'Google_trends': 0, 'Harga': 0}\n",
      "{'Tanggal': datetime.datetime(2024, 10, 1, 0, 0), 'Bahan_pangan': 'Bawang Putih Bonggol', 'Daerah': 'Sulawesi Selatan', 'Harga_lag_1': 40500, 'Harga_lag_7': 40430, 'Harga_lag_30': 39410, 'Google_trends': 0, 'Harga': 0}\n",
      "{'Tanggal': datetime.datetime(2024, 10, 1, 0, 0), 'Bahan_pangan': 'Bawang Putih Bonggol', 'Daerah': 'Sulawesi Tengah', 'Harga_lag_1': 44640, 'Harga_lag_7': 45410, 'Harga_lag_30': 45250, 'Google_trends': 0, 'Harga': 0}\n",
      "{'Tanggal': datetime.datetime(2024, 10, 1, 0, 0), 'Bahan_pangan': 'Bawang Putih Bonggol', 'Daerah': 'Sulawesi Tenggara', 'Harga_lag_1': 46480, 'Harga_lag_7': 45890, 'Harga_lag_30': 42810, 'Google_trends': 0, 'Harga': 0}\n",
      "{'Tanggal': datetime.datetime(2024, 10, 1, 0, 0), 'Bahan_pangan': 'Bawang Putih Bonggol', 'Daerah': 'Sulawesi Utara', 'Harga_lag_1': 44580, 'Harga_lag_7': 45530, 'Harga_lag_30': 45630, 'Google_trends': 0, 'Harga': 0}\n",
      "{'Tanggal': datetime.datetime(2024, 10, 1, 0, 0), 'Bahan_pangan': 'Bawang Putih Bonggol', 'Daerah': 'Sumatera Barat', 'Harga_lag_1': 37300, 'Harga_lag_7': 38870, 'Harga_lag_30': 38700, 'Google_trends': 0, 'Harga': 0}\n",
      "{'Tanggal': datetime.datetime(2024, 10, 1, 0, 0), 'Bahan_pangan': 'Bawang Putih Bonggol', 'Daerah': 'Sumatera Selatan', 'Harga_lag_1': 37540, 'Harga_lag_7': 37130, 'Harga_lag_30': 36850, 'Google_trends': 0, 'Harga': 0}\n",
      "{'Tanggal': datetime.datetime(2024, 10, 1, 0, 0), 'Bahan_pangan': 'Bawang Putih Bonggol', 'Daerah': 'Sumatera Utara', 'Harga_lag_1': 38340, 'Harga_lag_7': 38030, 'Harga_lag_30': 38330, 'Google_trends': 0, 'Harga': 0}\n",
      "{'Tanggal': datetime.datetime(2024, 10, 1, 0, 0), 'Bahan_pangan': 'Beras Medium', 'Daerah': 'Aceh', 'Harga_lag_1': 13470, 'Harga_lag_7': 13520, 'Harga_lag_30': 13530, 'Google_trends': 0, 'Harga': 0}\n",
      "{'Tanggal': datetime.datetime(2024, 10, 1, 0, 0), 'Bahan_pangan': 'Beras Medium', 'Daerah': 'Bali', 'Harga_lag_1': 14080, 'Harga_lag_7': 14040, 'Harga_lag_30': 14030, 'Google_trends': 0, 'Harga': 0}\n",
      "{'Tanggal': datetime.datetime(2024, 10, 1, 0, 0), 'Bahan_pangan': 'Beras Medium', 'Daerah': 'Banten', 'Harga_lag_1': 12800, 'Harga_lag_7': 12770, 'Harga_lag_30': 12700, 'Google_trends': 0, 'Harga': 0}\n",
      "{'Tanggal': datetime.datetime(2024, 10, 1, 0, 0), 'Bahan_pangan': 'Beras Medium', 'Daerah': 'Bengkulu', 'Harga_lag_1': 13900, 'Harga_lag_7': 13910, 'Harga_lag_30': 13900, 'Google_trends': 0, 'Harga': 0}\n",
      "{'Tanggal': datetime.datetime(2024, 10, 1, 0, 0), 'Bahan_pangan': 'Beras Medium', 'Daerah': 'DI Yogyakarta', 'Harga_lag_1': 13010, 'Harga_lag_7': 13010, 'Harga_lag_30': 12790, 'Google_trends': 0, 'Harga': 0}\n",
      "{'Tanggal': datetime.datetime(2024, 10, 1, 0, 0), 'Bahan_pangan': 'Beras Medium', 'Daerah': 'DKI Jakarta', 'Harga_lag_1': 13420, 'Harga_lag_7': 13510, 'Harga_lag_30': 13850, 'Google_trends': 0, 'Harga': 0}\n",
      "{'Tanggal': datetime.datetime(2024, 10, 1, 0, 0), 'Bahan_pangan': 'Beras Medium', 'Daerah': 'Gorontalo', 'Harga_lag_1': 13530, 'Harga_lag_7': 13440, 'Harga_lag_30': 13620, 'Google_trends': 0, 'Harga': 0}\n",
      "{'Tanggal': datetime.datetime(2024, 10, 1, 0, 0), 'Bahan_pangan': 'Beras Medium', 'Daerah': 'Jambi', 'Harga_lag_1': 13190, 'Harga_lag_7': 13120, 'Harga_lag_30': 13120, 'Google_trends': 0, 'Harga': 0}\n",
      "{'Tanggal': datetime.datetime(2024, 10, 1, 0, 0), 'Bahan_pangan': 'Beras Medium', 'Daerah': 'Jawa Barat', 'Harga_lag_1': 12890, 'Harga_lag_7': 12920, 'Harga_lag_30': 12940, 'Google_trends': 0, 'Harga': 0}\n",
      "{'Tanggal': datetime.datetime(2024, 10, 1, 0, 0), 'Bahan_pangan': 'Beras Medium', 'Daerah': 'Jawa Tengah', 'Harga_lag_1': 13150, 'Harga_lag_7': 13140, 'Harga_lag_30': 13120, 'Google_trends': 0, 'Harga': 0}\n",
      "{'Tanggal': datetime.datetime(2024, 10, 1, 0, 0), 'Bahan_pangan': 'Beras Medium', 'Daerah': 'Jawa Timur', 'Harga_lag_1': 12620, 'Harga_lag_7': 12580, 'Harga_lag_30': 12540, 'Google_trends': 0, 'Harga': 0}\n",
      "{'Tanggal': datetime.datetime(2024, 10, 1, 0, 0), 'Bahan_pangan': 'Beras Medium', 'Daerah': 'Kalimantan Barat', 'Harga_lag_1': 14520, 'Harga_lag_7': 14550, 'Harga_lag_30': 14750, 'Google_trends': 0, 'Harga': 0}\n",
      "{'Tanggal': datetime.datetime(2024, 10, 1, 0, 0), 'Bahan_pangan': 'Beras Medium', 'Daerah': 'Kalimantan Selatan', 'Harga_lag_1': 12900, 'Harga_lag_7': 13060, 'Harga_lag_30': 13060, 'Google_trends': 0, 'Harga': 0}\n",
      "{'Tanggal': datetime.datetime(2024, 10, 1, 0, 0), 'Bahan_pangan': 'Beras Medium', 'Daerah': 'Kalimantan Tengah', 'Harga_lag_1': 14070, 'Harga_lag_7': 14060, 'Harga_lag_30': 14090, 'Google_trends': 0, 'Harga': 0}\n",
      "{'Tanggal': datetime.datetime(2024, 10, 1, 0, 0), 'Bahan_pangan': 'Beras Medium', 'Daerah': 'Kalimantan Timur', 'Harga_lag_1': 15750, 'Harga_lag_7': 15690, 'Harga_lag_30': 15530, 'Google_trends': 0, 'Harga': 0}\n",
      "{'Tanggal': datetime.datetime(2024, 10, 1, 0, 0), 'Bahan_pangan': 'Beras Medium', 'Daerah': 'Kalimantan Utara', 'Harga_lag_1': 15500, 'Harga_lag_7': 15500, 'Harga_lag_30': 15430, 'Google_trends': 0, 'Harga': 0}\n",
      "{'Tanggal': datetime.datetime(2024, 10, 1, 0, 0), 'Bahan_pangan': 'Beras Medium', 'Daerah': 'Kepulauan Bangka Belitung', 'Harga_lag_1': 13910, 'Harga_lag_7': 13910, 'Harga_lag_30': 13770, 'Google_trends': 0, 'Harga': 0}\n",
      "{'Tanggal': datetime.datetime(2024, 10, 1, 0, 0), 'Bahan_pangan': 'Beras Medium', 'Daerah': 'Kepulauan Riau', 'Harga_lag_1': 13890, 'Harga_lag_7': 14000, 'Harga_lag_30': 14030, 'Google_trends': 0, 'Harga': 0}\n",
      "{'Tanggal': datetime.datetime(2024, 10, 1, 0, 0), 'Bahan_pangan': 'Beras Medium', 'Daerah': 'Lampung', 'Harga_lag_1': 13170, 'Harga_lag_7': 13140, 'Harga_lag_30': 13080, 'Google_trends': 0, 'Harga': 0}\n",
      "{'Tanggal': datetime.datetime(2024, 10, 1, 0, 0), 'Bahan_pangan': 'Beras Medium', 'Daerah': 'Maluku Utara', 'Harga_lag_1': 15530, 'Harga_lag_7': 15680, 'Harga_lag_30': 15840, 'Google_trends': 0, 'Harga': 0}\n",
      "{'Tanggal': datetime.datetime(2024, 10, 1, 0, 0), 'Bahan_pangan': 'Beras Medium', 'Daerah': 'Maluku', 'Harga_lag_1': 14650, 'Harga_lag_7': 14770, 'Harga_lag_30': 14520, 'Google_trends': 0, 'Harga': 0}\n",
      "{'Tanggal': datetime.datetime(2024, 10, 1, 0, 0), 'Bahan_pangan': 'Beras Medium', 'Daerah': 'Nusa Tenggara Barat', 'Harga_lag_1': 12950, 'Harga_lag_7': 12950, 'Harga_lag_30': 12750, 'Google_trends': 0, 'Harga': 0}\n",
      "{'Tanggal': datetime.datetime(2024, 10, 1, 0, 0), 'Bahan_pangan': 'Beras Medium', 'Daerah': 'Nusa Tenggara Timur', 'Harga_lag_1': 13460, 'Harga_lag_7': 13560, 'Harga_lag_30': 13450, 'Google_trends': 0, 'Harga': 0}\n",
      "{'Tanggal': datetime.datetime(2024, 10, 1, 0, 0), 'Bahan_pangan': 'Beras Medium', 'Daerah': 'Papua Barat', 'Harga_lag_1': 15570, 'Harga_lag_7': 15710, 'Harga_lag_30': 16230, 'Google_trends': 0, 'Harga': 0}\n"
     ]
    }
   ],
   "execution_count": 41
  },
  {
   "metadata": {
    "ExecuteTime": {
     "end_time": "2025-03-14T04:52:48.683641Z",
     "start_time": "2025-03-14T04:52:48.628366Z"
    }
   },
   "cell_type": "code",
   "source": [
    "# date=dt.datetime(year=2024,month=10,day=1)\n",
    "# week_ago = date - timedelta(days=7)\n",
    "# daerah=list_nama_daerah[0]\n",
    "# bhn_pgn=list_bhn_pgn[0]\n",
    "# data=round(data_training.query('Tanggal == @week_ago and Daerah == @daerah and Bahan_pangan == @bhn_pgn')['Harga'].values[0]) if not data_training.query('Tanggal == @week_ago').empty else 0\n",
    "# print(data)\n",
    "df_bhn_pgn_all = pd.DataFrame(new_data_list)"
   ],
   "id": "9f3ad22ec0acc33f",
   "outputs": [],
   "execution_count": 42
  },
  {
   "metadata": {
    "ExecuteTime": {
     "end_time": "2025-03-14T05:00:14.055585Z",
     "start_time": "2025-03-14T05:00:13.980184Z"
    }
   },
   "cell_type": "code",
   "source": "df_bhn_pgn_all.to_csv('data_forecast1.csv', index=False)",
   "id": "327dcd973d8f2a4a",
   "outputs": [],
   "execution_count": 45
  },
  {
   "metadata": {
    "ExecuteTime": {
     "end_time": "2025-03-14T04:27:08.383852Z",
     "start_time": "2025-03-14T04:27:08.375454Z"
    }
   },
   "cell_type": "code",
   "source": "data_training.tail()",
   "id": "e818c76acf8caf3d",
   "outputs": [
    {
     "data": {
      "text/plain": [
       "           Tanggal           Bahan_pangan             Daerah Harga_lag_1  \\\n",
       "471044  2024-09-30  Tepung Terigu (Curah)  Sulawesi Tenggara      9680.0   \n",
       "471045  2024-09-30  Tepung Terigu (Curah)     Sulawesi Utara     10760.0   \n",
       "471046  2024-09-30  Tepung Terigu (Curah)     Sumatera Barat      9830.0   \n",
       "471047  2024-09-30  Tepung Terigu (Curah)   Sumatera Selatan      8960.0   \n",
       "471048  2024-09-30  Tepung Terigu (Curah)     Sumatera Utara     10710.0   \n",
       "\n",
       "       Harga_lag_7 Harga_lag_30 Google_trends     MYRUSD     SGDUSD    THBUSD  \\\n",
       "471044      9720.0       9810.0           0.0  3670.3084  11804.482  467.3261   \n",
       "471045     10760.0      10770.0           0.0  3670.3084  11804.482  467.3261   \n",
       "471046      9760.0       9800.0           0.0  3670.3084  11804.482  467.3261   \n",
       "471047      8940.0       8970.0           0.0  3670.3084  11804.482  467.3261   \n",
       "471048     10520.0      10870.0           0.0  3670.3084  11804.482  467.3261   \n",
       "\n",
       "         USDIDR    Harga  \n",
       "471044  15118.0   9620.0  \n",
       "471045  15118.0  10690.0  \n",
       "471046  15118.0   9920.0  \n",
       "471047  15118.0   8960.0  \n",
       "471048  15118.0  10640.0  "
      ],
      "text/html": [
       "<div>\n",
       "<style scoped>\n",
       "    .dataframe tbody tr th:only-of-type {\n",
       "        vertical-align: middle;\n",
       "    }\n",
       "\n",
       "    .dataframe tbody tr th {\n",
       "        vertical-align: top;\n",
       "    }\n",
       "\n",
       "    .dataframe thead th {\n",
       "        text-align: right;\n",
       "    }\n",
       "</style>\n",
       "<table border=\"1\" class=\"dataframe\">\n",
       "  <thead>\n",
       "    <tr style=\"text-align: right;\">\n",
       "      <th></th>\n",
       "      <th>Tanggal</th>\n",
       "      <th>Bahan_pangan</th>\n",
       "      <th>Daerah</th>\n",
       "      <th>Harga_lag_1</th>\n",
       "      <th>Harga_lag_7</th>\n",
       "      <th>Harga_lag_30</th>\n",
       "      <th>Google_trends</th>\n",
       "      <th>MYRUSD</th>\n",
       "      <th>SGDUSD</th>\n",
       "      <th>THBUSD</th>\n",
       "      <th>USDIDR</th>\n",
       "      <th>Harga</th>\n",
       "    </tr>\n",
       "  </thead>\n",
       "  <tbody>\n",
       "    <tr>\n",
       "      <th>471044</th>\n",
       "      <td>2024-09-30</td>\n",
       "      <td>Tepung Terigu (Curah)</td>\n",
       "      <td>Sulawesi Tenggara</td>\n",
       "      <td>9680.0</td>\n",
       "      <td>9720.0</td>\n",
       "      <td>9810.0</td>\n",
       "      <td>0.0</td>\n",
       "      <td>3670.3084</td>\n",
       "      <td>11804.482</td>\n",
       "      <td>467.3261</td>\n",
       "      <td>15118.0</td>\n",
       "      <td>9620.0</td>\n",
       "    </tr>\n",
       "    <tr>\n",
       "      <th>471045</th>\n",
       "      <td>2024-09-30</td>\n",
       "      <td>Tepung Terigu (Curah)</td>\n",
       "      <td>Sulawesi Utara</td>\n",
       "      <td>10760.0</td>\n",
       "      <td>10760.0</td>\n",
       "      <td>10770.0</td>\n",
       "      <td>0.0</td>\n",
       "      <td>3670.3084</td>\n",
       "      <td>11804.482</td>\n",
       "      <td>467.3261</td>\n",
       "      <td>15118.0</td>\n",
       "      <td>10690.0</td>\n",
       "    </tr>\n",
       "    <tr>\n",
       "      <th>471046</th>\n",
       "      <td>2024-09-30</td>\n",
       "      <td>Tepung Terigu (Curah)</td>\n",
       "      <td>Sumatera Barat</td>\n",
       "      <td>9830.0</td>\n",
       "      <td>9760.0</td>\n",
       "      <td>9800.0</td>\n",
       "      <td>0.0</td>\n",
       "      <td>3670.3084</td>\n",
       "      <td>11804.482</td>\n",
       "      <td>467.3261</td>\n",
       "      <td>15118.0</td>\n",
       "      <td>9920.0</td>\n",
       "    </tr>\n",
       "    <tr>\n",
       "      <th>471047</th>\n",
       "      <td>2024-09-30</td>\n",
       "      <td>Tepung Terigu (Curah)</td>\n",
       "      <td>Sumatera Selatan</td>\n",
       "      <td>8960.0</td>\n",
       "      <td>8940.0</td>\n",
       "      <td>8970.0</td>\n",
       "      <td>0.0</td>\n",
       "      <td>3670.3084</td>\n",
       "      <td>11804.482</td>\n",
       "      <td>467.3261</td>\n",
       "      <td>15118.0</td>\n",
       "      <td>8960.0</td>\n",
       "    </tr>\n",
       "    <tr>\n",
       "      <th>471048</th>\n",
       "      <td>2024-09-30</td>\n",
       "      <td>Tepung Terigu (Curah)</td>\n",
       "      <td>Sumatera Utara</td>\n",
       "      <td>10710.0</td>\n",
       "      <td>10520.0</td>\n",
       "      <td>10870.0</td>\n",
       "      <td>0.0</td>\n",
       "      <td>3670.3084</td>\n",
       "      <td>11804.482</td>\n",
       "      <td>467.3261</td>\n",
       "      <td>15118.0</td>\n",
       "      <td>10640.0</td>\n",
       "    </tr>\n",
       "  </tbody>\n",
       "</table>\n",
       "</div>"
      ]
     },
     "execution_count": 29,
     "metadata": {},
     "output_type": "execute_result"
    }
   ],
   "execution_count": 29
  },
  {
   "metadata": {
    "ExecuteTime": {
     "end_time": "2025-03-14T03:48:20.578543Z",
     "start_time": "2025-03-14T03:48:19.831164Z"
    }
   },
   "cell_type": "code",
   "outputs": [
    {
     "data": {
      "text/plain": [
       "Index(['Tanggal', 'Bahan_pangan', 'Daerah', 'Harga_lag_1', 'Harga_lag_7',\n",
       "       'Harga_lag_30', 'Google_trends', 'MYRUSD', 'SGDUSD', 'THBUSD', 'USDIDR',\n",
       "       'Harga'],\n",
       "      dtype='object')"
      ]
     },
     "execution_count": 19,
     "metadata": {},
     "output_type": "execute_result"
    }
   ],
   "execution_count": 19,
   "source": "pd.read_csv('train.csv').columns",
   "id": "3ebef7bfa8acd606"
  },
  {
   "metadata": {},
   "cell_type": "markdown",
   "source": "## Check Data Retrieved",
   "id": "3aa5f9830129ecc5"
  },
  {
   "metadata": {
    "ExecuteTime": {
     "end_time": "2025-03-13T07:16:55.252979Z",
     "start_time": "2025-03-13T07:16:55.240427Z"
    }
   },
   "cell_type": "code",
   "source": "df_bhn_pgn_all.head()",
   "id": "8188f558ff0e6a8",
   "outputs": [
    {
     "data": {
      "text/plain": [
       "     Tanggal  Bahan_pangan         Daerah  Harga_lag_1  Harga_lag_7  \\\n",
       "0 2024-01-01  Bawang Merah           Aceh      36790.0      34590.0   \n",
       "1 2024-01-01  Bawang Merah           Bali      35340.0      29420.0   \n",
       "2 2024-01-01  Bawang Merah         Banten      34060.0      32660.0   \n",
       "3 2024-01-01  Bawang Merah       Bengkulu      36570.0      34540.0   \n",
       "4 2024-01-01  Bawang Merah  DI Yogyakarta      33890.0      33420.0   \n",
       "\n",
       "   Harga_lag_30  Google_trends     MYRUSD      SGDUSD    THBUSD      USDIDR  \\\n",
       "0       31080.0            0.0  3349.6133  11662.3455  446.9233  15383.0996   \n",
       "1       23510.0            0.0  3349.6133  11662.3455  446.9233  15383.0996   \n",
       "2       29300.0            0.0  3349.6133  11662.3455  446.9233  15383.0996   \n",
       "3       29370.0            0.0  3349.6133  11662.3455  446.9233  15383.0996   \n",
       "4       25360.0            0.0  3349.6133  11662.3455  446.9233  15383.0996   \n",
       "\n",
       "     Harga  \n",
       "0  37020.0  \n",
       "1  35020.0  \n",
       "2  34540.0  \n",
       "3  36570.0  \n",
       "4  34630.0  "
      ],
      "text/html": [
       "<div>\n",
       "<style scoped>\n",
       "    .dataframe tbody tr th:only-of-type {\n",
       "        vertical-align: middle;\n",
       "    }\n",
       "\n",
       "    .dataframe tbody tr th {\n",
       "        vertical-align: top;\n",
       "    }\n",
       "\n",
       "    .dataframe thead th {\n",
       "        text-align: right;\n",
       "    }\n",
       "</style>\n",
       "<table border=\"1\" class=\"dataframe\">\n",
       "  <thead>\n",
       "    <tr style=\"text-align: right;\">\n",
       "      <th></th>\n",
       "      <th>Tanggal</th>\n",
       "      <th>Bahan_pangan</th>\n",
       "      <th>Daerah</th>\n",
       "      <th>Harga_lag_1</th>\n",
       "      <th>Harga_lag_7</th>\n",
       "      <th>Harga_lag_30</th>\n",
       "      <th>Google_trends</th>\n",
       "      <th>MYRUSD</th>\n",
       "      <th>SGDUSD</th>\n",
       "      <th>THBUSD</th>\n",
       "      <th>USDIDR</th>\n",
       "      <th>Harga</th>\n",
       "    </tr>\n",
       "  </thead>\n",
       "  <tbody>\n",
       "    <tr>\n",
       "      <th>0</th>\n",
       "      <td>2024-01-01</td>\n",
       "      <td>Bawang Merah</td>\n",
       "      <td>Aceh</td>\n",
       "      <td>36790.0</td>\n",
       "      <td>34590.0</td>\n",
       "      <td>31080.0</td>\n",
       "      <td>0.0</td>\n",
       "      <td>3349.6133</td>\n",
       "      <td>11662.3455</td>\n",
       "      <td>446.9233</td>\n",
       "      <td>15383.0996</td>\n",
       "      <td>37020.0</td>\n",
       "    </tr>\n",
       "    <tr>\n",
       "      <th>1</th>\n",
       "      <td>2024-01-01</td>\n",
       "      <td>Bawang Merah</td>\n",
       "      <td>Bali</td>\n",
       "      <td>35340.0</td>\n",
       "      <td>29420.0</td>\n",
       "      <td>23510.0</td>\n",
       "      <td>0.0</td>\n",
       "      <td>3349.6133</td>\n",
       "      <td>11662.3455</td>\n",
       "      <td>446.9233</td>\n",
       "      <td>15383.0996</td>\n",
       "      <td>35020.0</td>\n",
       "    </tr>\n",
       "    <tr>\n",
       "      <th>2</th>\n",
       "      <td>2024-01-01</td>\n",
       "      <td>Bawang Merah</td>\n",
       "      <td>Banten</td>\n",
       "      <td>34060.0</td>\n",
       "      <td>32660.0</td>\n",
       "      <td>29300.0</td>\n",
       "      <td>0.0</td>\n",
       "      <td>3349.6133</td>\n",
       "      <td>11662.3455</td>\n",
       "      <td>446.9233</td>\n",
       "      <td>15383.0996</td>\n",
       "      <td>34540.0</td>\n",
       "    </tr>\n",
       "    <tr>\n",
       "      <th>3</th>\n",
       "      <td>2024-01-01</td>\n",
       "      <td>Bawang Merah</td>\n",
       "      <td>Bengkulu</td>\n",
       "      <td>36570.0</td>\n",
       "      <td>34540.0</td>\n",
       "      <td>29370.0</td>\n",
       "      <td>0.0</td>\n",
       "      <td>3349.6133</td>\n",
       "      <td>11662.3455</td>\n",
       "      <td>446.9233</td>\n",
       "      <td>15383.0996</td>\n",
       "      <td>36570.0</td>\n",
       "    </tr>\n",
       "    <tr>\n",
       "      <th>4</th>\n",
       "      <td>2024-01-01</td>\n",
       "      <td>Bawang Merah</td>\n",
       "      <td>DI Yogyakarta</td>\n",
       "      <td>33890.0</td>\n",
       "      <td>33420.0</td>\n",
       "      <td>25360.0</td>\n",
       "      <td>0.0</td>\n",
       "      <td>3349.6133</td>\n",
       "      <td>11662.3455</td>\n",
       "      <td>446.9233</td>\n",
       "      <td>15383.0996</td>\n",
       "      <td>34630.0</td>\n",
       "    </tr>\n",
       "  </tbody>\n",
       "</table>\n",
       "</div>"
      ]
     },
     "execution_count": 32,
     "metadata": {},
     "output_type": "execute_result"
    }
   ],
   "execution_count": 32
  },
  {
   "metadata": {},
   "cell_type": "markdown",
   "source": "## Append data to csv",
   "id": "f61654335ac75d39"
  },
  {
   "metadata": {
    "ExecuteTime": {
     "end_time": "2025-03-13T07:55:10.682832Z",
     "start_time": "2025-03-13T07:55:09.898381Z"
    }
   },
   "cell_type": "code",
   "source": "df_bhn_pgn_all.to_csv('tes.csv', mode='a', index=False, header=False)",
   "id": "b90efde0fd9dcb1",
   "outputs": [],
   "execution_count": 34
  },
  {
   "metadata": {
    "ExecuteTime": {
     "end_time": "2025-03-11T04:32:59.229194Z",
     "start_time": "2025-03-11T04:32:59.192648Z"
    }
   },
   "cell_type": "code",
   "source": [
    "file_bhn_pgn=os.path.join(path_data_source, list_bhn_pgn[0]+'.csv')\n",
    "df_bhn_pgn=pd.read_csv(file_bhn_pgn)\n",
    "gt_path=os.path.join(root_data,folder_google_trend,list_google_trend[list_bhn_pgn[0]],list_nama_daerah[0]+'.csv')\n",
    "print(f'gt_path: {gt_path}')\n",
    "df_gt=pd.read_csv(gt_path)\n",
    "df_gt['Date']=pd.to_datetime(df_gt['Date'])\n",
    "date=dt.datetime(year=2022,month=7,day=26)\n",
    "df_gt.query('Date == @date')['bawang merah'].values[0]"
   ],
   "id": "a4dbf5602e4d689",
   "outputs": [
    {
     "name": "stdout",
     "output_type": "stream",
     "text": [
      "gt_path: comodity-price-prediction-penyisihan-arkavidia-9\\Google Trend\\bawang merah\\Aceh.csv\n"
     ]
    },
    {
     "data": {
      "text/plain": [
       "np.float64(49.50915254237288)"
      ]
     },
     "execution_count": 16,
     "metadata": {},
     "output_type": "execute_result"
    }
   ],
   "execution_count": 16
  }
 ],
 "metadata": {
  "kernelspec": {
   "display_name": "Python 3",
   "language": "python",
   "name": "python3"
  },
  "language_info": {
   "codemirror_mode": {
    "name": "ipython",
    "version": 2
   },
   "file_extension": ".py",
   "mimetype": "text/x-python",
   "name": "python",
   "nbconvert_exporter": "python",
   "pygments_lexer": "ipython2",
   "version": "2.7.6"
  }
 },
 "nbformat": 4,
 "nbformat_minor": 5
}
