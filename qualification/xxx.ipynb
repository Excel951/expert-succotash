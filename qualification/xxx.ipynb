{
 "cells": [
  {
   "metadata": {
    "ExecuteTime": {
     "end_time": "2025-03-10T15:53:11.741175Z",
     "start_time": "2025-03-10T15:53:11.738305Z"
    }
   },
   "cell_type": "code",
   "source": [
    "import pandas as pd\n",
    "import numpy as np\n",
    "import os\n",
    "import datetime as dt\n",
    "from datetime import timedelta\n",
    "from dateutil.relativedelta import *"
   ],
   "id": "d0b7f193145b0771",
   "outputs": [],
   "execution_count": 24
  },
  {
   "metadata": {
    "ExecuteTime": {
     "end_time": "2025-03-10T15:22:58.900092Z",
     "start_time": "2025-03-10T15:22:58.896989Z"
    }
   },
   "cell_type": "code",
   "source": "seed = 7",
   "id": "dae3947eaa29817e",
   "outputs": [],
   "execution_count": 2
  },
  {
   "metadata": {
    "ExecuteTime": {
     "end_time": "2025-03-10T15:22:59.091219Z",
     "start_time": "2025-03-10T15:22:59.087873Z"
    }
   },
   "cell_type": "code",
   "source": [
    "import warnings\n",
    "warnings.filterwarnings('ignore')"
   ],
   "id": "cbba40dbd079bcf2",
   "outputs": [],
   "execution_count": 3
  },
  {
   "metadata": {},
   "cell_type": "markdown",
   "source": "# Collect data",
   "id": "5a84adc141b2eaf1"
  },
  {
   "metadata": {
    "ExecuteTime": {
     "end_time": "2025-03-10T15:23:01.269607Z",
     "start_time": "2025-03-10T15:23:01.266526Z"
    }
   },
   "cell_type": "code",
   "source": [
    "root_data='comodity-price-prediction-penyisihan-arkavidia-9'\n",
    "hrg_bhn_pangan='Harga Bahan Pangan'\n",
    "folder_train='train'\n",
    "folder_mata_uang='Mata Uang',\n",
    "folder_google_trend='Google Trend'"
   ],
   "id": "555eeada2a2df80",
   "outputs": [],
   "execution_count": 4
  },
  {
   "metadata": {
    "ExecuteTime": {
     "end_time": "2025-03-10T15:56:51.310325Z",
     "start_time": "2025-03-10T15:56:51.304321Z"
    }
   },
   "cell_type": "code",
   "source": [
    "tanggal_awal=dt.datetime(year=2022,month=1,day=1)\n",
    "tanggal_akhir=dt.datetime(year=2022,month=1,day=3)"
   ],
   "id": "6ee834ca580da6e1",
   "outputs": [],
   "execution_count": 28
  },
  {
   "metadata": {
    "ExecuteTime": {
     "end_time": "2025-03-10T15:23:03.580971Z",
     "start_time": "2025-03-10T15:23:03.575429Z"
    }
   },
   "cell_type": "code",
   "source": [
    "list_bhn_pgn=[\n",
    "    'Bawang Merah',         # bawang merah\n",
    "    'Bawang Putih Bonggol', # bawang putih\n",
    "    'Beras Medium',         # beras\n",
    "    'Beras Premium',        # beras\n",
    "    'Cabai Merah Keriting', # cabai merah\n",
    "    'Cabai Rawit Merah',    # cabai rawit\n",
    "    'Daging Ayam Ras',      # daging ayam\n",
    "    'Daging Sapi Murni',    # daging sapi\n",
    "    'Gula Konsumsi',        # gula\n",
    "    'Minyak Goreng Curah',  # minyak goreng\n",
    "    'Minyak Goreng Kemasan Sederhana',  #minyak goreng\n",
    "    'Telur Ayam Ras',       # telur ayam\n",
    "    'Tepung Terigu (Curah)',# tepung terigu\n",
    "]"
   ],
   "id": "8f74bb177fc30fb0",
   "outputs": [],
   "execution_count": 6
  },
  {
   "metadata": {
    "ExecuteTime": {
     "end_time": "2025-03-10T16:13:24.566291Z",
     "start_time": "2025-03-10T16:13:24.562651Z"
    }
   },
   "cell_type": "code",
   "source": [
    "list_google_trend={\n",
    "    'Bawang Merah': 'bawang merah',\n",
    "    'Bawang Putih Bonggol': 'bawang putih',\n",
    "    'Beras Medium':'beras',\n",
    "    'Beras Premium':'beras',\n",
    "    'Cabai Merah Keriting':'cabai merah',\n",
    "    'Cabai Rawit Merah':'cabai rawit',\n",
    "    'Daging Ayam Ras':'daging ayam',\n",
    "    'Daging Sapi Murni':'daging sapi',\n",
    "    'Gula Konsumsi':'gula',\n",
    "    'Minyak Goreng Curah':'minyak goreng',\n",
    "    'Minyak Goreng Kemasan Sederhana':'minyak goreng',\n",
    "    'Telur Ayam Ras':'telur ayam',\n",
    "    'Tepung Terigu (Curah)':'tepung terigu',\n",
    "}"
   ],
   "id": "92503d371dfa15fe",
   "outputs": [],
   "execution_count": 35
  },
  {
   "metadata": {
    "ExecuteTime": {
     "end_time": "2025-03-10T15:23:04.259535Z",
     "start_time": "2025-03-10T15:23:04.255006Z"
    }
   },
   "cell_type": "code",
   "source": [
    "list_nama_daerah=[\n",
    "    'Aceh',\n",
    "    'Bali',\n",
    "    'Banten',\n",
    "    'Bengkulu',\n",
    "    'DI Yogyakarta',\n",
    "    'DKI Jakarta',\n",
    "    'Gorontalo',\n",
    "    'Jambi',\n",
    "    'Jawa Barat',\n",
    "    'Jawa Tengah',\n",
    "    'Jawa Timur',\n",
    "    'Kalimantan Barat',\n",
    "    'Kalimantan Selatan',\n",
    "    'Kalimantan Tengah',\n",
    "    'Kalimantan Timur',\n",
    "    'Kalimantan Utara',\n",
    "    'Kepulauan Bangka Belitung',\n",
    "    'Kepulauan Riau',\n",
    "    'Lampung',\n",
    "    'Maluku Utara',\n",
    "    'Maluku',\n",
    "    'Nusa Tenggara Barat',\n",
    "    'Nusa Tenggara Timur',\n",
    "    'Papua Barat',\n",
    "    'Papua',\n",
    "    'Riau',\n",
    "    'Sulawesi Barat',\n",
    "    'Sulawesi Selatan',\n",
    "    'Sulawesi Tengah',\n",
    "    'Sulawesi Tenggara',\n",
    "    'Sulawesi Utara',\n",
    "    'Sumatera Barat',\n",
    "    'Sumatera Selatan',\n",
    "    'Sumatera Utara'\n",
    "]"
   ],
   "id": "6b731971263b1035",
   "outputs": [],
   "execution_count": 7
  },
  {
   "metadata": {
    "ExecuteTime": {
     "end_time": "2025-03-10T15:23:04.928095Z",
     "start_time": "2025-03-10T15:23:04.922584Z"
    }
   },
   "cell_type": "code",
   "source": "path_data_source=os.path.join(root_data,hrg_bhn_pangan,folder_train)",
   "id": "c92293381ed3629c",
   "outputs": [],
   "execution_count": 8
  },
  {
   "metadata": {
    "ExecuteTime": {
     "end_time": "2025-03-10T16:18:02.677729Z",
     "start_time": "2025-03-10T16:18:02.673226Z"
    }
   },
   "cell_type": "code",
   "source": [
    "data_bhn_pgn={\n",
    "    'Tanggal':[],\n",
    "    'Bahan_pangan':[],\n",
    "    'Daerah':[],\n",
    "    'Harga_lag_1':[],\n",
    "    'Harga_lag_7':[],\n",
    "    'Harga_lag_30':[],\n",
    "    'Google_trends':[],\n",
    "    'MYRUSD':[],\n",
    "    'SGDUSD':[],\n",
    "    'THBUSD':[],\n",
    "    'USDIDR':[],\n",
    "    'Harga':[]\n",
    "}\n",
    "df_bhn_pgn_all=pd.DataFrame(data_bhn_pgn)"
   ],
   "id": "75e5e4d9e51b0632",
   "outputs": [],
   "execution_count": 36
  },
  {
   "metadata": {
    "ExecuteTime": {
     "end_time": "2025-03-10T16:31:09.717074Z",
     "start_time": "2025-03-10T16:30:35.191337Z"
    }
   },
   "cell_type": "code",
   "source": [
    "for date in [tanggal_awal + dt.timedelta(days=x) for x in range((tanggal_akhir - tanggal_awal).days + 1)]:\n",
    "    for nama_bhn_pgn in list_bhn_pgn:\n",
    "        file_bhn_pgn=os.path.join(path_data_source, nama_bhn_pgn+'.csv')\n",
    "        df_bhn_pgn=pd.read_csv(file_bhn_pgn)\n",
    "        try:\n",
    "            df_bhn_pgn['Date']=pd.to_datetime(df_bhn_pgn['Date'])\n",
    "        except Exception as e:\n",
    "            df_bhn_pgn['Tanggal']=pd.to_datetime(df_bhn_pgn['Tanggal'])\n",
    "        # df_bhn_pgn=df_bhn_pgn[df_bhn_pgn['Date']==date]\n",
    "        yesterday = date - timedelta(days=1)\n",
    "        week_ago = date - timedelta(days=7)\n",
    "        month_ago = date - relativedelta(months=1)\n",
    "        for daerah in list_nama_daerah:\n",
    "            # df_bhn_pgn_daerah=df_bhn_pgn[daerah]\n",
    "            try:\n",
    "                gt_path=os.path.join(root_data,folder_google_trend,list_google_trend[nama_bhn_pgn],daerah+'.csv')\n",
    "                df_gt=pd.read_csv(gt_path)\n",
    "                df_gt['Date']=pd.to_datetime(df_gt['Date'])\n",
    "                # print(gt_path)\n",
    "            except Exception as e:\n",
    "                df_gt=None\n",
    "            new_data={\n",
    "                'Tanggal':date,\n",
    "                'Bahan_pangan':nama_bhn_pgn,\n",
    "                'Daerah':daerah,\n",
    "                'Harga_lag_1':df_bhn_pgn.query('Date == @yesterday')[daerah].values[0] if not df_bhn_pgn.query('Date == @yesterday').empty else 0,\n",
    "                'Harga_lag_7':df_bhn_pgn.query('Date == @week_ago')[daerah].values[0] if not df_bhn_pgn.query('Date == @week_ago').empty else 0,\n",
    "                'Harga_lag_30':df_bhn_pgn.query('Date == @month_ago')[daerah].values[0] if not df_bhn_pgn.query('Date == @month_ago').empty else 0,\n",
    "                'Google_trends':df_gt.query('Date == @date')[list_google_trend[nama_bhn_pgn]].values[0] if df_gt is not None and not df_gt.query('Date == @date').empty else 0,\n",
    "                'MYRUSD':0,\n",
    "                'SGDUSD':0,\n",
    "                'THBUSD':0,\n",
    "                'USDIDR':0,\n",
    "                'Harga':df_bhn_pgn.query('Date == @date')[daerah].values[0] if not df_bhn_pgn.query('Date == @date').empty else None\n",
    "            }\n",
    "            df_bhn_pgn_all = df_bhn_pgn_all._append(new_data, ignore_index=True)"
   ],
   "id": "ed818d4705fff772",
   "outputs": [],
   "execution_count": 46
  },
  {
   "metadata": {
    "ExecuteTime": {
     "end_time": "2025-03-10T16:31:23.831409Z",
     "start_time": "2025-03-10T16:31:23.811174Z"
    }
   },
   "cell_type": "code",
   "source": "df_bhn_pgn_all.to_csv('test.csv')",
   "id": "b90efde0fd9dcb1",
   "outputs": [],
   "execution_count": 47
  },
  {
   "metadata": {
    "ExecuteTime": {
     "end_time": "2025-03-10T16:38:17.849966Z",
     "start_time": "2025-03-10T16:38:17.821924Z"
    }
   },
   "cell_type": "code",
   "source": [
    "file_bhn_pgn=os.path.join(path_data_source, list_bhn_pgn[0]+'.csv')\n",
    "df_bhn_pgn=pd.read_csv(file_bhn_pgn)\n",
    "gt_path=os.path.join(root_data,folder_google_trend,list_google_trend[list_bhn_pgn[0]],list_nama_daerah[0]+'.csv')\n",
    "df_gt=pd.read_csv(gt_path)\n",
    "df_gt.query('Date == @date')['bawang merah'].values[0]"
   ],
   "id": "a4dbf5602e4d689",
   "outputs": [
    {
     "ename": "IndexError",
     "evalue": "index 0 is out of bounds for axis 0 with size 0",
     "output_type": "error",
     "traceback": [
      "\u001B[1;31m---------------------------------------------------------------------------\u001B[0m",
      "\u001B[1;31mIndexError\u001B[0m                                Traceback (most recent call last)",
      "Cell \u001B[1;32mIn[56], line 5\u001B[0m\n\u001B[0;32m      3\u001B[0m gt_path\u001B[38;5;241m=\u001B[39mos\u001B[38;5;241m.\u001B[39mpath\u001B[38;5;241m.\u001B[39mjoin(root_data,folder_google_trend,list_google_trend[list_bhn_pgn[\u001B[38;5;241m0\u001B[39m]],list_nama_daerah[\u001B[38;5;241m0\u001B[39m]\u001B[38;5;241m+\u001B[39m\u001B[38;5;124m'\u001B[39m\u001B[38;5;124m.csv\u001B[39m\u001B[38;5;124m'\u001B[39m)\n\u001B[0;32m      4\u001B[0m df_gt\u001B[38;5;241m=\u001B[39mpd\u001B[38;5;241m.\u001B[39mread_csv(gt_path)\n\u001B[1;32m----> 5\u001B[0m \u001B[43mdf_gt\u001B[49m\u001B[38;5;241;43m.\u001B[39;49m\u001B[43mquery\u001B[49m\u001B[43m(\u001B[49m\u001B[38;5;124;43m'\u001B[39;49m\u001B[38;5;124;43mDate == @date\u001B[39;49m\u001B[38;5;124;43m'\u001B[39;49m\u001B[43m)\u001B[49m\u001B[43m[\u001B[49m\u001B[38;5;124;43m'\u001B[39;49m\u001B[38;5;124;43mbawang merah\u001B[39;49m\u001B[38;5;124;43m'\u001B[39;49m\u001B[43m]\u001B[49m\u001B[38;5;241;43m.\u001B[39;49m\u001B[43mvalues\u001B[49m\u001B[43m[\u001B[49m\u001B[38;5;241;43m0\u001B[39;49m\u001B[43m]\u001B[49m\n",
      "\u001B[1;31mIndexError\u001B[0m: index 0 is out of bounds for axis 0 with size 0"
     ]
    }
   ],
   "execution_count": 56
  },
  {
   "metadata": {
    "ExecuteTime": {
     "end_time": "2025-03-10T16:36:47.621964Z",
     "start_time": "2025-03-10T16:36:47.617922Z"
    }
   },
   "cell_type": "code",
   "source": "list_bhn_pgn[0]",
   "id": "7b166578bf987c6d",
   "outputs": [
    {
     "data": {
      "text/plain": [
       "'Bawang Merah'"
      ]
     },
     "execution_count": 51,
     "metadata": {},
     "output_type": "execute_result"
    }
   ],
   "execution_count": 51
  },
  {
   "metadata": {
    "ExecuteTime": {
     "end_time": "2025-03-10T16:37:13.709572Z",
     "start_time": "2025-03-10T16:37:13.705746Z"
    }
   },
   "cell_type": "code",
   "source": "list_google_trend['Bawang Merah']",
   "id": "b2322353527714c",
   "outputs": [
    {
     "data": {
      "text/plain": [
       "'bawang merah'"
      ]
     },
     "execution_count": 53,
     "metadata": {},
     "output_type": "execute_result"
    }
   ],
   "execution_count": 53
  },
  {
   "metadata": {
    "ExecuteTime": {
     "end_time": "2025-03-10T16:37:36.784055Z",
     "start_time": "2025-03-10T16:37:36.779648Z"
    }
   },
   "cell_type": "code",
   "source": "list_google_trend[list_bhn_pgn[0]]",
   "id": "b9c25151650242e5",
   "outputs": [
    {
     "data": {
      "text/plain": [
       "'bawang merah'"
      ]
     },
     "execution_count": 54,
     "metadata": {},
     "output_type": "execute_result"
    }
   ],
   "execution_count": 54
  }
 ],
 "metadata": {
  "kernelspec": {
   "display_name": "Python 3",
   "language": "python",
   "name": "python3"
  },
  "language_info": {
   "codemirror_mode": {
    "name": "ipython",
    "version": 2
   },
   "file_extension": ".py",
   "mimetype": "text/x-python",
   "name": "python",
   "nbconvert_exporter": "python",
   "pygments_lexer": "ipython2",
   "version": "2.7.6"
  }
 },
 "nbformat": 4,
 "nbformat_minor": 5
}
