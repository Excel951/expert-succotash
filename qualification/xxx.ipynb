{
 "cells": [
  {
   "metadata": {
    "ExecuteTime": {
     "end_time": "2025-03-12T13:00:24.697740Z",
     "start_time": "2025-03-12T13:00:23.566788Z"
    }
   },
   "cell_type": "code",
   "source": [
    "import pandas as pd\n",
    "import numpy as np\n",
    "import os\n",
    "import datetime as dt\n",
    "from datetime import timedelta\n",
    "from dateutil.relativedelta import *"
   ],
   "id": "d0b7f193145b0771",
   "outputs": [],
   "execution_count": 1
  },
  {
   "metadata": {
    "ExecuteTime": {
     "end_time": "2025-03-12T13:00:25.364566Z",
     "start_time": "2025-03-12T13:00:25.358617Z"
    }
   },
   "cell_type": "code",
   "source": "seed = 7",
   "id": "dae3947eaa29817e",
   "outputs": [],
   "execution_count": 2
  },
  {
   "metadata": {
    "ExecuteTime": {
     "end_time": "2025-03-12T13:00:56.707277Z",
     "start_time": "2025-03-12T13:00:56.703098Z"
    }
   },
   "cell_type": "code",
   "source": [
    "import warnings\n",
    "warnings.filterwarnings('ignore')"
   ],
   "id": "cbba40dbd079bcf2",
   "outputs": [],
   "execution_count": 3
  },
  {
   "metadata": {},
   "cell_type": "markdown",
   "source": "# Collect data",
   "id": "5a84adc141b2eaf1"
  },
  {
   "metadata": {
    "ExecuteTime": {
     "end_time": "2025-03-12T13:01:01.710560Z",
     "start_time": "2025-03-12T13:01:01.704579Z"
    }
   },
   "cell_type": "code",
   "source": [
    "root_data='comodity-price-prediction-penyisihan-arkavidia-9'\n",
    "hrg_bhn_pangan='Harga Bahan Pangan'\n",
    "folder_train='train'\n",
    "folder_mata_uang='Mata Uang'\n",
    "folder_google_trend='Google Trend'"
   ],
   "id": "555eeada2a2df80",
   "outputs": [],
   "execution_count": 4
  },
  {
   "metadata": {
    "ExecuteTime": {
     "end_time": "2025-03-12T13:01:02.445784Z",
     "start_time": "2025-03-12T13:01:02.441075Z"
    }
   },
   "cell_type": "code",
   "source": [
    "tanggal_awal=dt.datetime(year=2022,month=5,day=1)\n",
    "tanggal_akhir=dt.datetime(year=2022,month=7,day=31)"
   ],
   "id": "6ee834ca580da6e1",
   "outputs": [],
   "execution_count": 5
  },
  {
   "metadata": {
    "ExecuteTime": {
     "end_time": "2025-03-12T13:01:04.493407Z",
     "start_time": "2025-03-12T13:01:04.489168Z"
    }
   },
   "cell_type": "code",
   "source": [
    "list_bhn_pgn=[\n",
    "    'Bawang Merah',         # bawang merah\n",
    "    'Bawang Putih Bonggol', # bawang putih\n",
    "    'Beras Medium',         # beras\n",
    "    'Beras Premium',        # beras\n",
    "    'Cabai Merah Keriting', # cabai merah\n",
    "    'Cabai Rawit Merah',    # cabai rawit\n",
    "    'Daging Ayam Ras',      # daging ayam\n",
    "    'Daging Sapi Murni',    # daging sapi\n",
    "    'Gula Konsumsi',        # gula\n",
    "    'Minyak Goreng Curah',  # minyak goreng\n",
    "    'Minyak Goreng Kemasan Sederhana',  #minyak goreng\n",
    "    'Telur Ayam Ras',       # telur ayam\n",
    "    'Tepung Terigu (Curah)',# tepung terigu\n",
    "]"
   ],
   "id": "8f74bb177fc30fb0",
   "outputs": [],
   "execution_count": 6
  },
  {
   "metadata": {
    "ExecuteTime": {
     "end_time": "2025-03-12T13:01:04.828777Z",
     "start_time": "2025-03-12T13:01:04.823358Z"
    }
   },
   "cell_type": "code",
   "source": [
    "list_google_trend={\n",
    "    'Bawang Merah': 'bawang merah',\n",
    "    'Bawang Putih Bonggol': 'bawang putih',\n",
    "    'Beras Medium':'beras',\n",
    "    'Beras Premium':'beras',\n",
    "    'Cabai Merah Keriting':'cabai merah',\n",
    "    'Cabai Rawit Merah':'cabai rawit',\n",
    "    'Daging Ayam Ras':'daging ayam',\n",
    "    'Daging Sapi Murni':'daging sapi',\n",
    "    'Gula Konsumsi':'gula',\n",
    "    'Minyak Goreng Curah':'minyak goreng',\n",
    "    'Minyak Goreng Kemasan Sederhana':'minyak goreng',\n",
    "    'Telur Ayam Ras':'telur ayam',\n",
    "    'Tepung Terigu (Curah)':'tepung terigu',\n",
    "}"
   ],
   "id": "92503d371dfa15fe",
   "outputs": [],
   "execution_count": 7
  },
  {
   "metadata": {
    "ExecuteTime": {
     "end_time": "2025-03-12T13:01:05.447501Z",
     "start_time": "2025-03-12T13:01:05.440917Z"
    }
   },
   "cell_type": "code",
   "source": [
    "list_nama_daerah=[\n",
    "    'Aceh',\n",
    "    'Bali',\n",
    "    'Banten',\n",
    "    'Bengkulu',\n",
    "    'DI Yogyakarta',\n",
    "    'DKI Jakarta',\n",
    "    'Gorontalo',\n",
    "    'Jambi',\n",
    "    'Jawa Barat',\n",
    "    'Jawa Tengah',\n",
    "    'Jawa Timur',\n",
    "    'Kalimantan Barat',\n",
    "    'Kalimantan Selatan',\n",
    "    'Kalimantan Tengah',\n",
    "    'Kalimantan Timur',\n",
    "    'Kalimantan Utara',\n",
    "    'Kepulauan Bangka Belitung',\n",
    "    'Kepulauan Riau',\n",
    "    'Lampung',\n",
    "    'Maluku Utara',\n",
    "    'Maluku',\n",
    "    'Nusa Tenggara Barat',\n",
    "    'Nusa Tenggara Timur',\n",
    "    'Papua Barat',\n",
    "    'Papua',\n",
    "    'Riau',\n",
    "    'Sulawesi Barat',\n",
    "    'Sulawesi Selatan',\n",
    "    'Sulawesi Tengah',\n",
    "    'Sulawesi Tenggara',\n",
    "    'Sulawesi Utara',\n",
    "    'Sumatera Barat',\n",
    "    'Sumatera Selatan',\n",
    "    'Sumatera Utara'\n",
    "]"
   ],
   "id": "6b731971263b1035",
   "outputs": [],
   "execution_count": 8
  },
  {
   "metadata": {
    "ExecuteTime": {
     "end_time": "2025-03-12T13:01:06.441885Z",
     "start_time": "2025-03-12T13:01:06.435906Z"
    }
   },
   "cell_type": "code",
   "source": "path_data_source=os.path.join(root_data,hrg_bhn_pangan,folder_train)",
   "id": "c92293381ed3629c",
   "outputs": [],
   "execution_count": 9
  },
  {
   "metadata": {
    "ExecuteTime": {
     "end_time": "2025-03-12T13:01:06.816516Z",
     "start_time": "2025-03-12T13:01:06.802742Z"
    }
   },
   "cell_type": "code",
   "source": [
    "data_bhn_pgn={\n",
    "    'Tanggal':[],\n",
    "    'Bahan_pangan':[],\n",
    "    'Daerah':[],\n",
    "    'Harga_lag_1':[],\n",
    "    'Harga_lag_7':[],\n",
    "    'Harga_lag_30':[],\n",
    "    'Google_trends':[],\n",
    "    'MYRUSD':[],\n",
    "    'SGDUSD':[],\n",
    "    'THBUSD':[],\n",
    "    'USDIDR':[],\n",
    "    'Harga':[]\n",
    "}\n",
    "df_bhn_pgn_all=pd.DataFrame(data_bhn_pgn)"
   ],
   "id": "75e5e4d9e51b0632",
   "outputs": [],
   "execution_count": 10
  },
  {
   "metadata": {
    "ExecuteTime": {
     "end_time": "2025-03-12T13:02:01.912264Z",
     "start_time": "2025-03-12T13:02:01.885837Z"
    }
   },
   "cell_type": "code",
   "source": [
    "myrusd_path=os.path.join(root_data,folder_mata_uang,'MYRUSD=X.csv')\n",
    "df_myrusd=pd.read_csv(myrusd_path)\n",
    "df_myrusd['Date']=pd.to_datetime(df_myrusd['Date'])\n",
    "sgdusd_path=os.path.join(root_data,folder_mata_uang,'SGDUSD=X.csv')\n",
    "df_sgdusd=pd.read_csv(sgdusd_path)\n",
    "df_sgdusd['Date']=pd.to_datetime(df_sgdusd['Date'])\n",
    "thbusd_path=os.path.join(root_data,folder_mata_uang,'THBUSD=X.csv')\n",
    "df_thbusd=pd.read_csv(thbusd_path)\n",
    "df_thbusd['Date']=pd.to_datetime(df_thbusd['Date'])\n",
    "usdidr_path=os.path.join(root_data,folder_mata_uang,'USDIDR=X.csv')\n",
    "df_usdidr=pd.read_csv(usdidr_path)\n",
    "df_usdidr['Date']=pd.to_datetime(df_usdidr['Date'])\n",
    "\n",
    "myrusd=3325.0029\n",
    "sgdusd=10459.43\n",
    "thbusd=421.1535\n",
    "usdidr=14502.0"
   ],
   "id": "81933957278d3208",
   "outputs": [],
   "execution_count": 12
  },
  {
   "metadata": {
    "ExecuteTime": {
     "end_time": "2025-03-12T13:52:09.901289Z",
     "start_time": "2025-03-12T13:02:09.350643Z"
    }
   },
   "cell_type": "code",
   "source": [
    "for date in [tanggal_awal + dt.timedelta(days=x) for x in range((tanggal_akhir - tanggal_awal).days + 1)]:\n",
    "    for nama_bhn_pgn in list_bhn_pgn:\n",
    "        file_bhn_pgn=os.path.join(path_data_source, nama_bhn_pgn+'.csv')\n",
    "        df_bhn_pgn=pd.read_csv(file_bhn_pgn)\n",
    "        try:\n",
    "            df_bhn_pgn['Date']=pd.to_datetime(df_bhn_pgn['Date'])\n",
    "        except Exception as e:\n",
    "            df_bhn_pgn['Tanggal']=pd.to_datetime(df_bhn_pgn['Tanggal'])\n",
    "        yesterday = date - timedelta(days=1)\n",
    "        week_ago = date - timedelta(days=7)\n",
    "        month_ago = date - relativedelta(months=1)\n",
    "        for daerah in list_nama_daerah:\n",
    "            try:\n",
    "                gt_path=os.path.join(root_data,folder_google_trend,list_google_trend[nama_bhn_pgn],daerah+'.csv')\n",
    "                df_gt=pd.read_csv(gt_path)\n",
    "                df_gt['Date']=pd.to_datetime(df_gt['Date'])\n",
    "            except Exception as e:\n",
    "                df_gt=None\n",
    "            \n",
    "            # QUERY DATA KURS\n",
    "            if not df_myrusd.query('Date == @date').empty and not df_usdidr.query('Date == @date').empty:\n",
    "                myrusd=round(df_myrusd.query('Date == @date')['Adj Close'].values[0]*df_usdidr.query('Date == @date')['Adj Close'].values[0], 4) if not df_myrusd.query('Date == @date').empty else np.int32(0)\n",
    "            if not df_sgdusd.query('Date == @date').empty and not df_usdidr.query('Date == @date').empty:\n",
    "                sgdusd=round(df_sgdusd.query('Date == @date')['Adj Close'].values[0]*df_usdidr.query('Date == @date')['Adj Close'].values[0], 4) if not df_sgdusd.query('Date == @date').empty else np.int32(0)\n",
    "            if not df_thbusd.query('Date == @date').empty and not df_usdidr.query('Date == @date').empty:\n",
    "                thbusd=round(df_thbusd.query('Date == @date')['Adj Close'].values[0]*df_usdidr.query('Date == @date')['Adj Close'].values[0], 4) if not df_thbusd.query('Date == @date').empty else np.int32(0)\n",
    "            if not df_usdidr.query('Date == @date').empty:\n",
    "                usdidr=round(df_usdidr.query('Date == @date')['Adj Close'].values[0], 4) if not df_myrusd.query('Date == @date').empty else np.int32(0)\n",
    "            \n",
    "            new_data={\n",
    "                'Tanggal':date,\n",
    "                'Bahan_pangan':nama_bhn_pgn,\n",
    "                'Daerah':daerah,\n",
    "                'Harga_lag_1':round(df_bhn_pgn.query('Date == @yesterday')[daerah].fillna(0).values[0]) if not df_bhn_pgn.query('Date == @yesterday').empty else 0,\n",
    "                'Harga_lag_7':round(df_bhn_pgn.query('Date == @week_ago')[daerah].fillna(0).values[0]) if not df_bhn_pgn.query('Date == @week_ago').empty else 0,\n",
    "                'Harga_lag_30':round(df_bhn_pgn.query('Date == @month_ago')[daerah].fillna(0).values[0]) if not df_bhn_pgn.query('Date == @month_ago').empty else 0,\n",
    "                'Google_trends': round(df_gt.query('Date == @date')[list_google_trend[nama_bhn_pgn]].fillna(0).values[0]) if df_gt is not None and not df_gt.query('Date == @date').empty else 0,\n",
    "                'MYRUSD':myrusd,\n",
    "                'SGDUSD':sgdusd,\n",
    "                'THBUSD':thbusd,\n",
    "                'USDIDR':usdidr,\n",
    "                'Harga':round(df_bhn_pgn.query('Date == @date')[daerah].fillna(0).values[0]) if not df_bhn_pgn.query('Date == @date').empty else 0\n",
    "            }\n",
    "            df_bhn_pgn_all = df_bhn_pgn_all._append(new_data, ignore_index=True)"
   ],
   "id": "ed818d4705fff772",
   "outputs": [],
   "execution_count": 13
  },
  {
   "metadata": {
    "ExecuteTime": {
     "end_time": "2025-03-13T00:18:32.349184Z",
     "start_time": "2025-03-13T00:18:32.316583Z"
    }
   },
   "cell_type": "code",
   "source": "df_bhn_pgn_all.head(100)",
   "id": "8188f558ff0e6a8",
   "outputs": [
    {
     "data": {
      "text/plain": [
       "      Tanggal  Bahan_pangan             Daerah  Harga_lag_1  Harga_lag_7  \\\n",
       "0  2022-05-01  Bawang Merah               Aceh      34800.0      34210.0   \n",
       "1  2022-05-01  Bawang Merah               Bali      28180.0      27010.0   \n",
       "2  2022-05-01  Bawang Merah             Banten      40430.0      33890.0   \n",
       "3  2022-05-01  Bawang Merah           Bengkulu      38150.0      32610.0   \n",
       "4  2022-05-01  Bawang Merah      DI Yogyakarta      31020.0      29180.0   \n",
       "..        ...           ...                ...          ...          ...   \n",
       "95 2022-05-01  Beras Medium   Sulawesi Selatan       9620.0       9620.0   \n",
       "96 2022-05-01  Beras Medium    Sulawesi Tengah      10470.0      10430.0   \n",
       "97 2022-05-01  Beras Medium  Sulawesi Tenggara      10180.0      10370.0   \n",
       "98 2022-05-01  Beras Medium     Sulawesi Utara      10750.0      10840.0   \n",
       "99 2022-05-01  Beras Medium     Sumatera Barat      12230.0      12210.0   \n",
       "\n",
       "    Harga_lag_30  Google_trends     MYRUSD    SGDUSD    THBUSD   USDIDR  \\\n",
       "0        35980.0            0.0  3325.0029  10459.43  421.1535  14502.0   \n",
       "1        28970.0            0.0  3325.0029  10459.43  421.1535  14502.0   \n",
       "2        31710.0            0.0  3325.0029  10459.43  421.1535  14502.0   \n",
       "3        35170.0            0.0  3325.0029  10459.43  421.1535  14502.0   \n",
       "4        28170.0            0.0  3325.0029  10459.43  421.1535  14502.0   \n",
       "..           ...            ...        ...       ...       ...      ...   \n",
       "95        9580.0           58.0  3325.0029  10459.43  421.1535  14502.0   \n",
       "96       10400.0            0.0  3325.0029  10459.43  421.1535  14502.0   \n",
       "97       10510.0            0.0  3325.0029  10459.43  421.1535  14502.0   \n",
       "98       10860.0            0.0  3325.0029  10459.43  421.1535  14502.0   \n",
       "99       12160.0           51.0  3325.0029  10459.43  421.1535  14502.0   \n",
       "\n",
       "      Harga  \n",
       "0   34720.0  \n",
       "1   28800.0  \n",
       "2   43560.0  \n",
       "3   39310.0  \n",
       "4   31400.0  \n",
       "..      ...  \n",
       "95   9620.0  \n",
       "96  10370.0  \n",
       "97  10260.0  \n",
       "98  10750.0  \n",
       "99  12240.0  \n",
       "\n",
       "[100 rows x 12 columns]"
      ],
      "text/html": [
       "<div>\n",
       "<style scoped>\n",
       "    .dataframe tbody tr th:only-of-type {\n",
       "        vertical-align: middle;\n",
       "    }\n",
       "\n",
       "    .dataframe tbody tr th {\n",
       "        vertical-align: top;\n",
       "    }\n",
       "\n",
       "    .dataframe thead th {\n",
       "        text-align: right;\n",
       "    }\n",
       "</style>\n",
       "<table border=\"1\" class=\"dataframe\">\n",
       "  <thead>\n",
       "    <tr style=\"text-align: right;\">\n",
       "      <th></th>\n",
       "      <th>Tanggal</th>\n",
       "      <th>Bahan_pangan</th>\n",
       "      <th>Daerah</th>\n",
       "      <th>Harga_lag_1</th>\n",
       "      <th>Harga_lag_7</th>\n",
       "      <th>Harga_lag_30</th>\n",
       "      <th>Google_trends</th>\n",
       "      <th>MYRUSD</th>\n",
       "      <th>SGDUSD</th>\n",
       "      <th>THBUSD</th>\n",
       "      <th>USDIDR</th>\n",
       "      <th>Harga</th>\n",
       "    </tr>\n",
       "  </thead>\n",
       "  <tbody>\n",
       "    <tr>\n",
       "      <th>0</th>\n",
       "      <td>2022-05-01</td>\n",
       "      <td>Bawang Merah</td>\n",
       "      <td>Aceh</td>\n",
       "      <td>34800.0</td>\n",
       "      <td>34210.0</td>\n",
       "      <td>35980.0</td>\n",
       "      <td>0.0</td>\n",
       "      <td>3325.0029</td>\n",
       "      <td>10459.43</td>\n",
       "      <td>421.1535</td>\n",
       "      <td>14502.0</td>\n",
       "      <td>34720.0</td>\n",
       "    </tr>\n",
       "    <tr>\n",
       "      <th>1</th>\n",
       "      <td>2022-05-01</td>\n",
       "      <td>Bawang Merah</td>\n",
       "      <td>Bali</td>\n",
       "      <td>28180.0</td>\n",
       "      <td>27010.0</td>\n",
       "      <td>28970.0</td>\n",
       "      <td>0.0</td>\n",
       "      <td>3325.0029</td>\n",
       "      <td>10459.43</td>\n",
       "      <td>421.1535</td>\n",
       "      <td>14502.0</td>\n",
       "      <td>28800.0</td>\n",
       "    </tr>\n",
       "    <tr>\n",
       "      <th>2</th>\n",
       "      <td>2022-05-01</td>\n",
       "      <td>Bawang Merah</td>\n",
       "      <td>Banten</td>\n",
       "      <td>40430.0</td>\n",
       "      <td>33890.0</td>\n",
       "      <td>31710.0</td>\n",
       "      <td>0.0</td>\n",
       "      <td>3325.0029</td>\n",
       "      <td>10459.43</td>\n",
       "      <td>421.1535</td>\n",
       "      <td>14502.0</td>\n",
       "      <td>43560.0</td>\n",
       "    </tr>\n",
       "    <tr>\n",
       "      <th>3</th>\n",
       "      <td>2022-05-01</td>\n",
       "      <td>Bawang Merah</td>\n",
       "      <td>Bengkulu</td>\n",
       "      <td>38150.0</td>\n",
       "      <td>32610.0</td>\n",
       "      <td>35170.0</td>\n",
       "      <td>0.0</td>\n",
       "      <td>3325.0029</td>\n",
       "      <td>10459.43</td>\n",
       "      <td>421.1535</td>\n",
       "      <td>14502.0</td>\n",
       "      <td>39310.0</td>\n",
       "    </tr>\n",
       "    <tr>\n",
       "      <th>4</th>\n",
       "      <td>2022-05-01</td>\n",
       "      <td>Bawang Merah</td>\n",
       "      <td>DI Yogyakarta</td>\n",
       "      <td>31020.0</td>\n",
       "      <td>29180.0</td>\n",
       "      <td>28170.0</td>\n",
       "      <td>0.0</td>\n",
       "      <td>3325.0029</td>\n",
       "      <td>10459.43</td>\n",
       "      <td>421.1535</td>\n",
       "      <td>14502.0</td>\n",
       "      <td>31400.0</td>\n",
       "    </tr>\n",
       "    <tr>\n",
       "      <th>...</th>\n",
       "      <td>...</td>\n",
       "      <td>...</td>\n",
       "      <td>...</td>\n",
       "      <td>...</td>\n",
       "      <td>...</td>\n",
       "      <td>...</td>\n",
       "      <td>...</td>\n",
       "      <td>...</td>\n",
       "      <td>...</td>\n",
       "      <td>...</td>\n",
       "      <td>...</td>\n",
       "      <td>...</td>\n",
       "    </tr>\n",
       "    <tr>\n",
       "      <th>95</th>\n",
       "      <td>2022-05-01</td>\n",
       "      <td>Beras Medium</td>\n",
       "      <td>Sulawesi Selatan</td>\n",
       "      <td>9620.0</td>\n",
       "      <td>9620.0</td>\n",
       "      <td>9580.0</td>\n",
       "      <td>58.0</td>\n",
       "      <td>3325.0029</td>\n",
       "      <td>10459.43</td>\n",
       "      <td>421.1535</td>\n",
       "      <td>14502.0</td>\n",
       "      <td>9620.0</td>\n",
       "    </tr>\n",
       "    <tr>\n",
       "      <th>96</th>\n",
       "      <td>2022-05-01</td>\n",
       "      <td>Beras Medium</td>\n",
       "      <td>Sulawesi Tengah</td>\n",
       "      <td>10470.0</td>\n",
       "      <td>10430.0</td>\n",
       "      <td>10400.0</td>\n",
       "      <td>0.0</td>\n",
       "      <td>3325.0029</td>\n",
       "      <td>10459.43</td>\n",
       "      <td>421.1535</td>\n",
       "      <td>14502.0</td>\n",
       "      <td>10370.0</td>\n",
       "    </tr>\n",
       "    <tr>\n",
       "      <th>97</th>\n",
       "      <td>2022-05-01</td>\n",
       "      <td>Beras Medium</td>\n",
       "      <td>Sulawesi Tenggara</td>\n",
       "      <td>10180.0</td>\n",
       "      <td>10370.0</td>\n",
       "      <td>10510.0</td>\n",
       "      <td>0.0</td>\n",
       "      <td>3325.0029</td>\n",
       "      <td>10459.43</td>\n",
       "      <td>421.1535</td>\n",
       "      <td>14502.0</td>\n",
       "      <td>10260.0</td>\n",
       "    </tr>\n",
       "    <tr>\n",
       "      <th>98</th>\n",
       "      <td>2022-05-01</td>\n",
       "      <td>Beras Medium</td>\n",
       "      <td>Sulawesi Utara</td>\n",
       "      <td>10750.0</td>\n",
       "      <td>10840.0</td>\n",
       "      <td>10860.0</td>\n",
       "      <td>0.0</td>\n",
       "      <td>3325.0029</td>\n",
       "      <td>10459.43</td>\n",
       "      <td>421.1535</td>\n",
       "      <td>14502.0</td>\n",
       "      <td>10750.0</td>\n",
       "    </tr>\n",
       "    <tr>\n",
       "      <th>99</th>\n",
       "      <td>2022-05-01</td>\n",
       "      <td>Beras Medium</td>\n",
       "      <td>Sumatera Barat</td>\n",
       "      <td>12230.0</td>\n",
       "      <td>12210.0</td>\n",
       "      <td>12160.0</td>\n",
       "      <td>51.0</td>\n",
       "      <td>3325.0029</td>\n",
       "      <td>10459.43</td>\n",
       "      <td>421.1535</td>\n",
       "      <td>14502.0</td>\n",
       "      <td>12240.0</td>\n",
       "    </tr>\n",
       "  </tbody>\n",
       "</table>\n",
       "<p>100 rows × 12 columns</p>\n",
       "</div>"
      ]
     },
     "execution_count": 14,
     "metadata": {},
     "output_type": "execute_result"
    }
   ],
   "execution_count": 14
  },
  {
   "metadata": {
    "ExecuteTime": {
     "end_time": "2025-03-13T00:35:16.522315Z",
     "start_time": "2025-03-13T00:35:15.934737Z"
    }
   },
   "cell_type": "code",
   "source": "df_bhn_pgn_all.to_csv('tes.csv', mode='a', index=False, header=False)",
   "id": "b90efde0fd9dcb1",
   "outputs": [],
   "execution_count": 16
  },
  {
   "metadata": {
    "ExecuteTime": {
     "end_time": "2025-03-11T04:32:59.229194Z",
     "start_time": "2025-03-11T04:32:59.192648Z"
    }
   },
   "cell_type": "code",
   "source": [
    "file_bhn_pgn=os.path.join(path_data_source, list_bhn_pgn[0]+'.csv')\n",
    "df_bhn_pgn=pd.read_csv(file_bhn_pgn)\n",
    "gt_path=os.path.join(root_data,folder_google_trend,list_google_trend[list_bhn_pgn[0]],list_nama_daerah[0]+'.csv')\n",
    "print(f'gt_path: {gt_path}')\n",
    "df_gt=pd.read_csv(gt_path)\n",
    "df_gt['Date']=pd.to_datetime(df_gt['Date'])\n",
    "date=dt.datetime(year=2022,month=7,day=26)\n",
    "df_gt.query('Date == @date')['bawang merah'].values[0]"
   ],
   "id": "a4dbf5602e4d689",
   "outputs": [
    {
     "name": "stdout",
     "output_type": "stream",
     "text": [
      "gt_path: comodity-price-prediction-penyisihan-arkavidia-9\\Google Trend\\bawang merah\\Aceh.csv\n"
     ]
    },
    {
     "data": {
      "text/plain": [
       "np.float64(49.50915254237288)"
      ]
     },
     "execution_count": 16,
     "metadata": {},
     "output_type": "execute_result"
    }
   ],
   "execution_count": 16
  },
  {
   "metadata": {
    "ExecuteTime": {
     "end_time": "2025-03-10T16:36:47.621964Z",
     "start_time": "2025-03-10T16:36:47.617922Z"
    }
   },
   "cell_type": "code",
   "source": "list_bhn_pgn[0]",
   "id": "7b166578bf987c6d",
   "outputs": [
    {
     "data": {
      "text/plain": [
       "'Bawang Merah'"
      ]
     },
     "execution_count": 51,
     "metadata": {},
     "output_type": "execute_result"
    }
   ],
   "execution_count": 51
  },
  {
   "metadata": {
    "ExecuteTime": {
     "end_time": "2025-03-10T16:37:13.709572Z",
     "start_time": "2025-03-10T16:37:13.705746Z"
    }
   },
   "cell_type": "code",
   "source": "list_google_trend['Bawang Merah']",
   "id": "b2322353527714c",
   "outputs": [
    {
     "data": {
      "text/plain": [
       "'bawang merah'"
      ]
     },
     "execution_count": 53,
     "metadata": {},
     "output_type": "execute_result"
    }
   ],
   "execution_count": 53
  },
  {
   "metadata": {
    "ExecuteTime": {
     "end_time": "2025-03-10T16:37:36.784055Z",
     "start_time": "2025-03-10T16:37:36.779648Z"
    }
   },
   "cell_type": "code",
   "source": "list_google_trend[list_bhn_pgn[0]]",
   "id": "b9c25151650242e5",
   "outputs": [
    {
     "data": {
      "text/plain": [
       "'bawang merah'"
      ]
     },
     "execution_count": 54,
     "metadata": {},
     "output_type": "execute_result"
    }
   ],
   "execution_count": 54
  }
 ],
 "metadata": {
  "kernelspec": {
   "display_name": "Python 3",
   "language": "python",
   "name": "python3"
  },
  "language_info": {
   "codemirror_mode": {
    "name": "ipython",
    "version": 2
   },
   "file_extension": ".py",
   "mimetype": "text/x-python",
   "name": "python",
   "nbconvert_exporter": "python",
   "pygments_lexer": "ipython2",
   "version": "2.7.6"
  }
 },
 "nbformat": 4,
 "nbformat_minor": 5
}
